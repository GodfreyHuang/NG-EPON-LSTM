{
 "cells": [
  {
   "cell_type": "code",
   "execution_count": 1,
   "id": "0c813783",
   "metadata": {},
   "outputs": [],
   "source": [
    "import numpy as np\n",
    "import tensorflow as tf\n",
    "from tensorflow.keras.layers import Input, Dense, LSTM, Reshape, Dropout, LayerNormalization\n",
    "from tensorflow.keras.models import Model, Sequential\n",
    "from sklearn.preprocessing import MinMaxScaler\n",
    "import matplotlib.pyplot as plt\n",
    "import math\n",
    "from sklearn.metrics import mean_absolute_error as mae\n",
    "from sklearn.preprocessing import MinMaxScaler\n",
    "sc = MinMaxScaler(feature_range = (0,1))"
   ]
  },
  {
   "cell_type": "code",
   "execution_count": 2,
   "id": "f71f2c90",
   "metadata": {},
   "outputs": [],
   "source": [
    "text_file = open(\"AIerror_ONU16_15S_Ai.txt\",\"r\")"
   ]
  },
  {
   "cell_type": "code",
   "execution_count": 3,
   "id": "a206ce5b",
   "metadata": {},
   "outputs": [],
   "source": [
    "lines   = text_file.readlines()\n",
    "X_train = []\n",
    "Y_train = []\n",
    "X_test  = []\n",
    "Y_test  = []\n",
    "g       = []\n",
    "BufferSize = []"
   ]
  },
  {
   "cell_type": "code",
   "execution_count": 4,
   "id": "b13277bc",
   "metadata": {},
   "outputs": [],
   "source": [
    "timesteps_ = 50"
   ]
  },
  {
   "cell_type": "code",
   "execution_count": 5,
   "id": "ec10fb72",
   "metadata": {},
   "outputs": [
    {
     "name": "stdout",
     "output_type": "stream",
     "text": [
      "max(X_train)  :  624990.0\n",
      "min(X_train)  :  0.0\n"
     ]
    }
   ],
   "source": [
    "for i in range(len(lines)):\n",
    "\tg.append(float(lines[i]))\n",
    "for i in range(len(g)):\n",
    "\tif g[i] >= 0:\n",
    "\t\tBufferSize.append(g[i])\n",
    "\n",
    "print('max(X_train)  : ',max(BufferSize))\n",
    "print('min(X_train)  : ',min(BufferSize))\n",
    "\n",
    "# for i in range(len(BufferSize)):\n",
    "# \tBufferSize[i] = (BufferSize[i]-min(BufferSize))/max(BufferSize)"
   ]
  },
  {
   "cell_type": "code",
   "execution_count": 6,
   "id": "1e4beab3",
   "metadata": {},
   "outputs": [
    {
     "data": {
      "text/plain": [
       "[0.0008817584355513045,\n",
       " 0.0016925278445116142,\n",
       " 0.0008817584355513045,\n",
       " 0.0016925278445116142,\n",
       " 0.0008817584355513045,\n",
       " 0.0016925278445116142,\n",
       " 0.0008817584355513045,\n",
       " 0.0016925278445116142,\n",
       " 0.0008817584355513045,\n",
       " 0.0016925278445116142]"
      ]
     },
     "execution_count": 6,
     "metadata": {},
     "output_type": "execute_result"
    }
   ],
   "source": [
    "[0.0008817584355513045, 0.0016925278445116142, 0.0008817584355513045, 0.0016925278445116142, 0.0008817584355513045, 0.0016925278445116142, 0.0008817584355513045, 0.0016925278445116142, 0.0008817584355513045, 0.0016925278445116142]"
   ]
  },
  {
   "cell_type": "code",
   "execution_count": 7,
   "id": "ef315fdb",
   "metadata": {
    "scrolled": true
   },
   "outputs": [
    {
     "name": "stdout",
     "output_type": "stream",
     "text": [
      "BufferSize.shape :  (46068,)\n",
      "BufferSize.shape :  (46068, 1)\n",
      "[[0.00144962]\n",
      " [0.00075521]\n",
      " [0.00144962]\n",
      " [0.00075521]\n",
      " [0.00144962]\n",
      " [0.00075521]\n",
      " [0.00144962]\n",
      " [0.00075521]\n",
      " [0.00144962]\n",
      " [0.00075521]]\n"
     ]
    }
   ],
   "source": [
    "BufferSize = np.array(BufferSize)\n",
    "print('BufferSize.shape : ',BufferSize.shape)\n",
    "BufferSize = np.reshape(BufferSize,(BufferSize.shape[0],1)) #(11591,1)\n",
    "print('BufferSize.shape : ',BufferSize.shape)\n",
    "BufferSize = sc.fit_transform(BufferSize)\n",
    "print(BufferSize[0:10])"
   ]
  },
  {
   "cell_type": "code",
   "execution_count": 8,
   "id": "523da0ae",
   "metadata": {},
   "outputs": [
    {
     "name": "stdout",
     "output_type": "stream",
     "text": [
      "type(X_train) :  <class 'list'>\n",
      "X_train.shape :  (32197, 50)\n",
      "Y_train.shape :  (32197,)\n"
     ]
    }
   ],
   "source": [
    "count = int(len(BufferSize)*0.7)\n",
    "test_count = int(len(BufferSize)) - count\n",
    "TestSet = BufferSize[count:len(BufferSize), 0]\n",
    "TestSet = np.reshape(TestSet, (TestSet.shape[0], 1))\n",
    "for i in range( count - timesteps_): # Change TimeStep\n",
    "\tX_train.append(BufferSize[i:i+timesteps_,0])\n",
    "\tY_train.append(BufferSize[i+timesteps_,0])\n",
    " \n",
    "for i in range(timesteps_, len(TestSet)):\n",
    "    X_test.append(TestSet[i-timesteps_:i,0])\n",
    "for i in range(timesteps_, len(TestSet)):\n",
    "    Y_test.append(TestSet[i,0])\n",
    "\n",
    "print('type(X_train) : ',type(X_train))\n",
    "print('X_train.shape : ',np.shape(X_train))\n",
    "print('Y_train.shape : ',np.shape(Y_train))"
   ]
  },
  {
   "cell_type": "code",
   "execution_count": 9,
   "id": "906eb848",
   "metadata": {},
   "outputs": [],
   "source": [
    "X_test = np.array(X_test)\n",
    "X_test = np.reshape(X_test, (X_test.shape[0], X_test.shape[1], 1))\n",
    "Y_test = np.array(Y_test)"
   ]
  },
  {
   "cell_type": "code",
   "execution_count": 10,
   "id": "620b8552",
   "metadata": {},
   "outputs": [],
   "source": [
    "X_train = np.array(X_train)\n",
    "Y_train = np.array(Y_train)\n",
    "X_train = np.reshape(X_train,(X_train.shape[0],X_train.shape[1],1))\n",
    "Y_train = np.reshape(Y_train,(Y_train.shape[0],1))"
   ]
  },
  {
   "cell_type": "code",
   "execution_count": 11,
   "id": "def1d585",
   "metadata": {},
   "outputs": [
    {
     "data": {
      "text/plain": [
       "(13771, 50, 1)"
      ]
     },
     "execution_count": 11,
     "metadata": {},
     "output_type": "execute_result"
    }
   ],
   "source": [
    "X_test.shape"
   ]
  },
  {
   "cell_type": "code",
   "execution_count": 12,
   "id": "9911ecdb",
   "metadata": {
    "scrolled": true
   },
   "outputs": [
    {
     "name": "stdout",
     "output_type": "stream",
     "text": [
      "Epoch 1/100\n",
      "705/705 [==============================] - 8s 11ms/step - loss: 0.0156 - mse: 0.0012 - mae: 0.0156 - val_loss: 0.0167 - val_mse: 0.0021 - val_mae: 0.0167\n",
      "Epoch 2/100\n",
      "705/705 [==============================] - 7s 9ms/step - loss: 0.0145 - mse: 0.0011 - mae: 0.0145 - val_loss: 0.0156 - val_mse: 0.0021 - val_mae: 0.0156\n",
      "Epoch 3/100\n",
      "705/705 [==============================] - 6s 9ms/step - loss: 0.0139 - mse: 0.0011 - mae: 0.0139 - val_loss: 0.0152 - val_mse: 0.0021 - val_mae: 0.0152\n",
      "Epoch 4/100\n",
      "705/705 [==============================] - 6s 9ms/step - loss: 0.0136 - mse: 0.0011 - mae: 0.0136 - val_loss: 0.0150 - val_mse: 0.0020 - val_mae: 0.0150\n",
      "Epoch 5/100\n",
      "705/705 [==============================] - 7s 9ms/step - loss: 0.0133 - mse: 0.0011 - mae: 0.0133 - val_loss: 0.0146 - val_mse: 0.0020 - val_mae: 0.0146\n",
      "Epoch 6/100\n",
      "705/705 [==============================] - 7s 9ms/step - loss: 0.0132 - mse: 0.0011 - mae: 0.0132 - val_loss: 0.0146 - val_mse: 0.0020 - val_mae: 0.0146\n",
      "Epoch 7/100\n",
      "705/705 [==============================] - 7s 9ms/step - loss: 0.0131 - mse: 0.0011 - mae: 0.0131 - val_loss: 0.0145 - val_mse: 0.0020 - val_mae: 0.0145\n",
      "Epoch 8/100\n",
      "705/705 [==============================] - 6s 9ms/step - loss: 0.0131 - mse: 0.0011 - mae: 0.0131 - val_loss: 0.0147 - val_mse: 0.0020 - val_mae: 0.0147\n",
      "Epoch 9/100\n",
      "705/705 [==============================] - 7s 9ms/step - loss: 0.0130 - mse: 0.0011 - mae: 0.0130 - val_loss: 0.0148 - val_mse: 0.0020 - val_mae: 0.0148\n",
      "Epoch 10/100\n",
      "705/705 [==============================] - 7s 9ms/step - loss: 0.0130 - mse: 0.0011 - mae: 0.0130 - val_loss: 0.0144 - val_mse: 0.0020 - val_mae: 0.0144\n",
      "Epoch 11/100\n",
      "705/705 [==============================] - 7s 9ms/step - loss: 0.0130 - mse: 0.0011 - mae: 0.0130 - val_loss: 0.0146 - val_mse: 0.0019 - val_mae: 0.0146\n",
      "Epoch 12/100\n",
      "705/705 [==============================] - 7s 9ms/step - loss: 0.0130 - mse: 0.0011 - mae: 0.0130 - val_loss: 0.0144 - val_mse: 0.0020 - val_mae: 0.0144\n",
      "Epoch 13/100\n",
      "705/705 [==============================] - 7s 9ms/step - loss: 0.0130 - mse: 0.0011 - mae: 0.0130 - val_loss: 0.0145 - val_mse: 0.0019 - val_mae: 0.0145\n",
      "Epoch 14/100\n",
      "705/705 [==============================] - 7s 10ms/step - loss: 0.0130 - mse: 0.0011 - mae: 0.0130 - val_loss: 0.0145 - val_mse: 0.0019 - val_mae: 0.0145\n",
      "Epoch 15/100\n",
      "705/705 [==============================] - 7s 9ms/step - loss: 0.0130 - mse: 0.0011 - mae: 0.0130 - val_loss: 0.0142 - val_mse: 0.0018 - val_mae: 0.0142\n",
      "Epoch 16/100\n",
      "705/705 [==============================] - 7s 9ms/step - loss: 0.0129 - mse: 0.0011 - mae: 0.0129 - val_loss: 0.0144 - val_mse: 0.0019 - val_mae: 0.0144\n",
      "Epoch 17/100\n",
      "705/705 [==============================] - 7s 9ms/step - loss: 0.0129 - mse: 0.0011 - mae: 0.0129 - val_loss: 0.0145 - val_mse: 0.0019 - val_mae: 0.0145\n",
      "Epoch 18/100\n",
      "705/705 [==============================] - 7s 9ms/step - loss: 0.0129 - mse: 0.0011 - mae: 0.0129 - val_loss: 0.0143 - val_mse: 0.0019 - val_mae: 0.0143\n",
      "Epoch 19/100\n",
      "705/705 [==============================] - 7s 9ms/step - loss: 0.0129 - mse: 0.0010 - mae: 0.0129 - val_loss: 0.0144 - val_mse: 0.0019 - val_mae: 0.0144\n",
      "Epoch 20/100\n",
      "705/705 [==============================] - 7s 9ms/step - loss: 0.0129 - mse: 0.0010 - mae: 0.0129 - val_loss: 0.0143 - val_mse: 0.0018 - val_mae: 0.0143\n",
      "Epoch 21/100\n",
      "705/705 [==============================] - 7s 9ms/step - loss: 0.0129 - mse: 0.0010 - mae: 0.0129 - val_loss: 0.0143 - val_mse: 0.0018 - val_mae: 0.0143\n",
      "Epoch 22/100\n",
      "705/705 [==============================] - 7s 9ms/step - loss: 0.0129 - mse: 0.0010 - mae: 0.0129 - val_loss: 0.0144 - val_mse: 0.0016 - val_mae: 0.0144\n",
      "Epoch 23/100\n",
      "705/705 [==============================] - 7s 9ms/step - loss: 0.0129 - mse: 0.0010 - mae: 0.0129 - val_loss: 0.0141 - val_mse: 0.0016 - val_mae: 0.0141\n",
      "Epoch 24/100\n",
      "705/705 [==============================] - 7s 9ms/step - loss: 0.0129 - mse: 0.0010 - mae: 0.0129 - val_loss: 0.0143 - val_mse: 0.0016 - val_mae: 0.0143\n",
      "Epoch 25/100\n",
      "705/705 [==============================] - 7s 9ms/step - loss: 0.0129 - mse: 0.0010 - mae: 0.0129 - val_loss: 0.0143 - val_mse: 0.0018 - val_mae: 0.0143\n",
      "Epoch 26/100\n",
      "705/705 [==============================] - 7s 9ms/step - loss: 0.0128 - mse: 0.0010 - mae: 0.0128 - val_loss: 0.0141 - val_mse: 0.0016 - val_mae: 0.0141\n",
      "Epoch 27/100\n",
      "705/705 [==============================] - 7s 9ms/step - loss: 0.0129 - mse: 0.0010 - mae: 0.0129 - val_loss: 0.0142 - val_mse: 0.0017 - val_mae: 0.0142\n",
      "Epoch 28/100\n",
      "705/705 [==============================] - 7s 9ms/step - loss: 0.0128 - mse: 0.0010 - mae: 0.0128 - val_loss: 0.0139 - val_mse: 0.0014 - val_mae: 0.0139\n",
      "Epoch 29/100\n",
      "705/705 [==============================] - 7s 10ms/step - loss: 0.0128 - mse: 0.0010 - mae: 0.0128 - val_loss: 0.0141 - val_mse: 0.0017 - val_mae: 0.0141\n",
      "Epoch 30/100\n",
      "705/705 [==============================] - 7s 9ms/step - loss: 0.0128 - mse: 0.0010 - mae: 0.0128 - val_loss: 0.0140 - val_mse: 0.0016 - val_mae: 0.0140\n",
      "Epoch 31/100\n",
      "705/705 [==============================] - 7s 9ms/step - loss: 0.0128 - mse: 0.0010 - mae: 0.0128 - val_loss: 0.0138 - val_mse: 0.0013 - val_mae: 0.0138\n",
      "Epoch 32/100\n",
      "705/705 [==============================] - 7s 9ms/step - loss: 0.0128 - mse: 0.0010 - mae: 0.0128 - val_loss: 0.0138 - val_mse: 0.0015 - val_mae: 0.0138\n",
      "Epoch 33/100\n",
      "705/705 [==============================] - 7s 9ms/step - loss: 0.0127 - mse: 0.0010 - mae: 0.0127 - val_loss: 0.0138 - val_mse: 0.0014 - val_mae: 0.0138\n",
      "Epoch 34/100\n",
      "705/705 [==============================] - 7s 9ms/step - loss: 0.0127 - mse: 0.0010 - mae: 0.0127 - val_loss: 0.0136 - val_mse: 0.0013 - val_mae: 0.0136\n",
      "Epoch 35/100\n",
      "705/705 [==============================] - 7s 9ms/step - loss: 0.0127 - mse: 0.0010 - mae: 0.0127 - val_loss: 0.0137 - val_mse: 0.0013 - val_mae: 0.0137\n",
      "Epoch 36/100\n",
      "705/705 [==============================] - 7s 9ms/step - loss: 0.0127 - mse: 0.0010 - mae: 0.0127 - val_loss: 0.0135 - val_mse: 0.0012 - val_mae: 0.0135\n",
      "Epoch 37/100\n",
      "705/705 [==============================] - 7s 9ms/step - loss: 0.0127 - mse: 0.0010 - mae: 0.0127 - val_loss: 0.0134 - val_mse: 0.0011 - val_mae: 0.0134\n",
      "Epoch 38/100\n",
      "705/705 [==============================] - 7s 9ms/step - loss: 0.0127 - mse: 0.0010 - mae: 0.0127 - val_loss: 0.0137 - val_mse: 0.0014 - val_mae: 0.0137\n",
      "Epoch 39/100\n",
      "705/705 [==============================] - 7s 9ms/step - loss: 0.0127 - mse: 0.0010 - mae: 0.0127 - val_loss: 0.0138 - val_mse: 0.0014 - val_mae: 0.0138\n",
      "Epoch 40/100\n",
      "705/705 [==============================] - 7s 10ms/step - loss: 0.0127 - mse: 0.0010 - mae: 0.0127 - val_loss: 0.0138 - val_mse: 0.0013 - val_mae: 0.0138\n",
      "Epoch 41/100\n",
      "705/705 [==============================] - 7s 9ms/step - loss: 0.0127 - mse: 0.0010 - mae: 0.0127 - val_loss: 0.0134 - val_mse: 0.0011 - val_mae: 0.0134\n",
      "Epoch 42/100\n",
      "705/705 [==============================] - 7s 9ms/step - loss: 0.0127 - mse: 0.0010 - mae: 0.0127 - val_loss: 0.0138 - val_mse: 0.0014 - val_mae: 0.0138\n",
      "Epoch 43/100\n",
      "705/705 [==============================] - 7s 9ms/step - loss: 0.0127 - mse: 0.0010 - mae: 0.0127 - val_loss: 0.0137 - val_mse: 0.0014 - val_mae: 0.0137\n",
      "Epoch 44/100\n",
      "705/705 [==============================] - 7s 9ms/step - loss: 0.0127 - mse: 9.7890e-04 - mae: 0.0127 - val_loss: 0.0138 - val_mse: 0.0014 - val_mae: 0.0138\n",
      "Epoch 45/100\n",
      "705/705 [==============================] - 7s 9ms/step - loss: 0.0127 - mse: 9.9314e-04 - mae: 0.0127 - val_loss: 0.0132 - val_mse: 0.0010 - val_mae: 0.0132\n",
      "Epoch 46/100\n",
      "705/705 [==============================] - 7s 9ms/step - loss: 0.0127 - mse: 0.0010 - mae: 0.0127 - val_loss: 0.0140 - val_mse: 0.0017 - val_mae: 0.0140\n",
      "Epoch 47/100\n",
      "705/705 [==============================] - 7s 9ms/step - loss: 0.0127 - mse: 0.0010 - mae: 0.0127 - val_loss: 0.0141 - val_mse: 0.0018 - val_mae: 0.0141\n",
      "Epoch 48/100\n",
      "705/705 [==============================] - 7s 9ms/step - loss: 0.0127 - mse: 0.0010 - mae: 0.0127 - val_loss: 0.0136 - val_mse: 0.0014 - val_mae: 0.0136\n",
      "Epoch 49/100\n",
      "705/705 [==============================] - 6s 9ms/step - loss: 0.0127 - mse: 0.0010 - mae: 0.0127 - val_loss: 0.0136 - val_mse: 0.0012 - val_mae: 0.0136\n",
      "Epoch 50/100\n"
     ]
    },
    {
     "name": "stdout",
     "output_type": "stream",
     "text": [
      "705/705 [==============================] - 6s 9ms/step - loss: 0.0127 - mse: 0.0010 - mae: 0.0127 - val_loss: 0.0138 - val_mse: 0.0016 - val_mae: 0.0138\n",
      "Epoch 51/100\n",
      "705/705 [==============================] - 7s 9ms/step - loss: 0.0126 - mse: 0.0010 - mae: 0.0126 - val_loss: 0.0139 - val_mse: 0.0014 - val_mae: 0.0139\n",
      "Epoch 52/100\n",
      "705/705 [==============================] - 6s 9ms/step - loss: 0.0127 - mse: 0.0010 - mae: 0.0127 - val_loss: 0.0139 - val_mse: 0.0014 - val_mae: 0.0139\n",
      "Epoch 53/100\n",
      "705/705 [==============================] - 7s 9ms/step - loss: 0.0127 - mse: 9.9860e-04 - mae: 0.0127 - val_loss: 0.0138 - val_mse: 0.0016 - val_mae: 0.0138\n",
      "Epoch 54/100\n",
      "705/705 [==============================] - 6s 9ms/step - loss: 0.0127 - mse: 0.0010 - mae: 0.0127 - val_loss: 0.0141 - val_mse: 0.0018 - val_mae: 0.0141\n",
      "Epoch 55/100\n",
      "705/705 [==============================] - 6s 9ms/step - loss: 0.0126 - mse: 0.0010 - mae: 0.0126 - val_loss: 0.0133 - val_mse: 0.0011 - val_mae: 0.0133\n",
      "Epoch 56/100\n",
      "705/705 [==============================] - 7s 9ms/step - loss: 0.0126 - mse: 9.8340e-04 - mae: 0.0126 - val_loss: 0.0143 - val_mse: 0.0018 - val_mae: 0.0143\n",
      "Epoch 57/100\n",
      "705/705 [==============================] - 7s 9ms/step - loss: 0.0126 - mse: 9.9066e-04 - mae: 0.0126 - val_loss: 0.0138 - val_mse: 0.0016 - val_mae: 0.0138\n",
      "Epoch 58/100\n",
      "705/705 [==============================] - 7s 9ms/step - loss: 0.0126 - mse: 9.8952e-04 - mae: 0.0126 - val_loss: 0.0136 - val_mse: 0.0014 - val_mae: 0.0136\n",
      "Epoch 59/100\n",
      "705/705 [==============================] - 7s 9ms/step - loss: 0.0126 - mse: 9.8874e-04 - mae: 0.0126 - val_loss: 0.0135 - val_mse: 0.0012 - val_mae: 0.0135\n",
      "Epoch 60/100\n",
      "705/705 [==============================] - 6s 9ms/step - loss: 0.0126 - mse: 0.0010 - mae: 0.0126 - val_loss: 0.0135 - val_mse: 0.0013 - val_mae: 0.0135\n",
      "Epoch 61/100\n",
      "705/705 [==============================] - 7s 9ms/step - loss: 0.0126 - mse: 0.0010 - mae: 0.0126 - val_loss: 0.0134 - val_mse: 0.0012 - val_mae: 0.0134\n",
      "Epoch 62/100\n",
      "705/705 [==============================] - 6s 9ms/step - loss: 0.0126 - mse: 9.9730e-04 - mae: 0.0126 - val_loss: 0.0135 - val_mse: 0.0014 - val_mae: 0.0135\n",
      "Epoch 63/100\n",
      "705/705 [==============================] - 7s 9ms/step - loss: 0.0126 - mse: 9.8810e-04 - mae: 0.0126 - val_loss: 0.0138 - val_mse: 0.0015 - val_mae: 0.0138\n",
      "Epoch 64/100\n",
      "705/705 [==============================] - 6s 9ms/step - loss: 0.0127 - mse: 0.0010 - mae: 0.0127 - val_loss: 0.0136 - val_mse: 0.0014 - val_mae: 0.0136\n",
      "Epoch 65/100\n",
      "705/705 [==============================] - 6s 9ms/step - loss: 0.0126 - mse: 9.9566e-04 - mae: 0.0126 - val_loss: 0.0134 - val_mse: 0.0013 - val_mae: 0.0134\n",
      "Epoch 66/100\n",
      "705/705 [==============================] - 7s 9ms/step - loss: 0.0126 - mse: 0.0010 - mae: 0.0126 - val_loss: 0.0136 - val_mse: 0.0014 - val_mae: 0.0136\n",
      "Epoch 67/100\n",
      "705/705 [==============================] - 7s 9ms/step - loss: 0.0126 - mse: 9.7997e-04 - mae: 0.0126 - val_loss: 0.0138 - val_mse: 0.0014 - val_mae: 0.0138\n",
      "Epoch 68/100\n",
      "705/705 [==============================] - 6s 9ms/step - loss: 0.0126 - mse: 9.8440e-04 - mae: 0.0126 - val_loss: 0.0136 - val_mse: 0.0013 - val_mae: 0.0136\n",
      "Epoch 69/100\n",
      "705/705 [==============================] - 6s 9ms/step - loss: 0.0126 - mse: 9.8615e-04 - mae: 0.0126 - val_loss: 0.0135 - val_mse: 0.0013 - val_mae: 0.0135\n",
      "Epoch 70/100\n",
      "705/705 [==============================] - 7s 9ms/step - loss: 0.0126 - mse: 9.8414e-04 - mae: 0.0126 - val_loss: 0.0134 - val_mse: 0.0011 - val_mae: 0.0134\n",
      "Epoch 71/100\n",
      "705/705 [==============================] - 6s 9ms/step - loss: 0.0126 - mse: 9.8684e-04 - mae: 0.0126 - val_loss: 0.0137 - val_mse: 0.0015 - val_mae: 0.0137\n",
      "Epoch 72/100\n",
      "705/705 [==============================] - 6s 9ms/step - loss: 0.0126 - mse: 9.8686e-04 - mae: 0.0126 - val_loss: 0.0138 - val_mse: 0.0016 - val_mae: 0.0138\n",
      "Epoch 73/100\n",
      "705/705 [==============================] - 7s 9ms/step - loss: 0.0126 - mse: 0.0010 - mae: 0.0126 - val_loss: 0.0135 - val_mse: 0.0012 - val_mae: 0.0135\n",
      "Epoch 74/100\n",
      "705/705 [==============================] - 6s 9ms/step - loss: 0.0126 - mse: 9.8988e-04 - mae: 0.0126 - val_loss: 0.0138 - val_mse: 0.0014 - val_mae: 0.0138\n",
      "Epoch 75/100\n",
      "705/705 [==============================] - 7s 9ms/step - loss: 0.0125 - mse: 9.3565e-04 - mae: 0.0125 - val_loss: 0.0136 - val_mse: 0.0013 - val_mae: 0.0136\n",
      "Epoch 76/100\n",
      "705/705 [==============================] - 6s 9ms/step - loss: 0.0126 - mse: 0.0010 - mae: 0.0126 - val_loss: 0.0135 - val_mse: 0.0013 - val_mae: 0.0135\n",
      "Epoch 77/100\n",
      "705/705 [==============================] - 6s 9ms/step - loss: 0.0126 - mse: 9.8245e-04 - mae: 0.0126 - val_loss: 0.0140 - val_mse: 0.0018 - val_mae: 0.0140\n",
      "Epoch 78/100\n",
      "705/705 [==============================] - 7s 9ms/step - loss: 0.0126 - mse: 9.9957e-04 - mae: 0.0126 - val_loss: 0.0142 - val_mse: 0.0019 - val_mae: 0.0142\n",
      "Epoch 79/100\n",
      "705/705 [==============================] - 6s 9ms/step - loss: 0.0125 - mse: 9.5539e-04 - mae: 0.0125 - val_loss: 0.0136 - val_mse: 0.0014 - val_mae: 0.0136\n",
      "Epoch 80/100\n",
      "705/705 [==============================] - 7s 9ms/step - loss: 0.0125 - mse: 9.3209e-04 - mae: 0.0125 - val_loss: 0.0135 - val_mse: 0.0012 - val_mae: 0.0135\n",
      "Epoch 81/100\n",
      "705/705 [==============================] - 6s 9ms/step - loss: 0.0125 - mse: 9.3477e-04 - mae: 0.0125 - val_loss: 0.0134 - val_mse: 0.0011 - val_mae: 0.0134\n",
      "Epoch 82/100\n",
      "705/705 [==============================] - 6s 9ms/step - loss: 0.0126 - mse: 0.0010 - mae: 0.0126 - val_loss: 0.0135 - val_mse: 0.0012 - val_mae: 0.0135\n",
      "Epoch 83/100\n",
      "705/705 [==============================] - 7s 9ms/step - loss: 0.0125 - mse: 9.5968e-04 - mae: 0.0125 - val_loss: 0.0135 - val_mse: 0.0013 - val_mae: 0.0135\n",
      "Epoch 84/100\n",
      "705/705 [==============================] - 7s 9ms/step - loss: 0.0125 - mse: 9.6503e-04 - mae: 0.0125 - val_loss: 0.0135 - val_mse: 0.0013 - val_mae: 0.0135\n",
      "Epoch 85/100\n",
      "705/705 [==============================] - 7s 9ms/step - loss: 0.0125 - mse: 9.5699e-04 - mae: 0.0125 - val_loss: 0.0134 - val_mse: 0.0013 - val_mae: 0.0134\n",
      "Epoch 86/100\n",
      "705/705 [==============================] - 7s 9ms/step - loss: 0.0125 - mse: 9.6348e-04 - mae: 0.0125 - val_loss: 0.0136 - val_mse: 0.0015 - val_mae: 0.0136\n",
      "Epoch 87/100\n",
      "705/705 [==============================] - 6s 9ms/step - loss: 0.0126 - mse: 9.8699e-04 - mae: 0.0126 - val_loss: 0.0134 - val_mse: 0.0013 - val_mae: 0.0134\n",
      "Epoch 88/100\n",
      "705/705 [==============================] - 7s 9ms/step - loss: 0.0125 - mse: 9.6109e-04 - mae: 0.0125 - val_loss: 0.0141 - val_mse: 0.0018 - val_mae: 0.0141\n",
      "Epoch 89/100\n",
      "705/705 [==============================] - 6s 9ms/step - loss: 0.0125 - mse: 9.2460e-04 - mae: 0.0125 - val_loss: 0.0141 - val_mse: 0.0019 - val_mae: 0.0141\n",
      "Epoch 90/100\n",
      "705/705 [==============================] - 6s 9ms/step - loss: 0.0125 - mse: 9.4150e-04 - mae: 0.0125 - val_loss: 0.0142 - val_mse: 0.0020 - val_mae: 0.0142\n",
      "Epoch 91/100\n",
      "705/705 [==============================] - 6s 9ms/step - loss: 0.0125 - mse: 9.5493e-04 - mae: 0.0125 - val_loss: 0.0139 - val_mse: 0.0017 - val_mae: 0.0139\n",
      "Epoch 92/100\n",
      "705/705 [==============================] - 6s 9ms/step - loss: 0.0125 - mse: 9.6619e-04 - mae: 0.0125 - val_loss: 0.0140 - val_mse: 0.0018 - val_mae: 0.0140\n",
      "Epoch 93/100\n",
      "705/705 [==============================] - 7s 9ms/step - loss: 0.0125 - mse: 9.3818e-04 - mae: 0.0125 - val_loss: 0.0140 - val_mse: 0.0017 - val_mae: 0.0140\n",
      "Epoch 94/100\n",
      "705/705 [==============================] - 7s 9ms/step - loss: 0.0125 - mse: 9.5325e-04 - mae: 0.0125 - val_loss: 0.0142 - val_mse: 0.0018 - val_mae: 0.0142\n",
      "Epoch 95/100\n",
      "705/705 [==============================] - 7s 9ms/step - loss: 0.0125 - mse: 9.2156e-04 - mae: 0.0125 - val_loss: 0.0142 - val_mse: 0.0020 - val_mae: 0.0142\n",
      "Epoch 96/100\n",
      "705/705 [==============================] - 7s 9ms/step - loss: 0.0125 - mse: 9.4535e-04 - mae: 0.0125 - val_loss: 0.0141 - val_mse: 0.0018 - val_mae: 0.0141\n",
      "Epoch 97/100\n",
      "705/705 [==============================] - 7s 9ms/step - loss: 0.0125 - mse: 9.4213e-04 - mae: 0.0125 - val_loss: 0.0140 - val_mse: 0.0018 - val_mae: 0.0140\n",
      "Epoch 98/100\n"
     ]
    },
    {
     "name": "stdout",
     "output_type": "stream",
     "text": [
      "705/705 [==============================] - 7s 9ms/step - loss: 0.0125 - mse: 9.3039e-04 - mae: 0.0125 - val_loss: 0.0140 - val_mse: 0.0017 - val_mae: 0.0140\n",
      "Epoch 99/100\n",
      "705/705 [==============================] - 7s 9ms/step - loss: 0.0125 - mse: 9.5548e-04 - mae: 0.0125 - val_loss: 0.0144 - val_mse: 0.0020 - val_mae: 0.0144\n",
      "Epoch 100/100\n",
      "705/705 [==============================] - 7s 9ms/step - loss: 0.0125 - mse: 9.4061e-04 - mae: 0.0125 - val_loss: 0.0142 - val_mse: 0.0020 - val_mae: 0.0142\n"
     ]
    }
   ],
   "source": [
    "inputs = Input(shape=(timesteps_,))\n",
    "#inputs = LayerNormalization(axis=1)(inputs)\n",
    "tgt1 = tf.keras.layers.Reshape((timesteps_,1),input_shape=(timesteps_,))(inputs)\n",
    "\n",
    "tgt1 = LSTM(units=40,return_sequences = True, input_shape=(timesteps_,1))(tgt1)\n",
    "tgt1 = Dropout(0.2)(tgt1)\n",
    "\n",
    "tgt2 = LSTM(units=40,return_sequences = True)(tgt1)\n",
    "tgt2 = Dropout(0.2)(tgt2)\n",
    "\n",
    "tgt3 = LSTM(units=40,return_sequences = True)(tgt2)\n",
    "tgt3 = Dropout(0.2)(tgt3)\n",
    "\n",
    "tgt4 = LSTM(units=40)(tgt3)\n",
    "tgt4 = Dropout(0.2)(tgt4)\n",
    "\n",
    "predictions = Dense(1)(tgt4)\n",
    "\n",
    "model = Model(inputs=inputs, outputs=predictions)\n",
    "model.compile(loss='mean_absolute_error', optimizer='adam',metrics=['mse','mae'])\n",
    "\n",
    "history = model.fit(X_train, Y_train, epochs=100, batch_size=32, validation_split=0.3) #[1,0,0], [0,0,1]"
   ]
  },
  {
   "cell_type": "code",
   "execution_count": 13,
   "id": "7d06558f",
   "metadata": {
    "scrolled": true
   },
   "outputs": [
    {
     "name": "stdout",
     "output_type": "stream",
     "text": [
      "Model: \"functional_1\"\n",
      "_________________________________________________________________\n",
      "Layer (type)                 Output Shape              Param #   \n",
      "=================================================================\n",
      "input_1 (InputLayer)         [(None, 50)]              0         \n",
      "_________________________________________________________________\n",
      "reshape (Reshape)            (None, 50, 1)             0         \n",
      "_________________________________________________________________\n",
      "lstm (LSTM)                  (None, 50, 40)            6720      \n",
      "_________________________________________________________________\n",
      "dropout (Dropout)            (None, 50, 40)            0         \n",
      "_________________________________________________________________\n",
      "lstm_1 (LSTM)                (None, 50, 40)            12960     \n",
      "_________________________________________________________________\n",
      "dropout_1 (Dropout)          (None, 50, 40)            0         \n",
      "_________________________________________________________________\n",
      "lstm_2 (LSTM)                (None, 50, 40)            12960     \n",
      "_________________________________________________________________\n",
      "dropout_2 (Dropout)          (None, 50, 40)            0         \n",
      "_________________________________________________________________\n",
      "lstm_3 (LSTM)                (None, 40)                12960     \n",
      "_________________________________________________________________\n",
      "dropout_3 (Dropout)          (None, 40)                0         \n",
      "_________________________________________________________________\n",
      "dense (Dense)                (None, 1)                 41        \n",
      "=================================================================\n",
      "Total params: 45,641\n",
      "Trainable params: 45,641\n",
      "Non-trainable params: 0\n",
      "_________________________________________________________________\n"
     ]
    }
   ],
   "source": [
    " model.summary()"
   ]
  },
  {
   "cell_type": "code",
   "execution_count": 14,
   "id": "f023d9ea",
   "metadata": {},
   "outputs": [
    {
     "name": "stdout",
     "output_type": "stream",
     "text": [
      "timesteps :  50\n",
      "mae  :  0.0012074639089405537\n"
     ]
    },
    {
     "data": {
      "image/png": "[encoded data removed]",
      "text/plain": [
       "<Figure size 432x288 with 1 Axes>"
      ]
     },
     "metadata": {
      "needs_background": "light"
     },
     "output_type": "display_data"
    }
   ],
   "source": [
    "print('timesteps : ',timesteps_)\n",
    "plt.plot(history.history['mae'])\n",
    "plt.title('mae')\n",
    "print('mae  : ',mae(history.history['mae'], history.history['val_mae']))"
   ]
  },
  {
   "cell_type": "code",
   "execution_count": 15,
   "id": "11b8c69d",
   "metadata": {},
   "outputs": [
    {
     "name": "stdout",
     "output_type": "stream",
     "text": [
      "timesteps :  50\n"
     ]
    },
    {
     "data": {
      "text/plain": [
       "Text(0.5, 1.0, 'mse')"
      ]
     },
     "execution_count": 15,
     "metadata": {},
     "output_type": "execute_result"
    },
    {
     "data": {
      "image/png": "[encoded data removed]",
      "text/plain": [
       "<Figure size 432x288 with 1 Axes>"
      ]
     },
     "metadata": {
      "needs_background": "light"
     },
     "output_type": "display_data"
    }
   ],
   "source": [
    "print('timesteps : ',timesteps_)\n",
    "plt.plot(history.history['mse'])\n",
    "plt.title('mse')"
   ]
  },
  {
   "cell_type": "code",
   "execution_count": 16,
   "id": "98882042",
   "metadata": {},
   "outputs": [
    {
     "data": {
      "image/png": "[encoded data removed]",
      "text/plain": [
       "<Figure size 432x288 with 1 Axes>"
      ]
     },
     "metadata": {
      "needs_background": "light"
     },
     "output_type": "display_data"
    }
   ],
   "source": [
    "plt.title('loss')   #15s train data, 50 timestep\n",
    "plt.plot(history.history['loss'])\n",
    "plt.plot(history.history['val_loss'])\n",
    "plt.xlabel('epoch')\n",
    "plt.ylabel('loss')\n",
    "plt.legend(['train', 'validation'], loc='upper right')\n",
    "plt.show()"
   ]
  },
  {
   "cell_type": "code",
   "execution_count": 135,
   "id": "5c98fab9",
   "metadata": {},
   "outputs": [
    {
     "name": "stdout",
     "output_type": "stream",
     "text": [
      "timesteps_: 20 score: 0.332164391196034\n"
     ]
    }
   ],
   "source": [
    "y_pred = model.predict(X_test) #10s train data\n",
    "from sklearn.metrics import r2_score\n",
    "print(\"timesteps_:\",timesteps_,\"score:\",r2_score(Y_test, y_pred))"
   ]
  },
  {
   "cell_type": "code",
   "execution_count": 17,
   "id": "229cd3d3",
   "metadata": {},
   "outputs": [
    {
     "name": "stdout",
     "output_type": "stream",
     "text": [
      "timesteps_: 20 score: 0.2746751642104561\n"
     ]
    }
   ],
   "source": [
    "y_pred = model.predict(X_test) #15s train data\n",
    "from sklearn.metrics import r2_score\n",
    "print(\"timesteps_:\",timesteps_,\"score:\",r2_score(Y_test, y_pred))"
   ]
  },
  {
   "cell_type": "code",
   "execution_count": 34,
   "id": "1a0010c8",
   "metadata": {},
   "outputs": [
    {
     "name": "stdout",
     "output_type": "stream",
     "text": [
      "timesteps_: 50 score: 0.29977544755674457\n"
     ]
    }
   ],
   "source": [
    "y_pred = model.predict(X_test) #15s train data, 50\n",
    "from sklearn.metrics import r2_score\n",
    "print(\"timesteps_:\",timesteps_,\"score:\",r2_score(Y_test, y_pred))"
   ]
  },
  {
   "cell_type": "code",
   "execution_count": 35,
   "id": "2b71eb9a",
   "metadata": {},
   "outputs": [],
   "source": [
    "text_file.close()"
   ]
  },
  {
   "cell_type": "code",
   "execution_count": 40,
   "id": "8a8ebf27",
   "metadata": {},
   "outputs": [
    {
     "name": "stdout",
     "output_type": "stream",
     "text": [
      "timesteps_: 50 score: 0.2700309978885814\n"
     ]
    }
   ],
   "source": [
    "from sklearn.metrics import r2_score\n",
    "print(\"timesteps_:\",timesteps_,\"score:\",r2_score(Y_test, y_pred))"
   ]
  },
  {
   "cell_type": "code",
   "execution_count": 36,
   "id": "5de64742",
   "metadata": {},
   "outputs": [
    {
     "data": {
      "text/plain": [
       "(13771, 1)"
      ]
     },
     "execution_count": 36,
     "metadata": {},
     "output_type": "execute_result"
    }
   ],
   "source": [
    "y_pred.shape"
   ]
  },
  {
   "cell_type": "code",
   "execution_count": 37,
   "id": "f56ddd48",
   "metadata": {},
   "outputs": [
    {
     "data": {
      "text/plain": [
       "(13771,)"
      ]
     },
     "execution_count": 37,
     "metadata": {},
     "output_type": "execute_result"
    }
   ],
   "source": [
    "Y_test.shape"
   ]
  },
  {
   "cell_type": "code",
   "execution_count": 17,
   "id": "5be8d3f6",
   "metadata": {},
   "outputs": [
    {
     "ename": "NameError",
     "evalue": "name 'test_size' is not defined",
     "output_type": "error",
     "traceback": [
      "\u001b[1;31m---------------------------------------------------------------------------\u001b[0m",
      "\u001b[1;31mNameError\u001b[0m                                 Traceback (most recent call last)",
      "\u001b[1;32m<ipython-input-17-04ff316707d6>\u001b[0m in \u001b[0;36m<module>\u001b[1;34m\u001b[0m\n\u001b[0;32m      3\u001b[0m \u001b[1;33m\u001b[0m\u001b[0m\n\u001b[0;32m      4\u001b[0m \u001b[0mperiod\u001b[0m \u001b[1;33m=\u001b[0m \u001b[0mtimesteps_\u001b[0m\u001b[1;33m\u001b[0m\u001b[1;33m\u001b[0m\u001b[0m\n\u001b[1;32m----> 5\u001b[1;33m \u001b[0mend_of_TestSet\u001b[0m \u001b[1;33m=\u001b[0m \u001b[0mtest_size\u001b[0m\u001b[1;33m\u001b[0m\u001b[1;33m\u001b[0m\u001b[0m\n\u001b[0m\u001b[0;32m      6\u001b[0m \u001b[1;33m\u001b[0m\u001b[0m\n\u001b[0;32m      7\u001b[0m \u001b[1;32mfor\u001b[0m \u001b[0mi\u001b[0m \u001b[1;32min\u001b[0m \u001b[0mrange\u001b[0m\u001b[1;33m(\u001b[0m\u001b[0mperiod\u001b[0m\u001b[1;33m,\u001b[0m\u001b[0mend_of_TestSet\u001b[0m\u001b[1;33m)\u001b[0m\u001b[1;33m:\u001b[0m\u001b[1;33m\u001b[0m\u001b[1;33m\u001b[0m\u001b[0m\n",
      "\u001b[1;31mNameError\u001b[0m: name 'test_size' is not defined"
     ]
    }
   ],
   "source": [
    "X_test = []\n",
    "real_value = []\n",
    "\n",
    "period = timesteps_\n",
    "end_of_TestSet = test_size\n",
    "\n",
    "for i in range(period,end_of_TestSet):\n",
    "    real_value.append(TestSet[i,0])\n",
    "\n",
    "TestSet = sc.transform(TestSet)\n",
    "\n",
    "for i in range(period,end_of_TestSet):\n",
    "    X_test.append(TestSet[i-period:i,0])\n",
    "    \n",
    "X_test = np.array(X_test)\n",
    "X_test = np.reshape(X_test,(X_test.shape[0],X_test.shape[1],1))\n",
    "real_value = np.array(real_value)\n",
    "predicted_output = regressor.predict(X_test)"
   ]
  },
  {
   "cell_type": "code",
   "execution_count": null,
   "id": "63829ccc",
   "metadata": {},
   "outputs": [],
   "source": [
    "predicted_output = sc.inverse_transform(predicted_output)\n",
    "plt.plot(predicted_output)\n",
    "print('predicted_output.max : ',predicted_output.max(),', predicted_output.min : ',predicted_output.min() )"
   ]
  },
  {
   "cell_type": "code",
   "execution_count": null,
   "id": "00e4f43c",
   "metadata": {},
   "outputs": [],
   "source": [
    "plt.plot(real_value)\n",
    "print('real_value.max : ',real_value.max(),', real_value.min : ',real_value.min())"
   ]
  },
  {
   "cell_type": "code",
   "execution_count": null,
   "id": "61717642",
   "metadata": {},
   "outputs": [],
   "source": [
    "plt.plot(real_value, color='green',label='Real_value')\n",
    "plt.plot(predicted_output, color='red',label='Predicted_output')\n",
    "plt.title('ONU16 request')\n",
    "plt.xlabel(\"Test Data size\")\n",
    "plt.ylabel(\"Request size\")\n",
    "plt.legend()\n",
    "plt.show()\n",
    "print('Timesteps : ',timesteps_)\n",
    "print('predicted_output.max : ',predicted_output.max(),', predicted_output.min : ',predicted_output.min())\n",
    "print('predicted_output.average : ',np.average(predicted_output))\n",
    "print('real_value.max : ',real_value.max(),', real_value.min : ',real_value.min())\n",
    "print('real_value.average : ',round(np.average(real_value),3))\n",
    "from sklearn.metrics import mean_squared_error\n",
    "mse1 = mean_squared_error(real_value,predicted_output)\n",
    "print('mse : ',round(mse1,3))\n",
    "import math\n",
    "from sklearn.metrics import mean_absolute_error as mae\n",
    "print('rmse : ',round(math.sqrt(mse1),3))\n",
    "#print('mae  : ',sum(map(lambda t:float(t[0]-t[1]),zip(predicted_output, real_value)))/len(real_value))\n",
    "print('mae  : ',mae(real_value, predicted_output))"
   ]
  }
 ],
 "metadata": {
  "kernelspec": {
   "display_name": "Python 3",
   "language": "python",
   "name": "python3"
  },
  "language_info": {
   "codemirror_mode": {
    "name": "ipython",
    "version": 3
   },
   "file_extension": ".py",
   "mimetype": "text/x-python",
   "name": "python",
   "nbconvert_exporter": "python",
   "pygments_lexer": "ipython3",
   "version": "3.7.7"
  }
 },
 "nbformat": 4,
 "nbformat_minor": 5
}
