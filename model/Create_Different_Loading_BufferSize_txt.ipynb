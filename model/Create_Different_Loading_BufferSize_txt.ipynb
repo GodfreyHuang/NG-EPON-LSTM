{
 "cells": [
  {
   "cell_type": "code",
   "execution_count": 16,
   "metadata": {},
   "outputs": [],
   "source": [
    "import numpy as np\n",
    "import matplotlib.pyplot as plt\n",
    "import pandas as pd \n",
    "import time\n",
    "start = time.time()"
   ]
  },
  {
   "cell_type": "code",
   "execution_count": 17,
   "metadata": {},
   "outputs": [
    {
     "name": "stdout",
     "output_type": "stream",
     "text": [
      "len(Request64GB) :  10569\n",
      "len(Request80GB) :  0\n",
      "len(Grant64GB)   :  10569\n"
     ]
    }
   ],
   "source": [
    "text_file = open(\"1110_8s_U16D02_seed107_ProcessGate_ONU16_request.txt\",\"r\")#ONU_16_GrantDownLoadSizePerCycle, ONU[27]_GrantDown.txt\n",
    "#for i in range(32902):\n",
    "#    lines.append()   \n",
    "lines = text_file.readlines()\n",
    "i = 1\n",
    "\n",
    "Request64GB = []\n",
    "Request80GB = []\n",
    "Grant64GB   = []\n",
    "\n",
    "for i in range(len(lines)): #range(len(lines))\n",
    "    if i < 50000:\n",
    "        cycleCount, request = lines[i].split(\"\\t\",1)\n",
    "        c1,r1 = request.split(\"\\t\",1)\n",
    "        c2,r2 = r1.split(\"\\t\",1)\n",
    "        c3,r3 = c2.split(\":\",1)\n",
    "        Request64GB.append(float(r3))\n",
    "\n",
    "text_file = open(\"1110_8s_U16D02_seed107_ProcessGate_ONU16_request.txt\",\"r\")#U20D02\n",
    "lines = text_file.readlines()\n",
    "\n",
    "for i in range(len(lines)):\n",
    "    cycleCount, request = lines[i].split(\"\\t\",1)\n",
    "    c1,r1 = request.split(\":\",1)\n",
    "    c2,r2 = r1.split(\":\",1)\n",
    "    c3,r3 = r2.split(\":\",1)\n",
    "    c4,r4 = r3.split(\":\",1)\n",
    "    c5,r5 = r3.split(\"\\t\",1)\n",
    "    Grant64GB.append(float(c5))\n",
    "\n",
    "print('len(Request64GB) : ',len(Request64GB))\n",
    "print('len(Request80GB) : ',len(Request80GB))\n",
    "print('len(Grant64GB)   : ',len(Grant64GB))"
   ]
  },
  {
   "cell_type": "code",
   "execution_count": 18,
   "metadata": {},
   "outputs": [
    {
     "name": "stdout",
     "output_type": "stream",
     "text": [
      "10568\n",
      "min(BufferSize) :  -183679.0\n",
      "max(BufferSize) :  1375372.0\n",
      "BufferSize[0:10]:  [-12124.0, 51743.0, -1316.0, 25862.0, 17183.0, 77393.0, -7925.0, 47433.0, 50599.0, 33440.0]\n"
     ]
    }
   ],
   "source": [
    "BufferSize = []\n",
    "for i in range(1,len(Request64GB)):\n",
    "    BufferSize.append( Request64GB[i] - Request64GB[i-1] + Grant64GB[i-1]) #buffer內的資料有多少\n",
    "print(len(BufferSize))\n",
    "print('min(BufferSize) : ',min(BufferSize))\n",
    "print('max(BufferSize) : ',max(BufferSize))\n",
    "print('BufferSize[0:10]: ',BufferSize[0:10])"
   ]
  },
  {
   "cell_type": "code",
   "execution_count": 19,
   "metadata": {},
   "outputs": [],
   "source": [
    "output_file = open(\"1110_U16D02_n1375372_BufferSize.txt\",\"w+\")#U20D02_BufferSize\n",
    "for i in range(len(BufferSize)):\n",
    "    output_file.write(str(BufferSize[i])+'\\n')\n",
    "output_file.close()"
   ]
  },
  {
   "cell_type": "code",
   "execution_count": 20,
   "metadata": {},
   "outputs": [
    {
     "name": "stdout",
     "output_type": "stream",
     "text": [
      "0.2076087276140849\n"
     ]
    }
   ],
   "source": [
    "end = time.time()\n",
    "print((end-start)/60.0)"
   ]
  },
  {
   "cell_type": "code",
   "execution_count": null,
   "metadata": {},
   "outputs": [],
   "source": []
  },
  {
   "cell_type": "code",
   "execution_count": null,
   "metadata": {},
   "outputs": [],
   "source": []
  }
 ],
 "metadata": {
  "kernelspec": {
   "display_name": "Python 3",
   "language": "python",
   "name": "python3"
  },
  "language_info": {
   "codemirror_mode": {
    "name": "ipython",
    "version": 3
   },
   "file_extension": ".py",
   "mimetype": "text/x-python",
   "name": "python",
   "nbconvert_exporter": "python",
   "pygments_lexer": "ipython3",
   "version": "3.7.7"
  }
 },
 "nbformat": 4,
 "nbformat_minor": 4
}
