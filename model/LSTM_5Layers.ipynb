{
 "cells": [
  {
   "cell_type": "code",
   "execution_count": 1,
   "id": "d3d6a108",
   "metadata": {},
   "outputs": [],
   "source": [
    "import numpy as np\n",
    "import tensorflow as tf\n",
    "from tensorflow.keras.layers import Input, Dense, LSTM, Reshape, Dropout, LayerNormalization\n",
    "from tensorflow.keras.models import Model, Sequential\n",
    "from sklearn.preprocessing import MinMaxScaler\n",
    "import matplotlib.pyplot as plt\n",
    "import math\n",
    "from sklearn.metrics import mean_absolute_error as mae\n",
    "from sklearn.preprocessing import MinMaxScaler\n",
    "sc = MinMaxScaler(feature_range = (0,1))"
   ]
  },
  {
   "cell_type": "code",
   "execution_count": 2,
   "id": "0c902908",
   "metadata": {},
   "outputs": [],
   "source": [
    "text_file = open(\"AIerror_ONU16_15S_Ai.txt\",\"r\")"
   ]
  },
  {
   "cell_type": "code",
   "execution_count": 3,
   "id": "8afa4401",
   "metadata": {},
   "outputs": [],
   "source": [
    "lines   = text_file.readlines()\n",
    "X_train = []\n",
    "Y_train = []\n",
    "X_test  = []\n",
    "Y_test  = []\n",
    "g       = []\n",
    "BufferSize = []"
   ]
  },
  {
   "cell_type": "code",
   "execution_count": 4,
   "id": "40dddd0d",
   "metadata": {},
   "outputs": [],
   "source": [
    "timesteps_ = 50"
   ]
  },
  {
   "cell_type": "code",
   "execution_count": 5,
   "id": "7d03b5eb",
   "metadata": {},
   "outputs": [
    {
     "name": "stdout",
     "output_type": "stream",
     "text": [
      "max(X_train)  :  624990.0\n",
      "min(X_train)  :  0.0\n"
     ]
    }
   ],
   "source": [
    "for i in range(len(lines)):\n",
    "\tg.append(float(lines[i]))\n",
    "for i in range(len(g)):\n",
    "\tif g[i] >= 0:\n",
    "\t\tBufferSize.append(g[i])\n",
    "\n",
    "print('max(X_train)  : ',max(BufferSize))\n",
    "print('min(X_train)  : ',min(BufferSize))\n",
    "\n",
    "# for i in range(len(BufferSize)):\n",
    "# \tBufferSize[i] = (BufferSize[i]-min(BufferSize))/max(BufferSize)"
   ]
  },
  {
   "cell_type": "code",
   "execution_count": 6,
   "id": "ff6c51f5",
   "metadata": {},
   "outputs": [
    {
     "data": {
      "text/plain": [
       "[0.0008817584355513045,\n",
       " 0.0016925278445116142,\n",
       " 0.0008817584355513045,\n",
       " 0.0016925278445116142,\n",
       " 0.0008817584355513045,\n",
       " 0.0016925278445116142,\n",
       " 0.0008817584355513045,\n",
       " 0.0016925278445116142,\n",
       " 0.0008817584355513045,\n",
       " 0.0016925278445116142]"
      ]
     },
     "execution_count": 6,
     "metadata": {},
     "output_type": "execute_result"
    }
   ],
   "source": [
    "[0.0008817584355513045, 0.0016925278445116142, 0.0008817584355513045, 0.0016925278445116142, 0.0008817584355513045, 0.0016925278445116142, 0.0008817584355513045, 0.0016925278445116142, 0.0008817584355513045, 0.0016925278445116142]"
   ]
  },
  {
   "cell_type": "code",
   "execution_count": 7,
   "id": "04377414",
   "metadata": {
    "scrolled": true
   },
   "outputs": [
    {
     "name": "stdout",
     "output_type": "stream",
     "text": [
      "BufferSize.shape :  (46068,)\n",
      "BufferSize.shape :  (46068, 1)\n",
      "[[0.00144962]\n",
      " [0.00075521]\n",
      " [0.00144962]\n",
      " [0.00075521]\n",
      " [0.00144962]\n",
      " [0.00075521]\n",
      " [0.00144962]\n",
      " [0.00075521]\n",
      " [0.00144962]\n",
      " [0.00075521]]\n"
     ]
    }
   ],
   "source": [
    "BufferSize = np.array(BufferSize)\n",
    "print('BufferSize.shape : ',BufferSize.shape)\n",
    "BufferSize = np.reshape(BufferSize,(BufferSize.shape[0],1)) #(11591,1)\n",
    "print('BufferSize.shape : ',BufferSize.shape)\n",
    "BufferSize = sc.fit_transform(BufferSize)\n",
    "print(BufferSize[0:10])"
   ]
  },
  {
   "cell_type": "code",
   "execution_count": 8,
   "id": "a8ee5d8f",
   "metadata": {},
   "outputs": [
    {
     "name": "stdout",
     "output_type": "stream",
     "text": [
      "type(X_train) :  <class 'list'>\n",
      "X_train.shape :  (32197, 50)\n",
      "Y_train.shape :  (32197,)\n"
     ]
    }
   ],
   "source": [
    "count = int(len(BufferSize)*0.7)\n",
    "test_count = int(len(BufferSize)) - count\n",
    "TestSet = BufferSize[count:len(BufferSize), 0]\n",
    "TestSet = np.reshape(TestSet, (TestSet.shape[0], 1))\n",
    "for i in range( count - timesteps_): # Change TimeStep\n",
    "\tX_train.append(BufferSize[i:i+timesteps_,0])\n",
    "\tY_train.append(BufferSize[i+timesteps_,0])\n",
    " \n",
    "for i in range(timesteps_, len(TestSet)):\n",
    "    X_test.append(TestSet[i-timesteps_:i,0])\n",
    "for i in range(timesteps_, len(TestSet)):\n",
    "    Y_test.append(TestSet[i,0])\n",
    "\n",
    "print('type(X_train) : ',type(X_train))\n",
    "print('X_train.shape : ',np.shape(X_train))\n",
    "print('Y_train.shape : ',np.shape(Y_train))"
   ]
  },
  {
   "cell_type": "code",
   "execution_count": 9,
   "id": "3d9c7fba",
   "metadata": {},
   "outputs": [],
   "source": [
    "X_test = np.array(X_test)\n",
    "X_test = np.reshape(X_test, (X_test.shape[0], X_test.shape[1], 1))\n",
    "Y_test = np.array(Y_test)"
   ]
  },
  {
   "cell_type": "code",
   "execution_count": 10,
   "id": "9ce5b438",
   "metadata": {},
   "outputs": [],
   "source": [
    "X_train = np.array(X_train)\n",
    "Y_train = np.array(Y_train)\n",
    "X_train = np.reshape(X_train,(X_train.shape[0],X_train.shape[1],1))\n",
    "Y_train = np.reshape(Y_train,(Y_train.shape[0],1))"
   ]
  },
  {
   "cell_type": "code",
   "execution_count": 11,
   "id": "b6fba20a",
   "metadata": {},
   "outputs": [
    {
     "data": {
      "text/plain": [
       "(13771, 50, 1)"
      ]
     },
     "execution_count": 11,
     "metadata": {},
     "output_type": "execute_result"
    }
   ],
   "source": [
    "X_test.shape"
   ]
  },
  {
   "cell_type": "code",
   "execution_count": 12,
   "id": "0b63b82b",
   "metadata": {
    "scrolled": true
   },
   "outputs": [
    {
     "name": "stdout",
     "output_type": "stream",
     "text": [
      "Epoch 1/100\n",
      "705/705 [==============================] - 18s 25ms/step - loss: 0.0160 - mse: 0.0012 - mae: 0.0160 - val_loss: 0.0178 - val_mse: 0.0022 - val_mae: 0.0178\n",
      "Epoch 2/100\n",
      "705/705 [==============================] - 15s 21ms/step - loss: 0.0159 - mse: 0.0012 - mae: 0.0159 - val_loss: 0.0175 - val_mse: 0.0022 - val_mae: 0.0175\n",
      "Epoch 3/100\n",
      "705/705 [==============================] - 15s 21ms/step - loss: 0.0158 - mse: 0.0012 - mae: 0.0158 - val_loss: 0.0183 - val_mse: 0.0024 - val_mae: 0.0183\n",
      "Epoch 4/100\n",
      "705/705 [==============================] - 14s 20ms/step - loss: 0.0157 - mse: 0.0012 - mae: 0.0157 - val_loss: 0.0175 - val_mse: 0.0022 - val_mae: 0.0175\n",
      "Epoch 5/100\n",
      "705/705 [==============================] - 15s 21ms/step - loss: 0.0157 - mse: 0.0012 - mae: 0.0157 - val_loss: 0.0173 - val_mse: 0.0022 - val_mae: 0.0173\n",
      "Epoch 6/100\n",
      "705/705 [==============================] - 15s 21ms/step - loss: 0.0156 - mse: 0.0012 - mae: 0.0156 - val_loss: 0.0174 - val_mse: 0.0022 - val_mae: 0.0174\n",
      "Epoch 7/100\n",
      "705/705 [==============================] - 15s 21ms/step - loss: 0.0156 - mse: 0.0012 - mae: 0.0156 - val_loss: 0.0172 - val_mse: 0.0022 - val_mae: 0.0172\n",
      "Epoch 8/100\n",
      "705/705 [==============================] - 14s 20ms/step - loss: 0.0156 - mse: 0.0012 - mae: 0.0156 - val_loss: 0.0175 - val_mse: 0.0023 - val_mae: 0.0175\n",
      "Epoch 9/100\n",
      "705/705 [==============================] - 15s 21ms/step - loss: 0.0156 - mse: 0.0012 - mae: 0.0156 - val_loss: 0.0172 - val_mse: 0.0022 - val_mae: 0.0172\n",
      "Epoch 10/100\n",
      "705/705 [==============================] - 14s 20ms/step - loss: 0.0155 - mse: 0.0012 - mae: 0.0155 - val_loss: 0.0173 - val_mse: 0.0022 - val_mae: 0.0173\n",
      "Epoch 11/100\n",
      "705/705 [==============================] - 15s 21ms/step - loss: 0.0155 - mse: 0.0012 - mae: 0.0155 - val_loss: 0.0173 - val_mse: 0.0022 - val_mae: 0.0173\n",
      "Epoch 12/100\n",
      "705/705 [==============================] - 15s 21ms/step - loss: 0.0155 - mse: 0.0012 - mae: 0.0155 - val_loss: 0.0173 - val_mse: 0.0022 - val_mae: 0.0173\n",
      "Epoch 13/100\n",
      "705/705 [==============================] - 15s 21ms/step - loss: 0.0155 - mse: 0.0012 - mae: 0.0155 - val_loss: 0.0172 - val_mse: 0.0022 - val_mae: 0.0172\n",
      "Epoch 14/100\n",
      "705/705 [==============================] - 15s 21ms/step - loss: 0.0155 - mse: 0.0012 - mae: 0.0155 - val_loss: 0.0175 - val_mse: 0.0023 - val_mae: 0.0175\n",
      "Epoch 15/100\n",
      "705/705 [==============================] - 14s 20ms/step - loss: 0.0155 - mse: 0.0012 - mae: 0.0155 - val_loss: 0.0172 - val_mse: 0.0022 - val_mae: 0.0172\n",
      "Epoch 16/100\n",
      "705/705 [==============================] - 15s 21ms/step - loss: 0.0155 - mse: 0.0012 - mae: 0.0155 - val_loss: 0.0172 - val_mse: 0.0022 - val_mae: 0.0172\n",
      "Epoch 17/100\n",
      "705/705 [==============================] - 14s 20ms/step - loss: 0.0155 - mse: 0.0012 - mae: 0.0155 - val_loss: 0.0171 - val_mse: 0.0022 - val_mae: 0.0171\n",
      "Epoch 18/100\n",
      "705/705 [==============================] - 13s 18ms/step - loss: 0.0155 - mse: 0.0012 - mae: 0.0155 - val_loss: 0.0172 - val_mse: 0.0022 - val_mae: 0.0172\n",
      "Epoch 19/100\n",
      "705/705 [==============================] - 12s 17ms/step - loss: 0.0154 - mse: 0.0012 - mae: 0.0154 - val_loss: 0.0172 - val_mse: 0.0022 - val_mae: 0.0172\n",
      "Epoch 20/100\n",
      "705/705 [==============================] - 12s 17ms/step - loss: 0.0155 - mse: 0.0012 - mae: 0.0155 - val_loss: 0.0174 - val_mse: 0.0022 - val_mae: 0.0174\n",
      "Epoch 21/100\n",
      "705/705 [==============================] - 14s 20ms/step - loss: 0.0155 - mse: 0.0012 - mae: 0.0155 - val_loss: 0.0171 - val_mse: 0.0022 - val_mae: 0.0171\n",
      "Epoch 22/100\n",
      "705/705 [==============================] - 14s 20ms/step - loss: 0.0154 - mse: 0.0012 - mae: 0.0154 - val_loss: 0.0172 - val_mse: 0.0022 - val_mae: 0.0172\n",
      "Epoch 23/100\n",
      "705/705 [==============================] - 14s 20ms/step - loss: 0.0154 - mse: 0.0012 - mae: 0.0154 - val_loss: 0.0172 - val_mse: 0.0022 - val_mae: 0.0172\n",
      "Epoch 24/100\n",
      "705/705 [==============================] - 13s 19ms/step - loss: 0.0154 - mse: 0.0012 - mae: 0.0154 - val_loss: 0.0171 - val_mse: 0.0022 - val_mae: 0.0171\n",
      "Epoch 25/100\n",
      "705/705 [==============================] - 13s 19ms/step - loss: 0.0154 - mse: 0.0012 - mae: 0.0154 - val_loss: 0.0174 - val_mse: 0.0023 - val_mae: 0.0174\n",
      "Epoch 26/100\n",
      "705/705 [==============================] - 14s 19ms/step - loss: 0.0154 - mse: 0.0012 - mae: 0.0154 - val_loss: 0.0174 - val_mse: 0.0023 - val_mae: 0.0174\n",
      "Epoch 27/100\n",
      "705/705 [==============================] - 14s 20ms/step - loss: 0.0154 - mse: 0.0012 - mae: 0.0154 - val_loss: 0.0172 - val_mse: 0.0022 - val_mae: 0.0172\n",
      "Epoch 28/100\n",
      "705/705 [==============================] - 14s 19ms/step - loss: 0.0154 - mse: 0.0012 - mae: 0.0154 - val_loss: 0.0172 - val_mse: 0.0022 - val_mae: 0.0172\n",
      "Epoch 29/100\n",
      "705/705 [==============================] - 14s 20ms/step - loss: 0.0154 - mse: 0.0012 - mae: 0.0154 - val_loss: 0.0173 - val_mse: 0.0022 - val_mae: 0.0173\n",
      "Epoch 30/100\n",
      "705/705 [==============================] - 14s 20ms/step - loss: 0.0154 - mse: 0.0012 - mae: 0.0154 - val_loss: 0.0172 - val_mse: 0.0022 - val_mae: 0.0172\n",
      "Epoch 31/100\n",
      "705/705 [==============================] - 14s 20ms/step - loss: 0.0154 - mse: 0.0012 - mae: 0.0154 - val_loss: 0.0172 - val_mse: 0.0022 - val_mae: 0.0172\n",
      "Epoch 32/100\n",
      "705/705 [==============================] - 15s 21ms/step - loss: 0.0154 - mse: 0.0012 - mae: 0.0154 - val_loss: 0.0173 - val_mse: 0.0022 - val_mae: 0.0173\n",
      "Epoch 33/100\n",
      "705/705 [==============================] - 14s 20ms/step - loss: 0.0153 - mse: 0.0012 - mae: 0.0153 - val_loss: 0.0172 - val_mse: 0.0022 - val_mae: 0.0172\n",
      "Epoch 34/100\n",
      "705/705 [==============================] - 14s 20ms/step - loss: 0.0153 - mse: 0.0012 - mae: 0.0153 - val_loss: 0.0173 - val_mse: 0.0022 - val_mae: 0.0173\n",
      "Epoch 35/100\n",
      "705/705 [==============================] - 14s 20ms/step - loss: 0.0153 - mse: 0.0012 - mae: 0.0153 - val_loss: 0.0175 - val_mse: 0.0023 - val_mae: 0.0175\n",
      "Epoch 36/100\n",
      "705/705 [==============================] - 15s 21ms/step - loss: 0.0152 - mse: 0.0012 - mae: 0.0152 - val_loss: 0.0175 - val_mse: 0.0023 - val_mae: 0.0175\n",
      "Epoch 37/100\n",
      "705/705 [==============================] - 15s 22ms/step - loss: 0.0152 - mse: 0.0012 - mae: 0.0152 - val_loss: 0.0174 - val_mse: 0.0022 - val_mae: 0.0174\n",
      "Epoch 38/100\n",
      "705/705 [==============================] - 17s 24ms/step - loss: 0.0152 - mse: 0.0012 - mae: 0.0152 - val_loss: 0.0174 - val_mse: 0.0022 - val_mae: 0.0174\n",
      "Epoch 39/100\n",
      "705/705 [==============================] - 15s 21ms/step - loss: 0.0151 - mse: 0.0012 - mae: 0.0151 - val_loss: 0.0173 - val_mse: 0.0022 - val_mae: 0.0173\n",
      "Epoch 40/100\n",
      "705/705 [==============================] - 15s 21ms/step - loss: 0.0151 - mse: 0.0012 - mae: 0.0151 - val_loss: 0.0173 - val_mse: 0.0022 - val_mae: 0.0173\n",
      "Epoch 41/100\n",
      "705/705 [==============================] - 14s 20ms/step - loss: 0.0150 - mse: 0.0012 - mae: 0.0150 - val_loss: 0.0175 - val_mse: 0.0022 - val_mae: 0.0175\n",
      "Epoch 42/100\n",
      "705/705 [==============================] - 15s 21ms/step - loss: 0.0150 - mse: 0.0012 - mae: 0.0150 - val_loss: 0.0175 - val_mse: 0.0022 - val_mae: 0.0175\n",
      "Epoch 43/100\n",
      "705/705 [==============================] - 16s 22ms/step - loss: 0.0150 - mse: 0.0012 - mae: 0.0150 - val_loss: 0.0175 - val_mse: 0.0022 - val_mae: 0.0175\n",
      "Epoch 44/100\n",
      "705/705 [==============================] - 15s 21ms/step - loss: 0.0149 - mse: 0.0012 - mae: 0.0149 - val_loss: 0.0177 - val_mse: 0.0023 - val_mae: 0.0177\n",
      "Epoch 45/100\n",
      "705/705 [==============================] - 14s 20ms/step - loss: 0.0149 - mse: 0.0012 - mae: 0.0149 - val_loss: 0.0175 - val_mse: 0.0022 - val_mae: 0.0175\n",
      "Epoch 46/100\n",
      "705/705 [==============================] - 14s 20ms/step - loss: 0.0148 - mse: 0.0012 - mae: 0.0148 - val_loss: 0.0177 - val_mse: 0.0022 - val_mae: 0.0177\n",
      "Epoch 47/100\n",
      "705/705 [==============================] - 15s 21ms/step - loss: 0.0148 - mse: 0.0012 - mae: 0.0148 - val_loss: 0.0177 - val_mse: 0.0022 - val_mae: 0.0177\n",
      "Epoch 48/100\n",
      "705/705 [==============================] - 9s 13ms/step - loss: 0.0148 - mse: 0.0012 - mae: 0.0148 - val_loss: 0.0176 - val_mse: 0.0022 - val_mae: 0.0176\n",
      "Epoch 49/100\n",
      "705/705 [==============================] - 9s 12ms/step - loss: 0.0148 - mse: 0.0011 - mae: 0.0148 - val_loss: 0.0177 - val_mse: 0.0022 - val_mae: 0.0177\n"
     ]
    },
    {
     "name": "stdout",
     "output_type": "stream",
     "text": [
      "Epoch 50/100\n",
      "705/705 [==============================] - 9s 12ms/step - loss: 0.0147 - mse: 0.0011 - mae: 0.0147 - val_loss: 0.0177 - val_mse: 0.0023 - val_mae: 0.0177\n",
      "Epoch 51/100\n",
      "705/705 [==============================] - 9s 12ms/step - loss: 0.0147 - mse: 0.0011 - mae: 0.0147 - val_loss: 0.0176 - val_mse: 0.0022 - val_mae: 0.0176\n",
      "Epoch 52/100\n",
      "705/705 [==============================] - 9s 13ms/step - loss: 0.0147 - mse: 0.0011 - mae: 0.0147 - val_loss: 0.0176 - val_mse: 0.0022 - val_mae: 0.0176\n",
      "Epoch 53/100\n",
      "705/705 [==============================] - 9s 12ms/step - loss: 0.0146 - mse: 0.0011 - mae: 0.0146 - val_loss: 0.0176 - val_mse: 0.0022 - val_mae: 0.0176\n",
      "Epoch 54/100\n",
      "705/705 [==============================] - 9s 13ms/step - loss: 0.0146 - mse: 0.0011 - mae: 0.0146 - val_loss: 0.0178 - val_mse: 0.0022 - val_mae: 0.0178\n",
      "Epoch 55/100\n",
      "705/705 [==============================] - 9s 13ms/step - loss: 0.0146 - mse: 0.0011 - mae: 0.0146 - val_loss: 0.0178 - val_mse: 0.0022 - val_mae: 0.0178\n",
      "Epoch 56/100\n",
      "705/705 [==============================] - 9s 13ms/step - loss: 0.0146 - mse: 0.0011 - mae: 0.0146 - val_loss: 0.0176 - val_mse: 0.0022 - val_mae: 0.0176\n",
      "Epoch 57/100\n",
      "705/705 [==============================] - 9s 12ms/step - loss: 0.0145 - mse: 0.0011 - mae: 0.0145 - val_loss: 0.0178 - val_mse: 0.0022 - val_mae: 0.0178\n",
      "Epoch 58/100\n",
      "705/705 [==============================] - 9s 12ms/step - loss: 0.0145 - mse: 0.0011 - mae: 0.0145 - val_loss: 0.0179 - val_mse: 0.0023 - val_mae: 0.0179\n",
      "Epoch 59/100\n",
      "705/705 [==============================] - 9s 12ms/step - loss: 0.0145 - mse: 0.0011 - mae: 0.0145 - val_loss: 0.0179 - val_mse: 0.0023 - val_mae: 0.0179\n",
      "Epoch 60/100\n",
      "705/705 [==============================] - 9s 13ms/step - loss: 0.0145 - mse: 0.0011 - mae: 0.0145 - val_loss: 0.0179 - val_mse: 0.0023 - val_mae: 0.0179\n",
      "Epoch 61/100\n",
      "705/705 [==============================] - 8s 12ms/step - loss: 0.0144 - mse: 0.0011 - mae: 0.0144 - val_loss: 0.0179 - val_mse: 0.0022 - val_mae: 0.0179\n",
      "Epoch 62/100\n",
      "705/705 [==============================] - 9s 12ms/step - loss: 0.0144 - mse: 0.0011 - mae: 0.0144 - val_loss: 0.0179 - val_mse: 0.0022 - val_mae: 0.0179\n",
      "Epoch 63/100\n",
      "705/705 [==============================] - 9s 13ms/step - loss: 0.0144 - mse: 0.0011 - mae: 0.0144 - val_loss: 0.0177 - val_mse: 0.0022 - val_mae: 0.0177\n",
      "Epoch 64/100\n",
      "705/705 [==============================] - 9s 12ms/step - loss: 0.0144 - mse: 0.0011 - mae: 0.0144 - val_loss: 0.0178 - val_mse: 0.0023 - val_mae: 0.0178\n",
      "Epoch 65/100\n",
      "705/705 [==============================] - 9s 13ms/step - loss: 0.0143 - mse: 0.0011 - mae: 0.0143 - val_loss: 0.0180 - val_mse: 0.0023 - val_mae: 0.0180\n",
      "Epoch 66/100\n",
      "705/705 [==============================] - 10s 14ms/step - loss: 0.0143 - mse: 0.0011 - mae: 0.0143 - val_loss: 0.0180 - val_mse: 0.0023 - val_mae: 0.0180\n",
      "Epoch 67/100\n",
      "705/705 [==============================] - 9s 13ms/step - loss: 0.0143 - mse: 0.0011 - mae: 0.0143 - val_loss: 0.0180 - val_mse: 0.0023 - val_mae: 0.0180\n",
      "Epoch 68/100\n",
      "705/705 [==============================] - 9s 13ms/step - loss: 0.0142 - mse: 0.0011 - mae: 0.0142 - val_loss: 0.0180 - val_mse: 0.0023 - val_mae: 0.0180\n",
      "Epoch 69/100\n",
      "705/705 [==============================] - 9s 12ms/step - loss: 0.0142 - mse: 0.0011 - mae: 0.0142 - val_loss: 0.0178 - val_mse: 0.0022 - val_mae: 0.0178\n",
      "Epoch 70/100\n",
      "705/705 [==============================] - 9s 12ms/step - loss: 0.0142 - mse: 0.0011 - mae: 0.0142 - val_loss: 0.0180 - val_mse: 0.0022 - val_mae: 0.0180\n",
      "Epoch 71/100\n",
      "705/705 [==============================] - 9s 12ms/step - loss: 0.0142 - mse: 0.0011 - mae: 0.0142 - val_loss: 0.0179 - val_mse: 0.0022 - val_mae: 0.0179\n",
      "Epoch 72/100\n",
      "705/705 [==============================] - 9s 12ms/step - loss: 0.0142 - mse: 0.0011 - mae: 0.0142 - val_loss: 0.0179 - val_mse: 0.0022 - val_mae: 0.0179\n",
      "Epoch 73/100\n",
      "705/705 [==============================] - 9s 12ms/step - loss: 0.0142 - mse: 0.0011 - mae: 0.0142 - val_loss: 0.0180 - val_mse: 0.0022 - val_mae: 0.0180\n",
      "Epoch 74/100\n",
      "705/705 [==============================] - 9s 12ms/step - loss: 0.0142 - mse: 0.0011 - mae: 0.0142 - val_loss: 0.0182 - val_mse: 0.0022 - val_mae: 0.0182\n",
      "Epoch 75/100\n",
      "705/705 [==============================] - 9s 12ms/step - loss: 0.0142 - mse: 0.0011 - mae: 0.0142 - val_loss: 0.0179 - val_mse: 0.0022 - val_mae: 0.0179\n",
      "Epoch 76/100\n",
      "705/705 [==============================] - 9s 12ms/step - loss: 0.0141 - mse: 0.0011 - mae: 0.0141 - val_loss: 0.0180 - val_mse: 0.0023 - val_mae: 0.0180\n",
      "Epoch 77/100\n",
      "705/705 [==============================] - 10s 14ms/step - loss: 0.0141 - mse: 0.0011 - mae: 0.0141 - val_loss: 0.0181 - val_mse: 0.0023 - val_mae: 0.0181\n",
      "Epoch 78/100\n",
      "705/705 [==============================] - 10s 14ms/step - loss: 0.0141 - mse: 0.0011 - mae: 0.0141 - val_loss: 0.0180 - val_mse: 0.0022 - val_mae: 0.0180\n",
      "Epoch 79/100\n",
      "705/705 [==============================] - 10s 14ms/step - loss: 0.0141 - mse: 0.0011 - mae: 0.0141 - val_loss: 0.0181 - val_mse: 0.0023 - val_mae: 0.0181\n",
      "Epoch 80/100\n",
      "705/705 [==============================] - 10s 14ms/step - loss: 0.0140 - mse: 0.0011 - mae: 0.0140 - val_loss: 0.0181 - val_mse: 0.0023 - val_mae: 0.0181\n",
      "Epoch 81/100\n",
      "705/705 [==============================] - 9s 13ms/step - loss: 0.0140 - mse: 0.0011 - mae: 0.0140 - val_loss: 0.0181 - val_mse: 0.0022 - val_mae: 0.0181\n",
      "Epoch 82/100\n",
      "705/705 [==============================] - 10s 14ms/step - loss: 0.0140 - mse: 0.0011 - mae: 0.0140 - val_loss: 0.0181 - val_mse: 0.0022 - val_mae: 0.0181\n",
      "Epoch 83/100\n",
      "705/705 [==============================] - 9s 13ms/step - loss: 0.0140 - mse: 0.0011 - mae: 0.0140 - val_loss: 0.0180 - val_mse: 0.0022 - val_mae: 0.0180\n",
      "Epoch 84/100\n",
      "705/705 [==============================] - 9s 13ms/step - loss: 0.0140 - mse: 0.0011 - mae: 0.0140 - val_loss: 0.0180 - val_mse: 0.0023 - val_mae: 0.0180\n",
      "Epoch 85/100\n",
      "705/705 [==============================] - 9s 13ms/step - loss: 0.0139 - mse: 0.0011 - mae: 0.0139 - val_loss: 0.0180 - val_mse: 0.0023 - val_mae: 0.0180\n",
      "Epoch 86/100\n",
      "705/705 [==============================] - 9s 13ms/step - loss: 0.0139 - mse: 0.0011 - mae: 0.0139 - val_loss: 0.0179 - val_mse: 0.0023 - val_mae: 0.0179\n",
      "Epoch 87/100\n",
      "705/705 [==============================] - 9s 13ms/step - loss: 0.0139 - mse: 0.0011 - mae: 0.0139 - val_loss: 0.0181 - val_mse: 0.0023 - val_mae: 0.0181\n",
      "Epoch 88/100\n",
      "705/705 [==============================] - 9s 13ms/step - loss: 0.0139 - mse: 0.0011 - mae: 0.0139 - val_loss: 0.0181 - val_mse: 0.0023 - val_mae: 0.0181\n",
      "Epoch 89/100\n",
      "705/705 [==============================] - 9s 13ms/step - loss: 0.0139 - mse: 0.0011 - mae: 0.0139 - val_loss: 0.0183 - val_mse: 0.0022 - val_mae: 0.0183\n",
      "Epoch 90/100\n",
      "705/705 [==============================] - 9s 13ms/step - loss: 0.0139 - mse: 0.0011 - mae: 0.0139 - val_loss: 0.0181 - val_mse: 0.0022 - val_mae: 0.0181\n",
      "Epoch 91/100\n",
      "705/705 [==============================] - 9s 12ms/step - loss: 0.0139 - mse: 0.0011 - mae: 0.0139 - val_loss: 0.0181 - val_mse: 0.0023 - val_mae: 0.0181\n",
      "Epoch 92/100\n",
      "705/705 [==============================] - 9s 13ms/step - loss: 0.0138 - mse: 0.0011 - mae: 0.0138 - val_loss: 0.0182 - val_mse: 0.0022 - val_mae: 0.0182\n",
      "Epoch 93/100\n",
      "705/705 [==============================] - 9s 13ms/step - loss: 0.0139 - mse: 0.0011 - mae: 0.0139 - val_loss: 0.0182 - val_mse: 0.0023 - val_mae: 0.0182\n",
      "Epoch 94/100\n",
      "705/705 [==============================] - 10s 13ms/step - loss: 0.0138 - mse: 0.0011 - mae: 0.0138 - val_loss: 0.0181 - val_mse: 0.0023 - val_mae: 0.0181\n",
      "Epoch 95/100\n",
      "705/705 [==============================] - 9s 13ms/step - loss: 0.0138 - mse: 0.0011 - mae: 0.0138 - val_loss: 0.0182 - val_mse: 0.0023 - val_mae: 0.0182\n",
      "Epoch 96/100\n",
      "705/705 [==============================] - 9s 13ms/step - loss: 0.0138 - mse: 0.0011 - mae: 0.0138 - val_loss: 0.0180 - val_mse: 0.0022 - val_mae: 0.0180\n",
      "Epoch 97/100\n",
      "705/705 [==============================] - 9s 13ms/step - loss: 0.0138 - mse: 0.0011 - mae: 0.0138 - val_loss: 0.0182 - val_mse: 0.0022 - val_mae: 0.0182\n",
      "Epoch 98/100\n",
      "705/705 [==============================] - 9s 13ms/step - loss: 0.0138 - mse: 0.0011 - mae: 0.0138 - val_loss: 0.0182 - val_mse: 0.0023 - val_mae: 0.0182\n",
      "Epoch 99/100\n"
     ]
    },
    {
     "name": "stdout",
     "output_type": "stream",
     "text": [
      "705/705 [==============================] - 9s 12ms/step - loss: 0.0138 - mse: 0.0011 - mae: 0.0138 - val_loss: 0.0181 - val_mse: 0.0023 - val_mae: 0.0181\n",
      "Epoch 100/100\n",
      "705/705 [==============================] - 9s 12ms/step - loss: 0.0137 - mse: 0.0011 - mae: 0.0137 - val_loss: 0.0182 - val_mse: 0.0023 - val_mae: 0.0182\n"
     ]
    }
   ],
   "source": [
    "inputs = Input(shape=(timesteps_,))\n",
    "#inputs = LayerNormalization(axis=1)(inputs)\n",
    "tgt1 = tf.keras.layers.Reshape((timesteps_,1),input_shape=(timesteps_,))(inputs)\n",
    "\n",
    "tgt1 = LSTM(units=40,return_sequences = True, input_shape=(timesteps_,1))(tgt1)\n",
    "tgt1 = Dropout(0.2)(tgt1)\n",
    "\n",
    "tgt2 = LSTM(units=40,return_sequences = True)(tgt1)\n",
    "tgt2 = Dropout(0.2)(tgt2)\n",
    "\n",
    "tgt3 = LSTM(units=40,return_sequences = True)(tgt2)\n",
    "tgt3 = Dropout(0.2)(tgt3)\n",
    "\n",
    "tgt4 = LSTM(units=40,return_sequences = True)(tgt3)\n",
    "tgt4 = Dropout(0.2)(tgt4)\n",
    "\n",
    "tgt5 = LSTM(units=40,return_sequences = True)(tgt4)\n",
    "tgt5 = Dropout(0.2)(tgt5)\n",
    "\n",
    "predictions = Dense(1)(tgt5)\n",
    "\n",
    "model = Model(inputs=inputs, outputs=predictions)\n",
    "model.compile(loss='mean_absolute_error', optimizer='adam',metrics=['mse','mae'])\n",
    "\n",
    "history = model.fit(X_train, Y_train, epochs=100, batch_size=32, validation_split=0.3) #[1,0,0], [0,0,1]"
   ]
  },
  {
   "cell_type": "code",
   "execution_count": 13,
   "id": "ad5724a0",
   "metadata": {
    "scrolled": true
   },
   "outputs": [
    {
     "name": "stdout",
     "output_type": "stream",
     "text": [
      "Model: \"functional_1\"\n",
      "_________________________________________________________________\n",
      "Layer (type)                 Output Shape              Param #   \n",
      "=================================================================\n",
      "input_1 (InputLayer)         [(None, 50)]              0         \n",
      "_________________________________________________________________\n",
      "reshape (Reshape)            (None, 50, 1)             0         \n",
      "_________________________________________________________________\n",
      "lstm (LSTM)                  (None, 50, 40)            6720      \n",
      "_________________________________________________________________\n",
      "dropout (Dropout)            (None, 50, 40)            0         \n",
      "_________________________________________________________________\n",
      "lstm_1 (LSTM)                (None, 50, 40)            12960     \n",
      "_________________________________________________________________\n",
      "dropout_1 (Dropout)          (None, 50, 40)            0         \n",
      "_________________________________________________________________\n",
      "lstm_2 (LSTM)                (None, 50, 40)            12960     \n",
      "_________________________________________________________________\n",
      "dropout_2 (Dropout)          (None, 50, 40)            0         \n",
      "_________________________________________________________________\n",
      "lstm_3 (LSTM)                (None, 50, 40)            12960     \n",
      "_________________________________________________________________\n",
      "dropout_3 (Dropout)          (None, 50, 40)            0         \n",
      "_________________________________________________________________\n",
      "lstm_4 (LSTM)                (None, 50, 40)            12960     \n",
      "_________________________________________________________________\n",
      "dropout_4 (Dropout)          (None, 50, 40)            0         \n",
      "_________________________________________________________________\n",
      "dense (Dense)                (None, 50, 1)             41        \n",
      "=================================================================\n",
      "Total params: 58,601\n",
      "Trainable params: 58,601\n",
      "Non-trainable params: 0\n",
      "_________________________________________________________________\n"
     ]
    }
   ],
   "source": [
    " model.summary()"
   ]
  },
  {
   "cell_type": "code",
   "execution_count": 14,
   "id": "654a6ece",
   "metadata": {},
   "outputs": [
    {
     "name": "stdout",
     "output_type": "stream",
     "text": [
      "timesteps :  50\n",
      "mae  :  0.0029322551470249893\n"
     ]
    },
    {
     "data": {
      "image/png": "[encoded data removed]",
      "text/plain": [
       "<Figure size 432x288 with 1 Axes>"
      ]
     },
     "metadata": {
      "needs_background": "light"
     },
     "output_type": "display_data"
    }
   ],
   "source": [
    "print('timesteps : ',timesteps_)\n",
    "plt.plot(history.history['mae'])\n",
    "plt.title('mae')\n",
    "print('mae  : ',mae(history.history['mae'], history.history['val_mae']))"
   ]
  },
  {
   "cell_type": "code",
   "execution_count": 15,
   "id": "901ca794",
   "metadata": {},
   "outputs": [
    {
     "name": "stdout",
     "output_type": "stream",
     "text": [
      "timesteps :  50\n"
     ]
    },
    {
     "data": {
      "text/plain": [
       "Text(0.5, 1.0, 'mse')"
      ]
     },
     "execution_count": 15,
     "metadata": {},
     "output_type": "execute_result"
    },
    {
     "data": {
      "image/png": "[encoded data removed]",
      "text/plain": [
       "<Figure size 432x288 with 1 Axes>"
      ]
     },
     "metadata": {
      "needs_background": "light"
     },
     "output_type": "display_data"
    }
   ],
   "source": [
    "print('timesteps : ',timesteps_)\n",
    "plt.plot(history.history['mse'])\n",
    "plt.title('mse')"
   ]
  },
  {
   "cell_type": "code",
   "execution_count": 16,
   "id": "b243d5b7",
   "metadata": {},
   "outputs": [
    {
     "data": {
      "image/png": "[encoded data removed]",
      "text/plain": [
       "<Figure size 432x288 with 1 Axes>"
      ]
     },
     "metadata": {
      "needs_background": "light"
     },
     "output_type": "display_data"
    }
   ],
   "source": [
    "plt.title('loss')   #15s train data, 20 timestep\n",
    "plt.plot(history.history['loss'])\n",
    "plt.plot(history.history['val_loss'])\n",
    "plt.xlabel('epoch')\n",
    "plt.ylabel('loss')\n",
    "plt.legend(['train', 'validation'], loc='upper right')\n",
    "plt.show()"
   ]
  },
  {
   "cell_type": "code",
   "execution_count": 37,
   "id": "8c9ddbb6",
   "metadata": {},
   "outputs": [
    {
     "data": {
      "image/png": "[encoded data removed]",
      "text/plain": [
       "<Figure size 432x288 with 1 Axes>"
      ]
     },
     "metadata": {
      "needs_background": "light"
     },
     "output_type": "display_data"
    }
   ],
   "source": [
    "plt.title('loss')   #15s train data, 50 timestep\n",
    "plt.plot(history.history['loss'])\n",
    "plt.plot(history.history['val_loss'])\n",
    "plt.xlabel('epoch')\n",
    "plt.ylabel('loss')\n",
    "plt.legend(['train', 'validation'], loc='upper right')\n",
    "plt.show()"
   ]
  },
  {
   "cell_type": "code",
   "execution_count": 135,
   "id": "acd883e9",
   "metadata": {},
   "outputs": [
    {
     "name": "stdout",
     "output_type": "stream",
     "text": [
      "timesteps_: 20 score: 0.332164391196034\n"
     ]
    }
   ],
   "source": [
    "y_pred = model.predict(X_test) #10s train data\n",
    "from sklearn.metrics import r2_score\n",
    "print(\"timesteps_:\",timesteps_,\"score:\",r2_score(Y_test, y_pred))"
   ]
  },
  {
   "cell_type": "code",
   "execution_count": 17,
   "id": "2a41e85a",
   "metadata": {},
   "outputs": [
    {
     "name": "stdout",
     "output_type": "stream",
     "text": [
      "timesteps_: 20 score: 0.2746751642104561\n"
     ]
    }
   ],
   "source": [
    "y_pred = model.predict(X_test) #15s train data\n",
    "from sklearn.metrics import r2_score\n",
    "print(\"timesteps_:\",timesteps_,\"score:\",r2_score(Y_test, y_pred))"
   ]
  },
  {
   "cell_type": "code",
   "execution_count": 17,
   "id": "120c1101",
   "metadata": {},
   "outputs": [
    {
     "ename": "ValueError",
     "evalue": "Found array with dim 3. Estimator expected <= 2.",
     "output_type": "error",
     "traceback": [
      "\u001b[1;31m---------------------------------------------------------------------------\u001b[0m",
      "\u001b[1;31mValueError\u001b[0m                                Traceback (most recent call last)",
      "\u001b[1;32m<ipython-input-17-58edb5ba997b>\u001b[0m in \u001b[0;36m<module>\u001b[1;34m\u001b[0m\n\u001b[0;32m      1\u001b[0m \u001b[0my_pred\u001b[0m \u001b[1;33m=\u001b[0m \u001b[0mmodel\u001b[0m\u001b[1;33m.\u001b[0m\u001b[0mpredict\u001b[0m\u001b[1;33m(\u001b[0m\u001b[0mX_test\u001b[0m\u001b[1;33m)\u001b[0m \u001b[1;31m#15s train data, 50\u001b[0m\u001b[1;33m\u001b[0m\u001b[1;33m\u001b[0m\u001b[0m\n\u001b[0;32m      2\u001b[0m \u001b[1;32mfrom\u001b[0m \u001b[0msklearn\u001b[0m\u001b[1;33m.\u001b[0m\u001b[0mmetrics\u001b[0m \u001b[1;32mimport\u001b[0m \u001b[0mr2_score\u001b[0m\u001b[1;33m\u001b[0m\u001b[1;33m\u001b[0m\u001b[0m\n\u001b[1;32m----> 3\u001b[1;33m \u001b[0mprint\u001b[0m\u001b[1;33m(\u001b[0m\u001b[1;34m\"timesteps_:\"\u001b[0m\u001b[1;33m,\u001b[0m\u001b[0mtimesteps_\u001b[0m\u001b[1;33m,\u001b[0m\u001b[1;34m\"score:\"\u001b[0m\u001b[1;33m,\u001b[0m\u001b[0mr2_score\u001b[0m\u001b[1;33m(\u001b[0m\u001b[0mY_test\u001b[0m\u001b[1;33m,\u001b[0m \u001b[0my_pred\u001b[0m\u001b[1;33m)\u001b[0m\u001b[1;33m)\u001b[0m\u001b[1;33m\u001b[0m\u001b[1;33m\u001b[0m\u001b[0m\n\u001b[0m",
      "\u001b[1;32m~\\anaconda3\\envs\\tensorflow\\lib\\site-packages\\sklearn\\metrics\\_regression.py\u001b[0m in \u001b[0;36mr2_score\u001b[1;34m(y_true, y_pred, sample_weight, multioutput)\u001b[0m\n\u001b[0;32m    575\u001b[0m     \"\"\"\n\u001b[0;32m    576\u001b[0m     y_type, y_true, y_pred, multioutput = _check_reg_targets(\n\u001b[1;32m--> 577\u001b[1;33m         y_true, y_pred, multioutput)\n\u001b[0m\u001b[0;32m    578\u001b[0m     \u001b[0mcheck_consistent_length\u001b[0m\u001b[1;33m(\u001b[0m\u001b[0my_true\u001b[0m\u001b[1;33m,\u001b[0m \u001b[0my_pred\u001b[0m\u001b[1;33m,\u001b[0m \u001b[0msample_weight\u001b[0m\u001b[1;33m)\u001b[0m\u001b[1;33m\u001b[0m\u001b[1;33m\u001b[0m\u001b[0m\n\u001b[0;32m    579\u001b[0m \u001b[1;33m\u001b[0m\u001b[0m\n",
      "\u001b[1;32m~\\anaconda3\\envs\\tensorflow\\lib\\site-packages\\sklearn\\metrics\\_regression.py\u001b[0m in \u001b[0;36m_check_reg_targets\u001b[1;34m(y_true, y_pred, multioutput, dtype)\u001b[0m\n\u001b[0;32m     84\u001b[0m     \u001b[0mcheck_consistent_length\u001b[0m\u001b[1;33m(\u001b[0m\u001b[0my_true\u001b[0m\u001b[1;33m,\u001b[0m \u001b[0my_pred\u001b[0m\u001b[1;33m)\u001b[0m\u001b[1;33m\u001b[0m\u001b[1;33m\u001b[0m\u001b[0m\n\u001b[0;32m     85\u001b[0m     \u001b[0my_true\u001b[0m \u001b[1;33m=\u001b[0m \u001b[0mcheck_array\u001b[0m\u001b[1;33m(\u001b[0m\u001b[0my_true\u001b[0m\u001b[1;33m,\u001b[0m \u001b[0mensure_2d\u001b[0m\u001b[1;33m=\u001b[0m\u001b[1;32mFalse\u001b[0m\u001b[1;33m,\u001b[0m \u001b[0mdtype\u001b[0m\u001b[1;33m=\u001b[0m\u001b[0mdtype\u001b[0m\u001b[1;33m)\u001b[0m\u001b[1;33m\u001b[0m\u001b[1;33m\u001b[0m\u001b[0m\n\u001b[1;32m---> 86\u001b[1;33m     \u001b[0my_pred\u001b[0m \u001b[1;33m=\u001b[0m \u001b[0mcheck_array\u001b[0m\u001b[1;33m(\u001b[0m\u001b[0my_pred\u001b[0m\u001b[1;33m,\u001b[0m \u001b[0mensure_2d\u001b[0m\u001b[1;33m=\u001b[0m\u001b[1;32mFalse\u001b[0m\u001b[1;33m,\u001b[0m \u001b[0mdtype\u001b[0m\u001b[1;33m=\u001b[0m\u001b[0mdtype\u001b[0m\u001b[1;33m)\u001b[0m\u001b[1;33m\u001b[0m\u001b[1;33m\u001b[0m\u001b[0m\n\u001b[0m\u001b[0;32m     87\u001b[0m \u001b[1;33m\u001b[0m\u001b[0m\n\u001b[0;32m     88\u001b[0m     \u001b[1;32mif\u001b[0m \u001b[0my_true\u001b[0m\u001b[1;33m.\u001b[0m\u001b[0mndim\u001b[0m \u001b[1;33m==\u001b[0m \u001b[1;36m1\u001b[0m\u001b[1;33m:\u001b[0m\u001b[1;33m\u001b[0m\u001b[1;33m\u001b[0m\u001b[0m\n",
      "\u001b[1;32m~\\anaconda3\\envs\\tensorflow\\lib\\site-packages\\sklearn\\utils\\validation.py\u001b[0m in \u001b[0;36mcheck_array\u001b[1;34m(array, accept_sparse, accept_large_sparse, dtype, order, copy, force_all_finite, ensure_2d, allow_nd, ensure_min_samples, ensure_min_features, warn_on_dtype, estimator)\u001b[0m\n\u001b[0;32m    572\u001b[0m         \u001b[1;32mif\u001b[0m \u001b[1;32mnot\u001b[0m \u001b[0mallow_nd\u001b[0m \u001b[1;32mand\u001b[0m \u001b[0marray\u001b[0m\u001b[1;33m.\u001b[0m\u001b[0mndim\u001b[0m \u001b[1;33m>=\u001b[0m \u001b[1;36m3\u001b[0m\u001b[1;33m:\u001b[0m\u001b[1;33m\u001b[0m\u001b[1;33m\u001b[0m\u001b[0m\n\u001b[0;32m    573\u001b[0m             raise ValueError(\"Found array with dim %d. %s expected <= 2.\"\n\u001b[1;32m--> 574\u001b[1;33m                              % (array.ndim, estimator_name))\n\u001b[0m\u001b[0;32m    575\u001b[0m \u001b[1;33m\u001b[0m\u001b[0m\n\u001b[0;32m    576\u001b[0m         \u001b[1;32mif\u001b[0m \u001b[0mforce_all_finite\u001b[0m\u001b[1;33m:\u001b[0m\u001b[1;33m\u001b[0m\u001b[1;33m\u001b[0m\u001b[0m\n",
      "\u001b[1;31mValueError\u001b[0m: Found array with dim 3. Estimator expected <= 2."
     ]
    }
   ],
   "source": [
    "y_pred = model.predict(X_test) #15s train data, 50\n",
    "from sklearn.metrics import r2_score\n",
    "print(\"timesteps_:\",timesteps_,\"score:\",r2_score(Y_test, y_pred))"
   ]
  },
  {
   "cell_type": "code",
   "execution_count": 39,
   "id": "b17c34fc",
   "metadata": {},
   "outputs": [],
   "source": [
    "text_file.close()"
   ]
  },
  {
   "cell_type": "code",
   "execution_count": 40,
   "id": "188202d9",
   "metadata": {},
   "outputs": [
    {
     "name": "stdout",
     "output_type": "stream",
     "text": [
      "timesteps_: 50 score: 0.2700309978885814\n"
     ]
    }
   ],
   "source": [
    "from sklearn.metrics import r2_score\n",
    "print(\"timesteps_:\",timesteps_,\"score:\",r2_score(Y_test, y_pred))"
   ]
  },
  {
   "cell_type": "code",
   "execution_count": 41,
   "id": "c2cc0851",
   "metadata": {},
   "outputs": [
    {
     "data": {
      "text/plain": [
       "(13771, 1)"
      ]
     },
     "execution_count": 41,
     "metadata": {},
     "output_type": "execute_result"
    }
   ],
   "source": [
    "y_pred.shape"
   ]
  },
  {
   "cell_type": "code",
   "execution_count": 42,
   "id": "9f40a223",
   "metadata": {},
   "outputs": [
    {
     "data": {
      "text/plain": [
       "(13771,)"
      ]
     },
     "execution_count": 42,
     "metadata": {},
     "output_type": "execute_result"
    }
   ],
   "source": [
    "Y_test.shape"
   ]
  },
  {
   "cell_type": "code",
   "execution_count": null,
   "id": "4330123a",
   "metadata": {},
   "outputs": [],
   "source": []
  }
 ],
 "metadata": {
  "kernelspec": {
   "display_name": "Python 3",
   "language": "python",
   "name": "python3"
  },
  "language_info": {
   "codemirror_mode": {
    "name": "ipython",
    "version": 3
   },
   "file_extension": ".py",
   "mimetype": "text/x-python",
   "name": "python",
   "nbconvert_exporter": "python",
   "pygments_lexer": "ipython3",
   "version": "3.7.7"
  }
 },
 "nbformat": 4,
 "nbformat_minor": 5
}
