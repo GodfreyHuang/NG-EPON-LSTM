{
 "cells": [
  {
   "cell_type": "code",
   "execution_count": 1,
   "id": "02e67d94",
   "metadata": {},
   "outputs": [],
   "source": [
    "import numpy as np\n",
    "import tensorflow as tf\n",
    "from tensorflow.keras.layers import Input, Dense, LSTM, Reshape, Dropout, LayerNormalization\n",
    "from tensorflow.keras.models import Model, Sequential\n",
    "from sklearn.preprocessing import MinMaxScaler\n",
    "import matplotlib.pyplot as plt\n",
    "import math\n",
    "from sklearn.metrics import mean_absolute_error as mae\n",
    "from sklearn.preprocessing import MinMaxScaler\n",
    "from tensorflow.keras.layers import TimeDistributed\n",
    "sc = MinMaxScaler(feature_range = (0,1))\n",
    "df2 = []\n",
    "import pandas as pd"
   ]
  },
  {
   "cell_type": "code",
   "execution_count": 2,
   "id": "361c91de",
   "metadata": {},
   "outputs": [
    {
     "name": "stdout",
     "output_type": "stream",
     "text": [
      "   Ai\n",
      "0   0\n",
      "1   0\n",
      "2   0\n",
      "3   0\n",
      "4   0\n"
     ]
    }
   ],
   "source": [
    "df = pd.read_csv('checkAi_ONU16.csv', usecols=[0], engine='python')\n",
    "print(df.head())\n",
    "df = df.values\n",
    "df = df.astype('float32')"
   ]
  },
  {
   "cell_type": "code",
   "execution_count": 3,
   "id": "e5c0fe30",
   "metadata": {},
   "outputs": [
    {
     "name": "stdout",
     "output_type": "stream",
     "text": [
      "43641\n"
     ]
    }
   ],
   "source": [
    "#df = df[:1000]\n",
    "print(len(df))"
   ]
  },
  {
   "cell_type": "code",
   "execution_count": 4,
   "id": "6018e020",
   "metadata": {},
   "outputs": [],
   "source": [
    "#print(df2)"
   ]
  },
  {
   "cell_type": "code",
   "execution_count": 5,
   "id": "5795d979",
   "metadata": {
    "scrolled": false
   },
   "outputs": [],
   "source": [
    "# normalize the dataset\n",
    "scaler = MinMaxScaler(feature_range=(0, 1))\n",
    "dataset = scaler.fit_transform(df)"
   ]
  },
  {
   "cell_type": "code",
   "execution_count": 6,
   "id": "649b434e",
   "metadata": {},
   "outputs": [
    {
     "name": "stdout",
     "output_type": "stream",
     "text": [
      "30548 13093\n"
     ]
    }
   ],
   "source": [
    "# split into train and test sets\n",
    "train_size = int(len(dataset) * 0.7)\n",
    "test_size = len(dataset) - train_size\n",
    "train, test = dataset[0:train_size,:], dataset[train_size:len(dataset),:]\n",
    "print(len(train), len(test))"
   ]
  },
  {
   "cell_type": "code",
   "execution_count": 7,
   "id": "c5ce72fb",
   "metadata": {},
   "outputs": [],
   "source": [
    "# convert an array of values into a dataset matrix\n",
    "def create_dataset(dataset, look_back=1):\n",
    "\tdataX, dataY = [], []\n",
    "\tfor i in range(len(dataset)-look_back):\n",
    "\t\ta = dataset[i:(i+look_back), 0]\n",
    "\t\tdataX.append(a)\n",
    "\t\tdataY.append(dataset[i + look_back, 0])\n",
    "\treturn np.array(dataX), np.array(dataY)"
   ]
  },
  {
   "cell_type": "code",
   "execution_count": 8,
   "id": "5665eb66",
   "metadata": {},
   "outputs": [
    {
     "name": "stdout",
     "output_type": "stream",
     "text": [
      "(30538, 10)\n",
      "(30538,)\n",
      "(13083, 10)\n",
      "10\n"
     ]
    }
   ],
   "source": [
    "# reshape into X=t and Y=t+1\n",
    "look_back = 10\n",
    "trainX, trainY = create_dataset(train, look_back)\n",
    "testX, testY = create_dataset(test, look_back)\n",
    "print(trainX.shape)\n",
    "print(trainY.shape)\n",
    "print(testX.shape)\n",
    "print(trainX.shape[1])"
   ]
  },
  {
   "cell_type": "code",
   "execution_count": 9,
   "id": "997a0ac8",
   "metadata": {},
   "outputs": [],
   "source": [
    "# reshape input to be [samples, time steps, features]\n",
    "#trainX = np.reshape(trainX, (trainX.shape[0], 1, trainX.shape[1]))\n",
    "#testX = np.reshape(testX, (testX.shape[0], 1, testX.shape[1]))\n",
    "\n",
    "#trainX = np.reshape(trainX, (trainX.shape[0], trainX.shape[1], 1))\n",
    "#testX = np.reshape(testX, (testX.shape[0], testX.shape[1], 1))\n",
    "\n",
    "trainX = np.reshape(trainX, (trainX.shape[0], look_back, 1))\n",
    "testX = np.reshape(testX, (testX.shape[0], look_back, 1))"
   ]
  },
  {
   "cell_type": "code",
   "execution_count": 10,
   "id": "0e2f97bf",
   "metadata": {},
   "outputs": [
    {
     "name": "stdout",
     "output_type": "stream",
     "text": [
      "Epoch 1/100\n",
      "668/668 [==============================] - 7s 10ms/step - loss: 0.0155 - mse: 0.0011 - mae: 0.0155 - val_loss: 0.0161 - val_mse: 0.0019 - val_mae: 0.0161\n",
      "Epoch 2/100\n",
      "668/668 [==============================] - 5s 8ms/step - loss: 0.0141 - mse: 9.9045e-04 - mae: 0.0141 - val_loss: 0.0151 - val_mse: 0.0019 - val_mae: 0.0151\n",
      "Epoch 3/100\n",
      "668/668 [==============================] - 5s 8ms/step - loss: 0.0136 - mse: 9.8399e-04 - mae: 0.0136 - val_loss: 0.0154 - val_mse: 0.0020 - val_mae: 0.0154\n",
      "Epoch 4/100\n",
      "668/668 [==============================] - 5s 8ms/step - loss: 0.0133 - mse: 9.9053e-04 - mae: 0.0133 - val_loss: 0.0148 - val_mse: 0.0021 - val_mae: 0.0148\n",
      "Epoch 5/100\n",
      "668/668 [==============================] - 5s 8ms/step - loss: 0.0131 - mse: 9.9180e-04 - mae: 0.0131 - val_loss: 0.0147 - val_mse: 0.0021 - val_mae: 0.0147\n",
      "Epoch 6/100\n",
      "668/668 [==============================] - 5s 8ms/step - loss: 0.0130 - mse: 9.8701e-04 - mae: 0.0130 - val_loss: 0.0149 - val_mse: 0.0021 - val_mae: 0.0149\n",
      "Epoch 7/100\n",
      "668/668 [==============================] - 5s 8ms/step - loss: 0.0129 - mse: 9.8826e-04 - mae: 0.0129 - val_loss: 0.0151 - val_mse: 0.0020 - val_mae: 0.0151\n",
      "Epoch 8/100\n",
      "668/668 [==============================] - 6s 8ms/step - loss: 0.0129 - mse: 9.8642e-04 - mae: 0.0129 - val_loss: 0.0146 - val_mse: 0.0020 - val_mae: 0.0146\n",
      "Epoch 9/100\n",
      "668/668 [==============================] - 5s 8ms/step - loss: 0.0129 - mse: 9.7965e-04 - mae: 0.0129 - val_loss: 0.0144 - val_mse: 0.0020 - val_mae: 0.0144\n",
      "Epoch 10/100\n",
      "668/668 [==============================] - 6s 8ms/step - loss: 0.0128 - mse: 9.7811e-04 - mae: 0.0128 - val_loss: 0.0146 - val_mse: 0.0020 - val_mae: 0.0146\n",
      "Epoch 11/100\n",
      "668/668 [==============================] - 5s 8ms/step - loss: 0.0129 - mse: 9.7862e-04 - mae: 0.0129 - val_loss: 0.0148 - val_mse: 0.0020 - val_mae: 0.0148\n",
      "Epoch 12/100\n",
      "668/668 [==============================] - 5s 8ms/step - loss: 0.0128 - mse: 9.7320e-04 - mae: 0.0128 - val_loss: 0.0150 - val_mse: 0.0018 - val_mae: 0.0150\n",
      "Epoch 13/100\n",
      "668/668 [==============================] - 5s 8ms/step - loss: 0.0128 - mse: 9.7410e-04 - mae: 0.0128 - val_loss: 0.0143 - val_mse: 0.0019 - val_mae: 0.0143\n",
      "Epoch 14/100\n",
      "668/668 [==============================] - 9s 13ms/step - loss: 0.0128 - mse: 9.7284e-04 - mae: 0.0128 - val_loss: 0.0142 - val_mse: 0.0019 - val_mae: 0.0142\n",
      "Epoch 15/100\n",
      "668/668 [==============================] - 5s 8ms/step - loss: 0.0128 - mse: 9.7396e-04 - mae: 0.0128 - val_loss: 0.0142 - val_mse: 0.0019 - val_mae: 0.0142\n",
      "Epoch 16/100\n",
      "668/668 [==============================] - 5s 8ms/step - loss: 0.0127 - mse: 9.6376e-04 - mae: 0.0127 - val_loss: 0.0144 - val_mse: 0.0019 - val_mae: 0.0144\n",
      "Epoch 17/100\n",
      "668/668 [==============================] - 5s 8ms/step - loss: 0.0127 - mse: 9.6116e-04 - mae: 0.0127 - val_loss: 0.0141 - val_mse: 0.0017 - val_mae: 0.0141\n",
      "Epoch 18/100\n",
      "668/668 [==============================] - 6s 8ms/step - loss: 0.0127 - mse: 9.6058e-04 - mae: 0.0127 - val_loss: 0.0141 - val_mse: 0.0018 - val_mae: 0.0141\n",
      "Epoch 19/100\n",
      "668/668 [==============================] - 5s 8ms/step - loss: 0.0127 - mse: 9.5748e-04 - mae: 0.0127 - val_loss: 0.0142 - val_mse: 0.0018 - val_mae: 0.0142\n",
      "Epoch 20/100\n",
      "668/668 [==============================] - 5s 8ms/step - loss: 0.0127 - mse: 9.5979e-04 - mae: 0.0127 - val_loss: 0.0139 - val_mse: 0.0016 - val_mae: 0.0139\n",
      "Epoch 21/100\n",
      "668/668 [==============================] - 5s 8ms/step - loss: 0.0127 - mse: 9.5393e-04 - mae: 0.0127 - val_loss: 0.0151 - val_mse: 0.0020 - val_mae: 0.0151\n",
      "Epoch 22/100\n",
      "668/668 [==============================] - 5s 8ms/step - loss: 0.0127 - mse: 9.5798e-04 - mae: 0.0127 - val_loss: 0.0141 - val_mse: 0.0018 - val_mae: 0.0141\n",
      "Epoch 23/100\n",
      "668/668 [==============================] - 5s 8ms/step - loss: 0.0126 - mse: 9.4170e-04 - mae: 0.0126 - val_loss: 0.0140 - val_mse: 0.0018 - val_mae: 0.0140\n",
      "Epoch 24/100\n",
      "668/668 [==============================] - 6s 8ms/step - loss: 0.0126 - mse: 9.2824e-04 - mae: 0.0126 - val_loss: 0.0140 - val_mse: 0.0016 - val_mae: 0.0140\n",
      "Epoch 25/100\n",
      "668/668 [==============================] - 5s 8ms/step - loss: 0.0126 - mse: 9.2605e-04 - mae: 0.0126 - val_loss: 0.0140 - val_mse: 0.0017 - val_mae: 0.0140\n",
      "Epoch 26/100\n",
      "668/668 [==============================] - 5s 8ms/step - loss: 0.0126 - mse: 9.3714e-04 - mae: 0.0126 - val_loss: 0.0144 - val_mse: 0.0018 - val_mae: 0.0144\n",
      "Epoch 27/100\n",
      "668/668 [==============================] - 5s 8ms/step - loss: 0.0126 - mse: 9.4071e-04 - mae: 0.0126 - val_loss: 0.0139 - val_mse: 0.0016 - val_mae: 0.0139\n",
      "Epoch 28/100\n",
      "668/668 [==============================] - 5s 8ms/step - loss: 0.0125 - mse: 9.0400e-04 - mae: 0.0125 - val_loss: 0.0140 - val_mse: 0.0018 - val_mae: 0.0140\n",
      "Epoch 29/100\n",
      "668/668 [==============================] - 5s 8ms/step - loss: 0.0125 - mse: 9.1325e-04 - mae: 0.0125 - val_loss: 0.0138 - val_mse: 0.0016 - val_mae: 0.0138\n",
      "Epoch 30/100\n",
      "668/668 [==============================] - 5s 8ms/step - loss: 0.0125 - mse: 9.1959e-04 - mae: 0.0125 - val_loss: 0.0137 - val_mse: 0.0016 - val_mae: 0.0137\n",
      "Epoch 31/100\n",
      "668/668 [==============================] - 5s 8ms/step - loss: 0.0125 - mse: 9.1809e-04 - mae: 0.0125 - val_loss: 0.0139 - val_mse: 0.0016 - val_mae: 0.0139\n",
      "Epoch 32/100\n",
      "668/668 [==============================] - 5s 8ms/step - loss: 0.0125 - mse: 9.2230e-04 - mae: 0.0125 - val_loss: 0.0138 - val_mse: 0.0016 - val_mae: 0.0138\n",
      "Epoch 33/100\n",
      "668/668 [==============================] - 6s 8ms/step - loss: 0.0125 - mse: 9.2265e-04 - mae: 0.0125 - val_loss: 0.0139 - val_mse: 0.0015 - val_mae: 0.0139\n",
      "Epoch 34/100\n",
      "668/668 [==============================] - 6s 8ms/step - loss: 0.0125 - mse: 9.3153e-04 - mae: 0.0125 - val_loss: 0.0138 - val_mse: 0.0016 - val_mae: 0.0138\n",
      "Epoch 35/100\n",
      "668/668 [==============================] - 5s 8ms/step - loss: 0.0125 - mse: 9.2832e-04 - mae: 0.0125 - val_loss: 0.0138 - val_mse: 0.0016 - val_mae: 0.0138\n",
      "Epoch 36/100\n",
      "668/668 [==============================] - 5s 8ms/step - loss: 0.0124 - mse: 9.0621e-04 - mae: 0.0124 - val_loss: 0.0136 - val_mse: 0.0015 - val_mae: 0.0136\n",
      "Epoch 37/100\n",
      "668/668 [==============================] - 5s 8ms/step - loss: 0.0124 - mse: 9.0152e-04 - mae: 0.0124 - val_loss: 0.0133 - val_mse: 0.0012 - val_mae: 0.0133\n",
      "Epoch 38/100\n",
      "668/668 [==============================] - 5s 8ms/step - loss: 0.0125 - mse: 9.4699e-04 - mae: 0.0125 - val_loss: 0.0140 - val_mse: 0.0017 - val_mae: 0.0140\n",
      "Epoch 39/100\n",
      "668/668 [==============================] - 5s 8ms/step - loss: 0.0125 - mse: 9.3506e-04 - mae: 0.0125 - val_loss: 0.0133 - val_mse: 0.0012 - val_mae: 0.0133\n",
      "Epoch 40/100\n",
      "668/668 [==============================] - 5s 8ms/step - loss: 0.0124 - mse: 9.1673e-04 - mae: 0.0124 - val_loss: 0.0142 - val_mse: 0.0019 - val_mae: 0.0142\n",
      "Epoch 41/100\n",
      "668/668 [==============================] - 5s 8ms/step - loss: 0.0124 - mse: 9.3639e-04 - mae: 0.0124 - val_loss: 0.0141 - val_mse: 0.0014 - val_mae: 0.0141\n",
      "Epoch 42/100\n",
      "668/668 [==============================] - 6s 8ms/step - loss: 0.0125 - mse: 9.0736e-04 - mae: 0.0125 - val_loss: 0.0140 - val_mse: 0.0018 - val_mae: 0.0140\n",
      "Epoch 43/100\n",
      "668/668 [==============================] - 5s 8ms/step - loss: 0.0125 - mse: 9.3480e-04 - mae: 0.0125 - val_loss: 0.0144 - val_mse: 0.0020 - val_mae: 0.0144\n",
      "Epoch 44/100\n",
      "668/668 [==============================] - 5s 8ms/step - loss: 0.0125 - mse: 9.4382e-04 - mae: 0.0125 - val_loss: 0.0136 - val_mse: 0.0014 - val_mae: 0.0136\n",
      "Epoch 45/100\n",
      "668/668 [==============================] - 5s 8ms/step - loss: 0.0124 - mse: 8.8455e-04 - mae: 0.0124 - val_loss: 0.0143 - val_mse: 0.0018 - val_mae: 0.0143\n",
      "Epoch 46/100\n",
      "668/668 [==============================] - 5s 8ms/step - loss: 0.0125 - mse: 9.3010e-04 - mae: 0.0125 - val_loss: 0.0139 - val_mse: 0.0017 - val_mae: 0.0139\n",
      "Epoch 47/100\n",
      "668/668 [==============================] - 5s 8ms/step - loss: 0.0124 - mse: 8.9312e-04 - mae: 0.0124 - val_loss: 0.0141 - val_mse: 0.0017 - val_mae: 0.0141\n",
      "Epoch 48/100\n",
      "668/668 [==============================] - 5s 8ms/step - loss: 0.0124 - mse: 9.3300e-04 - mae: 0.0124 - val_loss: 0.0138 - val_mse: 0.0016 - val_mae: 0.0138\n",
      "Epoch 49/100\n"
     ]
    },
    {
     "name": "stdout",
     "output_type": "stream",
     "text": [
      "668/668 [==============================] - 5s 8ms/step - loss: 0.0124 - mse: 9.0053e-04 - mae: 0.0124 - val_loss: 0.0138 - val_mse: 0.0016 - val_mae: 0.0138\n",
      "Epoch 50/100\n",
      "668/668 [==============================] - 5s 8ms/step - loss: 0.0124 - mse: 8.9313e-04 - mae: 0.0124 - val_loss: 0.0142 - val_mse: 0.0019 - val_mae: 0.0142\n",
      "Epoch 51/100\n",
      "668/668 [==============================] - 5s 8ms/step - loss: 0.0124 - mse: 8.9936e-04 - mae: 0.0124 - val_loss: 0.0137 - val_mse: 0.0013 - val_mae: 0.0137\n",
      "Epoch 52/100\n",
      "668/668 [==============================] - 5s 8ms/step - loss: 0.0125 - mse: 9.1451e-04 - mae: 0.0125 - val_loss: 0.0143 - val_mse: 0.0016 - val_mae: 0.0143\n",
      "Epoch 53/100\n",
      "668/668 [==============================] - 5s 8ms/step - loss: 0.0124 - mse: 9.1388e-04 - mae: 0.0124 - val_loss: 0.0138 - val_mse: 0.0017 - val_mae: 0.0138\n",
      "Epoch 54/100\n",
      "668/668 [==============================] - 5s 8ms/step - loss: 0.0124 - mse: 9.1803e-04 - mae: 0.0124 - val_loss: 0.0139 - val_mse: 0.0014 - val_mae: 0.0139\n",
      "Epoch 55/100\n",
      "668/668 [==============================] - 5s 8ms/step - loss: 0.0124 - mse: 8.9678e-04 - mae: 0.0124 - val_loss: 0.0139 - val_mse: 0.0017 - val_mae: 0.0139\n",
      "Epoch 56/100\n",
      "668/668 [==============================] - 5s 8ms/step - loss: 0.0124 - mse: 8.8092e-04 - mae: 0.0124 - val_loss: 0.0141 - val_mse: 0.0017 - val_mae: 0.0141\n",
      "Epoch 57/100\n",
      "668/668 [==============================] - 5s 8ms/step - loss: 0.0124 - mse: 8.8582e-04 - mae: 0.0124 - val_loss: 0.0136 - val_mse: 0.0014 - val_mae: 0.0136\n",
      "Epoch 58/100\n",
      "668/668 [==============================] - 5s 8ms/step - loss: 0.0123 - mse: 8.9267e-04 - mae: 0.0123 - val_loss: 0.0137 - val_mse: 0.0015 - val_mae: 0.0137\n",
      "Epoch 59/100\n",
      "668/668 [==============================] - 5s 8ms/step - loss: 0.0123 - mse: 8.8720e-04 - mae: 0.0123 - val_loss: 0.0137 - val_mse: 0.0015 - val_mae: 0.0137\n",
      "Epoch 60/100\n",
      "668/668 [==============================] - 5s 8ms/step - loss: 0.0124 - mse: 8.9110e-04 - mae: 0.0124 - val_loss: 0.0139 - val_mse: 0.0015 - val_mae: 0.0139\n",
      "Epoch 61/100\n",
      "668/668 [==============================] - 5s 8ms/step - loss: 0.0124 - mse: 8.9734e-04 - mae: 0.0124 - val_loss: 0.0137 - val_mse: 0.0012 - val_mae: 0.0137\n",
      "Epoch 62/100\n",
      "668/668 [==============================] - 5s 8ms/step - loss: 0.0123 - mse: 8.5628e-04 - mae: 0.0123 - val_loss: 0.0138 - val_mse: 0.0016 - val_mae: 0.0138\n",
      "Epoch 63/100\n",
      "668/668 [==============================] - 5s 8ms/step - loss: 0.0123 - mse: 8.7236e-04 - mae: 0.0123 - val_loss: 0.0139 - val_mse: 0.0014 - val_mae: 0.0139\n",
      "Epoch 64/100\n",
      "668/668 [==============================] - 5s 8ms/step - loss: 0.0124 - mse: 8.8809e-04 - mae: 0.0124 - val_loss: 0.0142 - val_mse: 0.0017 - val_mae: 0.0142\n",
      "Epoch 65/100\n",
      "668/668 [==============================] - 5s 8ms/step - loss: 0.0123 - mse: 8.6104e-04 - mae: 0.0123 - val_loss: 0.0137 - val_mse: 0.0016 - val_mae: 0.0137\n",
      "Epoch 66/100\n",
      "668/668 [==============================] - 5s 8ms/step - loss: 0.0123 - mse: 8.5661e-04 - mae: 0.0123 - val_loss: 0.0139 - val_mse: 0.0017 - val_mae: 0.0139\n",
      "Epoch 67/100\n",
      "668/668 [==============================] - 5s 8ms/step - loss: 0.0123 - mse: 8.6137e-04 - mae: 0.0123 - val_loss: 0.0139 - val_mse: 0.0017 - val_mae: 0.0139\n",
      "Epoch 68/100\n",
      "668/668 [==============================] - 5s 8ms/step - loss: 0.0123 - mse: 8.7176e-04 - mae: 0.0123 - val_loss: 0.0138 - val_mse: 0.0016 - val_mae: 0.0138\n",
      "Epoch 69/100\n",
      "668/668 [==============================] - 5s 8ms/step - loss: 0.0123 - mse: 8.7583e-04 - mae: 0.0123 - val_loss: 0.0139 - val_mse: 0.0016 - val_mae: 0.0139\n",
      "Epoch 70/100\n",
      "668/668 [==============================] - 5s 8ms/step - loss: 0.0122 - mse: 8.5451e-04 - mae: 0.0122 - val_loss: 0.0139 - val_mse: 0.0016 - val_mae: 0.0139\n",
      "Epoch 71/100\n",
      "668/668 [==============================] - 5s 8ms/step - loss: 0.0122 - mse: 8.4581e-04 - mae: 0.0122 - val_loss: 0.0138 - val_mse: 0.0016 - val_mae: 0.0138\n",
      "Epoch 72/100\n",
      "668/668 [==============================] - 5s 8ms/step - loss: 0.0121 - mse: 8.2360e-04 - mae: 0.0121 - val_loss: 0.0139 - val_mse: 0.0017 - val_mae: 0.0139\n",
      "Epoch 73/100\n",
      "668/668 [==============================] - 5s 8ms/step - loss: 0.0122 - mse: 8.3535e-04 - mae: 0.0122 - val_loss: 0.0141 - val_mse: 0.0019 - val_mae: 0.0141\n",
      "Epoch 74/100\n",
      "668/668 [==============================] - 5s 8ms/step - loss: 0.0122 - mse: 8.4428e-04 - mae: 0.0122 - val_loss: 0.0141 - val_mse: 0.0018 - val_mae: 0.0141\n",
      "Epoch 75/100\n",
      "668/668 [==============================] - 5s 8ms/step - loss: 0.0121 - mse: 8.0931e-04 - mae: 0.0121 - val_loss: 0.0140 - val_mse: 0.0017 - val_mae: 0.0140\n",
      "Epoch 76/100\n",
      "668/668 [==============================] - 5s 8ms/step - loss: 0.0122 - mse: 8.3568e-04 - mae: 0.0122 - val_loss: 0.0141 - val_mse: 0.0017 - val_mae: 0.0141\n",
      "Epoch 77/100\n",
      "668/668 [==============================] - 5s 8ms/step - loss: 0.0121 - mse: 8.1349e-04 - mae: 0.0121 - val_loss: 0.0140 - val_mse: 0.0017 - val_mae: 0.0140\n",
      "Epoch 78/100\n",
      "668/668 [==============================] - 5s 8ms/step - loss: 0.0121 - mse: 8.1542e-04 - mae: 0.0121 - val_loss: 0.0141 - val_mse: 0.0017 - val_mae: 0.0141\n",
      "Epoch 79/100\n",
      "668/668 [==============================] - 5s 8ms/step - loss: 0.0121 - mse: 8.0317e-04 - mae: 0.0121 - val_loss: 0.0142 - val_mse: 0.0019 - val_mae: 0.0142\n",
      "Epoch 80/100\n",
      "668/668 [==============================] - 5s 8ms/step - loss: 0.0121 - mse: 8.1896e-04 - mae: 0.0121 - val_loss: 0.0141 - val_mse: 0.0018 - val_mae: 0.0141\n",
      "Epoch 81/100\n",
      "668/668 [==============================] - 5s 8ms/step - loss: 0.0122 - mse: 8.7299e-04 - mae: 0.0122 - val_loss: 0.0141 - val_mse: 0.0018 - val_mae: 0.0141\n",
      "Epoch 82/100\n",
      "668/668 [==============================] - 5s 8ms/step - loss: 0.0120 - mse: 8.1059e-04 - mae: 0.0120 - val_loss: 0.0141 - val_mse: 0.0017 - val_mae: 0.0141\n",
      "Epoch 83/100\n",
      "668/668 [==============================] - 5s 8ms/step - loss: 0.0120 - mse: 7.9427e-04 - mae: 0.0120 - val_loss: 0.0142 - val_mse: 0.0017 - val_mae: 0.0142\n",
      "Epoch 84/100\n",
      "668/668 [==============================] - 5s 8ms/step - loss: 0.0120 - mse: 7.8795e-04 - mae: 0.0120 - val_loss: 0.0141 - val_mse: 0.0018 - val_mae: 0.0141\n",
      "Epoch 85/100\n",
      "668/668 [==============================] - 5s 8ms/step - loss: 0.0120 - mse: 7.9179e-04 - mae: 0.0120 - val_loss: 0.0141 - val_mse: 0.0018 - val_mae: 0.0141\n",
      "Epoch 86/100\n",
      "668/668 [==============================] - 5s 8ms/step - loss: 0.0119 - mse: 8.0903e-04 - mae: 0.0119 - val_loss: 0.0141 - val_mse: 0.0018 - val_mae: 0.0141\n",
      "Epoch 87/100\n",
      "668/668 [==============================] - 5s 8ms/step - loss: 0.0119 - mse: 7.8571e-04 - mae: 0.0119 - val_loss: 0.0142 - val_mse: 0.0019 - val_mae: 0.0142\n",
      "Epoch 88/100\n",
      "668/668 [==============================] - 5s 8ms/step - loss: 0.0119 - mse: 8.0059e-04 - mae: 0.0119 - val_loss: 0.0141 - val_mse: 0.0018 - val_mae: 0.0141\n",
      "Epoch 89/100\n",
      "668/668 [==============================] - 6s 8ms/step - loss: 0.0118 - mse: 7.7132e-04 - mae: 0.0118 - val_loss: 0.0144 - val_mse: 0.0018 - val_mae: 0.0144\n",
      "Epoch 90/100\n",
      "668/668 [==============================] - 5s 8ms/step - loss: 0.0119 - mse: 7.8227e-04 - mae: 0.0119 - val_loss: 0.0142 - val_mse: 0.0018 - val_mae: 0.0142\n",
      "Epoch 91/100\n",
      "668/668 [==============================] - 6s 8ms/step - loss: 0.0119 - mse: 7.9071e-04 - mae: 0.0119 - val_loss: 0.0142 - val_mse: 0.0018 - val_mae: 0.0142\n",
      "Epoch 92/100\n",
      "668/668 [==============================] - 5s 8ms/step - loss: 0.0118 - mse: 7.7698e-04 - mae: 0.0118 - val_loss: 0.0143 - val_mse: 0.0018 - val_mae: 0.0143\n",
      "Epoch 93/100\n",
      "668/668 [==============================] - 5s 8ms/step - loss: 0.0118 - mse: 7.7088e-04 - mae: 0.0118 - val_loss: 0.0141 - val_mse: 0.0018 - val_mae: 0.0141\n",
      "Epoch 94/100\n",
      "668/668 [==============================] - 5s 8ms/step - loss: 0.0117 - mse: 7.6868e-04 - mae: 0.0117 - val_loss: 0.0142 - val_mse: 0.0018 - val_mae: 0.0142\n",
      "Epoch 95/100\n",
      "668/668 [==============================] - 5s 8ms/step - loss: 0.0117 - mse: 7.6043e-04 - mae: 0.0117 - val_loss: 0.0141 - val_mse: 0.0018 - val_mae: 0.0141\n",
      "Epoch 96/100\n",
      "668/668 [==============================] - 5s 8ms/step - loss: 0.0117 - mse: 7.7697e-04 - mae: 0.0117 - val_loss: 0.0144 - val_mse: 0.0019 - val_mae: 0.0144\n",
      "Epoch 97/100\n"
     ]
    },
    {
     "name": "stdout",
     "output_type": "stream",
     "text": [
      "668/668 [==============================] - 5s 8ms/step - loss: 0.0116 - mse: 7.6735e-04 - mae: 0.0116 - val_loss: 0.0142 - val_mse: 0.0018 - val_mae: 0.0142\n",
      "Epoch 98/100\n",
      "668/668 [==============================] - 5s 8ms/step - loss: 0.0116 - mse: 7.5867e-04 - mae: 0.0116 - val_loss: 0.0142 - val_mse: 0.0018 - val_mae: 0.0142\n",
      "Epoch 99/100\n",
      "668/668 [==============================] - 5s 8ms/step - loss: 0.0115 - mse: 7.4273e-04 - mae: 0.0115 - val_loss: 0.0143 - val_mse: 0.0017 - val_mae: 0.0143\n",
      "Epoch 100/100\n",
      "668/668 [==============================] - 5s 8ms/step - loss: 0.0116 - mse: 7.5686e-04 - mae: 0.0116 - val_loss: 0.0142 - val_mse: 0.0018 - val_mae: 0.0142\n"
     ]
    }
   ],
   "source": [
    "timesteps_ = look_back\n",
    "\n",
    "inputs = Input(shape=(timesteps_,))\n",
    "#inputs = LayerNormalization(axis=1)(inputs)\n",
    "tgt1 = tf.keras.layers.Reshape((timesteps_,1),input_shape=(timesteps_,))(inputs)\n",
    "\n",
    "tgt1 = LSTM(units=120, return_sequences = True, input_shape=(timesteps_,1))(tgt1)\n",
    "tgt1 = Dropout(0.2)(tgt1)\n",
    "\n",
    "tgt2 = LSTM(units=120,return_sequences = True)(tgt1)\n",
    "tgt2 = Dropout(0.2)(tgt2)\n",
    "\n",
    "tgt3 = LSTM(units=120,return_sequences = True)(tgt2)\n",
    "tgt3 = Dropout(0.2)(tgt3)\n",
    "\n",
    "tgt4 = LSTM(units=120,return_sequences = True)(tgt3)\n",
    "tgt4 = Dropout(0.2)(tgt4)\n",
    "\n",
    "tgt5 = LSTM(units=120)(tgt4)\n",
    "tgt5 = Dropout(0.2)(tgt5)\n",
    "\n",
    "predictions = Dense(1)(tgt5)\n",
    "\n",
    "model = Model(inputs=inputs, outputs=predictions)\n",
    "model.compile(loss='mean_absolute_error', optimizer='adam',metrics=['mse','mae'])\n",
    "\n",
    "history = model.fit(trainX, trainY, epochs=100, batch_size=32, validation_split=0.3) #[1,0,0], [0,0,1]"
   ]
  },
  {
   "cell_type": "code",
   "execution_count": 11,
   "id": "7c058e67",
   "metadata": {
    "scrolled": false
   },
   "outputs": [
    {
     "name": "stdout",
     "output_type": "stream",
     "text": [
      "timesteps :  10\n",
      "mae  :  0.0017178846895694732\n"
     ]
    },
    {
     "data": {
      "image/png": "[encoded data removed]",
      "text/plain": [
       "<Figure size 432x288 with 1 Axes>"
      ]
     },
     "metadata": {
      "needs_background": "light"
     },
     "output_type": "display_data"
    }
   ],
   "source": [
    "print('timesteps : ',timesteps_)\n",
    "plt.plot(history.history['mae'])\n",
    "plt.title('mae')\n",
    "print('mae  : ',mae(history.history['mae'], history.history['val_mae']))"
   ]
  },
  {
   "cell_type": "code",
   "execution_count": 12,
   "id": "310f242e",
   "metadata": {
    "scrolled": false
   },
   "outputs": [
    {
     "name": "stdout",
     "output_type": "stream",
     "text": [
      "timesteps :  10\n"
     ]
    },
    {
     "data": {
      "text/plain": [
       "Text(0.5, 1.0, 'mse')"
      ]
     },
     "execution_count": 12,
     "metadata": {},
     "output_type": "execute_result"
    },
    {
     "data": {
      "image/png": "[encoded data removed]",
      "text/plain": [
       "<Figure size 432x288 with 1 Axes>"
      ]
     },
     "metadata": {
      "needs_background": "light"
     },
     "output_type": "display_data"
    }
   ],
   "source": [
    "print('timesteps : ',timesteps_)\n",
    "plt.plot(history.history['mse'])\n",
    "plt.title('mse')"
   ]
  },
  {
   "cell_type": "code",
   "execution_count": 13,
   "id": "a617e9af",
   "metadata": {},
   "outputs": [],
   "source": [
    "#模型評估\n",
    "trainPredict = model.predict(trainX, batch_size=32)\n",
    "#reset model\n",
    "model.reset_states()\n",
    "testPredict = model.predict(testX, batch_size=32)"
   ]
  },
  {
   "cell_type": "code",
   "execution_count": 14,
   "id": "22540dee",
   "metadata": {},
   "outputs": [
    {
     "name": "stdout",
     "output_type": "stream",
     "text": [
      "Train Score: 21587.13 RMSE\n",
      "Test Score: 29701.04 RMSE\n",
      "Train Score: 89.81 RMAE\n",
      "Test Score: 97.12 RMAE\n"
     ]
    }
   ],
   "source": [
    "from sklearn.metrics import mean_squared_error as mse\n",
    "# make predictions\n",
    "#trainPredict = model.predict(trainX)\n",
    "#testPredict = model.predict(testX)\n",
    "# invert predictions\n",
    "trainPredict = scaler.inverse_transform(trainPredict)\n",
    "trainY = scaler.inverse_transform([trainY])\n",
    "testPredict = scaler.inverse_transform(testPredict)\n",
    "testY = scaler.inverse_transform([testY])\n",
    "# calculate root mean squared error\n",
    "trainScore = math.sqrt(mse(trainY[0], trainPredict[:,0]))\n",
    "print('Train Score: %.2f RMSE' % (trainScore))\n",
    "testScore = math.sqrt(mse(testY[0], testPredict[:,0]))\n",
    "print('Test Score: %.2f RMSE' % (testScore))\n",
    "# calculate root mean absolute error\n",
    "trainScore2 = math.sqrt(mae(trainY[0], trainPredict[:,0]))\n",
    "print('Train Score: %.2f RMAE' % (trainScore2))\n",
    "testScore2 = math.sqrt(mae(testY[0], testPredict[:,0]))\n",
    "print('Test Score: %.2f RMAE' % (testScore2))"
   ]
  },
  {
   "cell_type": "code",
   "execution_count": 20,
   "id": "f66a5b5d",
   "metadata": {},
   "outputs": [
    {
     "data": {
      "image/png": "[encoded data removed]",
      "text/plain": [
       "<Figure size 1008x720 with 1 Axes>"
      ]
     },
     "metadata": {
      "needs_background": "light"
     },
     "output_type": "display_data"
    }
   ],
   "source": [
    "# shift train predictions for plotting\n",
    "trainPredictPlot = np.empty_like(dataset)\n",
    "trainPredictPlot[:, :] = np.nan\n",
    "trainPredictPlot[look_back:len(trainPredict)+look_back, :] = trainPredict\n",
    "# shift test predictions for plotting\n",
    "testPredictPlot = np.empty_like(dataset)\n",
    "testPredictPlot[:, :] = np.nan\n",
    "testPredictPlot[len(trainPredict)+(look_back*2):len(dataset), :] = testPredict\n",
    "# plot baseline and predictions\n",
    "plt.figure(figsize=(14, 10))\n",
    "plt.plot(scaler.inverse_transform(dataset[30648:30748]))\n",
    "#plt.plot(trainPredictPlot)\n",
    "plt.plot(testPredictPlot[30648:30748])\n",
    "plt.show()"
   ]
  },
  {
   "cell_type": "code",
   "execution_count": 16,
   "id": "67dca76a",
   "metadata": {},
   "outputs": [
    {
     "name": "stdout",
     "output_type": "stream",
     "text": [
      "Model: \"functional_1\"\n",
      "_________________________________________________________________\n",
      "Layer (type)                 Output Shape              Param #   \n",
      "=================================================================\n",
      "input_1 (InputLayer)         [(None, 10)]              0         \n",
      "_________________________________________________________________\n",
      "reshape (Reshape)            (None, 10, 1)             0         \n",
      "_________________________________________________________________\n",
      "lstm (LSTM)                  (None, 10, 120)           58560     \n",
      "_________________________________________________________________\n",
      "dropout (Dropout)            (None, 10, 120)           0         \n",
      "_________________________________________________________________\n",
      "lstm_1 (LSTM)                (None, 10, 120)           115680    \n",
      "_________________________________________________________________\n",
      "dropout_1 (Dropout)          (None, 10, 120)           0         \n",
      "_________________________________________________________________\n",
      "lstm_2 (LSTM)                (None, 10, 120)           115680    \n",
      "_________________________________________________________________\n",
      "dropout_2 (Dropout)          (None, 10, 120)           0         \n",
      "_________________________________________________________________\n",
      "lstm_3 (LSTM)                (None, 10, 120)           115680    \n",
      "_________________________________________________________________\n",
      "dropout_3 (Dropout)          (None, 10, 120)           0         \n",
      "_________________________________________________________________\n",
      "lstm_4 (LSTM)                (None, 120)               115680    \n",
      "_________________________________________________________________\n",
      "dropout_4 (Dropout)          (None, 120)               0         \n",
      "_________________________________________________________________\n",
      "dense (Dense)                (None, 1)                 121       \n",
      "=================================================================\n",
      "Total params: 521,401\n",
      "Trainable params: 521,401\n",
      "Non-trainable params: 0\n",
      "_________________________________________________________________\n"
     ]
    }
   ],
   "source": [
    "model.summary()"
   ]
  },
  {
   "cell_type": "code",
   "execution_count": 17,
   "id": "db07f466",
   "metadata": {},
   "outputs": [
    {
     "name": "stdout",
     "output_type": "stream",
     "text": [
      "0.23302689437191426\n",
      "0.10228132081468844\n"
     ]
    }
   ],
   "source": [
    "from sklearn.metrics import r2_score\n",
    "train_Y = trainY.T\n",
    "test_Y = testY.T\n",
    "print(r2_score(train_Y, trainPredict))\n",
    "print(r2_score(test_Y, testPredict))"
   ]
  },
  {
   "cell_type": "code",
   "execution_count": 18,
   "id": "accf9113",
   "metadata": {},
   "outputs": [
    {
     "name": "stdout",
     "output_type": "stream",
     "text": [
      "(30538, 1)\n"
     ]
    }
   ],
   "source": [
    "print(trainPredict.shape)"
   ]
  },
  {
   "cell_type": "code",
   "execution_count": 19,
   "id": "877177f1",
   "metadata": {},
   "outputs": [],
   "source": [
    "#model.save('U08D00_AIerror_ONU16_test0124_4layer.h5', include_optimizer=False)"
   ]
  },
  {
   "cell_type": "code",
   "execution_count": null,
   "id": "e6a6a202",
   "metadata": {},
   "outputs": [],
   "source": []
  }
 ],
 "metadata": {
  "kernelspec": {
   "display_name": "Python 3",
   "language": "python",
   "name": "python3"
  },
  "language_info": {
   "codemirror_mode": {
    "name": "ipython",
    "version": 3
   },
   "file_extension": ".py",
   "mimetype": "text/x-python",
   "name": "python",
   "nbconvert_exporter": "python",
   "pygments_lexer": "ipython3",
   "version": "3.7.7"
  }
 },
 "nbformat": 4,
 "nbformat_minor": 5
}
