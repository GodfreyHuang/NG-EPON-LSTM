{
 "cells": [
  {
   "cell_type": "code",
   "execution_count": 8,
   "id": "7fb893d1",
   "metadata": {},
   "outputs": [],
   "source": [
    "import numpy as np\n",
    "import matplotlib.pyplot as plt\n",
    "import pandas as pd\n",
    "\n",
    "import time\n",
    "\n",
    "start = time.time()"
   ]
  },
  {
   "cell_type": "code",
   "execution_count": 9,
   "id": "b629bdd4",
   "metadata": {},
   "outputs": [
    {
     "name": "stdout",
     "output_type": "stream",
     "text": [
      "1000\n",
      "[906.0, 472.0, 906.0, 472.0, 906.0, 472.0, 906.0, 472.0, 906.0, 472.0]\n"
     ]
    }
   ],
   "source": [
    "text_file = open(\"AIerror_ONU16_15S_Ai.txt\",\"r\")#ONU_16_GrantDownLoadSizePerCycle, ONU[27]_GrantDown.txt\n",
    "lines = text_file.readlines()\n",
    "i = 0\n",
    "\n",
    "ONU16_15S_Ai = []\n",
    "\n",
    "for line in lines:\n",
    "    if i < 1000:\n",
    "        n = float(line)\n",
    "        if n >= 0:\n",
    "            ONU16_15S_Ai.append(float(line))\n",
    "    i = i + 1\n",
    "    \n",
    "print(len(ONU16_15S_Ai))\n",
    "print(ONU16_15S_Ai[0:10])"
   ]
  },
  {
   "cell_type": "code",
   "execution_count": 10,
   "id": "2d362348",
   "metadata": {},
   "outputs": [
    {
     "name": "stdout",
     "output_type": "stream",
     "text": [
      "1000\n",
      "[472.0, 906.0, 472.0, 906.0, 472.0, 906.0, 472.0, 906.0, 472.0, 906.0]\n"
     ]
    }
   ],
   "source": [
    "text_file = open(\"AIerror_ONU16_15S_Gi_mk2.txt\",\"r\")#ONU_16_GrantDownLoadSizePerCycle, ONU[27]_GrantDown.txt\n",
    "lines = text_file.readlines()\n",
    "i = 0\n",
    "\n",
    "ONU16_15S_Ai = []\n",
    "\n",
    "for line in lines:\n",
    "    if i < 1000:\n",
    "        n = float(line)\n",
    "        if n >= 0:\n",
    "            ONU16_15S_Ai.append(float(line))\n",
    "    i = i + 1\n",
    "    \n",
    "print(len(ONU16_15S_Ai))\n",
    "print(ONU16_15S_Ai[0:10])"
   ]
  },
  {
   "cell_type": "code",
   "execution_count": null,
   "id": "0fcba4a4",
   "metadata": {},
   "outputs": [],
   "source": []
  }
 ],
 "metadata": {
  "kernelspec": {
   "display_name": "Python 3",
   "language": "python",
   "name": "python3"
  },
  "language_info": {
   "codemirror_mode": {
    "name": "ipython",
    "version": 3
   },
   "file_extension": ".py",
   "mimetype": "text/x-python",
   "name": "python",
   "nbconvert_exporter": "python",
   "pygments_lexer": "ipython3",
   "version": "3.7.7"
  }
 },
 "nbformat": 4,
 "nbformat_minor": 5
}
