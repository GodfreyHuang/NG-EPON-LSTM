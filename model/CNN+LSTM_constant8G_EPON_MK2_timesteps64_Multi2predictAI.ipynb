{
 "cells": [
  {
   "cell_type": "code",
   "execution_count": 1,
   "id": "80b9558a",
   "metadata": {},
   "outputs": [
    {
     "name": "stderr",
     "output_type": "stream",
     "text": [
      "C:\\Users\\joker\\anaconda3\\envs\\tensorflow\\lib\\site-packages\\ipykernel_launcher.py:4: FutureWarning: The pandas.datetime class is deprecated and will be removed from pandas in a future version. Import from datetime module instead.\n",
      "  after removing the cwd from sys.path.\n"
     ]
    }
   ],
   "source": [
    "import numpy as np\n",
    "import matplotlib.pyplot as plt\n",
    "import pandas as pd\n",
    "from pandas import datetime\n",
    "import math\n",
    "import itertools\n",
    "from sklearn import preprocessing\n",
    "import datetime\n",
    "from sklearn.metrics import mean_squared_error\n",
    "from math import sqrt"
   ]
  },
  {
   "cell_type": "code",
   "execution_count": 2,
   "id": "968b40c5",
   "metadata": {},
   "outputs": [
    {
     "data": {
      "text/html": [
       "<div>\n",
       "<style scoped>\n",
       "    .dataframe tbody tr th:only-of-type {\n",
       "        vertical-align: middle;\n",
       "    }\n",
       "\n",
       "    .dataframe tbody tr th {\n",
       "        vertical-align: top;\n",
       "    }\n",
       "\n",
       "    .dataframe thead th {\n",
       "        text-align: right;\n",
       "    }\n",
       "</style>\n",
       "<table border=\"1\" class=\"dataframe\">\n",
       "  <thead>\n",
       "    <tr style=\"text-align: right;\">\n",
       "      <th></th>\n",
       "      <th>Gi</th>\n",
       "    </tr>\n",
       "  </thead>\n",
       "  <tbody>\n",
       "    <tr>\n",
       "      <th>0</th>\n",
       "      <td>9375</td>\n",
       "    </tr>\n",
       "    <tr>\n",
       "      <th>1</th>\n",
       "      <td>9375</td>\n",
       "    </tr>\n",
       "    <tr>\n",
       "      <th>2</th>\n",
       "      <td>8750</td>\n",
       "    </tr>\n",
       "    <tr>\n",
       "      <th>3</th>\n",
       "      <td>9375</td>\n",
       "    </tr>\n",
       "    <tr>\n",
       "      <th>4</th>\n",
       "      <td>9375</td>\n",
       "    </tr>\n",
       "  </tbody>\n",
       "</table>\n",
       "</div>"
      ],
      "text/plain": [
       "     Gi\n",
       "0  9375\n",
       "1  9375\n",
       "2  8750\n",
       "3  9375\n",
       "4  9375"
      ]
     },
     "execution_count": 2,
     "metadata": {},
     "output_type": "execute_result"
    }
   ],
   "source": [
    "df1 = pd.read_csv('./SelfData_thesis/0708_constant8GData_3to7_ONU16.csv', usecols=[1], engine='python')\n",
    "df1.head()"
   ]
  },
  {
   "cell_type": "code",
   "execution_count": 3,
   "id": "de8c477d",
   "metadata": {},
   "outputs": [
    {
     "data": {
      "text/html": [
       "<div>\n",
       "<style scoped>\n",
       "    .dataframe tbody tr th:only-of-type {\n",
       "        vertical-align: middle;\n",
       "    }\n",
       "\n",
       "    .dataframe tbody tr th {\n",
       "        vertical-align: top;\n",
       "    }\n",
       "\n",
       "    .dataframe thead th {\n",
       "        text-align: right;\n",
       "    }\n",
       "</style>\n",
       "<table border=\"1\" class=\"dataframe\">\n",
       "  <thead>\n",
       "    <tr style=\"text-align: right;\">\n",
       "      <th></th>\n",
       "      <th>Ai</th>\n",
       "    </tr>\n",
       "  </thead>\n",
       "  <tbody>\n",
       "    <tr>\n",
       "      <th>0</th>\n",
       "      <td>9375</td>\n",
       "    </tr>\n",
       "    <tr>\n",
       "      <th>1</th>\n",
       "      <td>9375</td>\n",
       "    </tr>\n",
       "    <tr>\n",
       "      <th>2</th>\n",
       "      <td>8750</td>\n",
       "    </tr>\n",
       "    <tr>\n",
       "      <th>3</th>\n",
       "      <td>9375</td>\n",
       "    </tr>\n",
       "    <tr>\n",
       "      <th>4</th>\n",
       "      <td>9375</td>\n",
       "    </tr>\n",
       "  </tbody>\n",
       "</table>\n",
       "</div>"
      ],
      "text/plain": [
       "     Ai\n",
       "0  9375\n",
       "1  9375\n",
       "2  8750\n",
       "3  9375\n",
       "4  9375"
      ]
     },
     "execution_count": 3,
     "metadata": {},
     "output_type": "execute_result"
    }
   ],
   "source": [
    "df2 = pd.read_csv('./SelfData_thesis/0708_constant8GData_3to7_ONU16.csv', usecols=[2], engine='python')\n",
    "df2.head()"
   ]
  },
  {
   "cell_type": "code",
   "execution_count": 4,
   "id": "4dd968a1",
   "metadata": {},
   "outputs": [],
   "source": [
    "#df3 = pd.read_csv('./SelfData_thesis/0628_self8GData_3to7_ONU16_limitData.csv', usecols=[2], engine='python')\n",
    "#df3.head()"
   ]
  },
  {
   "cell_type": "code",
   "execution_count": 5,
   "id": "b64ce878",
   "metadata": {},
   "outputs": [],
   "source": [
    "df1 = df1.values\n",
    "df1 = df1.astype('float32')\n",
    "\n",
    "df2 = df2.values\n",
    "df2 = df2.astype('float32')\n",
    "\n",
    "#df3 = df3.values\n",
    "#df3 = df3.astype('float32')"
   ]
  },
  {
   "cell_type": "code",
   "execution_count": 6,
   "id": "44427b8b",
   "metadata": {},
   "outputs": [
    {
     "name": "stdout",
     "output_type": "stream",
     "text": [
      "9375.0\n",
      "9375.0\n"
     ]
    }
   ],
   "source": [
    "print(np.max(df1))\n",
    "print(np.max(df2))\n",
    "#print(np.max(df3))\n",
    "\n",
    "df1Max = np.max(df1)\n",
    "df2Max = np.max(df2)\n",
    "#df3Max = np.max(df3)\n",
    "\n",
    "df1 = df1 / np.max(df1) #手動正規化\n",
    "df2 = df2 / np.max(df2) #手動正規化\n",
    "#df3 = df3 / np.max(df3) #手動正規化"
   ]
  },
  {
   "cell_type": "code",
   "execution_count": 7,
   "id": "3ee48337",
   "metadata": {
    "scrolled": true
   },
   "outputs": [
    {
     "name": "stdout",
     "output_type": "stream",
     "text": [
      "13600\n",
      "13600\n"
     ]
    }
   ],
   "source": [
    "print(len(df1))\n",
    "print(len(df2))\n",
    "#print(len(df3))"
   ]
  },
  {
   "cell_type": "code",
   "execution_count": 8,
   "id": "14d4451f",
   "metadata": {},
   "outputs": [],
   "source": [
    "datasetR = df1\n",
    "datasetA = df2\n",
    "#datasetT = df3"
   ]
  },
  {
   "cell_type": "code",
   "execution_count": 9,
   "id": "e09768b8",
   "metadata": {},
   "outputs": [
    {
     "name": "stdout",
     "output_type": "stream",
     "text": [
      "10880 2720\n"
     ]
    }
   ],
   "source": [
    "# split into train and test sets\n",
    "train_sizeR = int(len(datasetR) * 0.8) \n",
    "test_sizeR = len(datasetR) - train_sizeR\n",
    "trainR, testR = datasetR[0:train_sizeR], datasetR[train_sizeR:len(datasetR)]\n",
    "\n",
    "#scaler = MinMaxScaler(feature_range=(0, 1))\n",
    "#trainR = scaler.fit_transform(trainR)\n",
    "#testR = scaler.fit_transform(testR)\n",
    "print(len(trainR), len(testR))"
   ]
  },
  {
   "cell_type": "code",
   "execution_count": 10,
   "id": "179a12b0",
   "metadata": {},
   "outputs": [
    {
     "name": "stdout",
     "output_type": "stream",
     "text": [
      "10880 2720\n"
     ]
    }
   ],
   "source": [
    "# split into train and test sets\n",
    "train_sizeA = int(len(datasetA) * 0.8) \n",
    "test_sizeA = len(datasetA) - train_sizeA\n",
    "trainA, testA = datasetA[0:train_sizeA], datasetA[train_sizeA:len(datasetA)]\n",
    "\n",
    "#scaler = MinMaxScaler(feature_range=(0, 1))\n",
    "#trainR = scaler.fit_transform(trainR)\n",
    "#testR = scaler.fit_transform(testR)\n",
    "print(len(trainA), len(testA))"
   ]
  },
  {
   "cell_type": "code",
   "execution_count": 11,
   "id": "3cac9f76",
   "metadata": {
    "scrolled": true
   },
   "outputs": [],
   "source": [
    "# split into train and test sets\n",
    "#train_sizeT = int(len(datasetT) * 0.8) \n",
    "#test_sizeT = len(datasetT) - train_sizeT\n",
    "#trainT, testT = datasetT[0:train_sizeT], datasetT[train_sizeT:len(datasetT)]\n",
    "\n",
    "#scaler = MinMaxScaler(feature_range=(0, 1))\n",
    "#trainR = scaler.fit_transform(trainR)\n",
    "#testR = scaler.fit_transform(testR)\n",
    "#print(len(trainT), len(testT))"
   ]
  },
  {
   "cell_type": "code",
   "execution_count": 12,
   "id": "ccb2eac7",
   "metadata": {},
   "outputs": [],
   "source": [
    "# convert an array of values into a dataset matrix\n",
    "def create_dataset(dataset, look_back=1):\n",
    "    dataX, dataY = [], []\n",
    "    for i in range(len(dataset) - look_back - 1):\n",
    "        a = dataset[i:(i + look_back)]\n",
    "        dataX.append(a)\n",
    "        dataY.append(dataset[i + look_back])\n",
    "    return np.array(dataX), np.array(dataY)"
   ]
  },
  {
   "cell_type": "code",
   "execution_count": 13,
   "id": "84b2bdca",
   "metadata": {},
   "outputs": [],
   "source": [
    "# reshape into X=t and Y=t+1\n",
    "look_back = 64 #16\n",
    "trainX_R, trainY_R = create_dataset(trainR, look_back)\n",
    "testX_R, testY_R = create_dataset(testR, look_back)\n",
    "\n",
    "trainX_A, trainY_A = create_dataset(trainA, look_back)\n",
    "testX_A, testY_A = create_dataset(testA, look_back)\n",
    "\n",
    "#trainX_T, trainY_T = create_dataset(trainT, look_back)\n",
    "#testX_T, testY_T = create_dataset(testT, look_back)"
   ]
  },
  {
   "cell_type": "code",
   "execution_count": 14,
   "id": "7a663ec8",
   "metadata": {
    "scrolled": true
   },
   "outputs": [
    {
     "name": "stdout",
     "output_type": "stream",
     "text": [
      "(10815, 64, 1)\n",
      "(10815, 1)\n",
      "(2655, 64, 1)\n",
      "(2655, 1)\n",
      "(10815, 64, 1)\n",
      "(10815, 1)\n",
      "(2655, 64, 1)\n",
      "(2655, 1)\n"
     ]
    }
   ],
   "source": [
    "# reshape input to be [samples, time steps, features]\n",
    "trainX_R = np.reshape(trainX_R, (trainX_R.shape[0], look_back, 1))\n",
    "testX_R = np.reshape(testX_R, (testX_R.shape[0], look_back, 1))\n",
    "\n",
    "trainX_A = np.reshape(trainX_A, (trainX_A.shape[0], look_back, 1))\n",
    "testX_A = np.reshape(testX_A, (testX_A.shape[0], look_back, 1))\n",
    "\n",
    "#trainX_T = np.reshape(trainX_T, (trainX_T.shape[0], look_back, 1))\n",
    "#testX_T = np.reshape(testX_T, (testX_T.shape[0], look_back, 1))\n",
    "#print(trainX.shape[1])\n",
    "\n",
    "print(trainX_R.shape)\n",
    "print(trainY_R.shape)\n",
    "print(testX_R.shape)\n",
    "print(testY_R.shape)\n",
    "\n",
    "print(trainX_A.shape)\n",
    "print(trainY_A.shape)\n",
    "print(testX_A.shape)\n",
    "print(testY_A.shape)\n",
    "\n",
    "#print(trainX_T.shape)\n",
    "#print(trainY_T.shape)\n",
    "#print(testX_T.shape)\n",
    "#print(testY_T.shape)"
   ]
  },
  {
   "cell_type": "code",
   "execution_count": 15,
   "id": "f6c37bb9",
   "metadata": {},
   "outputs": [],
   "source": [
    "from __future__ import print_function\n",
    "import math\n",
    "#importing keras modules\n",
    "import tensorflow as tf\n",
    "from tensorflow.keras.models import Sequential, Model\n",
    "from tensorflow.keras.layers import Dense, Activation ,Dropout , Flatten , Conv1D , MaxPooling1D\n",
    "from tensorflow.keras.layers import Input, Reshape, concatenate, LSTM\n",
    "from tensorflow.keras import losses\n",
    "from tensorflow.keras import optimizers"
   ]
  },
  {
   "cell_type": "code",
   "execution_count": 16,
   "id": "95b477d4",
   "metadata": {},
   "outputs": [],
   "source": [
    "inputs_R = Input(shape=(look_back,))\n",
    "inputs_A = Input(shape=(look_back,))\n",
    "#inputs_T = Input(shape=(look_back,))\n",
    "\n",
    "inputs_R_test = Reshape((inputs_R.shape[1], 1))(inputs_R)\n",
    "inputs_A_test = Reshape((inputs_A.shape[1], 1))(inputs_A)\n",
    "#inputs_T_test = Reshape((inputs_R.shape[1], 1))(inputs_T)"
   ]
  },
  {
   "cell_type": "code",
   "execution_count": 17,
   "id": "a9ce8962",
   "metadata": {},
   "outputs": [],
   "source": [
    "head_list = []\n",
    "\n",
    "Ri_1 = Conv1D(filters=32,kernel_size=1,padding='same',activation='relu',kernel_initializer=\"glorot_uniform\")(inputs_R_test)\n",
    "Ri_2 = MaxPooling1D(pool_size=2,padding='valid')(Ri_1)\n",
    "Ri_3 = Conv1D(filters=32,kernel_size=1,padding='same',activation='relu',kernel_initializer=\"glorot_uniform\")(Ri_2)\n",
    "Ri_4 = MaxPooling1D(pool_size=2,padding='valid')(Ri_3)\n",
    "\n",
    "Ai_1 = Conv1D(filters=32,kernel_size=1,padding='same',activation='relu',kernel_initializer=\"glorot_uniform\")(inputs_A_test)\n",
    "Ai_2 = MaxPooling1D(pool_size=2,padding='valid')(Ai_1)\n",
    "Ai_3 = Conv1D(filters=32,kernel_size=1,padding='same',activation='relu',kernel_initializer=\"glorot_uniform\")(Ai_2)\n",
    "Ai_4 = MaxPooling1D(pool_size=2,padding='valid')(Ai_3)\n",
    "\n",
    "#Ti_1 = Conv1D(filters=32,kernel_size=1,padding='same',activation='relu',kernel_initializer=\"glorot_uniform\")(inputs_T_test)\n",
    "#Ti_2 = MaxPooling1D(pool_size=2,padding='valid')(Ti_1)\n",
    "#Ti_3 = Conv1D(filters=32,kernel_size=1,padding='same',activation='relu',kernel_initializer=\"glorot_uniform\")(Ti_2)\n",
    "#Ti_4 = MaxPooling1D(pool_size=2,padding='valid')(Ti_3)\n",
    "\n",
    "Ri_5 = Flatten()(Ri_4)\n",
    "head_list.append(Ri_5)\n",
    "Ai_5 = Flatten()(Ai_4)\n",
    "head_list.append(Ai_5)\n",
    "#Ti_5 = Flatten()(Ti_4)\n",
    "\n",
    "out = concatenate(head_list, axis = 1)\n",
    "reshape = Reshape((head_list[0].shape[1], 2))(out)\n",
    "#out = concatenate([Ri_5, Ai_5, Ti_5], axis = -1)\n",
    "tgt6 = LSTM(32,return_sequences=True)(reshape)\n",
    "tgt7 = LSTM(32,return_sequences=False)(tgt6)\n",
    "\n",
    "predictions = Dense(1, activation=\"relu\", kernel_initializer=\"uniform\")(tgt7)\n",
    "\n",
    "model = Model([inputs_R, inputs_A], outputs = predictions)\n",
    "model.compile(loss='mae',optimizer='Adam',metrics=['mse','mae'])"
   ]
  },
  {
   "cell_type": "code",
   "execution_count": 18,
   "id": "5a48793c",
   "metadata": {
    "scrolled": false
   },
   "outputs": [
    {
     "name": "stdout",
     "output_type": "stream",
     "text": [
      "Model: \"functional_1\"\n",
      "__________________________________________________________________________________________________\n",
      "Layer (type)                    Output Shape         Param #     Connected to                     \n",
      "==================================================================================================\n",
      "input_1 (InputLayer)            [(None, 64)]         0                                            \n",
      "__________________________________________________________________________________________________\n",
      "input_2 (InputLayer)            [(None, 64)]         0                                            \n",
      "__________________________________________________________________________________________________\n",
      "reshape (Reshape)               (None, 64, 1)        0           input_1[0][0]                    \n",
      "__________________________________________________________________________________________________\n",
      "reshape_1 (Reshape)             (None, 64, 1)        0           input_2[0][0]                    \n",
      "__________________________________________________________________________________________________\n",
      "conv1d (Conv1D)                 (None, 64, 32)       64          reshape[0][0]                    \n",
      "__________________________________________________________________________________________________\n",
      "conv1d_2 (Conv1D)               (None, 64, 32)       64          reshape_1[0][0]                  \n",
      "__________________________________________________________________________________________________\n",
      "max_pooling1d (MaxPooling1D)    (None, 32, 32)       0           conv1d[0][0]                     \n",
      "__________________________________________________________________________________________________\n",
      "max_pooling1d_2 (MaxPooling1D)  (None, 32, 32)       0           conv1d_2[0][0]                   \n",
      "__________________________________________________________________________________________________\n",
      "conv1d_1 (Conv1D)               (None, 32, 32)       1056        max_pooling1d[0][0]              \n",
      "__________________________________________________________________________________________________\n",
      "conv1d_3 (Conv1D)               (None, 32, 32)       1056        max_pooling1d_2[0][0]            \n",
      "__________________________________________________________________________________________________\n",
      "max_pooling1d_1 (MaxPooling1D)  (None, 16, 32)       0           conv1d_1[0][0]                   \n",
      "__________________________________________________________________________________________________\n",
      "max_pooling1d_3 (MaxPooling1D)  (None, 16, 32)       0           conv1d_3[0][0]                   \n",
      "__________________________________________________________________________________________________\n",
      "flatten (Flatten)               (None, 512)          0           max_pooling1d_1[0][0]            \n",
      "__________________________________________________________________________________________________\n",
      "flatten_1 (Flatten)             (None, 512)          0           max_pooling1d_3[0][0]            \n",
      "__________________________________________________________________________________________________\n",
      "concatenate (Concatenate)       (None, 1024)         0           flatten[0][0]                    \n",
      "                                                                 flatten_1[0][0]                  \n",
      "__________________________________________________________________________________________________\n",
      "reshape_2 (Reshape)             (None, 512, 2)       0           concatenate[0][0]                \n",
      "__________________________________________________________________________________________________\n",
      "lstm (LSTM)                     (None, 512, 32)      4480        reshape_2[0][0]                  \n",
      "__________________________________________________________________________________________________\n",
      "lstm_1 (LSTM)                   (None, 32)           8320        lstm[0][0]                       \n",
      "__________________________________________________________________________________________________\n",
      "dense (Dense)                   (None, 1)            33          lstm_1[0][0]                     \n",
      "==================================================================================================\n",
      "Total params: 15,073\n",
      "Trainable params: 15,073\n",
      "Non-trainable params: 0\n",
      "__________________________________________________________________________________________________\n",
      "None\n"
     ]
    }
   ],
   "source": [
    "print(model.summary())"
   ]
  },
  {
   "cell_type": "code",
   "execution_count": 19,
   "id": "460e2e45",
   "metadata": {
    "scrolled": true
   },
   "outputs": [
    {
     "name": "stdout",
     "output_type": "stream",
     "text": [
      "Epoch 1/30\n",
      "136/136 - 5s - loss: 0.1845 - mse: 0.1324 - mae: 0.1845 - val_loss: 0.0217 - val_mse: 0.0014 - val_mae: 0.0217\n",
      "Epoch 2/30\n",
      "136/136 - 4s - loss: 0.0234 - mse: 0.0012 - mae: 0.0234 - val_loss: 0.0197 - val_mse: 0.0013 - val_mae: 0.0197\n",
      "Epoch 3/30\n",
      "136/136 - 4s - loss: 0.0228 - mse: 0.0012 - mae: 0.0228 - val_loss: 0.0197 - val_mse: 0.0013 - val_mae: 0.0197\n",
      "Epoch 4/30\n",
      "136/136 - 4s - loss: 0.0214 - mse: 0.0013 - mae: 0.0214 - val_loss: 0.0224 - val_mse: 0.0011 - val_mae: 0.0224\n",
      "Epoch 5/30\n",
      "136/136 - 4s - loss: 0.0222 - mse: 0.0012 - mae: 0.0222 - val_loss: 0.0267 - val_mse: 9.2910e-04 - val_mae: 0.0267\n",
      "Epoch 6/30\n",
      "136/136 - 4s - loss: 0.0224 - mse: 0.0012 - mae: 0.0224 - val_loss: 0.0212 - val_mse: 0.0012 - val_mae: 0.0212\n",
      "Epoch 7/30\n",
      "136/136 - 4s - loss: 0.0228 - mse: 0.0012 - mae: 0.0228 - val_loss: 0.0231 - val_mse: 0.0010 - val_mae: 0.0231\n",
      "Epoch 8/30\n",
      "136/136 - 4s - loss: 0.0228 - mse: 0.0012 - mae: 0.0228 - val_loss: 0.0204 - val_mse: 0.0012 - val_mae: 0.0204\n",
      "Epoch 9/30\n",
      "136/136 - 4s - loss: 0.0227 - mse: 0.0012 - mae: 0.0227 - val_loss: 0.0219 - val_mse: 0.0011 - val_mae: 0.0219\n",
      "Epoch 10/30\n",
      "136/136 - 4s - loss: 0.0223 - mse: 0.0012 - mae: 0.0223 - val_loss: 0.0210 - val_mse: 0.0014 - val_mae: 0.0210\n",
      "Epoch 11/30\n",
      "136/136 - 4s - loss: 0.0223 - mse: 0.0012 - mae: 0.0223 - val_loss: 0.0272 - val_mse: 9.2497e-04 - val_mae: 0.0272\n",
      "Epoch 12/30\n",
      "136/136 - 4s - loss: 0.0221 - mse: 0.0012 - mae: 0.0221 - val_loss: 0.0237 - val_mse: 0.0010 - val_mae: 0.0237\n",
      "Epoch 13/30\n",
      "136/136 - 4s - loss: 0.0238 - mse: 0.0012 - mae: 0.0238 - val_loss: 0.0275 - val_mse: 9.2357e-04 - val_mae: 0.0275\n",
      "Epoch 14/30\n",
      "136/136 - 4s - loss: 0.0228 - mse: 0.0012 - mae: 0.0228 - val_loss: 0.0217 - val_mse: 0.0011 - val_mae: 0.0217\n",
      "Epoch 15/30\n",
      "136/136 - 4s - loss: 0.0218 - mse: 0.0012 - mae: 0.0218 - val_loss: 0.0218 - val_mse: 0.0011 - val_mae: 0.0218\n",
      "Epoch 16/30\n",
      "136/136 - 4s - loss: 0.0223 - mse: 0.0012 - mae: 0.0223 - val_loss: 0.0209 - val_mse: 0.0014 - val_mae: 0.0209\n",
      "Epoch 17/30\n",
      "136/136 - 4s - loss: 0.0220 - mse: 0.0012 - mae: 0.0220 - val_loss: 0.0299 - val_mse: 9.5150e-04 - val_mae: 0.0299\n",
      "Epoch 18/30\n",
      "136/136 - 4s - loss: 0.0230 - mse: 0.0012 - mae: 0.0230 - val_loss: 0.0232 - val_mse: 0.0015 - val_mae: 0.0232\n",
      "Epoch 19/30\n",
      "136/136 - 4s - loss: 0.0225 - mse: 0.0012 - mae: 0.0225 - val_loss: 0.0222 - val_mse: 0.0011 - val_mae: 0.0222\n",
      "Epoch 20/30\n",
      "136/136 - 4s - loss: 0.0225 - mse: 0.0012 - mae: 0.0225 - val_loss: 0.0201 - val_mse: 0.0013 - val_mae: 0.0201\n",
      "Epoch 21/30\n",
      "136/136 - 4s - loss: 0.0220 - mse: 0.0012 - mae: 0.0220 - val_loss: 0.0230 - val_mse: 0.0011 - val_mae: 0.0230\n",
      "Epoch 22/30\n",
      "136/136 - 4s - loss: 0.0214 - mse: 0.0012 - mae: 0.0214 - val_loss: 0.0212 - val_mse: 0.0012 - val_mae: 0.0212\n",
      "Epoch 23/30\n",
      "136/136 - 4s - loss: 0.0214 - mse: 0.0012 - mae: 0.0214 - val_loss: 0.0253 - val_mse: 9.5671e-04 - val_mae: 0.0253\n",
      "Epoch 24/30\n",
      "136/136 - 4s - loss: 0.0227 - mse: 0.0012 - mae: 0.0227 - val_loss: 0.0201 - val_mse: 0.0013 - val_mae: 0.0201\n",
      "Epoch 25/30\n",
      "136/136 - 4s - loss: 0.0212 - mse: 0.0012 - mae: 0.0212 - val_loss: 0.0236 - val_mse: 0.0010 - val_mae: 0.0236\n",
      "Epoch 26/30\n",
      "136/136 - 4s - loss: 0.0215 - mse: 0.0012 - mae: 0.0215 - val_loss: 0.0215 - val_mse: 0.0011 - val_mae: 0.0215\n",
      "Epoch 27/30\n",
      "136/136 - 4s - loss: 0.0219 - mse: 0.0012 - mae: 0.0219 - val_loss: 0.0237 - val_mse: 0.0010 - val_mae: 0.0237\n",
      "Epoch 28/30\n",
      "136/136 - 4s - loss: 0.0219 - mse: 0.0012 - mae: 0.0219 - val_loss: 0.0212 - val_mse: 0.0012 - val_mae: 0.0212\n",
      "Epoch 29/30\n",
      "136/136 - 4s - loss: 0.0220 - mse: 0.0012 - mae: 0.0220 - val_loss: 0.0220 - val_mse: 0.0011 - val_mae: 0.0220\n",
      "Epoch 30/30\n",
      "136/136 - 4s - loss: 0.0219 - mse: 0.0012 - mae: 0.0219 - val_loss: 0.0235 - val_mse: 0.0010 - val_mae: 0.0235\n",
      "129.87406850000002\n"
     ]
    }
   ],
   "source": [
    "from timeit import default_timer as timer\n",
    "start = timer()\n",
    "history = model.fit([trainX_R, trainX_A],\n",
    "                    trainY_A,\n",
    "                    batch_size=64,\n",
    "                    epochs=30,\n",
    "                    validation_split=0.2,\n",
    "                    verbose=2)\n",
    "end = timer()\n",
    "print(end - start)"
   ]
  },
  {
   "cell_type": "code",
   "execution_count": 20,
   "id": "ecd45f1b",
   "metadata": {},
   "outputs": [
    {
     "data": {
      "text/plain": [
       "dict_keys(['loss', 'mse', 'mae', 'val_loss', 'val_mse', 'val_mae'])"
      ]
     },
     "execution_count": 20,
     "metadata": {},
     "output_type": "execute_result"
    }
   ],
   "source": [
    "history_dict = history.history\n",
    "history_dict.keys()"
   ]
  },
  {
   "cell_type": "code",
   "execution_count": 21,
   "id": "36772210",
   "metadata": {},
   "outputs": [
    {
     "name": "stdout",
     "output_type": "stream",
     "text": [
      "timesteps :  64\n"
     ]
    },
    {
     "data": {
      "text/plain": [
       "Text(0.5, 1.0, 'mae')"
      ]
     },
     "execution_count": 21,
     "metadata": {},
     "output_type": "execute_result"
    },
    {
     "data": {
      "image/png": "[encoded data removed]",
      "text/plain": [
       "<Figure size 432x288 with 1 Axes>"
      ]
     },
     "metadata": {
      "needs_background": "light"
     },
     "output_type": "display_data"
    }
   ],
   "source": [
    "print('timesteps : ', look_back)\n",
    "plt.plot(history.history['mae'])\n",
    "plt.title('mae')"
   ]
  },
  {
   "cell_type": "code",
   "execution_count": 22,
   "id": "e143f3ac",
   "metadata": {},
   "outputs": [
    {
     "name": "stdout",
     "output_type": "stream",
     "text": [
      "timesteps :  64\n"
     ]
    },
    {
     "data": {
      "text/plain": [
       "Text(0.5, 1.0, 'mse')"
      ]
     },
     "execution_count": 22,
     "metadata": {},
     "output_type": "execute_result"
    },
    {
     "data": {
      "image/png": "[encoded data removed]",
      "text/plain": [
       "<Figure size 432x288 with 1 Axes>"
      ]
     },
     "metadata": {
      "needs_background": "light"
     },
     "output_type": "display_data"
    }
   ],
   "source": [
    "print('timesteps : ', look_back)\n",
    "plt.plot(history.history['mse'])\n",
    "plt.title('mse')"
   ]
  },
  {
   "cell_type": "code",
   "execution_count": 23,
   "id": "4cb2d260",
   "metadata": {},
   "outputs": [
    {
     "data": {
      "text/plain": [
       "[<matplotlib.lines.Line2D at 0x178c53c7a88>]"
      ]
     },
     "execution_count": 23,
     "metadata": {},
     "output_type": "execute_result"
    },
    {
     "data": {
      "image/png": "[encoded data removed]",
      "text/plain": [
       "<Figure size 432x288 with 1 Axes>"
      ]
     },
     "metadata": {
      "needs_background": "light"
     },
     "output_type": "display_data"
    }
   ],
   "source": [
    "plt.title('loss')\n",
    "plt.plot(history.history['loss'])"
   ]
  },
  {
   "cell_type": "code",
   "execution_count": 24,
   "id": "6f296f04",
   "metadata": {},
   "outputs": [
    {
     "data": {
      "image/png": "[encoded data removed]",
      "text/plain": [
       "<Figure size 1080x504 with 1 Axes>"
      ]
     },
     "metadata": {
      "needs_background": "light"
     },
     "output_type": "display_data"
    }
   ],
   "source": [
    "# 画出训练集和验证集的损失曲线\n",
    "\n",
    "import matplotlib.pyplot as plt\n",
    "\n",
    "loss_values = history_dict['loss']\n",
    "val_loss_values = history_dict['val_loss']\n",
    "loss_values50 = loss_values[0:150]\n",
    "val_loss_values50 = val_loss_values[0:150]\n",
    "epochs = range(1, len(loss_values50) + 1)\n",
    "plt.plot(epochs, loss_values50, 'b',color = 'blue', label='Training loss')\n",
    "plt.plot(epochs, val_loss_values50, 'b',color='orange', label='Validation loss')\n",
    "plt.rc('font', size = 18)\n",
    "plt.title('Training and validation loss')\n",
    "plt.xlabel('Epochs')\n",
    "plt.ylabel('Loss')\n",
    "plt.legend()\n",
    "plt.xticks(epochs)\n",
    "fig = plt.gcf()\n",
    "fig.set_size_inches(15,7)\n",
    "#fig.savefig('img/tcstest&validationlosscnn.png', dpi=300)\n",
    "plt.show()"
   ]
  },
  {
   "cell_type": "code",
   "execution_count": 25,
   "id": "1936275c",
   "metadata": {},
   "outputs": [
    {
     "data": {
      "image/png": "[encoded data removed]",
      "text/plain": [
       "<Figure size 1080x504 with 1 Axes>"
      ]
     },
     "metadata": {
      "needs_background": "light"
     },
     "output_type": "display_data"
    }
   ],
   "source": [
    "# 画出训练集和验证集的误差图像\n",
    "\n",
    "#mae = history_dict['mean_absolute_error']\n",
    "#vmae = history_dict['val_mean_absolute_error']\n",
    "mae = history.history['mae']\n",
    "vmae = history.history['val_mae']\n",
    "epochs = range(1, len(mae) + 1)\n",
    "plt.plot(epochs, mae, 'b',color = 'blue', label='Training error')\n",
    "plt.plot(epochs, vmae, 'b',color='orange', label='Validation error')\n",
    "plt.title('Training and validation error')\n",
    "plt.xlabel('Epochs')\n",
    "plt.ylabel('Error')\n",
    "plt.legend()\n",
    "plt.xticks(epochs)\n",
    "fig = plt.gcf()\n",
    "fig.set_size_inches(15,7)\n",
    "#fig.savefig('img/tcstest&validationerrorcnn.png', dpi=300)\n",
    "plt.show()"
   ]
  },
  {
   "cell_type": "code",
   "execution_count": 26,
   "id": "4104731a",
   "metadata": {},
   "outputs": [],
   "source": [
    "model.metrics_names\n",
    "\n",
    "trainScore = model.evaluate([trainX_R, trainX_A], trainY_A, verbose=0)\n",
    "testScore = model.evaluate([testX_R, testX_A], testY_A, verbose=0)"
   ]
  },
  {
   "cell_type": "code",
   "execution_count": 27,
   "id": "c226f040",
   "metadata": {
    "scrolled": true
   },
   "outputs": [
    {
     "data": {
      "image/png": "[encoded data removed]",
      "text/plain": [
       "<Figure size 1080x360 with 1 Axes>"
      ]
     },
     "metadata": {
      "needs_background": "light"
     },
     "output_type": "display_data"
    }
   ],
   "source": [
    "#predicting values for y_test\n",
    "p = model.predict([testX_R, testX_A])\n",
    "\n",
    "plt.plot(testY_A, label='y_test')\n",
    "plt.plot(p, label='prediction')\n",
    "plt.xlabel('test data Ai')\n",
    "plt.ylabel('predict Ai')\n",
    "plt.legend(loc='upper left')\n",
    "fig = plt.gcf()\n",
    "fig.set_size_inches(15, 5)\n",
    "#fig.savefig('img/tcstestcnn.png', dpi=300)\n",
    "plt.show()"
   ]
  },
  {
   "cell_type": "code",
   "execution_count": 28,
   "id": "9ddc9729",
   "metadata": {},
   "outputs": [],
   "source": [
    "model.save('./SelfData_thesis/0716_U08D00_constant_CNNLSTM_ONU16_Gi9375_Ai9375_Ai_4layer_timesteps64_epoch30.h5', include_optimizer=False)"
   ]
  },
  {
   "cell_type": "code",
   "execution_count": null,
   "id": "2c7eaa18",
   "metadata": {},
   "outputs": [],
   "source": []
  }
 ],
 "metadata": {
  "kernelspec": {
   "display_name": "Python 3",
   "language": "python",
   "name": "python3"
  },
  "language_info": {
   "codemirror_mode": {
    "name": "ipython",
    "version": 3
   },
   "file_extension": ".py",
   "mimetype": "text/x-python",
   "name": "python",
   "nbconvert_exporter": "python",
   "pygments_lexer": "ipython3",
   "version": "3.7.7"
  }
 },
 "nbformat": 4,
 "nbformat_minor": 5
}
