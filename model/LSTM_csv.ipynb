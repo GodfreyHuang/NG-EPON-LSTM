{
 "cells": [
  {
   "cell_type": "code",
   "execution_count": 117,
   "id": "ea044b90",
   "metadata": {},
   "outputs": [],
   "source": [
    "import numpy as np\n",
    "import tensorflow as tf\n",
    "from tensorflow.keras.layers import Input, Dense, LSTM, Reshape, Dropout, LayerNormalization\n",
    "from tensorflow.keras.models import Model, Sequential\n",
    "from sklearn.preprocessing import MinMaxScaler\n",
    "import matplotlib.pyplot as plt\n",
    "import math\n",
    "from sklearn.metrics import mean_absolute_error as mae\n",
    "from sklearn.preprocessing import MinMaxScaler\n",
    "sc = MinMaxScaler(feature_range = (0,1))\n",
    "\n",
    "import pandas as pd"
   ]
  },
  {
   "cell_type": "code",
   "execution_count": 118,
   "id": "e47f8e1b",
   "metadata": {
    "scrolled": true
   },
   "outputs": [
    {
     "data": {
      "text/html": [
       "<div>\n",
       "<style scoped>\n",
       "    .dataframe tbody tr th:only-of-type {\n",
       "        vertical-align: middle;\n",
       "    }\n",
       "\n",
       "    .dataframe tbody tr th {\n",
       "        vertical-align: top;\n",
       "    }\n",
       "\n",
       "    .dataframe thead th {\n",
       "        text-align: right;\n",
       "    }\n",
       "</style>\n",
       "<table border=\"1\" class=\"dataframe\">\n",
       "  <thead>\n",
       "    <tr style=\"text-align: right;\">\n",
       "      <th></th>\n",
       "      <th>Cycle</th>\n",
       "      <th>Ai</th>\n",
       "    </tr>\n",
       "  </thead>\n",
       "  <tbody>\n",
       "    <tr>\n",
       "      <th>0</th>\n",
       "      <td>9200</td>\n",
       "      <td>472</td>\n",
       "    </tr>\n",
       "    <tr>\n",
       "      <th>1</th>\n",
       "      <td>9201</td>\n",
       "      <td>906</td>\n",
       "    </tr>\n",
       "    <tr>\n",
       "      <th>2</th>\n",
       "      <td>9202</td>\n",
       "      <td>472</td>\n",
       "    </tr>\n",
       "    <tr>\n",
       "      <th>3</th>\n",
       "      <td>9203</td>\n",
       "      <td>906</td>\n",
       "    </tr>\n",
       "    <tr>\n",
       "      <th>4</th>\n",
       "      <td>9204</td>\n",
       "      <td>472</td>\n",
       "    </tr>\n",
       "  </tbody>\n",
       "</table>\n",
       "</div>"
      ],
      "text/plain": [
       "   Cycle   Ai\n",
       "0   9200  472\n",
       "1   9201  906\n",
       "2   9202  472\n",
       "3   9203  906\n",
       "4   9204  472"
      ]
     },
     "execution_count": 118,
     "metadata": {},
     "output_type": "execute_result"
    }
   ],
   "source": [
    "df = pd.read_csv('AIerror_ONU16_15S_Cycle&Ai.csv')\n",
    "df.head()"
   ]
  },
  {
   "cell_type": "code",
   "execution_count": 119,
   "id": "62d836ea",
   "metadata": {},
   "outputs": [
    {
     "data": {
      "text/plain": [
       "[<matplotlib.lines.Line2D at 0x24489a3afc8>]"
      ]
     },
     "execution_count": 119,
     "metadata": {},
     "output_type": "execute_result"
    },
    {
     "data": {
      "image/png": "[encoded data removed]",
      "text/plain": [
       "<Figure size 720x432 with 1 Axes>"
      ]
     },
     "metadata": {
      "needs_background": "light"
     },
     "output_type": "display_data"
    }
   ],
   "source": [
    "#df.plot()\n",
    "plt.figure(figsize=(10, 6))\n",
    "plt.xlabel('cycles')\n",
    "plt.ylabel('Ai')\n",
    "\n",
    "#plt.plot(df['Cycle'], label='Ai')\n",
    "#plt.plot(df['Ai'], label='Ai')\n",
    "x = df['Cycle']\n",
    "y = df['Ai'].div(100)\n",
    "\n",
    "#plt.semilogy()\n",
    "plt.plot(x, y)"
   ]
  },
  {
   "cell_type": "code",
   "execution_count": 120,
   "id": "a70310c7",
   "metadata": {},
   "outputs": [
    {
     "data": {
      "text/plain": [
       "'\\ndata = []\\ndata_size = len(dataset)\\n\\nfor i in dataset:\\n    data.append(i)\\n    \\nindices = np.array()\\ndata = np.array(data)[indices.astype(int)]\\ndata = np.reshape(data, (data, 1))\\n'"
      ]
     },
     "execution_count": 120,
     "metadata": {},
     "output_type": "execute_result"
    }
   ],
   "source": [
    "#建立訓練與測試資料\n",
    "def createData(dataset, look_back = 1):\n",
    "    dataX, dataY = [], []\n",
    "    for i in range(len(dataset) - look_back - 1):\n",
    "        a = dataset[i:(i + look_back), 0]\n",
    "        dataX.append(a)\n",
    "        dataY.append(dataset[i + look_back, 0])\n",
    "    return np.array(dataX), np.array(dataY)\n",
    "\n",
    "dataset = df.values\n",
    "#dataset = df['Ai'].values\n",
    "#dataset = dataset.astype('int')\n",
    "dataset = dataset.astype('float32')\n",
    "\n",
    "'''\n",
    "data = []\n",
    "data_size = len(dataset)\n",
    "\n",
    "for i in dataset:\n",
    "    data.append(i)\n",
    "    \n",
    "indices = np.array()\n",
    "data = np.array(data)[indices.astype(int)]\n",
    "data = np.reshape(data, (data, 1))\n",
    "'''"
   ]
  },
  {
   "cell_type": "code",
   "execution_count": 121,
   "id": "7278c14e",
   "metadata": {
    "scrolled": false
   },
   "outputs": [],
   "source": [
    "#X 常態化\n",
    "scaler = MinMaxScaler(feature_range = (0, 1)) #-1, 1\n",
    "dataset = scaler.fit_transform(dataset)"
   ]
  },
  {
   "cell_type": "code",
   "execution_count": 122,
   "id": "40d63197",
   "metadata": {},
   "outputs": [],
   "source": [
    "#分割訓練與測試資料\n",
    "train_size = int(len(dataset) * 0.7)\n",
    "test_size = len(dataset) - train_size\n",
    "train, test = dataset[0:train_size, :], dataset[train_size:len(dataset), :]"
   ]
  },
  {
   "cell_type": "code",
   "execution_count": 123,
   "id": "f041a0e0",
   "metadata": {},
   "outputs": [],
   "source": [
    "#前期資料 = X, 當期資料 = Y\n",
    "look_back = 10\n",
    "trainX, trainY = createData(train, look_back)\n",
    "testX, testY = createData(test, look_back)"
   ]
  },
  {
   "cell_type": "code",
   "execution_count": 124,
   "id": "c0bcc758",
   "metadata": {},
   "outputs": [],
   "source": [
    "#將資料轉換成三維以供LSTM訓練使用\n",
    "trainX = np.reshape(trainX, (trainX.shape[0], 1, trainX.shape[1]))\n",
    "testX = np.reshape(testX, (testX.shape[0], 1, testX.shape[1]))"
   ]
  },
  {
   "cell_type": "code",
   "execution_count": 125,
   "id": "05c89d10",
   "metadata": {
    "scrolled": false
   },
   "outputs": [
    {
     "name": "stdout",
     "output_type": "stream",
     "text": [
      "Epoch 1/50\n",
      "706/706 [==============================] - 2s 3ms/step - loss: 0.0107 - mse: 0.0022 - mae: 0.0107 - val_loss: 0.0078 - val_mse: 7.4523e-05 - val_mae: 0.0078\n",
      "Epoch 2/50\n",
      "706/706 [==============================] - 2s 2ms/step - loss: 6.0428e-04 - mse: 6.4028e-07 - mae: 6.0428e-04 - val_loss: 0.0082 - val_mse: 7.8859e-05 - val_mae: 0.0082\n",
      "Epoch 3/50\n",
      "706/706 [==============================] - 2s 2ms/step - loss: 7.5614e-04 - mse: 1.0363e-06 - mae: 7.5614e-04 - val_loss: 0.0033 - val_mse: 1.8113e-05 - val_mae: 0.0033\n",
      "Epoch 4/50\n",
      "706/706 [==============================] - 2s 2ms/step - loss: 7.5192e-04 - mse: 1.0310e-06 - mae: 7.5192e-04 - val_loss: 0.0031 - val_mse: 1.6108e-05 - val_mae: 0.0031\n",
      "Epoch 5/50\n",
      "706/706 [==============================] - 2s 2ms/step - loss: 6.1549e-04 - mse: 6.5552e-07 - mae: 6.1549e-04 - val_loss: 0.0045 - val_mse: 2.6843e-05 - val_mae: 0.0045\n",
      "Epoch 6/50\n",
      "706/706 [==============================] - 2s 2ms/step - loss: 8.1929e-04 - mse: 1.3602e-06 - mae: 8.1929e-04 - val_loss: 0.0026 - val_mse: 1.1521e-05 - val_mae: 0.0026\n",
      "Epoch 7/50\n",
      "706/706 [==============================] - 2s 2ms/step - loss: 6.1410e-04 - mse: 6.6268e-07 - mae: 6.1410e-04 - val_loss: 0.0038 - val_mse: 1.9473e-05 - val_mae: 0.0038\n",
      "Epoch 8/50\n",
      "706/706 [==============================] - 2s 3ms/step - loss: 7.3389e-04 - mse: 9.9356e-07 - mae: 7.3389e-04 - val_loss: 0.0047 - val_mse: 2.6946e-05 - val_mae: 0.0047\n",
      "Epoch 9/50\n",
      "706/706 [==============================] - 2s 2ms/step - loss: 7.2632e-04 - mse: 9.3639e-07 - mae: 7.2632e-04 - val_loss: 0.0016 - val_mse: 4.4653e-06 - val_mae: 0.0016\n",
      "Epoch 10/50\n",
      "706/706 [==============================] - 2s 2ms/step - loss: 7.8848e-04 - mse: 1.1174e-06 - mae: 7.8848e-04 - val_loss: 0.0038 - val_mse: 1.7484e-05 - val_mae: 0.0038\n",
      "Epoch 11/50\n",
      "706/706 [==============================] - 2s 2ms/step - loss: 7.3958e-04 - mse: 1.0430e-06 - mae: 7.3958e-04 - val_loss: 0.0021 - val_mse: 7.0120e-06 - val_mae: 0.0021\n",
      "Epoch 12/50\n",
      "706/706 [==============================] - 2s 3ms/step - loss: 7.2982e-04 - mse: 1.0030e-06 - mae: 7.2982e-04 - val_loss: 0.0010 - val_mse: 1.2930e-06 - val_mae: 0.0010\n",
      "Epoch 13/50\n",
      "706/706 [==============================] - 2s 2ms/step - loss: 8.5948e-04 - mse: 1.3626e-06 - mae: 8.5948e-04 - val_loss: 0.0024 - val_mse: 7.3712e-06 - val_mae: 0.0024\n",
      "Epoch 14/50\n",
      "706/706 [==============================] - 2s 2ms/step - loss: 6.1665e-04 - mse: 7.0651e-07 - mae: 6.1665e-04 - val_loss: 9.9746e-04 - val_mse: 1.7733e-06 - val_mae: 9.9746e-04\n",
      "Epoch 15/50\n",
      "706/706 [==============================] - 2s 2ms/step - loss: 8.0590e-04 - mse: 1.2239e-06 - mae: 8.0590e-04 - val_loss: 0.0017 - val_mse: 4.1537e-06 - val_mae: 0.0017\n",
      "Epoch 16/50\n",
      "706/706 [==============================] - 2s 2ms/step - loss: 8.6368e-04 - mse: 1.3954e-06 - mae: 8.6368e-04 - val_loss: 7.2325e-04 - val_mse: 6.7486e-07 - val_mae: 7.2325e-04\n",
      "Epoch 17/50\n",
      "706/706 [==============================] - 2s 2ms/step - loss: 8.2532e-04 - mse: 1.2558e-06 - mae: 8.2532e-04 - val_loss: 9.3193e-04 - val_mse: 1.1186e-06 - val_mae: 9.3193e-04\n",
      "Epoch 18/50\n",
      "706/706 [==============================] - 2s 2ms/step - loss: 8.8257e-04 - mse: 1.3731e-06 - mae: 8.8257e-04 - val_loss: 9.1922e-04 - val_mse: 1.0904e-06 - val_mae: 9.1922e-04\n",
      "Epoch 19/50\n",
      "706/706 [==============================] - 2s 2ms/step - loss: 8.0328e-04 - mse: 1.2001e-06 - mae: 8.0328e-04 - val_loss: 0.0046 - val_mse: 2.2249e-05 - val_mae: 0.0046\n",
      "Epoch 20/50\n",
      "706/706 [==============================] - 2s 2ms/step - loss: 7.8354e-04 - mse: 1.0976e-06 - mae: 7.8354e-04 - val_loss: 6.7183e-04 - val_mse: 5.6568e-07 - val_mae: 6.7183e-04\n",
      "Epoch 21/50\n",
      "706/706 [==============================] - 2s 3ms/step - loss: 9.0774e-04 - mse: 1.4560e-06 - mae: 9.0774e-04 - val_loss: 0.0019 - val_mse: 3.9732e-06 - val_mae: 0.0019\n",
      "Epoch 22/50\n",
      "706/706 [==============================] - 2s 2ms/step - loss: 8.9724e-04 - mse: 1.4237e-06 - mae: 8.9724e-04 - val_loss: 0.0035 - val_mse: 1.3945e-05 - val_mae: 0.0035\n",
      "Epoch 23/50\n",
      "706/706 [==============================] - 2s 2ms/step - loss: 6.8359e-04 - mse: 8.3236e-07 - mae: 6.8359e-04 - val_loss: 7.1818e-04 - val_mse: 8.0301e-07 - val_mae: 7.1818e-04\n",
      "Epoch 24/50\n",
      "706/706 [==============================] - 2s 2ms/step - loss: 8.0257e-04 - mse: 1.1601e-06 - mae: 8.0257e-04 - val_loss: 8.0251e-04 - val_mse: 8.1522e-07 - val_mae: 8.0251e-04\n",
      "Epoch 25/50\n",
      "706/706 [==============================] - 2s 2ms/step - loss: 9.1409e-04 - mse: 1.4775e-06 - mae: 9.1409e-04 - val_loss: 0.0025 - val_mse: 7.4537e-06 - val_mae: 0.0025\n",
      "Epoch 26/50\n",
      "706/706 [==============================] - 2s 2ms/step - loss: 7.6412e-04 - mse: 1.0460e-06 - mae: 7.6412e-04 - val_loss: 9.5702e-04 - val_mse: 1.6494e-06 - val_mae: 9.5702e-04\n",
      "Epoch 27/50\n",
      "706/706 [==============================] - 2s 2ms/step - loss: 7.5561e-04 - mse: 1.0503e-06 - mae: 7.5561e-04 - val_loss: 7.5626e-04 - val_mse: 8.7939e-07 - val_mae: 7.5626e-04\n",
      "Epoch 28/50\n",
      "706/706 [==============================] - 2s 2ms/step - loss: 7.9478e-04 - mse: 1.1889e-06 - mae: 7.9478e-04 - val_loss: 8.2026e-04 - val_mse: 8.4768e-07 - val_mae: 8.2026e-04\n",
      "Epoch 29/50\n",
      "706/706 [==============================] - 2s 3ms/step - loss: 7.5578e-04 - mse: 1.0976e-06 - mae: 7.5578e-04 - val_loss: 0.0050 - val_mse: 2.6246e-05 - val_mae: 0.0050\n",
      "Epoch 30/50\n",
      "706/706 [==============================] - 2s 2ms/step - loss: 7.6276e-04 - mse: 1.0456e-06 - mae: 7.6276e-04 - val_loss: 0.0011 - val_mse: 1.6571e-06 - val_mae: 0.0011\n",
      "Epoch 31/50\n",
      "706/706 [==============================] - 2s 2ms/step - loss: 7.1732e-04 - mse: 8.9236e-07 - mae: 7.1732e-04 - val_loss: 8.8345e-04 - val_mse: 1.0348e-06 - val_mae: 8.8345e-04\n",
      "Epoch 32/50\n",
      "706/706 [==============================] - 2s 2ms/step - loss: 6.9952e-04 - mse: 8.6888e-07 - mae: 6.9952e-04 - val_loss: 0.0037 - val_mse: 1.5252e-05 - val_mae: 0.0037\n",
      "Epoch 33/50\n",
      "706/706 [==============================] - 2s 2ms/step - loss: 7.5525e-04 - mse: 1.0331e-06 - mae: 7.5525e-04 - val_loss: 0.0033 - val_mse: 1.3041e-05 - val_mae: 0.0033\n",
      "Epoch 34/50\n",
      "706/706 [==============================] - 2s 2ms/step - loss: 8.1198e-04 - mse: 1.1832e-06 - mae: 8.1198e-04 - val_loss: 0.0017 - val_mse: 3.5706e-06 - val_mae: 0.0017\n",
      "Epoch 35/50\n",
      "706/706 [==============================] - 2s 2ms/step - loss: 7.1280e-04 - mse: 9.7269e-07 - mae: 7.1280e-04 - val_loss: 0.0025 - val_mse: 7.5320e-06 - val_mae: 0.0025\n",
      "Epoch 36/50\n",
      "706/706 [==============================] - 2s 2ms/step - loss: 7.5720e-04 - mse: 1.0396e-06 - mae: 7.5720e-04 - val_loss: 0.0046 - val_mse: 2.2658e-05 - val_mae: 0.0046\n",
      "Epoch 37/50\n",
      "706/706 [==============================] - 2s 2ms/step - loss: 6.0669e-04 - mse: 6.7845e-07 - mae: 6.0669e-04 - val_loss: 9.1242e-04 - val_mse: 1.5240e-06 - val_mae: 9.1242e-04\n",
      "Epoch 38/50\n",
      "706/706 [==============================] - 2s 2ms/step - loss: 7.4134e-04 - mse: 9.7531e-07 - mae: 7.4134e-04 - val_loss: 0.0067 - val_mse: 4.7129e-05 - val_mae: 0.0067\n",
      "Epoch 39/50\n",
      "706/706 [==============================] - 2s 2ms/step - loss: 7.6094e-04 - mse: 1.0781e-06 - mae: 7.6094e-04 - val_loss: 0.0044 - val_mse: 2.1735e-05 - val_mae: 0.0044\n",
      "Epoch 40/50\n",
      "706/706 [==============================] - 2s 2ms/step - loss: 6.6585e-04 - mse: 8.1899e-07 - mae: 6.6585e-04 - val_loss: 9.4709e-04 - val_mse: 1.5449e-06 - val_mae: 9.4709e-04\n",
      "Epoch 41/50\n",
      "706/706 [==============================] - 2s 2ms/step - loss: 6.6913e-04 - mse: 7.9187e-07 - mae: 6.6913e-04 - val_loss: 0.0015 - val_mse: 4.0406e-06 - val_mae: 0.0015\n",
      "Epoch 42/50\n",
      "706/706 [==============================] - 2s 2ms/step - loss: 6.6060e-04 - mse: 7.9071e-07 - mae: 6.6060e-04 - val_loss: 9.8610e-04 - val_mse: 1.6425e-06 - val_mae: 9.8610e-04\n",
      "Epoch 43/50\n",
      "706/706 [==============================] - 2s 2ms/step - loss: 6.8139e-04 - mse: 8.4654e-07 - mae: 6.8139e-04 - val_loss: 0.0014 - val_mse: 3.3754e-06 - val_mae: 0.0014\n",
      "Epoch 44/50\n",
      "706/706 [==============================] - 2s 2ms/step - loss: 6.6788e-04 - mse: 8.5365e-07 - mae: 6.6788e-04 - val_loss: 0.0027 - val_mse: 9.3556e-06 - val_mae: 0.0027\n",
      "Epoch 45/50\n",
      "706/706 [==============================] - 2s 3ms/step - loss: 7.8517e-04 - mse: 1.1285e-06 - mae: 7.8517e-04 - val_loss: 0.0024 - val_mse: 7.7388e-06 - val_mae: 0.0024\n"
     ]
    },
    {
     "name": "stdout",
     "output_type": "stream",
     "text": [
      "Epoch 46/50\n",
      "706/706 [==============================] - 2s 2ms/step - loss: 6.7897e-04 - mse: 8.2226e-07 - mae: 6.7897e-04 - val_loss: 0.0010 - val_mse: 1.7943e-06 - val_mae: 0.0010\n",
      "Epoch 47/50\n",
      "706/706 [==============================] - 2s 2ms/step - loss: 6.8261e-04 - mse: 7.8716e-07 - mae: 6.8261e-04 - val_loss: 0.0037 - val_mse: 1.6246e-05 - val_mae: 0.0037\n",
      "Epoch 48/50\n",
      "706/706 [==============================] - 2s 2ms/step - loss: 8.9432e-04 - mse: 1.4771e-06 - mae: 8.9432e-04 - val_loss: 0.0034 - val_mse: 1.4665e-05 - val_mae: 0.0034\n",
      "Epoch 49/50\n",
      "706/706 [==============================] - 2s 2ms/step - loss: 6.4398e-04 - mse: 7.5519e-07 - mae: 6.4398e-04 - val_loss: 0.0014 - val_mse: 2.3240e-06 - val_mae: 0.0014\n",
      "Epoch 50/50\n",
      "706/706 [==============================] - 2s 2ms/step - loss: 5.9444e-04 - mse: 6.8752e-07 - mae: 5.9444e-04 - val_loss: 0.0026 - val_mse: 9.1711e-06 - val_mae: 0.0026\n"
     ]
    }
   ],
   "source": [
    "model = Sequential()\n",
    "\n",
    "model.add(LSTM(40, input_shape = (1, look_back)))\n",
    "model.add(Dense(1))\n",
    "\n",
    "model.compile(loss='mean_absolute_error', optimizer='adam', metrics=['mse','mae'])\n",
    "history = model.fit(trainX, trainY, epochs=50, batch_size=32,  verbose=1, validation_split=0.3)\n",
    "\n",
    "trainPredict = model.predict(trainX)\n",
    "testPredict = model.predict(testX)"
   ]
  },
  {
   "cell_type": "code",
   "execution_count": 126,
   "id": "5a9a7c1c",
   "metadata": {
    "scrolled": true
   },
   "outputs": [
    {
     "name": "stdout",
     "output_type": "stream",
     "text": [
      "Model: \"sequential_6\"\n",
      "_________________________________________________________________\n",
      "Layer (type)                 Output Shape              Param #   \n",
      "=================================================================\n",
      "lstm_6 (LSTM)                (None, 40)                8160      \n",
      "_________________________________________________________________\n",
      "dense_6 (Dense)              (None, 1)                 41        \n",
      "=================================================================\n",
      "Total params: 8,201\n",
      "Trainable params: 8,201\n",
      "Non-trainable params: 0\n",
      "_________________________________________________________________\n"
     ]
    }
   ],
   "source": [
    "model.summary()"
   ]
  },
  {
   "cell_type": "code",
   "execution_count": 127,
   "id": "14d24138",
   "metadata": {
    "scrolled": true
   },
   "outputs": [
    {
     "data": {
      "text/plain": [
       "Text(0.5, 1.0, 'mae')"
      ]
     },
     "execution_count": 127,
     "metadata": {},
     "output_type": "execute_result"
    },
    {
     "data": {
      "image/png": "[encoded data removed]",
      "text/plain": [
       "<Figure size 432x288 with 1 Axes>"
      ]
     },
     "metadata": {
      "needs_background": "light"
     },
     "output_type": "display_data"
    }
   ],
   "source": [
    "plt.plot(history.history['mae'])\n",
    "plt.title('mae')"
   ]
  },
  {
   "cell_type": "code",
   "execution_count": 128,
   "id": "4fc92179",
   "metadata": {},
   "outputs": [
    {
     "data": {
      "text/plain": [
       "Text(0.5, 1.0, 'mse')"
      ]
     },
     "execution_count": 128,
     "metadata": {},
     "output_type": "execute_result"
    },
    {
     "data": {
      "image/png": "[encoded data removed]",
      "text/plain": [
       "<Figure size 432x288 with 1 Axes>"
      ]
     },
     "metadata": {
      "needs_background": "light"
     },
     "output_type": "display_data"
    }
   ],
   "source": [
    "plt.plot(history.history['mse'])\n",
    "plt.title('mse')"
   ]
  },
  {
   "cell_type": "code",
   "execution_count": 129,
   "id": "6f811567",
   "metadata": {},
   "outputs": [
    {
     "ename": "ValueError",
     "evalue": "non-broadcastable output operand with shape (32236,1) doesn't match the broadcast shape (32236,2)",
     "output_type": "error",
     "traceback": [
      "\u001b[1;31m---------------------------------------------------------------------------\u001b[0m",
      "\u001b[1;31mValueError\u001b[0m                                Traceback (most recent call last)",
      "\u001b[1;32m<ipython-input-129-20dc1da15790>\u001b[0m in \u001b[0;36m<module>\u001b[1;34m\u001b[0m\n\u001b[0;32m      1\u001b[0m \u001b[1;32mfrom\u001b[0m \u001b[0msklearn\u001b[0m\u001b[1;33m.\u001b[0m\u001b[0mmetrics\u001b[0m \u001b[1;32mimport\u001b[0m \u001b[0mmean_squared_error\u001b[0m \u001b[1;32mas\u001b[0m \u001b[0mmse\u001b[0m\u001b[1;33m\u001b[0m\u001b[1;33m\u001b[0m\u001b[0m\n\u001b[0;32m      2\u001b[0m \u001b[1;33m\u001b[0m\u001b[0m\n\u001b[1;32m----> 3\u001b[1;33m \u001b[0mtrainPredict\u001b[0m \u001b[1;33m=\u001b[0m \u001b[0mscaler\u001b[0m\u001b[1;33m.\u001b[0m\u001b[0minverse_transform\u001b[0m\u001b[1;33m(\u001b[0m\u001b[0mtrainPredict\u001b[0m\u001b[1;33m)\u001b[0m\u001b[1;33m\u001b[0m\u001b[1;33m\u001b[0m\u001b[0m\n\u001b[0m\u001b[0;32m      4\u001b[0m \u001b[0mtrainY\u001b[0m \u001b[1;33m=\u001b[0m \u001b[0mscaler\u001b[0m\u001b[1;33m.\u001b[0m\u001b[0minverse_transform\u001b[0m\u001b[1;33m(\u001b[0m\u001b[1;33m[\u001b[0m\u001b[0mtrainY\u001b[0m\u001b[1;33m]\u001b[0m\u001b[1;33m)\u001b[0m\u001b[1;33m\u001b[0m\u001b[1;33m\u001b[0m\u001b[0m\n\u001b[0;32m      5\u001b[0m \u001b[0mtestPredict\u001b[0m \u001b[1;33m=\u001b[0m \u001b[0mscaler\u001b[0m\u001b[1;33m.\u001b[0m\u001b[0minverse_transform\u001b[0m\u001b[1;33m(\u001b[0m\u001b[0mtestPredict\u001b[0m\u001b[1;33m)\u001b[0m\u001b[1;33m\u001b[0m\u001b[1;33m\u001b[0m\u001b[0m\n",
      "\u001b[1;32m~\\anaconda3\\envs\\tensorflow\\lib\\site-packages\\sklearn\\preprocessing\\_data.py\u001b[0m in \u001b[0;36minverse_transform\u001b[1;34m(self, X)\u001b[0m\n\u001b[0;32m    434\u001b[0m                         force_all_finite=\"allow-nan\")\n\u001b[0;32m    435\u001b[0m \u001b[1;33m\u001b[0m\u001b[0m\n\u001b[1;32m--> 436\u001b[1;33m         \u001b[0mX\u001b[0m \u001b[1;33m-=\u001b[0m \u001b[0mself\u001b[0m\u001b[1;33m.\u001b[0m\u001b[0mmin_\u001b[0m\u001b[1;33m\u001b[0m\u001b[1;33m\u001b[0m\u001b[0m\n\u001b[0m\u001b[0;32m    437\u001b[0m         \u001b[0mX\u001b[0m \u001b[1;33m/=\u001b[0m \u001b[0mself\u001b[0m\u001b[1;33m.\u001b[0m\u001b[0mscale_\u001b[0m\u001b[1;33m\u001b[0m\u001b[1;33m\u001b[0m\u001b[0m\n\u001b[0;32m    438\u001b[0m         \u001b[1;32mreturn\u001b[0m \u001b[0mX\u001b[0m\u001b[1;33m\u001b[0m\u001b[1;33m\u001b[0m\u001b[0m\n",
      "\u001b[1;31mValueError\u001b[0m: non-broadcastable output operand with shape (32236,1) doesn't match the broadcast shape (32236,2)"
     ]
    }
   ],
   "source": [
    "from sklearn.metrics import mean_squared_error as mse\n",
    "\n",
    "trainPredict = scaler.inverse_transform(trainPredict)\n",
    "trainY = scaler.inverse_transform([trainY])\n",
    "testPredict = scaler.inverse_transform(testPredict)\n",
    "testY = scaler.inverse_transform([testY])\n",
    "\n",
    "MSE_TrainScore = math.sqrt(mse(trainY[0], trainPredict[:,0]))\n",
    "print('MSE train score : %.2f RMSE' %  (MSE_TrainScore))\n",
    "MSE_TestScore = math.sqrt(mse(testY[0], testPredict[:,0]))\n",
    "print('MSE test score : %.2f RMSE' %  (MSE_TestScore))\n",
    "MAE_TrainScore = math.sqrt(mae(trainY[0], trainPredict[:,0]))\n",
    "print('MAE train score : %.2f RMAE' %  (MAE_TrainScore))\n",
    "MAE_TestScore = math.sqrt(mae(testY[0], testPredict[:,0]))\n",
    "print('MAE test score : %.2f RMAE' %  (MAE_TestScore))\n",
    "\n",
    "trainPredictPlot = np.empty_like(dataset)\n",
    "trainPredictPlot[:, :] = np.nan\n",
    "trainPredictPlot[look_back:len(trainPredict) + lookback, :] = trainPredict\n",
    "\n",
    "testPredictPlot = np.empty_like(dataset)\n",
    "testPredictPlot[:, :] = np.nan\n",
    "testPredictPlot[len(trainPredict) + (look_back * 2) + 1: len(dataset) - 1, :] = testPredict\n",
    "\n",
    "plt.plot(scaler.inverse_transform(dataset))\n",
    "plt.plot(trainPredictPlot)\n",
    "plt.plot(testPredictPlot)\n",
    "plt.show()"
   ]
  },
  {
   "cell_type": "code",
   "execution_count": null,
   "id": "25152082",
   "metadata": {},
   "outputs": [],
   "source": []
  }
 ],
 "metadata": {
  "kernelspec": {
   "display_name": "Python 3",
   "language": "python",
   "name": "python3"
  },
  "language_info": {
   "codemirror_mode": {
    "name": "ipython",
    "version": 3
   },
   "file_extension": ".py",
   "mimetype": "text/x-python",
   "name": "python",
   "nbconvert_exporter": "python",
   "pygments_lexer": "ipython3",
   "version": "3.7.7"
  }
 },
 "nbformat": 4,
 "nbformat_minor": 5
}
