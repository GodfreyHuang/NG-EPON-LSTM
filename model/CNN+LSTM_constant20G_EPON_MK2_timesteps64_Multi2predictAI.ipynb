{
 "cells": [
  {
   "cell_type": "code",
   "execution_count": 58,
   "id": "acf782b3",
   "metadata": {},
   "outputs": [
    {
     "name": "stderr",
     "output_type": "stream",
     "text": [
      "C:\\Users\\joker\\anaconda3\\envs\\tensorflow\\lib\\site-packages\\ipykernel_launcher.py:4: FutureWarning: The pandas.datetime class is deprecated and will be removed from pandas in a future version. Import from datetime module instead.\n",
      "  after removing the cwd from sys.path.\n"
     ]
    }
   ],
   "source": [
    "import numpy as np\n",
    "import matplotlib.pyplot as plt\n",
    "import pandas as pd\n",
    "from pandas import datetime\n",
    "import math\n",
    "import itertools\n",
    "from sklearn import preprocessing\n",
    "import datetime\n",
    "from sklearn.metrics import mean_squared_error\n",
    "from math import sqrt"
   ]
  },
  {
   "cell_type": "code",
   "execution_count": 59,
   "id": "db0ca465",
   "metadata": {},
   "outputs": [
    {
     "data": {
      "text/html": [
       "<div>\n",
       "<style scoped>\n",
       "    .dataframe tbody tr th:only-of-type {\n",
       "        vertical-align: middle;\n",
       "    }\n",
       "\n",
       "    .dataframe tbody tr th {\n",
       "        vertical-align: top;\n",
       "    }\n",
       "\n",
       "    .dataframe thead th {\n",
       "        text-align: right;\n",
       "    }\n",
       "</style>\n",
       "<table border=\"1\" class=\"dataframe\">\n",
       "  <thead>\n",
       "    <tr style=\"text-align: right;\">\n",
       "      <th></th>\n",
       "      <th>Gi</th>\n",
       "    </tr>\n",
       "  </thead>\n",
       "  <tbody>\n",
       "    <tr>\n",
       "      <th>0</th>\n",
       "      <td>78125</td>\n",
       "    </tr>\n",
       "    <tr>\n",
       "      <th>1</th>\n",
       "      <td>78125</td>\n",
       "    </tr>\n",
       "    <tr>\n",
       "      <th>2</th>\n",
       "      <td>78125</td>\n",
       "    </tr>\n",
       "    <tr>\n",
       "      <th>3</th>\n",
       "      <td>78125</td>\n",
       "    </tr>\n",
       "    <tr>\n",
       "      <th>4</th>\n",
       "      <td>78125</td>\n",
       "    </tr>\n",
       "  </tbody>\n",
       "</table>\n",
       "</div>"
      ],
      "text/plain": [
       "      Gi\n",
       "0  78125\n",
       "1  78125\n",
       "2  78125\n",
       "3  78125\n",
       "4  78125"
      ]
     },
     "execution_count": 59,
     "metadata": {},
     "output_type": "execute_result"
    }
   ],
   "source": [
    "df1 = pd.read_csv('./SelfData_thesis/0708_constant20GData_3to7_ONU16.csv', usecols=[1], engine='python')\n",
    "df1.head()"
   ]
  },
  {
   "cell_type": "code",
   "execution_count": 60,
   "id": "def55eb1",
   "metadata": {},
   "outputs": [
    {
     "data": {
      "text/html": [
       "<div>\n",
       "<style scoped>\n",
       "    .dataframe tbody tr th:only-of-type {\n",
       "        vertical-align: middle;\n",
       "    }\n",
       "\n",
       "    .dataframe tbody tr th {\n",
       "        vertical-align: top;\n",
       "    }\n",
       "\n",
       "    .dataframe thead th {\n",
       "        text-align: right;\n",
       "    }\n",
       "</style>\n",
       "<table border=\"1\" class=\"dataframe\">\n",
       "  <thead>\n",
       "    <tr style=\"text-align: right;\">\n",
       "      <th></th>\n",
       "      <th>Ai</th>\n",
       "    </tr>\n",
       "  </thead>\n",
       "  <tbody>\n",
       "    <tr>\n",
       "      <th>0</th>\n",
       "      <td>78125</td>\n",
       "    </tr>\n",
       "    <tr>\n",
       "      <th>1</th>\n",
       "      <td>78125</td>\n",
       "    </tr>\n",
       "    <tr>\n",
       "      <th>2</th>\n",
       "      <td>78125</td>\n",
       "    </tr>\n",
       "    <tr>\n",
       "      <th>3</th>\n",
       "      <td>78125</td>\n",
       "    </tr>\n",
       "    <tr>\n",
       "      <th>4</th>\n",
       "      <td>78125</td>\n",
       "    </tr>\n",
       "  </tbody>\n",
       "</table>\n",
       "</div>"
      ],
      "text/plain": [
       "      Ai\n",
       "0  78125\n",
       "1  78125\n",
       "2  78125\n",
       "3  78125\n",
       "4  78125"
      ]
     },
     "execution_count": 60,
     "metadata": {},
     "output_type": "execute_result"
    }
   ],
   "source": [
    "df2 = pd.read_csv('./SelfData_thesis/0708_constant20GData_3to7_ONU16.csv', usecols=[2], engine='python')\n",
    "df2.head()"
   ]
  },
  {
   "cell_type": "code",
   "execution_count": 61,
   "id": "7ea6b2f8",
   "metadata": {},
   "outputs": [],
   "source": [
    "#df3 = pd.read_csv('./SelfData_thesis/0628_self8GData_3to7_ONU16_limitData.csv', usecols=[2], engine='python')\n",
    "#df3.head()"
   ]
  },
  {
   "cell_type": "code",
   "execution_count": 62,
   "id": "35e26363",
   "metadata": {},
   "outputs": [],
   "source": [
    "df1 = df1.values\n",
    "df1 = df1.astype('float32')\n",
    "\n",
    "df2 = df2.values\n",
    "df2 = df2.astype('float32')\n",
    "\n",
    "#df3 = df3.values\n",
    "#df3 = df3.astype('float32')"
   ]
  },
  {
   "cell_type": "code",
   "execution_count": 63,
   "id": "d3e9f415",
   "metadata": {},
   "outputs": [
    {
     "name": "stdout",
     "output_type": "stream",
     "text": [
      "78125.0\n",
      "78125.0\n"
     ]
    }
   ],
   "source": [
    "print(np.max(df1))\n",
    "print(np.max(df2))\n",
    "#print(np.max(df3))\n",
    "\n",
    "df1Max = np.max(df1)\n",
    "df2Max = np.max(df2)\n",
    "#df3Max = np.max(df3)\n",
    "\n",
    "df1 = df1 / np.max(df1) #手動正規化\n",
    "df2 = df2 / np.max(df2) #手動正規化\n",
    "#df3 = df3 / np.max(df3) #手動正規化"
   ]
  },
  {
   "cell_type": "code",
   "execution_count": 64,
   "id": "ef2c697d",
   "metadata": {
    "scrolled": true
   },
   "outputs": [
    {
     "name": "stdout",
     "output_type": "stream",
     "text": [
      "4000\n",
      "4000\n"
     ]
    }
   ],
   "source": [
    "print(len(df1))\n",
    "print(len(df2))\n",
    "#print(len(df3))"
   ]
  },
  {
   "cell_type": "code",
   "execution_count": 65,
   "id": "ba051168",
   "metadata": {},
   "outputs": [],
   "source": [
    "datasetR = df1\n",
    "datasetA = df2\n",
    "#datasetT = df3"
   ]
  },
  {
   "cell_type": "code",
   "execution_count": 66,
   "id": "78ec0999",
   "metadata": {},
   "outputs": [
    {
     "name": "stdout",
     "output_type": "stream",
     "text": [
      "3200 800\n"
     ]
    }
   ],
   "source": [
    "# split into train and test sets\n",
    "train_sizeR = int(len(datasetR) * 0.8) \n",
    "test_sizeR = len(datasetR) - train_sizeR\n",
    "trainR, testR = datasetR[0:train_sizeR], datasetR[train_sizeR:len(datasetR)]\n",
    "\n",
    "#scaler = MinMaxScaler(feature_range=(0, 1))\n",
    "#trainR = scaler.fit_transform(trainR)\n",
    "#testR = scaler.fit_transform(testR)\n",
    "print(len(trainR), len(testR))"
   ]
  },
  {
   "cell_type": "code",
   "execution_count": 67,
   "id": "a1b9ee0e",
   "metadata": {},
   "outputs": [
    {
     "name": "stdout",
     "output_type": "stream",
     "text": [
      "3200 800\n"
     ]
    }
   ],
   "source": [
    "# split into train and test sets\n",
    "train_sizeA = int(len(datasetA) * 0.8) \n",
    "test_sizeA = len(datasetA) - train_sizeA\n",
    "trainA, testA = datasetA[0:train_sizeA], datasetA[train_sizeA:len(datasetA)]\n",
    "\n",
    "#scaler = MinMaxScaler(feature_range=(0, 1))\n",
    "#trainR = scaler.fit_transform(trainR)\n",
    "#testR = scaler.fit_transform(testR)\n",
    "print(len(trainA), len(testA))"
   ]
  },
  {
   "cell_type": "code",
   "execution_count": 68,
   "id": "d5ee3681",
   "metadata": {
    "scrolled": true
   },
   "outputs": [],
   "source": [
    "# split into train and test sets\n",
    "#train_sizeT = int(len(datasetT) * 0.8) \n",
    "#test_sizeT = len(datasetT) - train_sizeT\n",
    "#trainT, testT = datasetT[0:train_sizeT], datasetT[train_sizeT:len(datasetT)]\n",
    "\n",
    "#scaler = MinMaxScaler(feature_range=(0, 1))\n",
    "#trainR = scaler.fit_transform(trainR)\n",
    "#testR = scaler.fit_transform(testR)\n",
    "#print(len(trainT), len(testT))"
   ]
  },
  {
   "cell_type": "code",
   "execution_count": 69,
   "id": "04eedc5b",
   "metadata": {},
   "outputs": [],
   "source": [
    "# convert an array of values into a dataset matrix\n",
    "def create_dataset(dataset, look_back=1):\n",
    "    dataX, dataY = [], []\n",
    "    for i in range(len(dataset) - look_back - 1):\n",
    "        a = dataset[i:(i + look_back)]\n",
    "        dataX.append(a)\n",
    "        dataY.append(dataset[i + look_back])\n",
    "    return np.array(dataX), np.array(dataY)"
   ]
  },
  {
   "cell_type": "code",
   "execution_count": 70,
   "id": "12c72f1c",
   "metadata": {},
   "outputs": [],
   "source": [
    "# reshape into X=t and Y=t+1\n",
    "look_back = 64 #16\n",
    "trainX_R, trainY_R = create_dataset(trainR, look_back)\n",
    "testX_R, testY_R = create_dataset(testR, look_back)\n",
    "\n",
    "trainX_A, trainY_A = create_dataset(trainA, look_back)\n",
    "testX_A, testY_A = create_dataset(testA, look_back)\n",
    "\n",
    "#trainX_T, trainY_T = create_dataset(trainT, look_back)\n",
    "#testX_T, testY_T = create_dataset(testT, look_back)"
   ]
  },
  {
   "cell_type": "code",
   "execution_count": 71,
   "id": "2950fb6a",
   "metadata": {
    "scrolled": true
   },
   "outputs": [
    {
     "name": "stdout",
     "output_type": "stream",
     "text": [
      "(3135, 64, 1)\n",
      "(3135, 1)\n",
      "(735, 64, 1)\n",
      "(735, 1)\n",
      "(3135, 64, 1)\n",
      "(3135, 1)\n",
      "(735, 64, 1)\n",
      "(735, 1)\n"
     ]
    }
   ],
   "source": [
    "# reshape input to be [samples, time steps, features]\n",
    "trainX_R = np.reshape(trainX_R, (trainX_R.shape[0], look_back, 1))\n",
    "testX_R = np.reshape(testX_R, (testX_R.shape[0], look_back, 1))\n",
    "\n",
    "trainX_A = np.reshape(trainX_A, (trainX_A.shape[0], look_back, 1))\n",
    "testX_A = np.reshape(testX_A, (testX_A.shape[0], look_back, 1))\n",
    "\n",
    "#trainX_T = np.reshape(trainX_T, (trainX_T.shape[0], look_back, 1))\n",
    "#testX_T = np.reshape(testX_T, (testX_T.shape[0], look_back, 1))\n",
    "#print(trainX.shape[1])\n",
    "\n",
    "print(trainX_R.shape)\n",
    "print(trainY_R.shape)\n",
    "print(testX_R.shape)\n",
    "print(testY_R.shape)\n",
    "\n",
    "print(trainX_A.shape)\n",
    "print(trainY_A.shape)\n",
    "print(testX_A.shape)\n",
    "print(testY_A.shape)\n",
    "\n",
    "#print(trainX_T.shape)\n",
    "#print(trainY_T.shape)\n",
    "#print(testX_T.shape)\n",
    "#print(testY_T.shape)"
   ]
  },
  {
   "cell_type": "code",
   "execution_count": 72,
   "id": "a1f5e0f6",
   "metadata": {},
   "outputs": [],
   "source": [
    "from __future__ import print_function\n",
    "import math\n",
    "#importing keras modules\n",
    "import tensorflow as tf\n",
    "from tensorflow.keras.models import Sequential, Model\n",
    "from tensorflow.keras.layers import Dense, Activation ,Dropout , Flatten , Conv1D , MaxPooling1D\n",
    "from tensorflow.keras.layers import Input, Reshape, concatenate, LSTM\n",
    "from tensorflow.keras import losses\n",
    "from tensorflow.keras import optimizers"
   ]
  },
  {
   "cell_type": "code",
   "execution_count": 73,
   "id": "1e19f326",
   "metadata": {},
   "outputs": [],
   "source": [
    "inputs_R = Input(shape=(look_back,))\n",
    "inputs_A = Input(shape=(look_back,))\n",
    "#inputs_T = Input(shape=(look_back,))\n",
    "\n",
    "inputs_R_test = Reshape((inputs_R.shape[1], 1))(inputs_R)\n",
    "inputs_A_test = Reshape((inputs_A.shape[1], 1))(inputs_A)\n",
    "#inputs_T_test = Reshape((inputs_R.shape[1], 1))(inputs_T)"
   ]
  },
  {
   "cell_type": "code",
   "execution_count": 74,
   "id": "3dca260d",
   "metadata": {},
   "outputs": [],
   "source": [
    "head_list = []\n",
    "\n",
    "Ri_1 = Conv1D(filters=32,kernel_size=1,padding='same',activation='relu',kernel_initializer=\"glorot_uniform\")(inputs_R_test)\n",
    "Ri_2 = MaxPooling1D(pool_size=2,padding='valid')(Ri_1)\n",
    "Ri_3 = Conv1D(filters=32,kernel_size=1,padding='same',activation='relu',kernel_initializer=\"glorot_uniform\")(Ri_2)\n",
    "Ri_4 = MaxPooling1D(pool_size=2,padding='valid')(Ri_3)\n",
    "\n",
    "Ai_1 = Conv1D(filters=32,kernel_size=1,padding='same',activation='relu',kernel_initializer=\"glorot_uniform\")(inputs_A_test)\n",
    "Ai_2 = MaxPooling1D(pool_size=2,padding='valid')(Ai_1)\n",
    "Ai_3 = Conv1D(filters=32,kernel_size=1,padding='same',activation='relu',kernel_initializer=\"glorot_uniform\")(Ai_2)\n",
    "Ai_4 = MaxPooling1D(pool_size=2,padding='valid')(Ai_3)\n",
    "\n",
    "#Ti_1 = Conv1D(filters=32,kernel_size=1,padding='same',activation='relu',kernel_initializer=\"glorot_uniform\")(inputs_T_test)\n",
    "#Ti_2 = MaxPooling1D(pool_size=2,padding='valid')(Ti_1)\n",
    "#Ti_3 = Conv1D(filters=32,kernel_size=1,padding='same',activation='relu',kernel_initializer=\"glorot_uniform\")(Ti_2)\n",
    "#Ti_4 = MaxPooling1D(pool_size=2,padding='valid')(Ti_3)\n",
    "\n",
    "Ri_5 = Flatten()(Ri_4)\n",
    "head_list.append(Ri_5)\n",
    "Ai_5 = Flatten()(Ai_4)\n",
    "head_list.append(Ai_5)\n",
    "#Ti_5 = Flatten()(Ti_4)\n",
    "\n",
    "out = concatenate(head_list, axis = 1)\n",
    "reshape = Reshape((head_list[0].shape[1], 2))(out)\n",
    "#out = concatenate([Ri_5, Ai_5, Ti_5], axis = -1)\n",
    "tgt6 = LSTM(32,return_sequences=True)(reshape)\n",
    "tgt7 = LSTM(32,return_sequences=False)(tgt6)\n",
    "\n",
    "predictions = Dense(1, activation=\"relu\", kernel_initializer=\"uniform\")(tgt7)\n",
    "\n",
    "model = Model([inputs_R, inputs_A], outputs = predictions)\n",
    "model.compile(loss='mae',optimizer='Adam',metrics=['mse','mae'])"
   ]
  },
  {
   "cell_type": "code",
   "execution_count": 75,
   "id": "bcdb4bcb",
   "metadata": {
    "scrolled": false
   },
   "outputs": [
    {
     "name": "stdout",
     "output_type": "stream",
     "text": [
      "Model: \"functional_5\"\n",
      "__________________________________________________________________________________________________\n",
      "Layer (type)                    Output Shape         Param #     Connected to                     \n",
      "==================================================================================================\n",
      "input_5 (InputLayer)            [(None, 64)]         0                                            \n",
      "__________________________________________________________________________________________________\n",
      "input_6 (InputLayer)            [(None, 64)]         0                                            \n",
      "__________________________________________________________________________________________________\n",
      "reshape_6 (Reshape)             (None, 64, 1)        0           input_5[0][0]                    \n",
      "__________________________________________________________________________________________________\n",
      "reshape_7 (Reshape)             (None, 64, 1)        0           input_6[0][0]                    \n",
      "__________________________________________________________________________________________________\n",
      "conv1d_8 (Conv1D)               (None, 64, 32)       64          reshape_6[0][0]                  \n",
      "__________________________________________________________________________________________________\n",
      "conv1d_10 (Conv1D)              (None, 64, 32)       64          reshape_7[0][0]                  \n",
      "__________________________________________________________________________________________________\n",
      "max_pooling1d_8 (MaxPooling1D)  (None, 32, 32)       0           conv1d_8[0][0]                   \n",
      "__________________________________________________________________________________________________\n",
      "max_pooling1d_10 (MaxPooling1D) (None, 32, 32)       0           conv1d_10[0][0]                  \n",
      "__________________________________________________________________________________________________\n",
      "conv1d_9 (Conv1D)               (None, 32, 32)       1056        max_pooling1d_8[0][0]            \n",
      "__________________________________________________________________________________________________\n",
      "conv1d_11 (Conv1D)              (None, 32, 32)       1056        max_pooling1d_10[0][0]           \n",
      "__________________________________________________________________________________________________\n",
      "max_pooling1d_9 (MaxPooling1D)  (None, 16, 32)       0           conv1d_9[0][0]                   \n",
      "__________________________________________________________________________________________________\n",
      "max_pooling1d_11 (MaxPooling1D) (None, 16, 32)       0           conv1d_11[0][0]                  \n",
      "__________________________________________________________________________________________________\n",
      "flatten_4 (Flatten)             (None, 512)          0           max_pooling1d_9[0][0]            \n",
      "__________________________________________________________________________________________________\n",
      "flatten_5 (Flatten)             (None, 512)          0           max_pooling1d_11[0][0]           \n",
      "__________________________________________________________________________________________________\n",
      "concatenate_2 (Concatenate)     (None, 1024)         0           flatten_4[0][0]                  \n",
      "                                                                 flatten_5[0][0]                  \n",
      "__________________________________________________________________________________________________\n",
      "reshape_8 (Reshape)             (None, 512, 2)       0           concatenate_2[0][0]              \n",
      "__________________________________________________________________________________________________\n",
      "lstm_4 (LSTM)                   (None, 512, 32)      4480        reshape_8[0][0]                  \n",
      "__________________________________________________________________________________________________\n",
      "lstm_5 (LSTM)                   (None, 32)           8320        lstm_4[0][0]                     \n",
      "__________________________________________________________________________________________________\n",
      "dense_2 (Dense)                 (None, 1)            33          lstm_5[0][0]                     \n",
      "==================================================================================================\n",
      "Total params: 15,073\n",
      "Trainable params: 15,073\n",
      "Non-trainable params: 0\n",
      "__________________________________________________________________________________________________\n",
      "None\n"
     ]
    }
   ],
   "source": [
    "print(model.summary())"
   ]
  },
  {
   "cell_type": "code",
   "execution_count": 76,
   "id": "8d7ba773",
   "metadata": {
    "scrolled": true
   },
   "outputs": [
    {
     "name": "stdout",
     "output_type": "stream",
     "text": [
      "Epoch 1/30\n",
      "40/40 - 2s - loss: 0.5311 - mse: 0.4424 - mae: 0.5311 - val_loss: 0.0303 - val_mse: 9.1922e-04 - val_mae: 0.0303\n",
      "Epoch 2/30\n",
      "40/40 - 1s - loss: 0.0109 - mse: 1.8216e-04 - mae: 0.0109 - val_loss: 0.0039 - val_mse: 1.5210e-05 - val_mae: 0.0039\n",
      "Epoch 3/30\n",
      "40/40 - 1s - loss: 0.0060 - mse: 5.6991e-05 - mae: 0.0060 - val_loss: 0.0038 - val_mse: 1.4116e-05 - val_mae: 0.0038\n",
      "Epoch 4/30\n",
      "40/40 - 1s - loss: 0.0056 - mse: 4.6002e-05 - mae: 0.0056 - val_loss: 0.0019 - val_mse: 3.7551e-06 - val_mae: 0.0019\n",
      "Epoch 5/30\n",
      "40/40 - 1s - loss: 0.0035 - mse: 1.4676e-05 - mae: 0.0035 - val_loss: 0.0047 - val_mse: 2.1716e-05 - val_mae: 0.0047\n",
      "Epoch 6/30\n",
      "40/40 - 1s - loss: 0.0033 - mse: 1.4886e-05 - mae: 0.0033 - val_loss: 4.0364e-04 - val_mse: 1.6293e-07 - val_mae: 4.0364e-04\n",
      "Epoch 7/30\n",
      "40/40 - 1s - loss: 0.0026 - mse: 1.0606e-05 - mae: 0.0026 - val_loss: 0.0040 - val_mse: 1.6242e-05 - val_mae: 0.0040\n",
      "Epoch 8/30\n",
      "40/40 - 1s - loss: 0.0029 - mse: 1.2239e-05 - mae: 0.0029 - val_loss: 3.3259e-04 - val_mse: 1.1062e-07 - val_mae: 3.3259e-04\n",
      "Epoch 9/30\n",
      "40/40 - 1s - loss: 0.0055 - mse: 4.7241e-05 - mae: 0.0055 - val_loss: 0.0062 - val_mse: 3.8727e-05 - val_mae: 0.0062\n",
      "Epoch 10/30\n",
      "40/40 - 1s - loss: 0.0037 - mse: 2.1710e-05 - mae: 0.0037 - val_loss: 0.0014 - val_mse: 1.8795e-06 - val_mae: 0.0014\n",
      "Epoch 11/30\n",
      "40/40 - 1s - loss: 0.0018 - mse: 4.4877e-06 - mae: 0.0018 - val_loss: 0.0027 - val_mse: 7.4810e-06 - val_mae: 0.0027\n",
      "Epoch 12/30\n",
      "40/40 - 1s - loss: 0.0018 - mse: 3.7713e-06 - mae: 0.0018 - val_loss: 0.0016 - val_mse: 2.4101e-06 - val_mae: 0.0016\n",
      "Epoch 13/30\n",
      "40/40 - 1s - loss: 0.0019 - mse: 4.4253e-06 - mae: 0.0019 - val_loss: 7.8201e-05 - val_mse: 6.1154e-09 - val_mae: 7.8201e-05\n",
      "Epoch 14/30\n",
      "40/40 - 1s - loss: 0.0018 - mse: 4.7635e-06 - mae: 0.0018 - val_loss: 0.0020 - val_mse: 3.8509e-06 - val_mae: 0.0020\n",
      "Epoch 15/30\n",
      "40/40 - 1s - loss: 0.0028 - mse: 1.3481e-05 - mae: 0.0028 - val_loss: 0.0014 - val_mse: 1.8316e-06 - val_mae: 0.0014\n",
      "Epoch 16/30\n",
      "40/40 - 1s - loss: 0.0028 - mse: 1.3710e-05 - mae: 0.0028 - val_loss: 0.0026 - val_mse: 6.5083e-06 - val_mae: 0.0026\n",
      "Epoch 17/30\n",
      "40/40 - 1s - loss: 0.0046 - mse: 3.6402e-05 - mae: 0.0046 - val_loss: 0.0040 - val_mse: 1.5675e-05 - val_mae: 0.0040\n",
      "Epoch 18/30\n",
      "40/40 - 1s - loss: 0.0024 - mse: 9.3492e-06 - mae: 0.0024 - val_loss: 0.0056 - val_mse: 3.1003e-05 - val_mae: 0.0056\n",
      "Epoch 19/30\n",
      "40/40 - 1s - loss: 0.0027 - mse: 1.0798e-05 - mae: 0.0027 - val_loss: 0.0031 - val_mse: 9.3847e-06 - val_mae: 0.0031\n",
      "Epoch 20/30\n",
      "40/40 - 1s - loss: 0.0032 - mse: 1.1813e-05 - mae: 0.0032 - val_loss: 0.0026 - val_mse: 6.9213e-06 - val_mae: 0.0026\n",
      "Epoch 21/30\n",
      "40/40 - 1s - loss: 0.0028 - mse: 1.0896e-05 - mae: 0.0028 - val_loss: 0.0045 - val_mse: 2.0060e-05 - val_mae: 0.0045\n",
      "Epoch 22/30\n",
      "40/40 - 1s - loss: 0.0027 - mse: 1.1059e-05 - mae: 0.0027 - val_loss: 0.0021 - val_mse: 4.3800e-06 - val_mae: 0.0021\n",
      "Epoch 23/30\n",
      "40/40 - 1s - loss: 0.0026 - mse: 1.0350e-05 - mae: 0.0026 - val_loss: 1.2773e-04 - val_mse: 1.6316e-08 - val_mae: 1.2773e-04\n",
      "Epoch 24/30\n",
      "40/40 - 1s - loss: 0.0047 - mse: 3.9018e-05 - mae: 0.0047 - val_loss: 1.1337e-04 - val_mse: 1.2852e-08 - val_mae: 1.1337e-04\n",
      "Epoch 25/30\n",
      "40/40 - 1s - loss: 0.0027 - mse: 1.2123e-05 - mae: 0.0027 - val_loss: 7.2658e-05 - val_mse: 5.2792e-09 - val_mae: 7.2658e-05\n",
      "Epoch 26/30\n",
      "40/40 - 1s - loss: 0.0024 - mse: 1.0812e-05 - mae: 0.0024 - val_loss: 2.9194e-04 - val_mse: 8.5231e-08 - val_mae: 2.9194e-04\n",
      "Epoch 27/30\n",
      "40/40 - 1s - loss: 0.0017 - mse: 3.8669e-06 - mae: 0.0017 - val_loss: 0.0027 - val_mse: 7.1566e-06 - val_mae: 0.0027\n",
      "Epoch 28/30\n",
      "40/40 - 1s - loss: 0.0018 - mse: 3.3254e-06 - mae: 0.0018 - val_loss: 0.0014 - val_mse: 2.0724e-06 - val_mae: 0.0014\n",
      "Epoch 29/30\n",
      "40/40 - 1s - loss: 0.0017 - mse: 4.1922e-06 - mae: 0.0017 - val_loss: 1.2112e-04 - val_mse: 1.4669e-08 - val_mae: 1.2112e-04\n",
      "Epoch 30/30\n",
      "40/40 - 1s - loss: 0.0017 - mse: 3.9041e-06 - mae: 0.0017 - val_loss: 0.0028 - val_mse: 8.0526e-06 - val_mae: 0.0028\n",
      "40.561485800000014\n"
     ]
    }
   ],
   "source": [
    "from timeit import default_timer as timer\n",
    "start = timer()\n",
    "history = model.fit([trainX_R, trainX_A],\n",
    "                    trainY_A,\n",
    "                    batch_size=64,\n",
    "                    epochs=30,\n",
    "                    validation_split=0.2,\n",
    "                    verbose=2)\n",
    "end = timer()\n",
    "print(end - start)"
   ]
  },
  {
   "cell_type": "code",
   "execution_count": 77,
   "id": "b74f881e",
   "metadata": {},
   "outputs": [
    {
     "data": {
      "text/plain": [
       "dict_keys(['loss', 'mse', 'mae', 'val_loss', 'val_mse', 'val_mae'])"
      ]
     },
     "execution_count": 77,
     "metadata": {},
     "output_type": "execute_result"
    }
   ],
   "source": [
    "history_dict = history.history\n",
    "history_dict.keys()"
   ]
  },
  {
   "cell_type": "code",
   "execution_count": 78,
   "id": "920d45b9",
   "metadata": {},
   "outputs": [
    {
     "name": "stdout",
     "output_type": "stream",
     "text": [
      "timesteps :  64\n"
     ]
    },
    {
     "data": {
      "text/plain": [
       "Text(0.5, 1.0, 'mae')"
      ]
     },
     "execution_count": 78,
     "metadata": {},
     "output_type": "execute_result"
    },
    {
     "data": {
      "image/png": "[encoded data removed]",
      "text/plain": [
       "<Figure size 432x288 with 1 Axes>"
      ]
     },
     "metadata": {
      "needs_background": "light"
     },
     "output_type": "display_data"
    }
   ],
   "source": [
    "print('timesteps : ', look_back)\n",
    "plt.plot(history.history['mae'])\n",
    "plt.title('mae')"
   ]
  },
  {
   "cell_type": "code",
   "execution_count": 79,
   "id": "eb980b12",
   "metadata": {},
   "outputs": [
    {
     "name": "stdout",
     "output_type": "stream",
     "text": [
      "timesteps :  64\n"
     ]
    },
    {
     "data": {
      "text/plain": [
       "Text(0.5, 1.0, 'mse')"
      ]
     },
     "execution_count": 79,
     "metadata": {},
     "output_type": "execute_result"
    },
    {
     "data": {
      "image/png": "[encoded data removed]",
      "text/plain": [
       "<Figure size 432x288 with 1 Axes>"
      ]
     },
     "metadata": {
      "needs_background": "light"
     },
     "output_type": "display_data"
    }
   ],
   "source": [
    "print('timesteps : ', look_back)\n",
    "plt.plot(history.history['mse'])\n",
    "plt.title('mse')"
   ]
  },
  {
   "cell_type": "code",
   "execution_count": 80,
   "id": "89fc36c3",
   "metadata": {},
   "outputs": [
    {
     "data": {
      "text/plain": [
       "[<matplotlib.lines.Line2D at 0x1d80a2ec4c8>]"
      ]
     },
     "execution_count": 80,
     "metadata": {},
     "output_type": "execute_result"
    },
    {
     "data": {
      "image/png": "[encoded data removed]",
      "text/plain": [
       "<Figure size 432x288 with 1 Axes>"
      ]
     },
     "metadata": {
      "needs_background": "light"
     },
     "output_type": "display_data"
    }
   ],
   "source": [
    "plt.title('loss')\n",
    "plt.plot(history.history['loss'])"
   ]
  },
  {
   "cell_type": "code",
   "execution_count": 81,
   "id": "31e5ec31",
   "metadata": {},
   "outputs": [
    {
     "data": {
      "image/png": "[encoded data removed]",
      "text/plain": [
       "<Figure size 1080x504 with 1 Axes>"
      ]
     },
     "metadata": {
      "needs_background": "light"
     },
     "output_type": "display_data"
    }
   ],
   "source": [
    "# 画出训练集和验证集的损失曲线\n",
    "\n",
    "import matplotlib.pyplot as plt\n",
    "\n",
    "loss_values = history_dict['loss']\n",
    "val_loss_values = history_dict['val_loss']\n",
    "loss_values50 = loss_values[0:150]\n",
    "val_loss_values50 = val_loss_values[0:150]\n",
    "epochs = range(1, len(loss_values50) + 1)\n",
    "plt.plot(epochs, loss_values50, 'b',color = 'blue', label='Training loss')\n",
    "plt.plot(epochs, val_loss_values50, 'b',color='orange', label='Validation loss')\n",
    "plt.rc('font', size = 18)\n",
    "plt.title('Training and validation loss')\n",
    "plt.xlabel('Epochs')\n",
    "plt.ylabel('Loss')\n",
    "plt.legend()\n",
    "plt.xticks(epochs)\n",
    "fig = plt.gcf()\n",
    "fig.set_size_inches(15,7)\n",
    "#fig.savefig('img/tcstest&validationlosscnn.png', dpi=300)\n",
    "plt.show()"
   ]
  },
  {
   "cell_type": "code",
   "execution_count": 82,
   "id": "b1da2b24",
   "metadata": {},
   "outputs": [
    {
     "data": {
      "image/png": "[encoded data removed]",
      "text/plain": [
       "<Figure size 1080x504 with 1 Axes>"
      ]
     },
     "metadata": {
      "needs_background": "light"
     },
     "output_type": "display_data"
    }
   ],
   "source": [
    "# 画出训练集和验证集的误差图像\n",
    "\n",
    "#mae = history_dict['mean_absolute_error']\n",
    "#vmae = history_dict['val_mean_absolute_error']\n",
    "mae = history.history['mae']\n",
    "vmae = history.history['val_mae']\n",
    "epochs = range(1, len(mae) + 1)\n",
    "plt.plot(epochs, mae, 'b',color = 'blue', label='Training error')\n",
    "plt.plot(epochs, vmae, 'b',color='orange', label='Validation error')\n",
    "plt.title('Training and validation error')\n",
    "plt.xlabel('Epochs')\n",
    "plt.ylabel('Error')\n",
    "plt.legend()\n",
    "plt.xticks(epochs)\n",
    "fig = plt.gcf()\n",
    "fig.set_size_inches(15,7)\n",
    "#fig.savefig('img/tcstest&validationerrorcnn.png', dpi=300)\n",
    "plt.show()"
   ]
  },
  {
   "cell_type": "code",
   "execution_count": 83,
   "id": "647022f0",
   "metadata": {},
   "outputs": [],
   "source": [
    "model.metrics_names\n",
    "\n",
    "trainScore = model.evaluate([trainX_R, trainX_A], trainY_A, verbose=0)\n",
    "testScore = model.evaluate([testX_R, testX_A], testY_A, verbose=0)"
   ]
  },
  {
   "cell_type": "code",
   "execution_count": 84,
   "id": "f4bc047c",
   "metadata": {
    "scrolled": true
   },
   "outputs": [
    {
     "data": {
      "image/png": "[encoded data removed]",
      "text/plain": [
       "<Figure size 1080x360 with 1 Axes>"
      ]
     },
     "metadata": {
      "needs_background": "light"
     },
     "output_type": "display_data"
    }
   ],
   "source": [
    "#predicting values for y_test\n",
    "p = model.predict([testX_R, testX_A])\n",
    "\n",
    "plt.plot(testY_A, label='y_test')\n",
    "plt.plot(p, label='prediction')\n",
    "plt.xlabel('test data Ai')\n",
    "plt.ylabel('predict Ai')\n",
    "plt.legend(loc='upper left')\n",
    "fig = plt.gcf()\n",
    "fig.set_size_inches(15, 5)\n",
    "#fig.savefig('img/tcstestcnn.png', dpi=300)\n",
    "plt.show()"
   ]
  },
  {
   "cell_type": "code",
   "execution_count": 85,
   "id": "3738226a",
   "metadata": {},
   "outputs": [],
   "source": [
    "model.save('./SelfData_thesis/0716_U20D00_constant_CNNLSTM_ONU16_Gi78125_Ai78125_Ai_4layer_timesteps64_epoch30.h5', include_optimizer=False)"
   ]
  },
  {
   "cell_type": "code",
   "execution_count": null,
   "id": "44041f92",
   "metadata": {},
   "outputs": [],
   "source": []
  }
 ],
 "metadata": {
  "kernelspec": {
   "display_name": "Python 3",
   "language": "python",
   "name": "python3"
  },
  "language_info": {
   "codemirror_mode": {
    "name": "ipython",
    "version": 3
   },
   "file_extension": ".py",
   "mimetype": "text/x-python",
   "name": "python",
   "nbconvert_exporter": "python",
   "pygments_lexer": "ipython3",
   "version": "3.7.7"
  }
 },
 "nbformat": 4,
 "nbformat_minor": 5
}
