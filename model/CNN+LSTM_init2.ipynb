{
 "cells": [
  {
   "cell_type": "code",
   "execution_count": 1,
   "id": "e667c403",
   "metadata": {},
   "outputs": [],
   "source": [
    "from numpy import array\n",
    "from tensorflow.keras.models import Sequential\n",
    "from tensorflow.keras.layers import Conv2D, MaxPooling2D, LSTM, Dense, Flatten, TimeDistributed"
   ]
  },
  {
   "cell_type": "code",
   "execution_count": 2,
   "id": "f895b84b",
   "metadata": {},
   "outputs": [
    {
     "name": "stdout",
     "output_type": "stream",
     "text": [
      "5000\n",
      "[0.0, 0.0, 0.0, 0.0, 0.0, 0.0, 0.0, 0.0, 0.0, 0.0, 0.0, 12390.0, 11959.0, 10527.0, 41509.0, 1107.0, 36682.0, 27262.0, 3326.0, 4707.0]\n",
      "max:  195000.0\n"
     ]
    }
   ],
   "source": [
    "text_file = open(\"./SelfData/U08_ONU16_15S_Ai_635745_0516.txt\",\"r\")#ONU_16_GrantDownLoadSizePerCycle, ONU[27]_GrantDown.txt\n",
    "lines = text_file.readlines()\n",
    "i = 1\n",
    "\n",
    "Down64GB = []\n",
    "\n",
    "i = 0\n",
    "for line in lines:\n",
    "    if i < 5000:\n",
    "        n = float(line)\n",
    "        if(n > 195000.0):\n",
    "            Down64GB.append(195000.0)\n",
    "        elif n >= 0:\n",
    "            Down64GB.append(float(line))\n",
    "    i = i + 1\n",
    "\n",
    "print(len(Down64GB))\n",
    "print(Down64GB[20:40])\n",
    "print('max: ',max(Down64GB))"
   ]
  },
  {
   "cell_type": "code",
   "execution_count": null,
   "id": "02f7217a",
   "metadata": {},
   "outputs": [],
   "source": []
  },
  {
   "cell_type": "code",
   "execution_count": null,
   "id": "2056d321",
   "metadata": {},
   "outputs": [],
   "source": [
    "model = Sequential()\n",
    "model.add(TimeDistributed(Conv2D(2, (2, 2), activation= 'relu'), input_shape=(None, size, size, 1)))\n",
    "model.add(TimeDistributed(MaxPooling2D(pool_size=(2, 2))))\n",
    "model.add(TimeDistributed(Flatten()))\n",
    "model.add(LSTM(50))\n",
    "model.add(Dense(1, activation='sigmoid'))\n",
    "model.compile(loss='binary_crossentropy', optimizer='adam', metrics=['acc'])\n",
    "print(model.summary())"
   ]
  }
 ],
 "metadata": {
  "kernelspec": {
   "display_name": "Python 3",
   "language": "python",
   "name": "python3"
  },
  "language_info": {
   "codemirror_mode": {
    "name": "ipython",
    "version": 3
   },
   "file_extension": ".py",
   "mimetype": "text/x-python",
   "name": "python",
   "nbconvert_exporter": "python",
   "pygments_lexer": "ipython3",
   "version": "3.7.7"
  }
 },
 "nbformat": 4,
 "nbformat_minor": 5
}
