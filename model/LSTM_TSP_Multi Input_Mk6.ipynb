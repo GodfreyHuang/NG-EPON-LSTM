{
 "cells": [
  {
   "cell_type": "code",
   "execution_count": 14,
   "id": "8853fa5b",
   "metadata": {},
   "outputs": [],
   "source": [
    "import numpy as np\n",
    "import tensorflow as tf\n",
    "from tensorflow.keras.layers import Input, Dense, LSTM, Reshape, Dropout, LayerNormalization\n",
    "from tensorflow.keras.models import Model, Sequential\n",
    "from sklearn.preprocessing import MinMaxScaler\n",
    "import matplotlib.pyplot as plt\n",
    "import math\n",
    "from sklearn.metrics import mean_absolute_error as mae\n",
    "from sklearn.preprocessing import MinMaxScaler\n",
    "from tensorflow.keras.layers import concatenate\n",
    "sc = MinMaxScaler(feature_range = (0,1))\n",
    "\n",
    "import pandas as pd"
   ]
  },
  {
   "cell_type": "code",
   "execution_count": 15,
   "id": "6cc778a7",
   "metadata": {
    "scrolled": true
   },
   "outputs": [
    {
     "data": {
      "text/html": [
       "<div>\n",
       "<style scoped>\n",
       "    .dataframe tbody tr th:only-of-type {\n",
       "        vertical-align: middle;\n",
       "    }\n",
       "\n",
       "    .dataframe tbody tr th {\n",
       "        vertical-align: top;\n",
       "    }\n",
       "\n",
       "    .dataframe thead th {\n",
       "        text-align: right;\n",
       "    }\n",
       "</style>\n",
       "<table border=\"1\" class=\"dataframe\">\n",
       "  <thead>\n",
       "    <tr style=\"text-align: right;\">\n",
       "      <th></th>\n",
       "      <th>Gi - 1</th>\n",
       "    </tr>\n",
       "  </thead>\n",
       "  <tbody>\n",
       "    <tr>\n",
       "      <th>0</th>\n",
       "      <td>15794</td>\n",
       "    </tr>\n",
       "    <tr>\n",
       "      <th>1</th>\n",
       "      <td>8693</td>\n",
       "    </tr>\n",
       "    <tr>\n",
       "      <th>2</th>\n",
       "      <td>17019</td>\n",
       "    </tr>\n",
       "    <tr>\n",
       "      <th>3</th>\n",
       "      <td>32568</td>\n",
       "    </tr>\n",
       "    <tr>\n",
       "      <th>4</th>\n",
       "      <td>15332</td>\n",
       "    </tr>\n",
       "  </tbody>\n",
       "</table>\n",
       "</div>"
      ],
      "text/plain": [
       "   Gi - 1\n",
       "0   15794\n",
       "1    8693\n",
       "2   17019\n",
       "3   32568\n",
       "4   15332"
      ]
     },
     "execution_count": 15,
     "metadata": {},
     "output_type": "execute_result"
    }
   ],
   "source": [
    "df1 = pd.read_csv('./Poisson8GData/U08_ONU16_15S_Gi-1_48133_0428.csv', usecols=[0], engine='python')\n",
    "df1.head()"
   ]
  },
  {
   "cell_type": "code",
   "execution_count": 16,
   "id": "8e2cc326",
   "metadata": {
    "scrolled": true
   },
   "outputs": [
    {
     "data": {
      "text/html": [
       "<div>\n",
       "<style scoped>\n",
       "    .dataframe tbody tr th:only-of-type {\n",
       "        vertical-align: middle;\n",
       "    }\n",
       "\n",
       "    .dataframe tbody tr th {\n",
       "        vertical-align: top;\n",
       "    }\n",
       "\n",
       "    .dataframe thead th {\n",
       "        text-align: right;\n",
       "    }\n",
       "</style>\n",
       "<table border=\"1\" class=\"dataframe\">\n",
       "  <thead>\n",
       "    <tr style=\"text-align: right;\">\n",
       "      <th></th>\n",
       "      <th>Ri</th>\n",
       "    </tr>\n",
       "  </thead>\n",
       "  <tbody>\n",
       "    <tr>\n",
       "      <th>0</th>\n",
       "      <td>8693</td>\n",
       "    </tr>\n",
       "    <tr>\n",
       "      <th>1</th>\n",
       "      <td>15472</td>\n",
       "    </tr>\n",
       "    <tr>\n",
       "      <th>2</th>\n",
       "      <td>29608</td>\n",
       "    </tr>\n",
       "    <tr>\n",
       "      <th>3</th>\n",
       "      <td>13939</td>\n",
       "    </tr>\n",
       "    <tr>\n",
       "      <th>4</th>\n",
       "      <td>11147</td>\n",
       "    </tr>\n",
       "  </tbody>\n",
       "</table>\n",
       "</div>"
      ],
      "text/plain": [
       "      Ri\n",
       "0   8693\n",
       "1  15472\n",
       "2  29608\n",
       "3  13939\n",
       "4  11147"
      ]
     },
     "execution_count": 16,
     "metadata": {},
     "output_type": "execute_result"
    }
   ],
   "source": [
    "df2 = pd.read_csv('./Poisson8GData/U08_ONU16_15S_Ri_43758_0428.csv', usecols=[0], engine='python')\n",
    "df2.head()"
   ]
  },
  {
   "cell_type": "code",
   "execution_count": 17,
   "id": "5a241876",
   "metadata": {},
   "outputs": [
    {
     "data": {
      "text/html": [
       "<div>\n",
       "<style scoped>\n",
       "    .dataframe tbody tr th:only-of-type {\n",
       "        vertical-align: middle;\n",
       "    }\n",
       "\n",
       "    .dataframe tbody tr th {\n",
       "        vertical-align: top;\n",
       "    }\n",
       "\n",
       "    .dataframe thead th {\n",
       "        text-align: right;\n",
       "    }\n",
       "</style>\n",
       "<table border=\"1\" class=\"dataframe\">\n",
       "  <thead>\n",
       "    <tr style=\"text-align: right;\">\n",
       "      <th></th>\n",
       "      <th>Ai</th>\n",
       "    </tr>\n",
       "  </thead>\n",
       "  <tbody>\n",
       "    <tr>\n",
       "      <th>0</th>\n",
       "      <td>15472</td>\n",
       "    </tr>\n",
       "    <tr>\n",
       "      <th>1</th>\n",
       "      <td>31155</td>\n",
       "    </tr>\n",
       "    <tr>\n",
       "      <th>2</th>\n",
       "      <td>16808</td>\n",
       "    </tr>\n",
       "    <tr>\n",
       "      <th>3</th>\n",
       "      <td>12416</td>\n",
       "    </tr>\n",
       "    <tr>\n",
       "      <th>4</th>\n",
       "      <td>8552</td>\n",
       "    </tr>\n",
       "  </tbody>\n",
       "</table>\n",
       "</div>"
      ],
      "text/plain": [
       "      Ai\n",
       "0  15472\n",
       "1  31155\n",
       "2  16808\n",
       "3  12416\n",
       "4   8552"
      ]
     },
     "execution_count": 17,
     "metadata": {},
     "output_type": "execute_result"
    }
   ],
   "source": [
    "df3 = pd.read_csv('./Poisson8GData/U08_ONUAi_ONU16.csv', usecols=[0], engine='python')\n",
    "df3.head()"
   ]
  },
  {
   "cell_type": "code",
   "execution_count": 18,
   "id": "4ce717d0",
   "metadata": {},
   "outputs": [],
   "source": [
    "df1 = df1.values\n",
    "df1 = df1.astype('float32')\n",
    "\n",
    "df2 = df2.values\n",
    "df2 = df2.astype('float32')\n",
    "\n",
    "df3 = df3.values\n",
    "df3 = df3.astype('float32')"
   ]
  },
  {
   "cell_type": "code",
   "execution_count": 19,
   "id": "30917e30",
   "metadata": {},
   "outputs": [
    {
     "name": "stdout",
     "output_type": "stream",
     "text": [
      "48133.0\n",
      "43758.0\n",
      "45440.0\n"
     ]
    }
   ],
   "source": [
    "print(np.max(df1))\n",
    "print(np.max(df2))\n",
    "print(np.max(df3))\n",
    "#df2 = []\n",
    "\n",
    "#for i in range(len(df)):\n",
    "#    if(df[i] > 195000.0):\n",
    "#        df[i] = 195000.0\n",
    "#    df2.append(df[i])"
   ]
  },
  {
   "cell_type": "code",
   "execution_count": 20,
   "id": "eb0bc9aa",
   "metadata": {},
   "outputs": [
    {
     "name": "stdout",
     "output_type": "stream",
     "text": [
      "46651\n",
      "46651\n",
      "46651\n"
     ]
    }
   ],
   "source": [
    "#df = df2\n",
    "df1 = df1[:46651]\n",
    "df2 = df2[:46651]\n",
    "print(len(df1))\n",
    "print(len(df2))\n",
    "print(len(df3))"
   ]
  },
  {
   "cell_type": "code",
   "execution_count": 21,
   "id": "2363e283",
   "metadata": {},
   "outputs": [],
   "source": [
    "# normalize the dataset\n",
    "#scaler = MinMaxScaler(feature_range=(0, 1))\n",
    "#datasetG = scaler.fit_transform(df1)\n",
    "#datasetA = scaler.fit_transform(df2)\n",
    "datasetG = df1\n",
    "datasetR = df2\n",
    "datasetA = df3"
   ]
  },
  {
   "cell_type": "code",
   "execution_count": 22,
   "id": "942e19ff",
   "metadata": {},
   "outputs": [],
   "source": [
    "scaler = MinMaxScaler(feature_range=(0, 1))"
   ]
  },
  {
   "cell_type": "code",
   "execution_count": 23,
   "id": "10b47adc",
   "metadata": {
    "scrolled": true
   },
   "outputs": [
    {
     "name": "stdout",
     "output_type": "stream",
     "text": [
      "32655 13996\n"
     ]
    }
   ],
   "source": [
    "# split into train and test sets\n",
    "train_sizeG = int(len(datasetG) * 0.7) \n",
    "test_sizeG = len(datasetG) - train_sizeG\n",
    "trainG, testG = datasetG[0:train_sizeG], datasetG[train_sizeG:len(datasetG)]\n",
    "\n",
    "trainG = scaler.fit_transform(trainG)\n",
    "testG = scaler.fit_transform(testG)\n",
    "print(len(trainG), len(testG))"
   ]
  },
  {
   "cell_type": "code",
   "execution_count": 24,
   "id": "c4ac261d",
   "metadata": {},
   "outputs": [
    {
     "name": "stdout",
     "output_type": "stream",
     "text": [
      "32655 13996\n"
     ]
    }
   ],
   "source": [
    "# split into train and test sets\n",
    "train_sizeR = int(len(datasetR) * 0.7) \n",
    "test_sizeR = len(datasetR) - train_sizeR\n",
    "trainR, testR = datasetR[0:train_sizeR], datasetR[train_sizeR:len(datasetR)]\n",
    "\n",
    "#scaler = MinMaxScaler(feature_range=(0, 1))\n",
    "trainR = scaler.fit_transform(trainR)\n",
    "testR = scaler.fit_transform(testR)\n",
    "print(len(trainR), len(testR))"
   ]
  },
  {
   "cell_type": "code",
   "execution_count": 25,
   "id": "a6c0699e",
   "metadata": {},
   "outputs": [
    {
     "name": "stdout",
     "output_type": "stream",
     "text": [
      "32655 13996\n"
     ]
    }
   ],
   "source": [
    "# split into train and test sets\n",
    "train_sizeA = int(len(datasetA) * 0.7) \n",
    "test_sizeA = len(datasetA) - train_sizeA\n",
    "trainA, testA = datasetA[0:train_sizeA], datasetA[train_sizeA:len(datasetA)]\n",
    "\n",
    "#scaler = MinMaxScaler(feature_range=(0, 1))\n",
    "trainA = scaler.fit_transform(trainA)\n",
    "testA = scaler.fit_transform(testA)\n",
    "print(len(trainA), len(testA))"
   ]
  },
  {
   "cell_type": "code",
   "execution_count": 26,
   "id": "6f985ef2",
   "metadata": {},
   "outputs": [],
   "source": [
    "# convert an array of values into a dataset matrix\n",
    "def create_dataset(dataset, look_back=1):\n",
    "    dataX, dataY = [], []\n",
    "    for i in range(len(dataset) - look_back - 1):\n",
    "        a = dataset[i:(i + look_back)]\n",
    "        dataX.append(a)\n",
    "        dataY.append(dataset[i + look_back])\n",
    "    return np.array(dataX), np.array(dataY)"
   ]
  },
  {
   "cell_type": "code",
   "execution_count": 27,
   "id": "520ee9dc",
   "metadata": {},
   "outputs": [],
   "source": [
    "# reshape into X=t and Y=t+1\n",
    "look_back = 10 #16\n",
    "trainX_G, trainY_G = create_dataset(trainG, look_back)\n",
    "testX_G, testY_G = create_dataset(testG, look_back)\n",
    "\n",
    "trainX_R, trainY_R = create_dataset(trainR, look_back)\n",
    "testX_R, testY_R = create_dataset(testR, look_back)\n",
    "\n",
    "trainX_A, trainY_A = create_dataset(trainA, look_back)\n",
    "testX_A, testY_A = create_dataset(testA, look_back)"
   ]
  },
  {
   "cell_type": "code",
   "execution_count": 28,
   "id": "1594843d",
   "metadata": {},
   "outputs": [
    {
     "name": "stdout",
     "output_type": "stream",
     "text": [
      "(32644, 10, 1)\n",
      "(32644, 1)\n",
      "(13985, 10, 1)\n",
      "(13985, 1)\n",
      "(32644, 10, 1)\n",
      "(32644, 1)\n",
      "(13985, 10, 1)\n",
      "(13985, 1)\n",
      "(32644, 10, 1)\n",
      "(32644, 1)\n",
      "(13985, 10, 1)\n",
      "(13985, 1)\n"
     ]
    }
   ],
   "source": [
    "# reshape input to be [samples, time steps, features]\n",
    "trainX_G = np.reshape(trainX_G, (trainX_G.shape[0], look_back, 1))\n",
    "testX_G = np.reshape(testX_G, (testX_G.shape[0], look_back, 1))\n",
    "\n",
    "trainX_R = np.reshape(trainX_R, (trainX_R.shape[0], look_back, 1))\n",
    "testX_R = np.reshape(testX_R, (testX_R.shape[0], look_back, 1))\n",
    "\n",
    "trainX_A = np.reshape(trainX_A, (trainX_A.shape[0], look_back, 1))\n",
    "testX_A = np.reshape(testX_A, (testX_A.shape[0], look_back, 1))\n",
    "#print(trainX.shape[1])\n",
    "print(trainX_G.shape)\n",
    "print(trainY_G.shape)\n",
    "print(testX_G.shape)\n",
    "print(testY_G.shape)\n",
    "\n",
    "print(trainX_R.shape)\n",
    "print(trainY_R.shape)\n",
    "print(testX_R.shape)\n",
    "print(testY_R.shape)\n",
    "\n",
    "print(trainX_A.shape)\n",
    "print(trainY_A.shape)\n",
    "print(testX_A.shape)\n",
    "print(testY_A.shape)"
   ]
  },
  {
   "cell_type": "code",
   "execution_count": 29,
   "id": "1ff79242",
   "metadata": {},
   "outputs": [],
   "source": [
    "#inputsR = Input(shape=(timesteps,))\n",
    "inputs_G = Input(shape=(look_back,))\n",
    "inputs_R = Input(shape=(look_back,))\n",
    "#inputs = LayerNormalization(axis=1)(inputs)\n",
    "#inputs_R_test = Reshape((inputs_R.shape[1],1))(inputs_R)\n",
    "inputs_G_test = Reshape((inputs_G.shape[1], 1))(inputs_G)\n",
    "inputs_R_test = Reshape((inputs_R.shape[1], 1))(inputs_R)\n",
    "\n",
    "input_merge = concatenate([inputs_G_test, inputs_R_test], axis = -1)\n",
    "\n",
    "tgt1 = Reshape((look_back, 2))(input_merge)\n",
    "\n",
    "#tf.print(tgt1, output_stream=sys.stderr)"
   ]
  },
  {
   "cell_type": "code",
   "execution_count": 30,
   "id": "4669bc78",
   "metadata": {
    "scrolled": true
   },
   "outputs": [
    {
     "name": "stdout",
     "output_type": "stream",
     "text": [
      "Epoch 1/100\n",
      "1021/1021 [==============================] - 6s 6ms/step - loss: 0.0333 - mse: 0.0333 - mae: 0.1527\n",
      "Epoch 2/100\n",
      "1021/1021 [==============================] - 6s 6ms/step - loss: 0.0297 - mse: 0.0297 - mae: 0.1397\n",
      "Epoch 3/100\n",
      "1021/1021 [==============================] - 6s 6ms/step - loss: 0.0289 - mse: 0.0289 - mae: 0.1371\n",
      "Epoch 4/100\n",
      "1021/1021 [==============================] - 6s 6ms/step - loss: 0.0287 - mse: 0.0287 - mae: 0.1358\n",
      "Epoch 5/100\n",
      "1021/1021 [==============================] - 6s 6ms/step - loss: 0.0285 - mse: 0.0285 - mae: 0.1352\n",
      "Epoch 6/100\n",
      "1021/1021 [==============================] - 7s 7ms/step - loss: 0.0284 - mse: 0.0284 - mae: 0.1345\n",
      "Epoch 7/100\n",
      "1021/1021 [==============================] - 7s 7ms/step - loss: 0.0283 - mse: 0.0283 - mae: 0.1341\n",
      "Epoch 8/100\n",
      "1021/1021 [==============================] - 7s 7ms/step - loss: 0.0284 - mse: 0.0284 - mae: 0.1344\n",
      "Epoch 9/100\n",
      "1021/1021 [==============================] - 6s 6ms/step - loss: 0.0283 - mse: 0.0283 - mae: 0.1343\n",
      "Epoch 10/100\n",
      "1021/1021 [==============================] - 6s 6ms/step - loss: 0.0283 - mse: 0.0283 - mae: 0.1340\n",
      "Epoch 11/100\n",
      "1021/1021 [==============================] - 7s 7ms/step - loss: 0.0283 - mse: 0.0283 - mae: 0.1337\n",
      "Epoch 12/100\n",
      "1021/1021 [==============================] - 7s 6ms/step - loss: 0.0282 - mse: 0.0282 - mae: 0.1335\n",
      "Epoch 13/100\n",
      "1021/1021 [==============================] - 6s 6ms/step - loss: 0.0282 - mse: 0.0282 - mae: 0.1335\n",
      "Epoch 14/100\n",
      "1021/1021 [==============================] - 6s 6ms/step - loss: 0.0282 - mse: 0.0282 - mae: 0.1336\n",
      "Epoch 15/100\n",
      "1021/1021 [==============================] - 6s 6ms/step - loss: 0.0282 - mse: 0.0282 - mae: 0.1335\n",
      "Epoch 16/100\n",
      "1021/1021 [==============================] - 6s 6ms/step - loss: 0.0281 - mse: 0.0281 - mae: 0.1335\n",
      "Epoch 17/100\n",
      "1021/1021 [==============================] - 6s 6ms/step - loss: 0.0282 - mse: 0.0282 - mae: 0.1336\n",
      "Epoch 18/100\n",
      "1021/1021 [==============================] - 6s 6ms/step - loss: 0.0282 - mse: 0.0282 - mae: 0.1337\n",
      "Epoch 19/100\n",
      "1021/1021 [==============================] - 6s 6ms/step - loss: 0.0281 - mse: 0.0281 - mae: 0.1336\n",
      "Epoch 20/100\n",
      "1021/1021 [==============================] - 6s 6ms/step - loss: 0.0281 - mse: 0.0281 - mae: 0.1339\n",
      "Epoch 21/100\n",
      "1021/1021 [==============================] - 6s 6ms/step - loss: 0.0281 - mse: 0.0281 - mae: 0.1333\n",
      "Epoch 22/100\n",
      "1021/1021 [==============================] - 6s 6ms/step - loss: 0.0281 - mse: 0.0281 - mae: 0.1334\n",
      "Epoch 23/100\n",
      "1021/1021 [==============================] - 6s 6ms/step - loss: 0.0280 - mse: 0.0280 - mae: 0.1332\n",
      "Epoch 24/100\n",
      "1021/1021 [==============================] - 6s 6ms/step - loss: 0.0280 - mse: 0.0280 - mae: 0.1334\n",
      "Epoch 25/100\n",
      "1021/1021 [==============================] - 6s 6ms/step - loss: 0.0280 - mse: 0.0280 - mae: 0.1333\n",
      "Epoch 26/100\n",
      "1021/1021 [==============================] - 6s 6ms/step - loss: 0.0281 - mse: 0.0281 - mae: 0.1333\n",
      "Epoch 27/100\n",
      "1021/1021 [==============================] - 6s 6ms/step - loss: 0.0280 - mse: 0.0280 - mae: 0.1335\n",
      "Epoch 28/100\n",
      "1021/1021 [==============================] - 6s 6ms/step - loss: 0.0281 - mse: 0.0281 - mae: 0.1334\n",
      "Epoch 29/100\n",
      "1021/1021 [==============================] - 6s 6ms/step - loss: 0.0280 - mse: 0.0280 - mae: 0.1335\n",
      "Epoch 30/100\n",
      "1021/1021 [==============================] - 6s 6ms/step - loss: 0.0280 - mse: 0.0280 - mae: 0.1334\n",
      "Epoch 31/100\n",
      "1021/1021 [==============================] - 6s 6ms/step - loss: 0.0280 - mse: 0.0280 - mae: 0.1333\n",
      "Epoch 32/100\n",
      "1021/1021 [==============================] - 6s 6ms/step - loss: 0.0280 - mse: 0.0280 - mae: 0.1334\n",
      "Epoch 33/100\n",
      "1021/1021 [==============================] - 6s 6ms/step - loss: 0.0280 - mse: 0.0280 - mae: 0.1334\n",
      "Epoch 34/100\n",
      "1021/1021 [==============================] - 6s 6ms/step - loss: 0.0280 - mse: 0.0280 - mae: 0.1335\n",
      "Epoch 35/100\n",
      "1021/1021 [==============================] - 6s 6ms/step - loss: 0.0280 - mse: 0.0280 - mae: 0.1332\n",
      "Epoch 36/100\n",
      "1021/1021 [==============================] - 6s 6ms/step - loss: 0.0279 - mse: 0.0279 - mae: 0.1334\n",
      "Epoch 37/100\n",
      "1021/1021 [==============================] - 6s 6ms/step - loss: 0.0279 - mse: 0.0279 - mae: 0.1335\n",
      "Epoch 38/100\n",
      "1021/1021 [==============================] - 6s 6ms/step - loss: 0.0279 - mse: 0.0279 - mae: 0.1335\n",
      "Epoch 39/100\n",
      "1021/1021 [==============================] - 6s 6ms/step - loss: 0.0279 - mse: 0.0279 - mae: 0.1334\n",
      "Epoch 40/100\n",
      "1021/1021 [==============================] - 6s 6ms/step - loss: 0.0279 - mse: 0.0279 - mae: 0.1334\n",
      "Epoch 41/100\n",
      "1021/1021 [==============================] - 6s 6ms/step - loss: 0.0279 - mse: 0.0279 - mae: 0.1334\n",
      "Epoch 42/100\n",
      "1021/1021 [==============================] - 6s 6ms/step - loss: 0.0279 - mse: 0.0279 - mae: 0.1338\n",
      "Epoch 43/100\n",
      "1021/1021 [==============================] - 6s 6ms/step - loss: 0.0279 - mse: 0.0279 - mae: 0.1336\n",
      "Epoch 44/100\n",
      "1021/1021 [==============================] - 6s 6ms/step - loss: 0.0279 - mse: 0.0279 - mae: 0.1337\n",
      "Epoch 45/100\n",
      "1021/1021 [==============================] - 6s 6ms/step - loss: 0.0279 - mse: 0.0279 - mae: 0.1334\n",
      "Epoch 46/100\n",
      "1021/1021 [==============================] - 6s 6ms/step - loss: 0.0279 - mse: 0.0279 - mae: 0.1336\n",
      "Epoch 47/100\n",
      "1021/1021 [==============================] - 6s 6ms/step - loss: 0.0278 - mse: 0.0278 - mae: 0.1335\n",
      "Epoch 48/100\n",
      "1021/1021 [==============================] - 6s 6ms/step - loss: 0.0279 - mse: 0.0279 - mae: 0.1338\n",
      "Epoch 49/100\n",
      "1021/1021 [==============================] - 6s 6ms/step - loss: 0.0279 - mse: 0.0279 - mae: 0.1336\n",
      "Epoch 50/100\n",
      "1021/1021 [==============================] - 6s 6ms/step - loss: 0.0278 - mse: 0.0278 - mae: 0.1331\n",
      "Epoch 51/100\n",
      "1021/1021 [==============================] - 6s 6ms/step - loss: 0.0278 - mse: 0.0278 - mae: 0.1333\n",
      "Epoch 52/100\n",
      "1021/1021 [==============================] - 6s 6ms/step - loss: 0.0278 - mse: 0.0278 - mae: 0.1333\n",
      "Epoch 53/100\n",
      "1021/1021 [==============================] - 6s 6ms/step - loss: 0.0278 - mse: 0.0278 - mae: 0.1335\n",
      "Epoch 54/100\n",
      "1021/1021 [==============================] - 6s 6ms/step - loss: 0.0278 - mse: 0.0278 - mae: 0.1331\n",
      "Epoch 55/100\n",
      "1021/1021 [==============================] - 6s 6ms/step - loss: 0.0278 - mse: 0.0278 - mae: 0.1334\n",
      "Epoch 56/100\n",
      "1021/1021 [==============================] - 6s 6ms/step - loss: 0.0278 - mse: 0.0278 - mae: 0.1329\n",
      "Epoch 57/100\n",
      "1021/1021 [==============================] - 6s 6ms/step - loss: 0.0278 - mse: 0.0278 - mae: 0.1336\n",
      "Epoch 58/100\n",
      "1021/1021 [==============================] - 6s 6ms/step - loss: 0.0278 - mse: 0.0278 - mae: 0.1330\n",
      "Epoch 59/100\n",
      "1021/1021 [==============================] - 6s 6ms/step - loss: 0.0278 - mse: 0.0278 - mae: 0.1332\n",
      "Epoch 60/100\n",
      "1021/1021 [==============================] - 6s 6ms/step - loss: 0.0277 - mse: 0.0277 - mae: 0.1330\n",
      "Epoch 61/100\n",
      "1021/1021 [==============================] - 6s 6ms/step - loss: 0.0277 - mse: 0.0277 - mae: 0.1331\n",
      "Epoch 62/100\n",
      "1021/1021 [==============================] - 6s 6ms/step - loss: 0.0277 - mse: 0.0277 - mae: 0.1327\n",
      "Epoch 63/100\n",
      "1021/1021 [==============================] - 6s 6ms/step - loss: 0.0277 - mse: 0.0277 - mae: 0.1331\n",
      "Epoch 64/100\n",
      "1021/1021 [==============================] - 6s 6ms/step - loss: 0.0277 - mse: 0.0277 - mae: 0.1330\n",
      "Epoch 65/100\n",
      "1021/1021 [==============================] - 6s 6ms/step - loss: 0.0277 - mse: 0.0277 - mae: 0.1327\n",
      "Epoch 66/100\n",
      "1021/1021 [==============================] - 6s 6ms/step - loss: 0.0277 - mse: 0.0277 - mae: 0.1328\n",
      "Epoch 67/100\n",
      "1021/1021 [==============================] - 6s 6ms/step - loss: 0.0276 - mse: 0.0276 - mae: 0.1328\n",
      "Epoch 68/100\n",
      "1021/1021 [==============================] - 6s 6ms/step - loss: 0.0277 - mse: 0.0277 - mae: 0.1328\n",
      "Epoch 69/100\n",
      "1021/1021 [==============================] - 6s 6ms/step - loss: 0.0276 - mse: 0.0276 - mae: 0.1329\n",
      "Epoch 70/100\n",
      "1021/1021 [==============================] - 6s 6ms/step - loss: 0.0276 - mse: 0.0276 - mae: 0.1325\n",
      "Epoch 71/100\n",
      "1021/1021 [==============================] - 6s 6ms/step - loss: 0.0276 - mse: 0.0276 - mae: 0.1328\n",
      "Epoch 72/100\n",
      "1021/1021 [==============================] - 6s 6ms/step - loss: 0.0276 - mse: 0.0276 - mae: 0.1328\n",
      "Epoch 73/100\n"
     ]
    },
    {
     "name": "stdout",
     "output_type": "stream",
     "text": [
      "1021/1021 [==============================] - 6s 6ms/step - loss: 0.0275 - mse: 0.0275 - mae: 0.1326\n",
      "Epoch 74/100\n",
      "1021/1021 [==============================] - 6s 6ms/step - loss: 0.0275 - mse: 0.0275 - mae: 0.1325\n",
      "Epoch 75/100\n",
      "1021/1021 [==============================] - 6s 6ms/step - loss: 0.0275 - mse: 0.0275 - mae: 0.1327\n",
      "Epoch 76/100\n",
      "1021/1021 [==============================] - 6s 6ms/step - loss: 0.0275 - mse: 0.0275 - mae: 0.1327\n",
      "Epoch 77/100\n",
      "1021/1021 [==============================] - 6s 6ms/step - loss: 0.0275 - mse: 0.0275 - mae: 0.1324\n",
      "Epoch 78/100\n",
      "1021/1021 [==============================] - 6s 6ms/step - loss: 0.0275 - mse: 0.0275 - mae: 0.1323\n",
      "Epoch 79/100\n",
      "1021/1021 [==============================] - 6s 6ms/step - loss: 0.0275 - mse: 0.0275 - mae: 0.1323\n",
      "Epoch 80/100\n",
      "1021/1021 [==============================] - 6s 6ms/step - loss: 0.0274 - mse: 0.0274 - mae: 0.1324\n",
      "Epoch 81/100\n",
      "1021/1021 [==============================] - 6s 6ms/step - loss: 0.0275 - mse: 0.0275 - mae: 0.1326\n",
      "Epoch 82/100\n",
      "1021/1021 [==============================] - 6s 6ms/step - loss: 0.0274 - mse: 0.0274 - mae: 0.1319\n",
      "Epoch 83/100\n",
      "1021/1021 [==============================] - 6s 6ms/step - loss: 0.0274 - mse: 0.0274 - mae: 0.1320\n",
      "Epoch 84/100\n",
      "1021/1021 [==============================] - 6s 6ms/step - loss: 0.0273 - mse: 0.0273 - mae: 0.1315\n",
      "Epoch 85/100\n",
      "1021/1021 [==============================] - 6s 6ms/step - loss: 0.0273 - mse: 0.0273 - mae: 0.1318\n",
      "Epoch 86/100\n",
      "1021/1021 [==============================] - 6s 6ms/step - loss: 0.0273 - mse: 0.0273 - mae: 0.1317\n",
      "Epoch 87/100\n",
      "1021/1021 [==============================] - 6s 6ms/step - loss: 0.0273 - mse: 0.0273 - mae: 0.1318\n",
      "Epoch 88/100\n",
      "1021/1021 [==============================] - 6s 6ms/step - loss: 0.0272 - mse: 0.0272 - mae: 0.1317\n",
      "Epoch 89/100\n",
      "1021/1021 [==============================] - 6s 6ms/step - loss: 0.0272 - mse: 0.0272 - mae: 0.1316\n",
      "Epoch 90/100\n",
      "1021/1021 [==============================] - 6s 6ms/step - loss: 0.0271 - mse: 0.0271 - mae: 0.1309\n",
      "Epoch 91/100\n",
      "1021/1021 [==============================] - 6s 6ms/step - loss: 0.0271 - mse: 0.0271 - mae: 0.1310\n",
      "Epoch 92/100\n",
      "1021/1021 [==============================] - 6s 6ms/step - loss: 0.0272 - mse: 0.0272 - mae: 0.1315\n",
      "Epoch 93/100\n",
      "1021/1021 [==============================] - 6s 6ms/step - loss: 0.0271 - mse: 0.0271 - mae: 0.1312\n",
      "Epoch 94/100\n",
      "1021/1021 [==============================] - 6s 6ms/step - loss: 0.0270 - mse: 0.0270 - mae: 0.1310\n",
      "Epoch 95/100\n",
      "1021/1021 [==============================] - 6s 6ms/step - loss: 0.0270 - mse: 0.0270 - mae: 0.1308\n",
      "Epoch 96/100\n",
      "1021/1021 [==============================] - 6s 6ms/step - loss: 0.0269 - mse: 0.0269 - mae: 0.1301\n",
      "Epoch 97/100\n",
      "1021/1021 [==============================] - 6s 6ms/step - loss: 0.0270 - mse: 0.0270 - mae: 0.1307\n",
      "Epoch 98/100\n",
      "1021/1021 [==============================] - 6s 6ms/step - loss: 0.0269 - mse: 0.0269 - mae: 0.1306\n",
      "Epoch 99/100\n",
      "1021/1021 [==============================] - 6s 6ms/step - loss: 0.0269 - mse: 0.0269 - mae: 0.1308\n",
      "Epoch 100/100\n",
      "1021/1021 [==============================] - 6s 6ms/step - loss: 0.0269 - mse: 0.0269 - mae: 0.1302\n"
     ]
    }
   ],
   "source": [
    "#tgt1 = LSTM(units=40, input_shape=(look_back, 2))(tgt1)\n",
    "#predictions = Dense(1, activation='relu')(tgt1)\n",
    "\n",
    "tgt1 = LSTM(units=40, return_sequences = True, input_shape=(look_back, 2))(tgt1)\n",
    "tgt1 = Dropout(0.2)(tgt1)\n",
    "\n",
    "tgt2 = LSTM(units=40, return_sequences = True)(tgt1)\n",
    "tgt2 = Dropout(0.2)(tgt2)\n",
    "\n",
    "tgt3 = LSTM(units=40, return_sequences = True)(tgt2)\n",
    "tgt3 = Dropout(0.2)(tgt3)\n",
    "\n",
    "#tgt4 = LSTM(units=40, return_sequences = True)(tgt3)\n",
    "#tgt4 = Dropout(0.2)(tgt4)\n",
    "\n",
    "#tgt5 = LSTM(units=40, return_sequences = True)(tgt4)\n",
    "#tgt5 = Dropout(0.2)(tgt5)\n",
    "\n",
    "#tgt6 = LSTM(units=20)(tgt5)\n",
    "#tgt6 = Dropout(0.2)(tgt6)\n",
    "\n",
    "#tgt7 = LSTM(units=20, return_sequences = True)(tgt6)\n",
    "#tgt7 = Dropout(0.2)(tgt7)\n",
    "\n",
    "#tgt8 = LSTM(units=20, return_sequences = True)(tgt7)\n",
    "#tgt8 = Dropout(0.2)(tgt8)\n",
    "\n",
    "#tgt9 = LSTM(units=20, return_sequences = True)(tgt8)\n",
    "#tgt9 = Dropout(0.2)(tgt9)\n",
    "\n",
    "tgt4 = LSTM(units=40)(tgt3)\n",
    "tgt4 = Dropout(0.2)(tgt4)\n",
    "\n",
    "#tgt6 = LSTM(units=40, return_sequences = True)(tgt5)\n",
    "\n",
    "#tgt7 = LSTM(units=40)(tgt6)\n",
    "\n",
    "\n",
    "#tgt5 = Flatten()(tgt5)\n",
    "predictions = Dense(1, activation='relu')(tgt4)\n",
    "#predictions = Dense(1)(tgt4)\n",
    "\n",
    "\n",
    "model = Model(inputs=[inputs_G, inputs_R], outputs=predictions)\n",
    "model.compile(loss='mean_squared_error', optimizer='adam',metrics=['mse','mae'])\n",
    "\n",
    "history = model.fit([trainX_G, trainX_R], trainY_A, epochs=100, batch_size=32) #[1,0,0], [0,0,1]"
   ]
  },
  {
   "cell_type": "markdown",
   "id": "b9d5904e",
   "metadata": {},
   "source": [
    "look back = timesteps = 10, 4 LSTM layers"
   ]
  },
  {
   "cell_type": "code",
   "execution_count": 31,
   "id": "dd7d7268",
   "metadata": {
    "scrolled": false
   },
   "outputs": [
    {
     "name": "stdout",
     "output_type": "stream",
     "text": [
      "timesteps :  10\n"
     ]
    },
    {
     "data": {
      "text/plain": [
       "Text(0.5, 1.0, 'mae')"
      ]
     },
     "execution_count": 31,
     "metadata": {},
     "output_type": "execute_result"
    },
    {
     "data": {
      "image/png": "[encoded data removed]",
      "text/plain": [
       "<Figure size 432x288 with 1 Axes>"
      ]
     },
     "metadata": {
      "needs_background": "light"
     },
     "output_type": "display_data"
    }
   ],
   "source": [
    "print('timesteps : ', look_back)\n",
    "plt.plot(history.history['mae'])\n",
    "plt.title('mae')"
   ]
  },
  {
   "cell_type": "code",
   "execution_count": 32,
   "id": "68081890",
   "metadata": {
    "scrolled": true
   },
   "outputs": [
    {
     "name": "stdout",
     "output_type": "stream",
     "text": [
      "timesteps :  10\n"
     ]
    },
    {
     "data": {
      "text/plain": [
       "Text(0.5, 1.0, 'mse')"
      ]
     },
     "execution_count": 32,
     "metadata": {},
     "output_type": "execute_result"
    },
    {
     "data": {
      "image/png": "[encoded data removed]",
      "text/plain": [
       "<Figure size 432x288 with 1 Axes>"
      ]
     },
     "metadata": {
      "needs_background": "light"
     },
     "output_type": "display_data"
    }
   ],
   "source": [
    "print('timesteps : ', look_back)\n",
    "plt.plot(history.history['mse'])\n",
    "plt.title('mse')"
   ]
  },
  {
   "cell_type": "code",
   "execution_count": 33,
   "id": "127a0677",
   "metadata": {},
   "outputs": [
    {
     "data": {
      "text/plain": [
       "[<matplotlib.lines.Line2D at 0x250171264c8>]"
      ]
     },
     "execution_count": 33,
     "metadata": {},
     "output_type": "execute_result"
    },
    {
     "data": {
      "image/png": "[encoded data removed]",
      "text/plain": [
       "<Figure size 432x288 with 1 Axes>"
      ]
     },
     "metadata": {
      "needs_background": "light"
     },
     "output_type": "display_data"
    }
   ],
   "source": [
    "plt.title('loss')\n",
    "plt.plot(history.history['loss'])"
   ]
  },
  {
   "cell_type": "code",
   "execution_count": 34,
   "id": "3cd79e19",
   "metadata": {
    "scrolled": false
   },
   "outputs": [
    {
     "name": "stdout",
     "output_type": "stream",
     "text": [
      "Model: \"functional_1\"\n",
      "__________________________________________________________________________________________________\n",
      "Layer (type)                    Output Shape         Param #     Connected to                     \n",
      "==================================================================================================\n",
      "input_1 (InputLayer)            [(None, 10)]         0                                            \n",
      "__________________________________________________________________________________________________\n",
      "input_2 (InputLayer)            [(None, 10)]         0                                            \n",
      "__________________________________________________________________________________________________\n",
      "reshape (Reshape)               (None, 10, 1)        0           input_1[0][0]                    \n",
      "__________________________________________________________________________________________________\n",
      "reshape_1 (Reshape)             (None, 10, 1)        0           input_2[0][0]                    \n",
      "__________________________________________________________________________________________________\n",
      "concatenate (Concatenate)       (None, 10, 2)        0           reshape[0][0]                    \n",
      "                                                                 reshape_1[0][0]                  \n",
      "__________________________________________________________________________________________________\n",
      "reshape_2 (Reshape)             (None, 10, 2)        0           concatenate[0][0]                \n",
      "__________________________________________________________________________________________________\n",
      "lstm (LSTM)                     (None, 10, 40)       6880        reshape_2[0][0]                  \n",
      "__________________________________________________________________________________________________\n",
      "dropout (Dropout)               (None, 10, 40)       0           lstm[0][0]                       \n",
      "__________________________________________________________________________________________________\n",
      "lstm_1 (LSTM)                   (None, 10, 40)       12960       dropout[0][0]                    \n",
      "__________________________________________________________________________________________________\n",
      "dropout_1 (Dropout)             (None, 10, 40)       0           lstm_1[0][0]                     \n",
      "__________________________________________________________________________________________________\n",
      "lstm_2 (LSTM)                   (None, 10, 40)       12960       dropout_1[0][0]                  \n",
      "__________________________________________________________________________________________________\n",
      "dropout_2 (Dropout)             (None, 10, 40)       0           lstm_2[0][0]                     \n",
      "__________________________________________________________________________________________________\n",
      "lstm_3 (LSTM)                   (None, 40)           12960       dropout_2[0][0]                  \n",
      "__________________________________________________________________________________________________\n",
      "dropout_3 (Dropout)             (None, 40)           0           lstm_3[0][0]                     \n",
      "__________________________________________________________________________________________________\n",
      "dense (Dense)                   (None, 1)            41          dropout_3[0][0]                  \n",
      "==================================================================================================\n",
      "Total params: 45,801\n",
      "Trainable params: 45,801\n",
      "Non-trainable params: 0\n",
      "__________________________________________________________________________________________________\n"
     ]
    }
   ],
   "source": [
    "model.summary()"
   ]
  },
  {
   "cell_type": "code",
   "execution_count": 35,
   "id": "98509bae",
   "metadata": {},
   "outputs": [],
   "source": [
    "from sklearn.metrics import mean_squared_error as mse\n",
    "\n",
    "trainPredict = model.predict([trainX_G, trainX_R])\n",
    "testPredict = model.predict([testX_G, testX_R])"
   ]
  },
  {
   "cell_type": "code",
   "execution_count": 36,
   "id": "adddc22e",
   "metadata": {},
   "outputs": [
    {
     "name": "stdout",
     "output_type": "stream",
     "text": [
      "Train Score: 7306.88 RMSE\n",
      "Test Score: 7502.19 RMSE\n",
      "Train Score: 76.26 RMAE\n",
      "Test Score: 76.80 RMAE\n"
     ]
    }
   ],
   "source": [
    "# invert predictions\n",
    "#scaler = MinMaxScaler(feature_range=(0, 1))\n",
    "trainPredict = scaler.inverse_transform(trainPredict)\n",
    "trainY = scaler.inverse_transform(trainY_A)\n",
    "testPredict = scaler.inverse_transform(testPredict)\n",
    "testY = scaler.inverse_transform(testY_A)\n",
    "# calculate root mean squared error\n",
    "trainScore = math.sqrt(mse(trainY, trainPredict))\n",
    "print('Train Score: %.2f RMSE' % (trainScore))\n",
    "testScore = math.sqrt(mse(testY, testPredict))\n",
    "print('Test Score: %.2f RMSE' % (testScore))\n",
    "# calculate root mean absolute error\n",
    "trainScore2 = math.sqrt(mae(trainY, trainPredict))\n",
    "print('Train Score: %.2f RMAE' % (trainScore2))\n",
    "testScore2 = math.sqrt(mae(testY, testPredict))\n",
    "print('Test Score: %.2f RMAE' % (testScore2))"
   ]
  },
  {
   "cell_type": "code",
   "execution_count": 37,
   "id": "c0a9a990",
   "metadata": {
    "scrolled": false
   },
   "outputs": [],
   "source": [
    "#testPredictPlot = np.empty_like(datasetG)\n",
    "#testPredictPlot[:, :] = np.nan\n",
    "#testPredictPlot[len(trainPredict)+(look_back*2)+1:len(datasetG)-1] = testPredict\n",
    "# plot baseline and predictions\n",
    "#plt.figure(figsize=(15, 10))\n",
    "#plt.plot(datasetA[1500:])\n",
    "#plt.plot(datasetG[1451:])\n",
    "#plt.plot(trainPredictPlot)\n",
    "#plt.plot(testPredictPlot[1451:])\n",
    "#plt.show()"
   ]
  },
  {
   "cell_type": "code",
   "execution_count": 38,
   "id": "df2b03fc",
   "metadata": {},
   "outputs": [
    {
     "data": {
      "text/plain": [
       "'\\ntestPredictPlot = np.empty_like(datasetA)\\ntestPredictPlot[:, :] = np.nan\\ntestPredictPlot[len(trainPredict)+(look_back*2)+1:len(datasetA)-1] = testPredict\\n# plot baseline and predictions\\nplt.figure(figsize=(15, 10))\\n#plt.plot(datasetA[1500:])\\nplt.plot(datasetA[14000:15000])\\n#plt.plot(trainPredictPlot)\\nplt.plot(testPredictPlot[14000:15000])\\nplt.show()\\n'"
      ]
     },
     "execution_count": 38,
     "metadata": {},
     "output_type": "execute_result"
    }
   ],
   "source": [
    "'''\n",
    "testPredictPlot = np.empty_like(datasetA)\n",
    "testPredictPlot[:, :] = np.nan\n",
    "testPredictPlot[len(trainPredict)+(look_back*2)+1:len(datasetA)-1] = testPredict\n",
    "# plot baseline and predictions\n",
    "plt.figure(figsize=(15, 10))\n",
    "#plt.plot(datasetA[1500:])\n",
    "plt.plot(datasetA[14000:15000])\n",
    "#plt.plot(trainPredictPlot)\n",
    "plt.plot(testPredictPlot[14000:15000])\n",
    "plt.show()\n",
    "'''"
   ]
  },
  {
   "cell_type": "code",
   "execution_count": 39,
   "id": "fcb5f301",
   "metadata": {
    "scrolled": false
   },
   "outputs": [
    {
     "data": {
      "text/plain": [
       "array([26867.947], dtype=float32)"
      ]
     },
     "execution_count": 39,
     "metadata": {},
     "output_type": "execute_result"
    }
   ],
   "source": [
    "max(testPredict)"
   ]
  },
  {
   "cell_type": "code",
   "execution_count": 40,
   "id": "4ac2bbb1",
   "metadata": {},
   "outputs": [],
   "source": [
    "#testPredict"
   ]
  },
  {
   "cell_type": "code",
   "execution_count": 41,
   "id": "84c5125b",
   "metadata": {},
   "outputs": [],
   "source": [
    "#testY_A"
   ]
  },
  {
   "cell_type": "code",
   "execution_count": 42,
   "id": "587a9015",
   "metadata": {
    "scrolled": true
   },
   "outputs": [],
   "source": [
    "#datasetA[:100]"
   ]
  },
  {
   "cell_type": "code",
   "execution_count": 43,
   "id": "d01b95f1",
   "metadata": {},
   "outputs": [],
   "source": [
    "model.save('U08D00_ONU16_Gi-1_48133_Ri_43758_Ai_45440_4layer40cells_lookback10.h5', include_optimizer=False)"
   ]
  },
  {
   "cell_type": "code",
   "execution_count": null,
   "id": "00a0653e",
   "metadata": {},
   "outputs": [],
   "source": []
  }
 ],
 "metadata": {
  "kernelspec": {
   "display_name": "Python 3",
   "language": "python",
   "name": "python3"
  },
  "language_info": {
   "codemirror_mode": {
    "name": "ipython",
    "version": 3
   },
   "file_extension": ".py",
   "mimetype": "text/x-python",
   "name": "python",
   "nbconvert_exporter": "python",
   "pygments_lexer": "ipython3",
   "version": "3.7.7"
  }
 },
 "nbformat": 4,
 "nbformat_minor": 5
}
