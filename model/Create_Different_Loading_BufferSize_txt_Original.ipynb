{
 "cells": [
  {
   "cell_type": "code",
   "execution_count": 1,
   "metadata": {},
   "outputs": [],
   "source": [
    "import numpy as np\n",
    "import matplotlib.pyplot as plt\n",
    "import pandas as pd \n",
    "import time\n",
    "start = time.time()"
   ]
  },
  {
   "cell_type": "code",
   "execution_count": 2,
   "metadata": {},
   "outputs": [
    {
     "name": "stdout",
     "output_type": "stream",
     "text": [
      "len(Request64GB) :  40316\n",
      "len(Request80GB) :  0\n",
      "len(Grant64GB)   :  40316\n"
     ]
    }
   ],
   "source": [
    "text_file = open(\"U20D02_SimT_begin_from3_OriginEPON_ProcessGate_ONU16_request.txt\",\"r\")#ONU_16_GrantDownLoadSizePerCycle, ONU[27]_GrantDown.txt\n",
    "lines = text_file.readlines()\n",
    "i = 1\n",
    "\n",
    "Request64GB = []\n",
    "Request80GB = []\n",
    "Grant64GB   = []\n",
    "\n",
    "for i in range(len(lines)):\n",
    "    if i < 50000:\n",
    "        cycleCount, request = lines[i].split(\"\\t\",1)\n",
    "        c1,r1 = request.split(\"\\t\",1)\n",
    "        c2,r2 = r1.split(\"\\t\",1)\n",
    "        c3,r3 = c2.split(\":\",1)\n",
    "        Request64GB.append(float(r3))\n",
    "\n",
    "text_file = open(\"U20D02_SimT_begin_from3_OriginEPON_ProcessGate_ONU16_request.txt\",\"r\")\n",
    "lines = text_file.readlines()\n",
    "\n",
    "for i in range(len(lines)):\n",
    "    cycleCount, request = lines[i].split(\"\\t\",1)\n",
    "    c1,r1 = request.split(\":\",1)\n",
    "    c2,r2 = r1.split(\":\",1)\n",
    "    c3,r3 = r2.split(\":\",1)\n",
    "    c4,r4 = r3.split(\":\",1)\n",
    "    c5,r5 = r3.split(\"\\t\",1)\n",
    "    Grant64GB.append(float(c5))\n",
    "\n",
    "print('len(Request64GB) : ',len(Request64GB))\n",
    "print('len(Request80GB) : ',len(Request80GB))\n",
    "print('len(Grant64GB)   : ',len(Grant64GB))"
   ]
  },
  {
   "cell_type": "code",
   "execution_count": 3,
   "metadata": {},
   "outputs": [
    {
     "name": "stdout",
     "output_type": "stream",
     "text": [
      "40315\n",
      "min(BufferSize) :  -191329.0\n",
      "max(BufferSize) :  545573.0\n",
      "BufferSize[0:10]:  [-2579.0, 11155.0, 2589.0, 63348.0, -48159.0, 57653.0, 16552.0, 10312.0, -6390.0, 17557.0]\n"
     ]
    }
   ],
   "source": [
    "BufferSize = []\n",
    "for i in range(1,len(Request64GB)):\n",
    "    BufferSize.append( Request64GB[i] - Request64GB[i-1] + Grant64GB[i-1])\n",
    "print(len(BufferSize))\n",
    "print('min(BufferSize) : ',min(BufferSize))\n",
    "print('max(BufferSize) : ',max(BufferSize))\n",
    "print('BufferSize[0:10]: ',BufferSize[0:10])"
   ]
  },
  {
   "cell_type": "code",
   "execution_count": 4,
   "metadata": {},
   "outputs": [],
   "source": [
    "output_file = open(\"U20D02_BufferSize.txt\",\"w+\")\n",
    "for i in range(len(BufferSize)):\n",
    "    output_file.write(str(BufferSize[i])+'\\n')\n",
    "output_file.close()"
   ]
  },
  {
   "cell_type": "code",
   "execution_count": 5,
   "metadata": {},
   "outputs": [
    {
     "name": "stdout",
     "output_type": "stream",
     "text": [
      "0.005820759137471517\n"
     ]
    }
   ],
   "source": [
    "end = time.time()\n",
    "print((end-start)/60.0)"
   ]
  }
 ],
 "metadata": {
  "kernelspec": {
   "display_name": "Python 3",
   "language": "python",
   "name": "python3"
  },
  "language_info": {
   "codemirror_mode": {
    "name": "ipython",
    "version": 3
   },
   "file_extension": ".py",
   "mimetype": "text/x-python",
   "name": "python",
   "nbconvert_exporter": "python",
   "pygments_lexer": "ipython3",
   "version": "3.7.7"
  }
 },
 "nbformat": 4,
 "nbformat_minor": 4
}
