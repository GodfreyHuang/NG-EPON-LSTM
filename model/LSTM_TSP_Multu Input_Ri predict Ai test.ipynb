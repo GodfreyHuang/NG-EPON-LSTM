{
 "cells": [
  {
   "cell_type": "code",
   "execution_count": 1,
   "id": "964ac5af",
   "metadata": {},
   "outputs": [],
   "source": [
    "import numpy as np\n",
    "import tensorflow as tf\n",
    "from tensorflow.keras.layers import Input, Dense, LSTM, Reshape, Dropout, LayerNormalization\n",
    "from tensorflow.keras.models import Model, Sequential\n",
    "from sklearn.preprocessing import MinMaxScaler\n",
    "import matplotlib.pyplot as plt\n",
    "import math\n",
    "from sklearn.metrics import mean_absolute_error as mae\n",
    "from sklearn.preprocessing import MinMaxScaler\n",
    "from tensorflow.keras.layers import concatenate\n",
    "sc = MinMaxScaler(feature_range = (0,1))\n",
    "\n",
    "import pandas as pd"
   ]
  },
  {
   "cell_type": "code",
   "execution_count": 2,
   "id": "03b0f7a0",
   "metadata": {
    "scrolled": true
   },
   "outputs": [
    {
     "data": {
      "text/html": [
       "<div>\n",
       "<style scoped>\n",
       "    .dataframe tbody tr th:only-of-type {\n",
       "        vertical-align: middle;\n",
       "    }\n",
       "\n",
       "    .dataframe tbody tr th {\n",
       "        vertical-align: top;\n",
       "    }\n",
       "\n",
       "    .dataframe thead th {\n",
       "        text-align: right;\n",
       "    }\n",
       "</style>\n",
       "<table border=\"1\" class=\"dataframe\">\n",
       "  <thead>\n",
       "    <tr style=\"text-align: right;\">\n",
       "      <th></th>\n",
       "      <th>Ri</th>\n",
       "    </tr>\n",
       "  </thead>\n",
       "  <tbody>\n",
       "    <tr>\n",
       "      <th>0</th>\n",
       "      <td>472</td>\n",
       "    </tr>\n",
       "    <tr>\n",
       "      <th>1</th>\n",
       "      <td>906</td>\n",
       "    </tr>\n",
       "    <tr>\n",
       "      <th>2</th>\n",
       "      <td>472</td>\n",
       "    </tr>\n",
       "    <tr>\n",
       "      <th>3</th>\n",
       "      <td>906</td>\n",
       "    </tr>\n",
       "    <tr>\n",
       "      <th>4</th>\n",
       "      <td>472</td>\n",
       "    </tr>\n",
       "  </tbody>\n",
       "</table>\n",
       "</div>"
      ],
      "text/plain": [
       "    Ri\n",
       "0  472\n",
       "1  906\n",
       "2  472\n",
       "3  906\n",
       "4  472"
      ]
     },
     "execution_count": 2,
     "metadata": {},
     "output_type": "execute_result"
    }
   ],
   "source": [
    "df1 = pd.read_csv('AI_U16_ONU16_15S_Ri_0411.csv', usecols=[0], engine='python')\n",
    "df1.head()"
   ]
  },
  {
   "cell_type": "code",
   "execution_count": 3,
   "id": "f6f368ee",
   "metadata": {},
   "outputs": [
    {
     "data": {
      "text/html": [
       "<div>\n",
       "<style scoped>\n",
       "    .dataframe tbody tr th:only-of-type {\n",
       "        vertical-align: middle;\n",
       "    }\n",
       "\n",
       "    .dataframe tbody tr th {\n",
       "        vertical-align: top;\n",
       "    }\n",
       "\n",
       "    .dataframe thead th {\n",
       "        text-align: right;\n",
       "    }\n",
       "</style>\n",
       "<table border=\"1\" class=\"dataframe\">\n",
       "  <thead>\n",
       "    <tr style=\"text-align: right;\">\n",
       "      <th></th>\n",
       "      <th>Ai</th>\n",
       "    </tr>\n",
       "  </thead>\n",
       "  <tbody>\n",
       "    <tr>\n",
       "      <th>0</th>\n",
       "      <td>472</td>\n",
       "    </tr>\n",
       "    <tr>\n",
       "      <th>1</th>\n",
       "      <td>906</td>\n",
       "    </tr>\n",
       "    <tr>\n",
       "      <th>2</th>\n",
       "      <td>472</td>\n",
       "    </tr>\n",
       "    <tr>\n",
       "      <th>3</th>\n",
       "      <td>906</td>\n",
       "    </tr>\n",
       "    <tr>\n",
       "      <th>4</th>\n",
       "      <td>472</td>\n",
       "    </tr>\n",
       "  </tbody>\n",
       "</table>\n",
       "</div>"
      ],
      "text/plain": [
       "    Ai\n",
       "0  472\n",
       "1  906\n",
       "2  472\n",
       "3  906\n",
       "4  472"
      ]
     },
     "execution_count": 3,
     "metadata": {},
     "output_type": "execute_result"
    }
   ],
   "source": [
    "df2 = pd.read_csv('AI_U16_ONU16_15S_Ai_0411.csv', usecols=[0], engine='python')\n",
    "df2.head()"
   ]
  },
  {
   "cell_type": "code",
   "execution_count": 4,
   "id": "579851ff",
   "metadata": {},
   "outputs": [],
   "source": [
    "df1 = df1.values\n",
    "df1 = df1.astype('float32')\n",
    "\n",
    "df2 = df2.values\n",
    "df2 = df2.astype('float32')"
   ]
  },
  {
   "cell_type": "code",
   "execution_count": 5,
   "id": "1f13bc3c",
   "metadata": {},
   "outputs": [],
   "source": [
    "#df2 = []\n",
    "\n",
    "#for i in range(len(df)):\n",
    "#    if(df[i] > 195000.0):\n",
    "#        df[i] = 195000.0\n",
    "#    df2.append(df[i])"
   ]
  },
  {
   "cell_type": "code",
   "execution_count": 6,
   "id": "1db3af43",
   "metadata": {},
   "outputs": [
    {
     "name": "stdout",
     "output_type": "stream",
     "text": [
      "1000\n",
      "1000\n"
     ]
    }
   ],
   "source": [
    "#df = df2\n",
    "df1 = df1[:1000]\n",
    "df2 = df2[:1000]\n",
    "print(len(df1))\n",
    "print(len(df2))"
   ]
  },
  {
   "cell_type": "code",
   "execution_count": 7,
   "id": "d5f11af0",
   "metadata": {},
   "outputs": [],
   "source": [
    "# normalize the dataset\n",
    "#scaler = MinMaxScaler(feature_range=(0, 1))\n",
    "#datasetG = scaler.fit_transform(df1)\n",
    "#datasetA = scaler.fit_transform(df2)\n",
    "datasetG = df1\n",
    "datasetA = df2"
   ]
  },
  {
   "cell_type": "code",
   "execution_count": 8,
   "id": "15128387",
   "metadata": {},
   "outputs": [],
   "source": [
    "scaler = MinMaxScaler(feature_range=(0, 1))"
   ]
  },
  {
   "cell_type": "code",
   "execution_count": 9,
   "id": "2480a636",
   "metadata": {
    "scrolled": true
   },
   "outputs": [
    {
     "name": "stdout",
     "output_type": "stream",
     "text": [
      "700 300\n"
     ]
    }
   ],
   "source": [
    "# split into train and test sets\n",
    "train_sizeG = int(len(datasetG) * 0.7) \n",
    "test_sizeG = len(datasetG) - train_sizeG\n",
    "trainG, testG = datasetG[0:train_sizeG], datasetG[train_sizeG:len(datasetG)]\n",
    "\n",
    "trainG = scaler.fit_transform(trainG)\n",
    "testG = scaler.fit_transform(testG)\n",
    "print(len(trainG), len(testG))"
   ]
  },
  {
   "cell_type": "code",
   "execution_count": 10,
   "id": "be4e0e85",
   "metadata": {},
   "outputs": [
    {
     "name": "stdout",
     "output_type": "stream",
     "text": [
      "700 300\n"
     ]
    }
   ],
   "source": [
    "# split into train and test sets\n",
    "train_sizeA = int(len(datasetA) * 0.7) \n",
    "test_sizeA = len(datasetA) - train_sizeA\n",
    "trainA, testA = datasetA[0:train_sizeA], datasetA[train_sizeA:len(datasetA)]\n",
    "\n",
    "scaler = MinMaxScaler(feature_range=(0, 1))\n",
    "trainA = scaler.fit_transform(trainA)\n",
    "testA = scaler.fit_transform(testA)\n",
    "print(len(trainA), len(testA))"
   ]
  },
  {
   "cell_type": "code",
   "execution_count": 11,
   "id": "c1423408",
   "metadata": {},
   "outputs": [],
   "source": [
    "# convert an array of values into a dataset matrix\n",
    "def create_dataset(dataset, look_back=1):\n",
    "    dataX, dataY = [], []\n",
    "    for i in range(len(dataset) - look_back - 1):\n",
    "        a = dataset[i:(i + look_back)]\n",
    "        dataX.append(a)\n",
    "        dataY.append(dataset[i + look_back])\n",
    "    return np.array(dataX), np.array(dataY)"
   ]
  },
  {
   "cell_type": "code",
   "execution_count": 12,
   "id": "0481205a",
   "metadata": {},
   "outputs": [],
   "source": [
    "# reshape into X=t and Y=t+1\n",
    "look_back = 5 #16\n",
    "trainX_G, trainY_G = create_dataset(trainG, look_back)\n",
    "testX_G, testY_G = create_dataset(testG, look_back)\n",
    "\n",
    "trainX_A, trainY_A = create_dataset(trainA, look_back)\n",
    "testX_A, testY_A = create_dataset(testA, look_back)"
   ]
  },
  {
   "cell_type": "code",
   "execution_count": 13,
   "id": "67a2b5a6",
   "metadata": {},
   "outputs": [
    {
     "name": "stdout",
     "output_type": "stream",
     "text": [
      "(694, 5, 1)\n",
      "(694, 1)\n",
      "(294, 5, 1)\n",
      "(294, 1)\n",
      "(694, 5, 1)\n",
      "(694, 1)\n",
      "(294, 5, 1)\n",
      "(294, 1)\n"
     ]
    }
   ],
   "source": [
    "# reshape input to be [samples, time steps, features]\n",
    "trainX_G = np.reshape(trainX_G, (trainX_G.shape[0], look_back, 1))\n",
    "testX_G = np.reshape(testX_G, (testX_G.shape[0], look_back, 1))\n",
    "\n",
    "trainX_A = np.reshape(trainX_A, (trainX_A.shape[0], look_back, 1))\n",
    "testX_A = np.reshape(testX_A, (testX_A.shape[0], look_back, 1))\n",
    "#print(trainX.shape[1])\n",
    "print(trainX_G.shape)\n",
    "print(trainY_G.shape)\n",
    "print(testX_G.shape)\n",
    "print(testY_G.shape)\n",
    "\n",
    "print(trainX_A.shape)\n",
    "print(trainY_A.shape)\n",
    "print(testX_A.shape)\n",
    "print(testY_A.shape)"
   ]
  },
  {
   "cell_type": "code",
   "execution_count": null,
   "id": "ca636d00",
   "metadata": {},
   "outputs": [],
   "source": [
    "#inputsR = Input(shape=(timesteps,))\n",
    "#inputs_A = Input(shape=(look_back,))\n",
    "inputs_G = Input(shape=(look_back,))\n",
    "#inputs = LayerNormalization(axis=1)(inputs)\n",
    "#inputs_R_test = Reshape((inputs_R.shape[1],1))(inputs_R)\n",
    "#inputs_A_test = Reshape((inputs_A.shape[1], 1))(inputs_A)\n",
    "inputs_G_test = Reshape((inputs_G.shape[1], 1))(inputs_G)\n",
    "\n",
    "#input_merge = concatenate([inputs_A_test,inputs_G_test], axis = -1)\n",
    "\n",
    "tgt1 = Reshape((look_back, 1))(inputs_G_test)\n",
    "\n",
    "#tf.print(tgt1, output_stream=sys.stderr)"
   ]
  },
  {
   "cell_type": "code",
   "execution_count": 14,
   "id": "6997cca5",
   "metadata": {},
   "outputs": [
    {
     "name": "stdout",
     "output_type": "stream",
     "text": [
      "Epoch 1/100\n",
      "22/22 [==============================] - 0s 5ms/step - loss: 0.0046 - mse: 0.0046 - mae: 0.0321\n",
      "Epoch 2/100\n",
      "22/22 [==============================] - 0s 5ms/step - loss: 0.0045 - mse: 0.0045 - mae: 0.0314\n",
      "Epoch 3/100\n",
      "22/22 [==============================] - 0s 5ms/step - loss: 0.0045 - mse: 0.0045 - mae: 0.0313\n",
      "Epoch 4/100\n",
      "22/22 [==============================] - 0s 5ms/step - loss: 0.0045 - mse: 0.0045 - mae: 0.0327\n",
      "Epoch 5/100\n",
      "22/22 [==============================] - 0s 5ms/step - loss: 0.0044 - mse: 0.0044 - mae: 0.0317\n",
      "Epoch 6/100\n",
      "22/22 [==============================] - 0s 5ms/step - loss: 0.0045 - mse: 0.0045 - mae: 0.0314\n",
      "Epoch 7/100\n",
      "22/22 [==============================] - 0s 5ms/step - loss: 0.0044 - mse: 0.0044 - mae: 0.0311\n",
      "Epoch 8/100\n",
      "22/22 [==============================] - 0s 5ms/step - loss: 0.0044 - mse: 0.0044 - mae: 0.0313\n",
      "Epoch 9/100\n",
      "22/22 [==============================] - 0s 5ms/step - loss: 0.0044 - mse: 0.0044 - mae: 0.0311  \n",
      "Epoch 10/100\n",
      "22/22 [==============================] - 0s 5ms/step - loss: 0.0043 - mse: 0.0043 - mae: 0.0305\n",
      "Epoch 11/100\n",
      "22/22 [==============================] - 0s 5ms/step - loss: 0.0043 - mse: 0.0043 - mae: 0.0301\n",
      "Epoch 12/100\n",
      "22/22 [==============================] - 0s 5ms/step - loss: 0.0044 - mse: 0.0044 - mae: 0.0322\n",
      "Epoch 13/100\n",
      "22/22 [==============================] - 0s 5ms/step - loss: 0.0043 - mse: 0.0043 - mae: 0.0307\n",
      "Epoch 14/100\n",
      "22/22 [==============================] - 0s 5ms/step - loss: 0.0043 - mse: 0.0043 - mae: 0.0311\n",
      "Epoch 15/100\n",
      "22/22 [==============================] - 0s 5ms/step - loss: 0.0042 - mse: 0.0042 - mae: 0.0306\n",
      "Epoch 16/100\n",
      "22/22 [==============================] - 0s 5ms/step - loss: 0.0042 - mse: 0.0042 - mae: 0.0305   \n",
      "Epoch 17/100\n",
      "22/22 [==============================] - 0s 5ms/step - loss: 0.0040 - mse: 0.0040 - mae: 0.0293  \n",
      "Epoch 18/100\n",
      "22/22 [==============================] - 0s 5ms/step - loss: 0.0040 - mse: 0.0040 - mae: 0.0306  \n",
      "Epoch 19/100\n",
      "22/22 [==============================] - 0s 5ms/step - loss: 0.0039 - mse: 0.0039 - mae: 0.0288\n",
      "Epoch 20/100\n",
      "22/22 [==============================] - 0s 5ms/step - loss: 0.0036 - mse: 0.0036 - mae: 0.0282  \n",
      "Epoch 21/100\n",
      "22/22 [==============================] - 0s 5ms/step - loss: 0.0038 - mse: 0.0038 - mae: 0.0304\n",
      "Epoch 22/100\n",
      "22/22 [==============================] - 0s 5ms/step - loss: 0.0038 - mse: 0.0038 - mae: 0.0303  \n",
      "Epoch 23/100\n",
      "22/22 [==============================] - 0s 5ms/step - loss: 0.0033 - mse: 0.0033 - mae: 0.0276\n",
      "Epoch 24/100\n",
      "22/22 [==============================] - 0s 5ms/step - loss: 0.0033 - mse: 0.0033 - mae: 0.0297   \n",
      "Epoch 25/100\n",
      "22/22 [==============================] - 0s 5ms/step - loss: 0.0033 - mse: 0.0033 - mae: 0.0274\n",
      "Epoch 26/100\n",
      "22/22 [==============================] - 0s 5ms/step - loss: 0.0034 - mse: 0.0034 - mae: 0.0292\n",
      "Epoch 27/100\n",
      "22/22 [==============================] - 0s 5ms/step - loss: 0.0032 - mse: 0.0032 - mae: 0.0290\n",
      "Epoch 28/100\n",
      "22/22 [==============================] - 0s 5ms/step - loss: 0.0033 - mse: 0.0033 - mae: 0.0277\n",
      "Epoch 29/100\n",
      "22/22 [==============================] - 0s 5ms/step - loss: 0.0033 - mse: 0.0033 - mae: 0.0282\n",
      "Epoch 30/100\n",
      "22/22 [==============================] - 0s 5ms/step - loss: 0.0034 - mse: 0.0034 - mae: 0.0282\n",
      "Epoch 31/100\n",
      "22/22 [==============================] - 0s 5ms/step - loss: 0.0035 - mse: 0.0035 - mae: 0.0297\n",
      "Epoch 32/100\n",
      "22/22 [==============================] - 0s 5ms/step - loss: 0.0035 - mse: 0.0035 - mae: 0.0279\n",
      "Epoch 33/100\n",
      "22/22 [==============================] - 0s 5ms/step - loss: 0.0035 - mse: 0.0035 - mae: 0.0287   \n",
      "Epoch 34/100\n",
      "22/22 [==============================] - 0s 5ms/step - loss: 0.0036 - mse: 0.0036 - mae: 0.0279\n",
      "Epoch 35/100\n",
      "22/22 [==============================] - 0s 5ms/step - loss: 0.0036 - mse: 0.0036 - mae: 0.0289   \n",
      "Epoch 36/100\n",
      "22/22 [==============================] - 0s 5ms/step - loss: 0.0035 - mse: 0.0035 - mae: 0.0279   \n",
      "Epoch 37/100\n",
      "22/22 [==============================] - 0s 5ms/step - loss: 0.0036 - mse: 0.0036 - mae: 0.0292\n",
      "Epoch 38/100\n",
      "22/22 [==============================] - 0s 5ms/step - loss: 0.0033 - mse: 0.0033 - mae: 0.0286  \n",
      "Epoch 39/100\n",
      "22/22 [==============================] - 0s 5ms/step - loss: 0.0033 - mse: 0.0033 - mae: 0.0291\n",
      "Epoch 40/100\n",
      "22/22 [==============================] - 0s 5ms/step - loss: 0.0032 - mse: 0.0032 - mae: 0.0266\n",
      "Epoch 41/100\n",
      "22/22 [==============================] - 0s 5ms/step - loss: 0.0034 - mse: 0.0034 - mae: 0.0282\n",
      "Epoch 42/100\n",
      "22/22 [==============================] - 0s 5ms/step - loss: 0.0034 - mse: 0.0034 - mae: 0.0283  \n",
      "Epoch 43/100\n",
      "22/22 [==============================] - 0s 5ms/step - loss: 0.0031 - mse: 0.0031 - mae: 0.0275\n",
      "Epoch 44/100\n",
      "22/22 [==============================] - 0s 5ms/step - loss: 0.0032 - mse: 0.0032 - mae: 0.0275\n",
      "Epoch 45/100\n",
      "22/22 [==============================] - 0s 5ms/step - loss: 0.0033 - mse: 0.0033 - mae: 0.0272\n",
      "Epoch 46/100\n",
      "22/22 [==============================] - 0s 5ms/step - loss: 0.0035 - mse: 0.0035 - mae: 0.0295\n",
      "Epoch 47/100\n",
      "22/22 [==============================] - 0s 5ms/step - loss: 0.0034 - mse: 0.0034 - mae: 0.0283  \n",
      "Epoch 48/100\n",
      "22/22 [==============================] - 0s 5ms/step - loss: 0.0030 - mse: 0.0030 - mae: 0.0267   \n",
      "Epoch 49/100\n",
      "22/22 [==============================] - 0s 5ms/step - loss: 0.0033 - mse: 0.0033 - mae: 0.0289  \n",
      "Epoch 50/100\n",
      "22/22 [==============================] - 0s 5ms/step - loss: 0.0033 - mse: 0.0033 - mae: 0.0282\n",
      "Epoch 51/100\n",
      "22/22 [==============================] - 0s 5ms/step - loss: 0.0035 - mse: 0.0035 - mae: 0.0282  \n",
      "Epoch 52/100\n",
      "22/22 [==============================] - 0s 5ms/step - loss: 0.0034 - mse: 0.0034 - mae: 0.0270\n",
      "Epoch 53/100\n",
      "22/22 [==============================] - 0s 5ms/step - loss: 0.0035 - mse: 0.0035 - mae: 0.0289\n",
      "Epoch 54/100\n",
      "22/22 [==============================] - 0s 5ms/step - loss: 0.0031 - mse: 0.0031 - mae: 0.0291\n",
      "Epoch 55/100\n",
      "22/22 [==============================] - 0s 5ms/step - loss: 0.0034 - mse: 0.0034 - mae: 0.0290\n",
      "Epoch 56/100\n",
      "22/22 [==============================] - 0s 5ms/step - loss: 0.0033 - mse: 0.0033 - mae: 0.0274  \n",
      "Epoch 57/100\n",
      "22/22 [==============================] - 0s 5ms/step - loss: 0.0035 - mse: 0.0035 - mae: 0.0280\n",
      "Epoch 58/100\n",
      "22/22 [==============================] - 0s 5ms/step - loss: 0.0031 - mse: 0.0031 - mae: 0.0283\n",
      "Epoch 59/100\n",
      "22/22 [==============================] - 0s 5ms/step - loss: 0.0035 - mse: 0.0035 - mae: 0.0284\n",
      "Epoch 60/100\n",
      "22/22 [==============================] - 0s 5ms/step - loss: 0.0031 - mse: 0.0031 - mae: 0.0274\n",
      "Epoch 61/100\n",
      "22/22 [==============================] - 0s 5ms/step - loss: 0.0030 - mse: 0.0030 - mae: 0.0276   \n",
      "Epoch 62/100\n",
      "22/22 [==============================] - 0s 5ms/step - loss: 0.0032 - mse: 0.0032 - mae: 0.0279\n",
      "Epoch 63/100\n",
      "22/22 [==============================] - 0s 5ms/step - loss: 0.0037 - mse: 0.0037 - mae: 0.0284\n",
      "Epoch 64/100\n",
      "22/22 [==============================] - 0s 5ms/step - loss: 0.0030 - mse: 0.0030 - mae: 0.0274\n",
      "Epoch 65/100\n",
      "22/22 [==============================] - 0s 5ms/step - loss: 0.0032 - mse: 0.0032 - mae: 0.0284\n",
      "Epoch 66/100\n",
      "22/22 [==============================] - 0s 5ms/step - loss: 0.0034 - mse: 0.0034 - mae: 0.0288   \n",
      "Epoch 67/100\n",
      "22/22 [==============================] - 0s 5ms/step - loss: 0.0034 - mse: 0.0034 - mae: 0.0275\n",
      "Epoch 68/100\n",
      "22/22 [==============================] - 0s 5ms/step - loss: 0.0031 - mse: 0.0031 - mae: 0.0276   \n",
      "Epoch 69/100\n",
      "22/22 [==============================] - 0s 5ms/step - loss: 0.0032 - mse: 0.0032 - mae: 0.0286\n",
      "Epoch 70/100\n",
      "22/22 [==============================] - 0s 5ms/step - loss: 0.0032 - mse: 0.0032 - mae: 0.0278  \n",
      "Epoch 71/100\n",
      "22/22 [==============================] - 0s 5ms/step - loss: 0.0034 - mse: 0.0034 - mae: 0.0297\n",
      "Epoch 72/100\n",
      "22/22 [==============================] - 0s 6ms/step - loss: 0.0032 - mse: 0.0032 - mae: 0.0272  \n",
      "Epoch 73/100\n",
      "22/22 [==============================] - 0s 5ms/step - loss: 0.0032 - mse: 0.0032 - mae: 0.0280  \n",
      "Epoch 74/100\n",
      "22/22 [==============================] - 0s 6ms/step - loss: 0.0029 - mse: 0.0029 - mae: 0.0270  \n",
      "Epoch 75/100\n"
     ]
    },
    {
     "name": "stdout",
     "output_type": "stream",
     "text": [
      "22/22 [==============================] - 0s 5ms/step - loss: 0.0032 - mse: 0.0032 - mae: 0.0288\n",
      "Epoch 76/100\n",
      "22/22 [==============================] - 0s 5ms/step - loss: 0.0033 - mse: 0.0033 - mae: 0.0282\n",
      "Epoch 77/100\n",
      "22/22 [==============================] - 0s 5ms/step - loss: 0.0032 - mse: 0.0032 - mae: 0.0282\n",
      "Epoch 78/100\n",
      "22/22 [==============================] - 0s 5ms/step - loss: 0.0032 - mse: 0.0032 - mae: 0.0275  \n",
      "Epoch 79/100\n",
      "22/22 [==============================] - 0s 5ms/step - loss: 0.0032 - mse: 0.0032 - mae: 0.0277\n",
      "Epoch 80/100\n",
      "22/22 [==============================] - 0s 5ms/step - loss: 0.0034 - mse: 0.0034 - mae: 0.0295  \n",
      "Epoch 81/100\n",
      "22/22 [==============================] - 0s 5ms/step - loss: 0.0034 - mse: 0.0034 - mae: 0.0296\n",
      "Epoch 82/100\n",
      "22/22 [==============================] - 0s 5ms/step - loss: 0.0032 - mse: 0.0032 - mae: 0.0285\n",
      "Epoch 83/100\n",
      "22/22 [==============================] - 0s 5ms/step - loss: 0.0033 - mse: 0.0033 - mae: 0.0274\n",
      "Epoch 84/100\n",
      "22/22 [==============================] - 0s 5ms/step - loss: 0.0032 - mse: 0.0032 - mae: 0.0278\n",
      "Epoch 85/100\n",
      "22/22 [==============================] - 0s 5ms/step - loss: 0.0033 - mse: 0.0033 - mae: 0.0288\n",
      "Epoch 86/100\n",
      "22/22 [==============================] - 0s 5ms/step - loss: 0.0029 - mse: 0.0029 - mae: 0.0279  \n",
      "Epoch 87/100\n",
      "22/22 [==============================] - 0s 5ms/step - loss: 0.0034 - mse: 0.0034 - mae: 0.0275\n",
      "Epoch 88/100\n",
      "22/22 [==============================] - 0s 5ms/step - loss: 0.0030 - mse: 0.0030 - mae: 0.0284\n",
      "Epoch 89/100\n",
      "22/22 [==============================] - 0s 5ms/step - loss: 0.0032 - mse: 0.0032 - mae: 0.0284\n",
      "Epoch 90/100\n",
      "22/22 [==============================] - 0s 5ms/step - loss: 0.0035 - mse: 0.0035 - mae: 0.0292  \n",
      "Epoch 91/100\n",
      "22/22 [==============================] - 0s 5ms/step - loss: 0.0029 - mse: 0.0029 - mae: 0.0282\n",
      "Epoch 92/100\n",
      "22/22 [==============================] - 0s 5ms/step - loss: 0.0032 - mse: 0.0032 - mae: 0.0280  \n",
      "Epoch 93/100\n",
      "22/22 [==============================] - 0s 5ms/step - loss: 0.0033 - mse: 0.0033 - mae: 0.0281\n",
      "Epoch 94/100\n",
      "22/22 [==============================] - 0s 5ms/step - loss: 0.0032 - mse: 0.0032 - mae: 0.0268\n",
      "Epoch 95/100\n",
      "22/22 [==============================] - 0s 5ms/step - loss: 0.0034 - mse: 0.0034 - mae: 0.0283\n",
      "Epoch 96/100\n",
      "22/22 [==============================] - 0s 5ms/step - loss: 0.0031 - mse: 0.0031 - mae: 0.0275  \n",
      "Epoch 97/100\n",
      "22/22 [==============================] - 0s 5ms/step - loss: 0.0032 - mse: 0.0032 - mae: 0.0273\n",
      "Epoch 98/100\n",
      "22/22 [==============================] - 0s 5ms/step - loss: 0.0035 - mse: 0.0035 - mae: 0.0288  \n",
      "Epoch 99/100\n",
      "22/22 [==============================] - 0s 5ms/step - loss: 0.0033 - mse: 0.0033 - mae: 0.0279\n",
      "Epoch 100/100\n",
      "22/22 [==============================] - 0s 5ms/step - loss: 0.0033 - mse: 0.0033 - mae: 0.0279  \n"
     ]
    }
   ],
   "source": [
    "#tgt1 = LSTM(units=40, input_shape=(look_back, 2))(tgt1)\n",
    "#predictions = Dense(1, activation='relu')(tgt1)\n",
    "inputs_G = Input(shape=(look_back,))\n",
    "#inputs = LayerNormalization(axis=1)(inputs)\n",
    "tgt1 = tf.keras.layers.Reshape((look_back,1),input_shape=(look_back,))(inputs_G)\n",
    "\n",
    "tgt1 = LSTM(units=40, return_sequences = True, input_shape=(look_back, 1))(tgt1)\n",
    "tgt1 = Dropout(0.2)(tgt1)\n",
    "\n",
    "tgt2 = LSTM(units=40, return_sequences = True)(tgt1)\n",
    "tgt2 = Dropout(0.2)(tgt2)\n",
    "\n",
    "tgt3 = LSTM(units=40, return_sequences = True)(tgt2)\n",
    "tgt3 = Dropout(0.2)(tgt3)\n",
    "\n",
    "#tgt4 = LSTM(units=40, return_sequences = True)(tgt3)\n",
    "#tgt4 = Dropout(0.2)(tgt4)\n",
    "\n",
    "#tgt5 = LSTM(units=40, return_sequences = True)(tgt4)\n",
    "#tgt5 = Dropout(0.2)(tgt5)\n",
    "\n",
    "#tgt6 = LSTM(units=20)(tgt5)\n",
    "#tgt6 = Dropout(0.2)(tgt6)\n",
    "\n",
    "#tgt7 = LSTM(units=20, return_sequences = True)(tgt6)\n",
    "#tgt7 = Dropout(0.2)(tgt7)\n",
    "\n",
    "#tgt8 = LSTM(units=20, return_sequences = True)(tgt7)\n",
    "#tgt8 = Dropout(0.2)(tgt8)\n",
    "\n",
    "#tgt9 = LSTM(units=20, return_sequences = True)(tgt8)\n",
    "#tgt9 = Dropout(0.2)(tgt9)\n",
    "\n",
    "tgt4 = LSTM(units=40)(tgt3)\n",
    "tgt4 = Dropout(0.2)(tgt4)\n",
    "\n",
    "#tgt6 = LSTM(units=40, return_sequences = True)(tgt5)\n",
    "\n",
    "#tgt7 = LSTM(units=40)(tgt6)\n",
    "\n",
    "\n",
    "#tgt5 = Flatten()(tgt5)\n",
    "#predictions = Dense(1, activation='relu')(tgt4)\n",
    "predictions = Dense(1)(tgt4)\n",
    "\n",
    "\n",
    "model = Model(inputs= inputs_G, outputs=predictions)\n",
    "model.compile(loss='mean_squared_error', optimizer='adam',metrics=['mse','mae'])\n",
    "\n",
    "history = model.fit(trainX_G, trainY_G, epochs=100, batch_size=32) #[1,0,0], [0,0,1]"
   ]
  },
  {
   "cell_type": "markdown",
   "id": "9967a8cf",
   "metadata": {},
   "source": [
    "look back = timesteps = 10, 4 LSTM layers"
   ]
  },
  {
   "cell_type": "code",
   "execution_count": 15,
   "id": "361182e9",
   "metadata": {
    "scrolled": true
   },
   "outputs": [
    {
     "name": "stdout",
     "output_type": "stream",
     "text": [
      "timesteps :  5\n"
     ]
    },
    {
     "data": {
      "text/plain": [
       "Text(0.5, 1.0, 'mae')"
      ]
     },
     "execution_count": 15,
     "metadata": {},
     "output_type": "execute_result"
    },
    {
     "data": {
      "image/png": "[encoded data removed]",
      "text/plain": [
       "<Figure size 432x288 with 1 Axes>"
      ]
     },
     "metadata": {
      "needs_background": "light"
     },
     "output_type": "display_data"
    }
   ],
   "source": [
    "print('timesteps : ', look_back)\n",
    "plt.plot(history.history['mae'])\n",
    "plt.title('mae')"
   ]
  },
  {
   "cell_type": "code",
   "execution_count": 16,
   "id": "1b90bd3d",
   "metadata": {
    "scrolled": true
   },
   "outputs": [
    {
     "name": "stdout",
     "output_type": "stream",
     "text": [
      "timesteps :  5\n"
     ]
    },
    {
     "data": {
      "text/plain": [
       "Text(0.5, 1.0, 'mse')"
      ]
     },
     "execution_count": 16,
     "metadata": {},
     "output_type": "execute_result"
    },
    {
     "data": {
      "image/png": "[encoded data removed]",
      "text/plain": [
       "<Figure size 432x288 with 1 Axes>"
      ]
     },
     "metadata": {
      "needs_background": "light"
     },
     "output_type": "display_data"
    }
   ],
   "source": [
    "print('timesteps : ', look_back)\n",
    "plt.plot(history.history['mse'])\n",
    "plt.title('mse')"
   ]
  },
  {
   "cell_type": "code",
   "execution_count": 17,
   "id": "406cee9b",
   "metadata": {},
   "outputs": [
    {
     "data": {
      "text/plain": [
       "[<matplotlib.lines.Line2D at 0x1eb9830f388>]"
      ]
     },
     "execution_count": 17,
     "metadata": {},
     "output_type": "execute_result"
    },
    {
     "data": {
      "image/png": "[encoded data removed]",
      "text/plain": [
       "<Figure size 432x288 with 1 Axes>"
      ]
     },
     "metadata": {
      "needs_background": "light"
     },
     "output_type": "display_data"
    }
   ],
   "source": [
    "plt.title('loss')\n",
    "plt.plot(history.history['loss'])"
   ]
  },
  {
   "cell_type": "code",
   "execution_count": 18,
   "id": "f934a778",
   "metadata": {
    "scrolled": false
   },
   "outputs": [
    {
     "name": "stdout",
     "output_type": "stream",
     "text": [
      "Model: \"functional_1\"\n",
      "_________________________________________________________________\n",
      "Layer (type)                 Output Shape              Param #   \n",
      "=================================================================\n",
      "input_1 (InputLayer)         [(None, 5)]               0         \n",
      "_________________________________________________________________\n",
      "reshape (Reshape)            (None, 5, 1)              0         \n",
      "_________________________________________________________________\n",
      "lstm (LSTM)                  (None, 5, 40)             6720      \n",
      "_________________________________________________________________\n",
      "dropout (Dropout)            (None, 5, 40)             0         \n",
      "_________________________________________________________________\n",
      "lstm_1 (LSTM)                (None, 5, 40)             12960     \n",
      "_________________________________________________________________\n",
      "dropout_1 (Dropout)          (None, 5, 40)             0         \n",
      "_________________________________________________________________\n",
      "lstm_2 (LSTM)                (None, 5, 40)             12960     \n",
      "_________________________________________________________________\n",
      "dropout_2 (Dropout)          (None, 5, 40)             0         \n",
      "_________________________________________________________________\n",
      "lstm_3 (LSTM)                (None, 40)                12960     \n",
      "_________________________________________________________________\n",
      "dropout_3 (Dropout)          (None, 40)                0         \n",
      "_________________________________________________________________\n",
      "dense (Dense)                (None, 1)                 41        \n",
      "=================================================================\n",
      "Total params: 45,641\n",
      "Trainable params: 45,641\n",
      "Non-trainable params: 0\n",
      "_________________________________________________________________\n"
     ]
    }
   ],
   "source": [
    "model.summary()"
   ]
  },
  {
   "cell_type": "code",
   "execution_count": 19,
   "id": "3efce343",
   "metadata": {},
   "outputs": [],
   "source": [
    "from sklearn.metrics import mean_squared_error as mse\n",
    "\n",
    "trainPredict = model.predict(trainX_A, batch_size = 32)\n",
    "testPredict = model.predict(testX_A, batch_size = 32)"
   ]
  },
  {
   "cell_type": "code",
   "execution_count": 20,
   "id": "a3099ca9",
   "metadata": {},
   "outputs": [
    {
     "name": "stdout",
     "output_type": "stream",
     "text": [
      "Train Score: 17661.68 RMSE\n",
      "Test Score: 26050.16 RMSE\n",
      "Train Score: 94.85 RMAE\n",
      "Test Score: 105.04 RMAE\n"
     ]
    }
   ],
   "source": [
    "# invert predictions\n",
    "#scaler = MinMaxScaler(feature_range=(0, 1))\n",
    "trainPredict = scaler.inverse_transform(trainPredict)\n",
    "trainY = scaler.inverse_transform(trainY_A)\n",
    "testPredict = scaler.inverse_transform(testPredict)\n",
    "testY = scaler.inverse_transform(testY_A)\n",
    "# calculate root mean squared error\n",
    "trainScore = math.sqrt(mse(trainY, trainPredict))\n",
    "print('Train Score: %.2f RMSE' % (trainScore))\n",
    "testScore = math.sqrt(mse(testY, testPredict))\n",
    "print('Test Score: %.2f RMSE' % (testScore))\n",
    "# calculate root mean absolute error\n",
    "trainScore2 = math.sqrt(mae(trainY, trainPredict))\n",
    "print('Train Score: %.2f RMAE' % (trainScore2))\n",
    "testScore2 = math.sqrt(mae(testY, testPredict))\n",
    "print('Test Score: %.2f RMAE' % (testScore2))"
   ]
  },
  {
   "cell_type": "code",
   "execution_count": 21,
   "id": "fd1867fb",
   "metadata": {
    "scrolled": false
   },
   "outputs": [
    {
     "data": {
      "image/png": "[encoded data removed]",
      "text/plain": [
       "<Figure size 1080x720 with 1 Axes>"
      ]
     },
     "metadata": {
      "needs_background": "light"
     },
     "output_type": "display_data"
    }
   ],
   "source": [
    "testPredictPlot = np.empty_like(datasetA)\n",
    "testPredictPlot[:, :] = np.nan\n",
    "testPredictPlot[len(trainPredict)+(look_back*2)+1:len(datasetA)-1] = testPredict\n",
    "# plot baseline and predictions\n",
    "plt.figure(figsize=(15, 10))\n",
    "#plt.plot(datasetA[1500:])\n",
    "plt.plot(datasetA[706:])\n",
    "#plt.plot(trainPredictPlot)\n",
    "plt.plot(testPredictPlot[706:])\n",
    "plt.show()"
   ]
  },
  {
   "cell_type": "code",
   "execution_count": 22,
   "id": "7b62ae9b",
   "metadata": {
    "scrolled": false
   },
   "outputs": [
    {
     "data": {
      "text/plain": [
       "array([220373.47], dtype=float32)"
      ]
     },
     "execution_count": 22,
     "metadata": {},
     "output_type": "execute_result"
    }
   ],
   "source": [
    "max(testPredict)"
   ]
  },
  {
   "cell_type": "code",
   "execution_count": null,
   "id": "a25add5a",
   "metadata": {},
   "outputs": [],
   "source": [
    "#testPredict"
   ]
  },
  {
   "cell_type": "code",
   "execution_count": null,
   "id": "2e1e3901",
   "metadata": {},
   "outputs": [],
   "source": [
    "#testY_A"
   ]
  },
  {
   "cell_type": "code",
   "execution_count": null,
   "id": "316fd844",
   "metadata": {
    "scrolled": true
   },
   "outputs": [],
   "source": [
    "#datasetA[:100]"
   ]
  },
  {
   "cell_type": "code",
   "execution_count": null,
   "id": "83ae4ca0",
   "metadata": {},
   "outputs": [],
   "source": [
    "model.save('U16D00_ONU16_AiGi-1_1401388_195000_4layer_lookback.h5', include_optimizer=False)"
   ]
  },
  {
   "cell_type": "code",
   "execution_count": null,
   "id": "534641b2",
   "metadata": {},
   "outputs": [],
   "source": []
  }
 ],
 "metadata": {
  "kernelspec": {
   "display_name": "Python 3",
   "language": "python",
   "name": "python3"
  },
  "language_info": {
   "codemirror_mode": {
    "name": "ipython",
    "version": 3
   },
   "file_extension": ".py",
   "mimetype": "text/x-python",
   "name": "python",
   "nbconvert_exporter": "python",
   "pygments_lexer": "ipython3",
   "version": "3.7.7"
  }
 },
 "nbformat": 4,
 "nbformat_minor": 5
}
