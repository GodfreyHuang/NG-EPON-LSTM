{
 "cells": [
  {
   "cell_type": "code",
   "execution_count": 1,
   "id": "4bf5ca2b",
   "metadata": {},
   "outputs": [],
   "source": [
    "import numpy as np\n",
    "import matplotlib.pyplot as plt\n",
    "import pandas as pd \n",
    "import time\n",
    "start = time.time()"
   ]
  },
  {
   "cell_type": "code",
   "execution_count": 2,
   "id": "914fc25d",
   "metadata": {},
   "outputs": [
    {
     "name": "stdout",
     "output_type": "stream",
     "text": [
      "len(id) :  32901\n",
      "len(Ri) :  32901\n",
      "len(Gi) :  32901\n",
      "len(Ai) :  32901\n",
      "len(Gi-1) :  32901\n"
     ]
    }
   ],
   "source": [
    "text_file = open(\"./SelfData/0523/0523_self12GData_Multi_ONU16.txt\",\"r\")#ONU_16_GrantDownLoadSizePerCycle, ONU[27]_GrantDown.txt\n",
    "lines = text_file.readlines()\n",
    "i = 0\n",
    "\n",
    "Ri1 = []\n",
    "Ri = []\n",
    "Gi = []\n",
    "Ai = []\n",
    "Gi1 = []\n",
    "\n",
    "'''\n",
    "for i in range(len(lines)):\n",
    "    if i < 1000000:\n",
    "        cycleCount, request = lines[i].split(\"\\t\",1)\n",
    "        #if(i == 0):\n",
    "        #    print(cycleCount)\n",
    "        c1, idxx = cycleCount.split(\":\", 1)\n",
    "        c2, r2 = request.split(\"\\t\", 1)\n",
    "        cc2, Rii = c2.split(\":\", 1)\n",
    "        c3, r3 = r2.split(\"\\t\", 1)\n",
    "        cc3, Gii = c3.split(\":\", 1)\n",
    "        c4, Aii = r3.split(\":\", 1)\n",
    "        #c5,cycle = cycleCount.split(\":\", 1) #add\n",
    "        #c1,r1 = request.split(\"\\t\",1)\n",
    "        #cc1,idx = c1.split(\":\", 1)\n",
    "        #c2,r2 = r1.split(\"\\t\",1)\n",
    "        #cc2,Ri = c2.split(\":\",1)\n",
    "        #c4,r4 = r2.split(\"\\t\",1)\n",
    "        #c3,Gi = c4.split(\":\",1)\n",
    "        #cc4,Ai = r4.split(\":\",1)\n",
    "        #c5,cycle = cycleCount.split(\":\", 1) #add\n",
    "        idx.append(float(idxx))\n",
    "        Ri.append(float(Rii))\n",
    "        Gi.append(float(Gii))\n",
    "        Ai.append(float(Aii))\n",
    "     \n",
    "'''\n",
    "'''\n",
    "print('len(id) : ',len(idx))\n",
    "print('len(Ri) : ',len(Ri))\n",
    "print('len(Gi) : ',len(Gi))\n",
    "print('len(Ai) : ',len(Ai))\n",
    "#print(cycle)\n",
    "#print(Ai)\n",
    "'''\n",
    "\n",
    "for i in range(len(lines)):\n",
    "    if i < 1000000:\n",
    "        cycleCount, request = lines[i].split(\"\\t\",1)\n",
    "        c1, Ri11 = cycleCount.split(\":\", 1)\n",
    "        c2, r2 = request.split(\"\\t\", 1)\n",
    "        cc2, Rii = c2.split(\":\", 1)\n",
    "        c3, r3 = r2.split(\"\\t\", 1)\n",
    "        cc3, Gii = c3.split(\":\", 1)\n",
    "        c4, r4 = r3.split(\"\\t\", 1)\n",
    "        cc4, Aii = c4.split(\":\", 1)\n",
    "        #\n",
    "        c5, Gi11 = r4.split(\":\", 1)\n",
    "        Ri1.append(float(Ri11))\n",
    "        Ri.append(float(Rii))\n",
    "        Gi.append(float(Gii))\n",
    "        Ai.append(float(Aii))\n",
    "        #\n",
    "        Gi1.append(float(Gi11))\n",
    "        \n",
    "print('len(id) : ',len(Ri1))\n",
    "print('len(Ri) : ',len(Ri))\n",
    "print('len(Gi) : ',len(Gi))\n",
    "print('len(Ai) : ',len(Ai))\n",
    "#\n",
    "print('len(Gi-1) : ',len(Gi1))"
   ]
  },
  {
   "cell_type": "code",
   "execution_count": 3,
   "id": "ba7b321c",
   "metadata": {
    "scrolled": true
   },
   "outputs": [
    {
     "name": "stdout",
     "output_type": "stream",
     "text": [
      "32901\n",
      "min(BufferSize1) :  -17316.0\n",
      "max(BufferSize1) :  11462974.0\n",
      "BufferSize1[0:10]:  [54943.0, 96537.0, 679844.0, 524179.0, 372883.0, 236409.0, 218621.0, 58003.0, 62848.0, 15086.0]\n",
      "32901\n",
      "min(BufferSize2) :  -17316.0\n",
      "max(BufferSize2) :  11462974.0\n",
      "BufferSize2[0:10]:  [96537.0, 679844.0, 524179.0, 372883.0, 236409.0, 218621.0, 58003.0, 62848.0, 15086.0, 20465.0]\n",
      "32901\n",
      "min(BufferSize3) :  0.0\n",
      "max(BufferSize3) :  195000.0\n",
      "BufferSize3[0:10]:  [96537.0, 195000.0, 195000.0, 195000.0, 195000.0, 195000.0, 63803.0, 69132.0, 16594.0, 22511.0]\n",
      "32901\n",
      "min(BufferSize4) :  0.0\n",
      "max(BufferSize4) :  1098499.0\n",
      "BufferSize4[0:10]:  [96537.0, 679844.0, 39335.0, 42823.0, 57706.0, 176686.0, 34165.0, 68496.0, 20580.0, 21562.0]\n",
      "32901\n",
      "min(BufferSize5) :  0.0\n",
      "max(BufferSize5) :  195000.0\n",
      "BufferSize5[0:10]:  [54943.0, 96537.0, 195000.0, 195000.0, 195000.0, 195000.0, 195000.0, 63803.0, 69132.0, 16594.0]\n"
     ]
    }
   ],
   "source": [
    "BufferSize1 = []\n",
    "BufferSize2 = []\n",
    "BufferSize3 = []\n",
    "BufferSize4 = []\n",
    "BufferSize5 = [] #add\n",
    "\n",
    "'''\n",
    "for i in range(0,len(Requestnow)):\n",
    "    if((Requestnow[i] - Requestold[i] + Grantold[i]) == Ai[i]):\n",
    "        BufferSize1.append(Requestnow[i])\n",
    "        BufferSize2.append(Ai[i])\n",
    "        BufferSize3.append(Grantold[i])\n",
    "        BufferSize4.append(Requestold[i])\n",
    "        BufferSize5.append(Cycle[i]) #add\n",
    "'''        \n",
    "for i in range(0,len(Ri1)):\n",
    "    BufferSize1.append(Ri1[i])\n",
    "    BufferSize2.append(Ri[i])\n",
    "    BufferSize3.append(Gi[i])\n",
    "    BufferSize4.append(Ai[i])\n",
    "    BufferSize5.append(Gi1[i])\n",
    "\n",
    "print(len(BufferSize1))\n",
    "print('min(BufferSize1) : ',min(BufferSize1))\n",
    "print('max(BufferSize1) : ',max(BufferSize1))\n",
    "print('BufferSize1[0:10]: ',BufferSize1[0:10])\n",
    "print(len(BufferSize2))\n",
    "print('min(BufferSize2) : ',min(BufferSize2))\n",
    "print('max(BufferSize2) : ',max(BufferSize2))\n",
    "print('BufferSize2[0:10]: ',BufferSize2[0:10])\n",
    "print(len(BufferSize3))\n",
    "print('min(BufferSize3) : ',min(BufferSize3))\n",
    "print('max(BufferSize3) : ',max(BufferSize3))\n",
    "print('BufferSize3[0:10]: ',BufferSize3[0:10])\n",
    "print(len(BufferSize4))\n",
    "print('min(BufferSize4) : ',min(BufferSize4))\n",
    "print('max(BufferSize4) : ',max(BufferSize4))\n",
    "print('BufferSize4[0:10]: ',BufferSize4[0:10])\n",
    "print(len(BufferSize5))                          #add\n",
    "print('min(BufferSize5) : ',min(BufferSize5))\n",
    "print('max(BufferSize5) : ',max(BufferSize5))\n",
    "print('BufferSize5[0:10]: ',BufferSize5[0:10])"
   ]
  },
  {
   "cell_type": "code",
   "execution_count": 4,
   "id": "89c861d0",
   "metadata": {},
   "outputs": [],
   "source": [
    "'''\n",
    "output_file = open(\"AIerror_ONU16_13S_Request.txt\",\"w+\")\n",
    "for i in range(len(BufferSize1)):\n",
    "    output_file.write(str(BufferSize1[i])+'\\n')\n",
    "output_file2 = open(\"AIerror_ONU16_15S_Ai.txt\",\"w+\")\n",
    "for i in range(len(BufferSize2)):\n",
    "    output_file2.write(str(BufferSize2[i])+'\\n')\n",
    "output_file3 = open(\"AIerror_ONU16_13S_Grandup.txt\",\"w+\")\n",
    "for i in range(len(BufferSize3)):\n",
    "    output_file3.write(str(BufferSize3[i])+'\\n')\n",
    "output_file4 = open(\"AIerror_ONU16_13S_Requestold.txt\",\"w+\")\n",
    "for i in range(len(BufferSize4)):\n",
    "    output_file4.write(str(BufferSize4[i])+'\\n')\n",
    "    \n",
    "output_file5 = open(\"AIerror_ONU16_15S_Cycle&Ai.txt\",\"w+\") #add\n",
    "for i in range(len(BufferSize5)):\n",
    "    output_file5.write(str(BufferSize5[i])+', ')\n",
    "    output_file5.write(str(BufferSize4[i])+'\\n')\n",
    "    \n",
    "output_file6 = open(\"AIerror_ONU16_15S_Cycle&Ai&Grantold.txt\",\"w+\") #add\n",
    "for i in range(len(BufferSize5)):\n",
    "    output_file6.write(str(BufferSize5[i])+', ')\n",
    "    output_file6.write(str(BufferSize2[i])+', ')\n",
    "    output_file6.write(str(BufferSize3[i])+'\\n')\n",
    "'''\n",
    "output_file7 = open(\"./SelfData/0523/U12_ONU16_15S_Ri_11462974_0523.txt\",\"w+\") #add\n",
    "for i in range(len(BufferSize1)):\n",
    "    output_file7.write(str(BufferSize2[i])+'\\n')\n",
    "    \n",
    "output_file8 = open(\"./SelfData/0523/U12_ONU16_15S_Ai_1098499_0523.txt\",\"w+\")\n",
    "for i in range(len(BufferSize1)):\n",
    "    output_file8.write(str(BufferSize4[i])+'\\n')\n",
    "    \n",
    "output_file9 = open(\"./SelfData/0523/U12_ONU16_15S_Gi-1_195000_0523.txt\",\"w+\")\n",
    "for i in range(len(BufferSize1)):\n",
    "    output_file9.write(str(BufferSize5[i])+'\\n')\n",
    "    \n"
   ]
  },
  {
   "cell_type": "code",
   "execution_count": 5,
   "id": "e829f3bd",
   "metadata": {},
   "outputs": [
    {
     "name": "stdout",
     "output_type": "stream",
     "text": [
      "3.089246233304342\n"
     ]
    }
   ],
   "source": [
    "end = time.time()\n",
    "print((end-start)/60.0)"
   ]
  },
  {
   "cell_type": "code",
   "execution_count": 13,
   "id": "9fef804d",
   "metadata": {},
   "outputs": [],
   "source": [
    "output_file.close()\n",
    "output_file2.close()\n",
    "output_file3.close()\n",
    "output_file4.close()"
   ]
  },
  {
   "cell_type": "code",
   "execution_count": 14,
   "id": "7ee0aabd",
   "metadata": {},
   "outputs": [],
   "source": [
    "output_file5.close()"
   ]
  },
  {
   "cell_type": "code",
   "execution_count": 15,
   "id": "8214d7a6",
   "metadata": {},
   "outputs": [],
   "source": [
    "output_file6.close()"
   ]
  },
  {
   "cell_type": "code",
   "execution_count": 6,
   "id": "3e78115b",
   "metadata": {},
   "outputs": [],
   "source": [
    "output_file7.close()"
   ]
  },
  {
   "cell_type": "code",
   "execution_count": 7,
   "id": "5805685d",
   "metadata": {},
   "outputs": [],
   "source": [
    "output_file8.close()\n",
    "output_file9.close()"
   ]
  },
  {
   "cell_type": "code",
   "execution_count": null,
   "id": "b647c372",
   "metadata": {},
   "outputs": [],
   "source": []
  },
  {
   "cell_type": "code",
   "execution_count": null,
   "id": "66267e8e",
   "metadata": {},
   "outputs": [],
   "source": []
  }
 ],
 "metadata": {
  "kernelspec": {
   "display_name": "Python 3",
   "language": "python",
   "name": "python3"
  },
  "language_info": {
   "codemirror_mode": {
    "name": "ipython",
    "version": 3
   },
   "file_extension": ".py",
   "mimetype": "text/x-python",
   "name": "python",
   "nbconvert_exporter": "python",
   "pygments_lexer": "ipython3",
   "version": "3.7.7"
  }
 },
 "nbformat": 4,
 "nbformat_minor": 5
}
