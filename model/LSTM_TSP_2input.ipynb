{
 "cells": [
  {
   "cell_type": "code",
   "execution_count": 1,
   "id": "11fef14e",
   "metadata": {},
   "outputs": [],
   "source": [
    "import numpy as np\n",
    "import tensorflow as tf\n",
    "from tensorflow.keras.layers import Input, Dense, LSTM, Reshape, Dropout, LayerNormalization\n",
    "from tensorflow.keras.models import Model, Sequential\n",
    "from sklearn.preprocessing import MinMaxScaler\n",
    "import matplotlib.pyplot as plt\n",
    "import math\n",
    "from sklearn.metrics import mean_absolute_error as mae\n",
    "from sklearn.preprocessing import MinMaxScaler\n",
    "sc = MinMaxScaler(feature_range = (0,1))\n",
    "\n",
    "import pandas as pd"
   ]
  },
  {
   "cell_type": "code",
   "execution_count": 2,
   "id": "19c81e8a",
   "metadata": {},
   "outputs": [
    {
     "data": {
      "text/html": [
       "<div>\n",
       "<style scoped>\n",
       "    .dataframe tbody tr th:only-of-type {\n",
       "        vertical-align: middle;\n",
       "    }\n",
       "\n",
       "    .dataframe tbody tr th {\n",
       "        vertical-align: top;\n",
       "    }\n",
       "\n",
       "    .dataframe thead th {\n",
       "        text-align: right;\n",
       "    }\n",
       "</style>\n",
       "<table border=\"1\" class=\"dataframe\">\n",
       "  <thead>\n",
       "    <tr style=\"text-align: right;\">\n",
       "      <th></th>\n",
       "      <th>Ai</th>\n",
       "      <th>GrandOld</th>\n",
       "    </tr>\n",
       "  </thead>\n",
       "  <tbody>\n",
       "    <tr>\n",
       "      <th>0</th>\n",
       "      <td>906</td>\n",
       "      <td>472</td>\n",
       "    </tr>\n",
       "    <tr>\n",
       "      <th>1</th>\n",
       "      <td>472</td>\n",
       "      <td>906</td>\n",
       "    </tr>\n",
       "    <tr>\n",
       "      <th>2</th>\n",
       "      <td>906</td>\n",
       "      <td>472</td>\n",
       "    </tr>\n",
       "    <tr>\n",
       "      <th>3</th>\n",
       "      <td>472</td>\n",
       "      <td>906</td>\n",
       "    </tr>\n",
       "    <tr>\n",
       "      <th>4</th>\n",
       "      <td>906</td>\n",
       "      <td>472</td>\n",
       "    </tr>\n",
       "  </tbody>\n",
       "</table>\n",
       "</div>"
      ],
      "text/plain": [
       "    Ai  GrandOld\n",
       "0  906       472\n",
       "1  472       906\n",
       "2  906       472\n",
       "3  472       906\n",
       "4  906       472"
      ]
     },
     "execution_count": 2,
     "metadata": {},
     "output_type": "execute_result"
    }
   ],
   "source": [
    "df = pd.read_csv('AIerror_ONU16_15S_Cycle&Ai&Grantold.csv', usecols=[1, 2], engine='python')\n",
    "df.head()"
   ]
  },
  {
   "cell_type": "code",
   "execution_count": 3,
   "id": "a1d65774",
   "metadata": {},
   "outputs": [],
   "source": [
    "df = df.values\n",
    "df = df.astype('float32')"
   ]
  },
  {
   "cell_type": "code",
   "execution_count": 4,
   "id": "56467b79",
   "metadata": {},
   "outputs": [],
   "source": [
    "# normalize the dataset\n",
    "scaler = MinMaxScaler(feature_range=(0, 1))\n",
    "dataset = scaler.fit_transform(df)"
   ]
  },
  {
   "cell_type": "code",
   "execution_count": 5,
   "id": "41274270",
   "metadata": {},
   "outputs": [
    {
     "name": "stdout",
     "output_type": "stream",
     "text": [
      "30865 15203\n"
     ]
    }
   ],
   "source": [
    "# split into train and test sets\n",
    "train_size = int(len(dataset) * 0.67) \n",
    "test_size = len(dataset) - train_size\n",
    "train, test = dataset[0:train_size, :], dataset[train_size:len(dataset), :]\n",
    "print(len(train), len(test))"
   ]
  },
  {
   "cell_type": "code",
   "execution_count": 6,
   "id": "b015ec54",
   "metadata": {},
   "outputs": [],
   "source": [
    "# convert an array of values into a dataset matrix\n",
    "def create_dataset(dataset, look_back=1):\n",
    "    dataX, dataY = [], []\n",
    "    for i in range(len(dataset) - look_back - 1):\n",
    "        a = dataset[i:(i + look_back), :]\n",
    "        dataX.append(a)\n",
    "        dataY.append(dataset[i + look_back, :])\n",
    "    return np.array(dataX), np.array(dataY)"
   ]
  },
  {
   "cell_type": "code",
   "execution_count": 7,
   "id": "30b7c27c",
   "metadata": {},
   "outputs": [],
   "source": [
    "# reshape into X=t and Y=t+1\n",
    "look_back = 5 #16\n",
    "trainX, trainY = create_dataset(train, look_back)\n",
    "testX, testY = create_dataset(test, look_back)"
   ]
  },
  {
   "cell_type": "code",
   "execution_count": 8,
   "id": "b5d00ce8",
   "metadata": {},
   "outputs": [
    {
     "name": "stdout",
     "output_type": "stream",
     "text": [
      "(30859, 5, 2)\n",
      "(30859, 2)\n",
      "(15197, 5, 2)\n",
      "(15197, 2)\n"
     ]
    }
   ],
   "source": [
    "# reshape input to be [samples, time steps, features]\n",
    "trainX = np.reshape(trainX, (trainX.shape[0], look_back, 2))\n",
    "testX = np.reshape(testX, (testX.shape[0], look_back, 2))\n",
    "#print(trainX.shape[1])\n",
    "print(trainX.shape)\n",
    "print(trainY.shape)\n",
    "print(testX.shape)\n",
    "print(testY.shape)"
   ]
  },
  {
   "cell_type": "code",
   "execution_count": 9,
   "id": "1f0ea357",
   "metadata": {
    "scrolled": false
   },
   "outputs": [
    {
     "name": "stdout",
     "output_type": "stream",
     "text": [
      "Epoch 1/20\n",
      "483/483 [==============================] - 1s 2ms/step - loss: 0.0046\n",
      "Epoch 2/20\n",
      "483/483 [==============================] - 1s 2ms/step - loss: 0.0035\n",
      "Epoch 3/20\n",
      "483/483 [==============================] - 1s 2ms/step - loss: 0.0033\n",
      "Epoch 4/20\n",
      "483/483 [==============================] - 1s 2ms/step - loss: 0.0032\n",
      "Epoch 5/20\n",
      "483/483 [==============================] - 1s 2ms/step - loss: 0.0032\n",
      "Epoch 6/20\n",
      "483/483 [==============================] - 1s 2ms/step - loss: 0.0031\n",
      "Epoch 7/20\n",
      "483/483 [==============================] - 1s 2ms/step - loss: 0.0031\n",
      "Epoch 8/20\n",
      "483/483 [==============================] - 1s 2ms/step - loss: 0.0031\n",
      "Epoch 9/20\n",
      "483/483 [==============================] - 1s 2ms/step - loss: 0.0031\n",
      "Epoch 10/20\n",
      "483/483 [==============================] - 1s 2ms/step - loss: 0.0031\n",
      "Epoch 11/20\n",
      "483/483 [==============================] - 1s 2ms/step - loss: 0.0031\n",
      "Epoch 12/20\n",
      "483/483 [==============================] - 1s 2ms/step - loss: 0.0031\n",
      "Epoch 13/20\n",
      "483/483 [==============================] - 1s 2ms/step - loss: 0.0031\n",
      "Epoch 14/20\n",
      "483/483 [==============================] - 1s 2ms/step - loss: 0.0031\n",
      "Epoch 15/20\n",
      "483/483 [==============================] - 1s 2ms/step - loss: 0.0031\n",
      "Epoch 16/20\n",
      "483/483 [==============================] - 1s 2ms/step - loss: 0.0031\n",
      "Epoch 17/20\n",
      "483/483 [==============================] - 1s 2ms/step - loss: 0.0031\n",
      "Epoch 18/20\n",
      "483/483 [==============================] - 1s 2ms/step - loss: 0.0031\n",
      "Epoch 19/20\n",
      "483/483 [==============================] - 1s 2ms/step - loss: 0.0031\n",
      "Epoch 20/20\n",
      "483/483 [==============================] - 1s 2ms/step - loss: 0.0031\n"
     ]
    },
    {
     "data": {
      "text/plain": [
       "<tensorflow.python.keras.callbacks.History at 0x1e2e803ebc8>"
      ]
     },
     "execution_count": 9,
     "metadata": {},
     "output_type": "execute_result"
    }
   ],
   "source": [
    "# create and fit the LSTM network\n",
    "model = Sequential()\n",
    "model.add(LSTM(40, input_shape=(look_back, 2)))\n",
    "model.add(Dense(1))\n",
    "model.compile(loss='mean_squared_error', optimizer='adam')\n",
    "model.fit(trainX, trainY, epochs=20, batch_size=64, verbose=1) #64 & 128"
   ]
  },
  {
   "cell_type": "code",
   "execution_count": 12,
   "id": "2ac0c261",
   "metadata": {},
   "outputs": [
    {
     "name": "stdout",
     "output_type": "stream",
     "text": [
      "[ 1546.8976549   1372.89957278  1549.69114773 ... 46276.20536946\n",
      " 57865.40501951 50859.74487281]\n"
     ]
    }
   ],
   "source": [
    "# Get something which has as many features as dataset\n",
    "#trainPredict_extended = np.zeros((len(trainPredict),3))\n",
    "# Put the predictions there\n",
    "#trainPredict_extended[:,2] = trainPredict[:,0]\n",
    "# Inverse transform it and select the 3rd column.\n",
    "#trainPredict = scaler.inverse_transform(trainPredict_extended) [:,2]  \n",
    "#print(trainPredict)"
   ]
  },
  {
   "cell_type": "code",
   "execution_count": 13,
   "id": "bee402a6",
   "metadata": {},
   "outputs": [
    {
     "name": "stdout",
     "output_type": "stream",
     "text": [
      "Train Score: 11262.73 RMSE\n",
      "Test Score: 11832.15 RMSE\n",
      "Train Score: 73.63 RMAE\n",
      "Test Score: 74.08 RMAE\n"
     ]
    }
   ],
   "source": [
    "#batch_size = 64\n",
    "from sklearn.metrics import mean_squared_error as mse\n",
    "# make predictions\n",
    "trainPredict = model.predict(trainX)\n",
    "testPredict = model.predict(testX)\n",
    "# invert predictions\n",
    "#trainPredict = scaler.inverse_transform(trainPredict)\n",
    "#trainY = scaler.inverse_transform([trainY])\n",
    "#testPredict = scaler.inverse_transform(testPredict)\n",
    "#testY = scaler.inverse_transform([testY])\n",
    "\n",
    "# Get something which has as many features as dataset\n",
    "trainPredict_extended = np.zeros((len(trainPredict),2))\n",
    "# Put the predictions there\n",
    "trainPredict_extended[:,1] = trainPredict[:,0]\n",
    "# Inverse transform it and select the 3rd column.\n",
    "trainPredict = scaler.inverse_transform(trainPredict_extended) [:,1]  \n",
    "#print(trainPredict)\n",
    "\n",
    "testPredict_extended = np.zeros((len(testPredict),2))\n",
    "# Put the predictions there\n",
    "testPredict_extended[:,1] = testPredict[:,0]\n",
    "# Inverse transform it and select the 3rd column.\n",
    "testPredict = scaler.inverse_transform(testPredict_extended)[:,1]  \n",
    "\n",
    "trainY_extended = np.zeros((len(trainY),2))\n",
    "trainY_extended[:,1]=trainY[:,0]\n",
    "trainY=scaler.inverse_transform(trainY_extended)[:,1]\n",
    "\n",
    "testY_extended = np.zeros((len(testY),2))\n",
    "testY_extended[:,1]=testY[:,0]\n",
    "testY=scaler.inverse_transform(testY_extended)[:,1]\n",
    "\n",
    "# calculate root mean squared error\n",
    "trainScore = math.sqrt(mse(trainY, trainPredict))\n",
    "print('Train Score: %.2f RMSE' % (trainScore))\n",
    "testScore = math.sqrt(mse(testY, testPredict))\n",
    "print('Test Score: %.2f RMSE' % (testScore))\n",
    "# calculate root mean absolute error\n",
    "trainScore2 = math.sqrt(mae(trainY, trainPredict))\n",
    "print('Train Score: %.2f RMAE' % (trainScore2))\n",
    "testScore2 = math.sqrt(mae(testY, testPredict))\n",
    "print('Test Score: %.2f RMAE' % (testScore2))"
   ]
  },
  {
   "cell_type": "code",
   "execution_count": 19,
   "id": "35a1f59d",
   "metadata": {},
   "outputs": [
    {
     "data": {
      "image/png": "[encoded data removed]",
      "text/plain": [
       "<Figure size 864x720 with 1 Axes>"
      ]
     },
     "metadata": {
      "needs_background": "light"
     },
     "output_type": "display_data"
    }
   ],
   "source": [
    "# shift train predictions for plotting\n",
    "trainPredictPlot = np.empty_like(dataset)\n",
    "trainPredictPlot[:, :] = np.nan\n",
    "trainPredictPlot[look_back:len(trainPredict)+look_back, 1] = trainPredict\n",
    "# shift test predictions for plotting\n",
    "testPredictPlot = np.empty_like(dataset)\n",
    "testPredictPlot[:, :] = np.nan\n",
    "testPredictPlot[len(trainPredict)+(look_back*2)+1:len(dataset)-1, 1] = testPredict\n",
    "# plot baseline and predictions\n",
    "plt.figure(figsize=(12, 10))\n",
    "plt.plot(scaler.inverse_transform(dataset))\n",
    "plt.plot(trainPredictPlot)\n",
    "plt.plot(testPredictPlot)\n",
    "plt.show()"
   ]
  },
  {
   "cell_type": "code",
   "execution_count": 20,
   "id": "76ab5ce7",
   "metadata": {},
   "outputs": [
    {
     "name": "stdout",
     "output_type": "stream",
     "text": [
      "Model: \"sequential\"\n",
      "_________________________________________________________________\n",
      "Layer (type)                 Output Shape              Param #   \n",
      "=================================================================\n",
      "lstm (LSTM)                  (None, 40)                6880      \n",
      "_________________________________________________________________\n",
      "dense (Dense)                (None, 1)                 41        \n",
      "=================================================================\n",
      "Total params: 6,921\n",
      "Trainable params: 6,921\n",
      "Non-trainable params: 0\n",
      "_________________________________________________________________\n"
     ]
    }
   ],
   "source": [
    "model.summary()"
   ]
  },
  {
   "cell_type": "code",
   "execution_count": null,
   "id": "45f8788b",
   "metadata": {},
   "outputs": [],
   "source": []
  }
 ],
 "metadata": {
  "kernelspec": {
   "display_name": "Python 3",
   "language": "python",
   "name": "python3"
  },
  "language_info": {
   "codemirror_mode": {
    "name": "ipython",
    "version": 3
   },
   "file_extension": ".py",
   "mimetype": "text/x-python",
   "name": "python",
   "nbconvert_exporter": "python",
   "pygments_lexer": "ipython3",
   "version": "3.7.7"
  }
 },
 "nbformat": 4,
 "nbformat_minor": 5
}
