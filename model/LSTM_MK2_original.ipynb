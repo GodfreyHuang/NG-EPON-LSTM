{
 "cells": [
  {
   "cell_type": "code",
   "execution_count": 1,
   "id": "1ea101bf",
   "metadata": {},
   "outputs": [],
   "source": [
    "import numpy as np\n",
    "import tensorflow as tf\n",
    "from tensorflow.keras.layers import Input, Dense, LSTM, Reshape, Dropout, LayerNormalization\n",
    "from tensorflow.keras.models import Model, Sequential\n",
    "from sklearn.preprocessing import MinMaxScaler\n",
    "import matplotlib.pyplot as plt\n",
    "import math\n",
    "from sklearn.metrics import mean_absolute_error as mae\n",
    "from sklearn.preprocessing import MinMaxScaler\n",
    "sc = MinMaxScaler(feature_range = (0,1))"
   ]
  },
  {
   "cell_type": "code",
   "execution_count": 2,
   "id": "6af39df0",
   "metadata": {},
   "outputs": [],
   "source": [
    "text_file = open(\"AIerror_ONU16_13S_Ai.txt\",\"r\")"
   ]
  },
  {
   "cell_type": "code",
   "execution_count": 3,
   "id": "4f041986",
   "metadata": {},
   "outputs": [],
   "source": [
    "lines   = text_file.readlines()\n",
    "X_train = []\n",
    "Y_train = []\n",
    "X_test  = []\n",
    "Y_test  = []\n",
    "g       = []\n",
    "BufferSize = []"
   ]
  },
  {
   "cell_type": "code",
   "execution_count": 4,
   "id": "13b3a6de",
   "metadata": {},
   "outputs": [],
   "source": [
    "timesteps_ = 50"
   ]
  },
  {
   "cell_type": "code",
   "execution_count": 5,
   "id": "61cf4be8",
   "metadata": {},
   "outputs": [
    {
     "name": "stdout",
     "output_type": "stream",
     "text": [
      "max(X_train)  :  535294.0\n",
      "min(X_train)  :  0.0\n"
     ]
    }
   ],
   "source": [
    "for i in range(len(lines)):\n",
    "\tg.append(float(lines[i]))\n",
    "for i in range(len(g)):\n",
    "\tif g[i] >= 0:\n",
    "\t\tBufferSize.append(g[i])\n",
    "\n",
    "print('max(X_train)  : ',max(BufferSize))\n",
    "print('min(X_train)  : ',min(BufferSize))\n",
    "\n",
    "# for i in range(len(BufferSize)):\n",
    "# \tBufferSize[i] = (BufferSize[i]-min(BufferSize))/max(BufferSize)"
   ]
  },
  {
   "cell_type": "code",
   "execution_count": 6,
   "id": "441370c5",
   "metadata": {},
   "outputs": [
    {
     "data": {
      "text/plain": [
       "[0.0008817584355513045,\n",
       " 0.0016925278445116142,\n",
       " 0.0008817584355513045,\n",
       " 0.0016925278445116142,\n",
       " 0.0008817584355513045,\n",
       " 0.0016925278445116142,\n",
       " 0.0008817584355513045,\n",
       " 0.0016925278445116142,\n",
       " 0.0008817584355513045,\n",
       " 0.0016925278445116142]"
      ]
     },
     "execution_count": 6,
     "metadata": {},
     "output_type": "execute_result"
    }
   ],
   "source": [
    "[0.0008817584355513045, 0.0016925278445116142, 0.0008817584355513045, 0.0016925278445116142, 0.0008817584355513045, 0.0016925278445116142, 0.0008817584355513045, 0.0016925278445116142, 0.0008817584355513045, 0.0016925278445116142]"
   ]
  },
  {
   "cell_type": "code",
   "execution_count": 7,
   "id": "3c8cd808",
   "metadata": {},
   "outputs": [
    {
     "name": "stdout",
     "output_type": "stream",
     "text": [
      "BufferSize.shape :  (30760,)\n",
      "BufferSize.shape :  (30760, 1)\n",
      "[[0.00088176]\n",
      " [0.00169253]\n",
      " [0.00088176]\n",
      " [0.00169253]\n",
      " [0.00088176]\n",
      " [0.00169253]\n",
      " [0.00088176]\n",
      " [0.00169253]\n",
      " [0.00088176]\n",
      " [0.00169253]]\n"
     ]
    }
   ],
   "source": [
    "BufferSize = np.array(BufferSize)\n",
    "print('BufferSize.shape : ',BufferSize.shape)\n",
    "BufferSize = np.reshape(BufferSize,(BufferSize.shape[0],1)) #(11591,1)\n",
    "print('BufferSize.shape : ',BufferSize.shape)\n",
    "BufferSize = sc.fit_transform(BufferSize)\n",
    "print(BufferSize[0:10])"
   ]
  },
  {
   "cell_type": "code",
   "execution_count": 8,
   "id": "b13f520f",
   "metadata": {},
   "outputs": [
    {
     "name": "stdout",
     "output_type": "stream",
     "text": [
      "type(X_train) :  <class 'list'>\n",
      "X_train.shape :  (21482, 50)\n",
      "Y_train.shape :  (21482,)\n"
     ]
    }
   ],
   "source": [
    "count = int(len(BufferSize)*0.7)\n",
    "test_count = int(len(BufferSize)) - count\n",
    "TestSet = BufferSize[count:len(BufferSize), 0]\n",
    "TestSet = np.reshape(TestSet, (TestSet.shape[0], 1))\n",
    "for i in range( count - timesteps_): # Change TimeStep\n",
    "\tX_train.append(BufferSize[i:i+timesteps_,0])\n",
    "\tY_train.append(BufferSize[i+timesteps_,0])\n",
    " \n",
    "for i in range(timesteps_, len(TestSet)):\n",
    "    X_test.append(TestSet[i-timesteps_:i,0])\n",
    "for i in range(timesteps_, len(TestSet)):\n",
    "    Y_test.append(TestSet[i,0])\n",
    "\n",
    "print('type(X_train) : ',type(X_train))\n",
    "print('X_train.shape : ',np.shape(X_train))\n",
    "print('Y_train.shape : ',np.shape(Y_train))"
   ]
  },
  {
   "cell_type": "code",
   "execution_count": 9,
   "id": "192edcd3",
   "metadata": {},
   "outputs": [],
   "source": [
    "X_test = np.array(X_test)\n",
    "X_test = np.reshape(X_test, (X_test.shape[0], X_test.shape[1], 1))\n",
    "Y_test = np.array(Y_test)"
   ]
  },
  {
   "cell_type": "code",
   "execution_count": 10,
   "id": "25d7596d",
   "metadata": {},
   "outputs": [],
   "source": [
    "X_train = np.array(X_train)\n",
    "Y_train = np.array(Y_train)\n",
    "X_train = np.reshape(X_train,(X_train.shape[0],X_train.shape[1],1))\n",
    "Y_train = np.reshape(Y_train,(Y_train.shape[0],1))"
   ]
  },
  {
   "cell_type": "code",
   "execution_count": 11,
   "id": "d1dc1012",
   "metadata": {},
   "outputs": [
    {
     "data": {
      "text/plain": [
       "(9178, 50, 1)"
      ]
     },
     "execution_count": 11,
     "metadata": {},
     "output_type": "execute_result"
    }
   ],
   "source": [
    "X_test.shape"
   ]
  },
  {
   "cell_type": "code",
   "execution_count": 12,
   "id": "388c835c",
   "metadata": {
    "scrolled": true
   },
   "outputs": [
    {
     "name": "stdout",
     "output_type": "stream",
     "text": [
      "Epoch 1/100\n",
      "470/470 [==============================] - 29s 51ms/step - loss: 0.0183 - mse: 0.0016 - mae: 0.0183 - val_loss: 0.0174 - val_mse: 0.0015 - val_mae: 0.0174\n",
      "Epoch 2/100\n",
      "470/470 [==============================] - 22s 46ms/step - loss: 0.0176 - mse: 0.0016 - mae: 0.0176 - val_loss: 0.0166 - val_mse: 0.0015 - val_mae: 0.0166\n",
      "Epoch 3/100\n",
      "470/470 [==============================] - 22s 47ms/step - loss: 0.0169 - mse: 0.0016 - mae: 0.0169 - val_loss: 0.0165 - val_mse: 0.0014 - val_mae: 0.0165\n",
      "Epoch 4/100\n",
      "470/470 [==============================] - 22s 47ms/step - loss: 0.0165 - mse: 0.0015 - mae: 0.0165 - val_loss: 0.0160 - val_mse: 0.0014 - val_mae: 0.0160\n",
      "Epoch 5/100\n",
      "470/470 [==============================] - 22s 48ms/step - loss: 0.0161 - mse: 0.0015 - mae: 0.0161 - val_loss: 0.0153 - val_mse: 0.0014 - val_mae: 0.0153\n",
      "Epoch 6/100\n",
      "470/470 [==============================] - 22s 47ms/step - loss: 0.0158 - mse: 0.0015 - mae: 0.0158 - val_loss: 0.0152 - val_mse: 0.0014 - val_mae: 0.0152\n",
      "Epoch 7/100\n",
      "470/470 [==============================] - 22s 47ms/step - loss: 0.0156 - mse: 0.0015 - mae: 0.0156 - val_loss: 0.0151 - val_mse: 0.0014 - val_mae: 0.0151\n",
      "Epoch 8/100\n",
      "470/470 [==============================] - 22s 47ms/step - loss: 0.0156 - mse: 0.0015 - mae: 0.0156 - val_loss: 0.0152 - val_mse: 0.0014 - val_mae: 0.0152\n",
      "Epoch 9/100\n",
      "470/470 [==============================] - 22s 47ms/step - loss: 0.0155 - mse: 0.0015 - mae: 0.0155 - val_loss: 0.0152 - val_mse: 0.0014 - val_mae: 0.0152\n",
      "Epoch 10/100\n",
      "470/470 [==============================] - 22s 47ms/step - loss: 0.0154 - mse: 0.0015 - mae: 0.0154 - val_loss: 0.0151 - val_mse: 0.0014 - val_mae: 0.0151\n",
      "Epoch 11/100\n",
      "470/470 [==============================] - 22s 48ms/step - loss: 0.0154 - mse: 0.0015 - mae: 0.0154 - val_loss: 0.0149 - val_mse: 0.0014 - val_mae: 0.0149\n",
      "Epoch 12/100\n",
      "470/470 [==============================] - 22s 47ms/step - loss: 0.0154 - mse: 0.0015 - mae: 0.0154 - val_loss: 0.0149 - val_mse: 0.0014 - val_mae: 0.0149\n",
      "Epoch 13/100\n",
      "470/470 [==============================] - 22s 48ms/step - loss: 0.0153 - mse: 0.0015 - mae: 0.0153 - val_loss: 0.0149 - val_mse: 0.0014 - val_mae: 0.0149\n",
      "Epoch 14/100\n",
      "470/470 [==============================] - 22s 47ms/step - loss: 0.0153 - mse: 0.0015 - mae: 0.0153 - val_loss: 0.0154 - val_mse: 0.0014 - val_mae: 0.0154\n",
      "Epoch 15/100\n",
      "470/470 [==============================] - 22s 48ms/step - loss: 0.0153 - mse: 0.0015 - mae: 0.0153 - val_loss: 0.0155 - val_mse: 0.0014 - val_mae: 0.0155\n",
      "Epoch 16/100\n",
      "470/470 [==============================] - 22s 47ms/step - loss: 0.0153 - mse: 0.0015 - mae: 0.0153 - val_loss: 0.0149 - val_mse: 0.0014 - val_mae: 0.0149\n",
      "Epoch 17/100\n",
      "470/470 [==============================] - 22s 47ms/step - loss: 0.0153 - mse: 0.0015 - mae: 0.0153 - val_loss: 0.0150 - val_mse: 0.0014 - val_mae: 0.0150\n",
      "Epoch 18/100\n",
      "470/470 [==============================] - 22s 47ms/step - loss: 0.0153 - mse: 0.0015 - mae: 0.0153 - val_loss: 0.0150 - val_mse: 0.0014 - val_mae: 0.0150\n",
      "Epoch 19/100\n",
      "470/470 [==============================] - 22s 47ms/step - loss: 0.0153 - mse: 0.0015 - mae: 0.0153 - val_loss: 0.0150 - val_mse: 0.0014 - val_mae: 0.0150\n",
      "Epoch 20/100\n",
      "470/470 [==============================] - 22s 48ms/step - loss: 0.0153 - mse: 0.0015 - mae: 0.0153 - val_loss: 0.0153 - val_mse: 0.0013 - val_mae: 0.0153\n",
      "Epoch 21/100\n",
      "470/470 [==============================] - 22s 47ms/step - loss: 0.0152 - mse: 0.0015 - mae: 0.0152 - val_loss: 0.0150 - val_mse: 0.0014 - val_mae: 0.0150\n",
      "Epoch 22/100\n",
      "470/470 [==============================] - 22s 48ms/step - loss: 0.0153 - mse: 0.0015 - mae: 0.0153 - val_loss: 0.0153 - val_mse: 0.0013 - val_mae: 0.0153\n",
      "Epoch 23/100\n",
      "470/470 [==============================] - 22s 47ms/step - loss: 0.0152 - mse: 0.0015 - mae: 0.0152 - val_loss: 0.0152 - val_mse: 0.0014 - val_mae: 0.0152\n",
      "Epoch 24/100\n",
      "470/470 [==============================] - 22s 47ms/step - loss: 0.0152 - mse: 0.0015 - mae: 0.0152 - val_loss: 0.0150 - val_mse: 0.0014 - val_mae: 0.0150\n",
      "Epoch 25/100\n",
      "470/470 [==============================] - 22s 48ms/step - loss: 0.0152 - mse: 0.0015 - mae: 0.0152 - val_loss: 0.0149 - val_mse: 0.0014 - val_mae: 0.0149\n",
      "Epoch 26/100\n",
      "470/470 [==============================] - 22s 47ms/step - loss: 0.0152 - mse: 0.0015 - mae: 0.0152 - val_loss: 0.0149 - val_mse: 0.0014 - val_mae: 0.0149\n",
      "Epoch 27/100\n",
      "470/470 [==============================] - 22s 47ms/step - loss: 0.0152 - mse: 0.0015 - mae: 0.0152 - val_loss: 0.0149 - val_mse: 0.0014 - val_mae: 0.0149\n",
      "Epoch 28/100\n",
      "470/470 [==============================] - 22s 47ms/step - loss: 0.0152 - mse: 0.0015 - mae: 0.0152 - val_loss: 0.0153 - val_mse: 0.0013 - val_mae: 0.0153\n",
      "Epoch 29/100\n",
      "470/470 [==============================] - 22s 47ms/step - loss: 0.0152 - mse: 0.0014 - mae: 0.0152 - val_loss: 0.0149 - val_mse: 0.0014 - val_mae: 0.0149\n",
      "Epoch 30/100\n",
      "470/470 [==============================] - 22s 47ms/step - loss: 0.0152 - mse: 0.0014 - mae: 0.0152 - val_loss: 0.0148 - val_mse: 0.0014 - val_mae: 0.0148\n",
      "Epoch 31/100\n",
      "470/470 [==============================] - 22s 47ms/step - loss: 0.0151 - mse: 0.0014 - mae: 0.0151 - val_loss: 0.0149 - val_mse: 0.0014 - val_mae: 0.0149\n",
      "Epoch 32/100\n",
      "470/470 [==============================] - 22s 47ms/step - loss: 0.0152 - mse: 0.0015 - mae: 0.0152 - val_loss: 0.0151 - val_mse: 0.0014 - val_mae: 0.0151\n",
      "Epoch 33/100\n",
      "470/470 [==============================] - 22s 47ms/step - loss: 0.0151 - mse: 0.0014 - mae: 0.0151 - val_loss: 0.0150 - val_mse: 0.0014 - val_mae: 0.0150\n",
      "Epoch 34/100\n",
      "470/470 [==============================] - 22s 47ms/step - loss: 0.0151 - mse: 0.0014 - mae: 0.0151 - val_loss: 0.0151 - val_mse: 0.0014 - val_mae: 0.0151\n",
      "Epoch 35/100\n",
      "470/470 [==============================] - 22s 47ms/step - loss: 0.0152 - mse: 0.0014 - mae: 0.0152 - val_loss: 0.0149 - val_mse: 0.0014 - val_mae: 0.0149\n",
      "Epoch 36/100\n",
      "470/470 [==============================] - 22s 47ms/step - loss: 0.0152 - mse: 0.0014 - mae: 0.0152 - val_loss: 0.0149 - val_mse: 0.0014 - val_mae: 0.0149\n",
      "Epoch 37/100\n",
      "470/470 [==============================] - 22s 47ms/step - loss: 0.0151 - mse: 0.0014 - mae: 0.0151 - val_loss: 0.0149 - val_mse: 0.0014 - val_mae: 0.0149\n",
      "Epoch 38/100\n",
      "470/470 [==============================] - 22s 47ms/step - loss: 0.0151 - mse: 0.0014 - mae: 0.0151 - val_loss: 0.0149 - val_mse: 0.0014 - val_mae: 0.0149\n",
      "Epoch 39/100\n",
      "470/470 [==============================] - 22s 47ms/step - loss: 0.0151 - mse: 0.0014 - mae: 0.0151 - val_loss: 0.0149 - val_mse: 0.0014 - val_mae: 0.0149\n",
      "Epoch 40/100\n",
      "470/470 [==============================] - 22s 47ms/step - loss: 0.0151 - mse: 0.0014 - mae: 0.0151 - val_loss: 0.0149 - val_mse: 0.0014 - val_mae: 0.0149\n",
      "Epoch 41/100\n",
      "470/470 [==============================] - 22s 47ms/step - loss: 0.0151 - mse: 0.0014 - mae: 0.0151 - val_loss: 0.0149 - val_mse: 0.0014 - val_mae: 0.0149\n",
      "Epoch 42/100\n",
      "470/470 [==============================] - 22s 47ms/step - loss: 0.0150 - mse: 0.0014 - mae: 0.0150 - val_loss: 0.0149 - val_mse: 0.0014 - val_mae: 0.0149\n",
      "Epoch 43/100\n",
      "470/470 [==============================] - 22s 47ms/step - loss: 0.0150 - mse: 0.0014 - mae: 0.0150 - val_loss: 0.0148 - val_mse: 0.0014 - val_mae: 0.0148\n",
      "Epoch 44/100\n",
      "470/470 [==============================] - 22s 47ms/step - loss: 0.0151 - mse: 0.0014 - mae: 0.0151 - val_loss: 0.0151 - val_mse: 0.0013 - val_mae: 0.0151\n",
      "Epoch 45/100\n",
      "470/470 [==============================] - 22s 47ms/step - loss: 0.0150 - mse: 0.0014 - mae: 0.0150 - val_loss: 0.0150 - val_mse: 0.0014 - val_mae: 0.0150\n",
      "Epoch 46/100\n",
      "470/470 [==============================] - 22s 47ms/step - loss: 0.0151 - mse: 0.0014 - mae: 0.0151 - val_loss: 0.0149 - val_mse: 0.0014 - val_mae: 0.0149\n",
      "Epoch 47/100\n",
      "470/470 [==============================] - 22s 47ms/step - loss: 0.0151 - mse: 0.0014 - mae: 0.0151 - val_loss: 0.0147 - val_mse: 0.0014 - val_mae: 0.0147\n",
      "Epoch 48/100\n",
      "470/470 [==============================] - 22s 48ms/step - loss: 0.0150 - mse: 0.0014 - mae: 0.0150 - val_loss: 0.0148 - val_mse: 0.0014 - val_mae: 0.0148\n",
      "Epoch 49/100\n",
      "470/470 [==============================] - 22s 47ms/step - loss: 0.0150 - mse: 0.0014 - mae: 0.0150 - val_loss: 0.0148 - val_mse: 0.0014 - val_mae: 0.0148\n"
     ]
    },
    {
     "name": "stdout",
     "output_type": "stream",
     "text": [
      "Epoch 50/100\n",
      "470/470 [==============================] - 22s 47ms/step - loss: 0.0150 - mse: 0.0014 - mae: 0.0150 - val_loss: 0.0150 - val_mse: 0.0014 - val_mae: 0.0150\n",
      "Epoch 51/100\n",
      "470/470 [==============================] - 22s 48ms/step - loss: 0.0150 - mse: 0.0014 - mae: 0.0150 - val_loss: 0.0148 - val_mse: 0.0014 - val_mae: 0.0148\n",
      "Epoch 52/100\n",
      "470/470 [==============================] - 22s 47ms/step - loss: 0.0150 - mse: 0.0014 - mae: 0.0150 - val_loss: 0.0148 - val_mse: 0.0014 - val_mae: 0.0148\n",
      "Epoch 53/100\n",
      "470/470 [==============================] - 22s 47ms/step - loss: 0.0150 - mse: 0.0014 - mae: 0.0150 - val_loss: 0.0147 - val_mse: 0.0014 - val_mae: 0.0147\n",
      "Epoch 54/100\n",
      "470/470 [==============================] - 22s 47ms/step - loss: 0.0149 - mse: 0.0014 - mae: 0.0149 - val_loss: 0.0149 - val_mse: 0.0014 - val_mae: 0.0149\n",
      "Epoch 55/100\n",
      "470/470 [==============================] - 22s 47ms/step - loss: 0.0150 - mse: 0.0014 - mae: 0.0150 - val_loss: 0.0148 - val_mse: 0.0014 - val_mae: 0.0148\n",
      "Epoch 56/100\n",
      "470/470 [==============================] - 22s 47ms/step - loss: 0.0149 - mse: 0.0014 - mae: 0.0149 - val_loss: 0.0152 - val_mse: 0.0014 - val_mae: 0.0152\n",
      "Epoch 57/100\n",
      "470/470 [==============================] - 22s 48ms/step - loss: 0.0149 - mse: 0.0014 - mae: 0.0149 - val_loss: 0.0147 - val_mse: 0.0014 - val_mae: 0.0147\n",
      "Epoch 58/100\n",
      "470/470 [==============================] - 22s 48ms/step - loss: 0.0149 - mse: 0.0014 - mae: 0.0149 - val_loss: 0.0148 - val_mse: 0.0014 - val_mae: 0.0148\n",
      "Epoch 59/100\n",
      "470/470 [==============================] - 22s 48ms/step - loss: 0.0149 - mse: 0.0014 - mae: 0.0149 - val_loss: 0.0149 - val_mse: 0.0014 - val_mae: 0.0149\n",
      "Epoch 60/100\n",
      "470/470 [==============================] - 22s 48ms/step - loss: 0.0149 - mse: 0.0014 - mae: 0.0149 - val_loss: 0.0149 - val_mse: 0.0014 - val_mae: 0.0149\n",
      "Epoch 61/100\n",
      "470/470 [==============================] - 22s 47ms/step - loss: 0.0149 - mse: 0.0014 - mae: 0.0149 - val_loss: 0.0147 - val_mse: 0.0014 - val_mae: 0.0147\n",
      "Epoch 62/100\n",
      "470/470 [==============================] - 22s 48ms/step - loss: 0.0149 - mse: 0.0014 - mae: 0.0149 - val_loss: 0.0148 - val_mse: 0.0014 - val_mae: 0.0148\n",
      "Epoch 63/100\n",
      "470/470 [==============================] - 22s 47ms/step - loss: 0.0149 - mse: 0.0014 - mae: 0.0149 - val_loss: 0.0148 - val_mse: 0.0014 - val_mae: 0.0148\n",
      "Epoch 64/100\n",
      "470/470 [==============================] - 22s 47ms/step - loss: 0.0149 - mse: 0.0014 - mae: 0.0149 - val_loss: 0.0155 - val_mse: 0.0014 - val_mae: 0.0155\n",
      "Epoch 65/100\n",
      "470/470 [==============================] - 22s 47ms/step - loss: 0.0149 - mse: 0.0014 - mae: 0.0149 - val_loss: 0.0149 - val_mse: 0.0014 - val_mae: 0.0149\n",
      "Epoch 66/100\n",
      "470/470 [==============================] - 22s 47ms/step - loss: 0.0149 - mse: 0.0014 - mae: 0.0149 - val_loss: 0.0147 - val_mse: 0.0014 - val_mae: 0.0147\n",
      "Epoch 67/100\n",
      "470/470 [==============================] - 22s 48ms/step - loss: 0.0149 - mse: 0.0014 - mae: 0.0149 - val_loss: 0.0148 - val_mse: 0.0014 - val_mae: 0.0148\n",
      "Epoch 68/100\n",
      "470/470 [==============================] - 22s 48ms/step - loss: 0.0149 - mse: 0.0014 - mae: 0.0149 - val_loss: 0.0147 - val_mse: 0.0014 - val_mae: 0.0147\n",
      "Epoch 69/100\n",
      "470/470 [==============================] - 22s 48ms/step - loss: 0.0149 - mse: 0.0014 - mae: 0.0149 - val_loss: 0.0148 - val_mse: 0.0014 - val_mae: 0.0148\n",
      "Epoch 70/100\n",
      "470/470 [==============================] - 22s 47ms/step - loss: 0.0148 - mse: 0.0013 - mae: 0.0148 - val_loss: 0.0147 - val_mse: 0.0014 - val_mae: 0.0147\n",
      "Epoch 71/100\n",
      "470/470 [==============================] - 22s 47ms/step - loss: 0.0148 - mse: 0.0014 - mae: 0.0148 - val_loss: 0.0147 - val_mse: 0.0014 - val_mae: 0.0147\n",
      "Epoch 72/100\n",
      "470/470 [==============================] - 22s 48ms/step - loss: 0.0148 - mse: 0.0014 - mae: 0.0148 - val_loss: 0.0148 - val_mse: 0.0014 - val_mae: 0.0148\n",
      "Epoch 73/100\n",
      "470/470 [==============================] - 22s 47ms/step - loss: 0.0149 - mse: 0.0014 - mae: 0.0149 - val_loss: 0.0147 - val_mse: 0.0014 - val_mae: 0.0147\n",
      "Epoch 74/100\n",
      "470/470 [==============================] - 22s 48ms/step - loss: 0.0149 - mse: 0.0014 - mae: 0.0149 - val_loss: 0.0149 - val_mse: 0.0014 - val_mae: 0.0149\n",
      "Epoch 75/100\n",
      "470/470 [==============================] - 22s 48ms/step - loss: 0.0148 - mse: 0.0014 - mae: 0.0148 - val_loss: 0.0146 - val_mse: 0.0014 - val_mae: 0.0146\n",
      "Epoch 76/100\n",
      "470/470 [==============================] - 22s 47ms/step - loss: 0.0149 - mse: 0.0014 - mae: 0.0149 - val_loss: 0.0147 - val_mse: 0.0014 - val_mae: 0.0147\n",
      "Epoch 77/100\n",
      "470/470 [==============================] - 22s 47ms/step - loss: 0.0148 - mse: 0.0013 - mae: 0.0148 - val_loss: 0.0149 - val_mse: 0.0014 - val_mae: 0.0149\n",
      "Epoch 78/100\n",
      "470/470 [==============================] - 22s 47ms/step - loss: 0.0148 - mse: 0.0014 - mae: 0.0148 - val_loss: 0.0149 - val_mse: 0.0014 - val_mae: 0.0149\n",
      "Epoch 79/100\n",
      "470/470 [==============================] - 22s 47ms/step - loss: 0.0148 - mse: 0.0013 - mae: 0.0148 - val_loss: 0.0147 - val_mse: 0.0014 - val_mae: 0.0147\n",
      "Epoch 80/100\n",
      "470/470 [==============================] - 22s 47ms/step - loss: 0.0148 - mse: 0.0013 - mae: 0.0148 - val_loss: 0.0148 - val_mse: 0.0014 - val_mae: 0.0148\n",
      "Epoch 81/100\n",
      "470/470 [==============================] - 22s 47ms/step - loss: 0.0149 - mse: 0.0014 - mae: 0.0149 - val_loss: 0.0148 - val_mse: 0.0014 - val_mae: 0.0148\n",
      "Epoch 82/100\n",
      "470/470 [==============================] - 22s 47ms/step - loss: 0.0148 - mse: 0.0014 - mae: 0.0148 - val_loss: 0.0147 - val_mse: 0.0014 - val_mae: 0.0147\n",
      "Epoch 83/100\n",
      "470/470 [==============================] - 22s 47ms/step - loss: 0.0148 - mse: 0.0013 - mae: 0.0148 - val_loss: 0.0147 - val_mse: 0.0014 - val_mae: 0.0147\n",
      "Epoch 84/100\n",
      "470/470 [==============================] - 22s 47ms/step - loss: 0.0148 - mse: 0.0013 - mae: 0.0148 - val_loss: 0.0147 - val_mse: 0.0014 - val_mae: 0.0147\n",
      "Epoch 85/100\n",
      "470/470 [==============================] - 22s 47ms/step - loss: 0.0148 - mse: 0.0014 - mae: 0.0148 - val_loss: 0.0147 - val_mse: 0.0014 - val_mae: 0.0147\n",
      "Epoch 86/100\n",
      "470/470 [==============================] - 22s 47ms/step - loss: 0.0148 - mse: 0.0014 - mae: 0.0148 - val_loss: 0.0148 - val_mse: 0.0014 - val_mae: 0.0148\n",
      "Epoch 87/100\n",
      "470/470 [==============================] - 22s 47ms/step - loss: 0.0149 - mse: 0.0014 - mae: 0.0149 - val_loss: 0.0147 - val_mse: 0.0014 - val_mae: 0.0147\n",
      "Epoch 88/100\n",
      "470/470 [==============================] - 22s 47ms/step - loss: 0.0148 - mse: 0.0013 - mae: 0.0148 - val_loss: 0.0146 - val_mse: 0.0014 - val_mae: 0.0146\n",
      "Epoch 89/100\n",
      "470/470 [==============================] - 22s 47ms/step - loss: 0.0147 - mse: 0.0013 - mae: 0.0147 - val_loss: 0.0147 - val_mse: 0.0014 - val_mae: 0.0147\n",
      "Epoch 90/100\n",
      "470/470 [==============================] - 22s 47ms/step - loss: 0.0148 - mse: 0.0014 - mae: 0.0148 - val_loss: 0.0147 - val_mse: 0.0014 - val_mae: 0.0147\n",
      "Epoch 91/100\n",
      "470/470 [==============================] - 22s 47ms/step - loss: 0.0148 - mse: 0.0014 - mae: 0.0148 - val_loss: 0.0150 - val_mse: 0.0013 - val_mae: 0.0150\n",
      "Epoch 92/100\n",
      "470/470 [==============================] - 22s 48ms/step - loss: 0.0147 - mse: 0.0013 - mae: 0.0147 - val_loss: 0.0148 - val_mse: 0.0014 - val_mae: 0.0148\n",
      "Epoch 93/100\n",
      "470/470 [==============================] - 22s 47ms/step - loss: 0.0149 - mse: 0.0014 - mae: 0.0149 - val_loss: 0.0147 - val_mse: 0.0014 - val_mae: 0.0147\n",
      "Epoch 94/100\n",
      "470/470 [==============================] - 22s 47ms/step - loss: 0.0148 - mse: 0.0014 - mae: 0.0148 - val_loss: 0.0148 - val_mse: 0.0014 - val_mae: 0.0148\n",
      "Epoch 95/100\n",
      "470/470 [==============================] - 22s 47ms/step - loss: 0.0148 - mse: 0.0014 - mae: 0.0148 - val_loss: 0.0147 - val_mse: 0.0014 - val_mae: 0.0147\n",
      "Epoch 96/100\n",
      "470/470 [==============================] - 22s 47ms/step - loss: 0.0148 - mse: 0.0014 - mae: 0.0148 - val_loss: 0.0147 - val_mse: 0.0014 - val_mae: 0.0147\n",
      "Epoch 97/100\n",
      "470/470 [==============================] - 22s 47ms/step - loss: 0.0148 - mse: 0.0014 - mae: 0.0148 - val_loss: 0.0149 - val_mse: 0.0014 - val_mae: 0.0149\n",
      "Epoch 98/100\n",
      "470/470 [==============================] - 22s 47ms/step - loss: 0.0147 - mse: 0.0013 - mae: 0.0147 - val_loss: 0.0149 - val_mse: 0.0014 - val_mae: 0.0149\n",
      "Epoch 99/100\n",
      "470/470 [==============================] - 22s 47ms/step - loss: 0.0148 - mse: 0.0014 - mae: 0.0148 - val_loss: 0.0147 - val_mse: 0.0014 - val_mae: 0.0147\n",
      "Epoch 100/100\n",
      "470/470 [==============================] - 22s 47ms/step - loss: 0.0148 - mse: 0.0014 - mae: 0.0148 - val_loss: 0.0147 - val_mse: 0.0014 - val_mae: 0.0147\n"
     ]
    }
   ],
   "source": [
    "inputs = Input(shape=(timesteps_,))\n",
    "#inputs = LayerNormalization(axis=1)(inputs)\n",
    "tgt1 = tf.keras.layers.Reshape((timesteps_,1),input_shape=(timesteps_,))(inputs)\n",
    "\n",
    "tgt1 = LSTM(units=40,return_sequences = True, input_shape=(timesteps_,1))(tgt1)\n",
    "tgt1 = Dropout(0.2)(tgt1)\n",
    "\n",
    "tgt2 = LSTM(units=40,return_sequences = True)(tgt1)\n",
    "tgt2 = Dropout(0.2)(tgt2)\n",
    "\n",
    "tgt3 = LSTM(units=40,return_sequences = True)(tgt2)\n",
    "tgt3 = Dropout(0.2)(tgt3)\n",
    "\n",
    "tgt4 = LSTM(units=40)(tgt3)\n",
    "tgt4 = Dropout(0.2)(tgt4)\n",
    "\n",
    "predictions = Dense(1)(tgt4)\n",
    "\n",
    "model = Model(inputs=inputs, outputs=predictions)\n",
    "model.compile(loss='mean_absolute_error', optimizer='adam',metrics=['mse','mae'])\n",
    "\n",
    "history = model.fit(X_train, Y_train, epochs=100, batch_size=32, validation_split=0.3) #[1,0,0], [0,0,1]"
   ]
  },
  {
   "cell_type": "code",
   "execution_count": 13,
   "id": "f6dfa4ad",
   "metadata": {},
   "outputs": [
    {
     "name": "stdout",
     "output_type": "stream",
     "text": [
      "Model: \"model\"\n",
      "_________________________________________________________________\n",
      "Layer (type)                 Output Shape              Param #   \n",
      "=================================================================\n",
      "input_1 (InputLayer)         [(None, 50)]              0         \n",
      "_________________________________________________________________\n",
      "reshape (Reshape)            (None, 50, 1)             0         \n",
      "_________________________________________________________________\n",
      "lstm (LSTM)                  (None, 50, 40)            6720      \n",
      "_________________________________________________________________\n",
      "dropout (Dropout)            (None, 50, 40)            0         \n",
      "_________________________________________________________________\n",
      "lstm_1 (LSTM)                (None, 50, 40)            12960     \n",
      "_________________________________________________________________\n",
      "dropout_1 (Dropout)          (None, 50, 40)            0         \n",
      "_________________________________________________________________\n",
      "lstm_2 (LSTM)                (None, 50, 40)            12960     \n",
      "_________________________________________________________________\n",
      "dropout_2 (Dropout)          (None, 50, 40)            0         \n",
      "_________________________________________________________________\n",
      "lstm_3 (LSTM)                (None, 40)                12960     \n",
      "_________________________________________________________________\n",
      "dropout_3 (Dropout)          (None, 40)                0         \n",
      "_________________________________________________________________\n",
      "dense (Dense)                (None, 1)                 41        \n",
      "=================================================================\n",
      "Total params: 45,641\n",
      "Trainable params: 45,641\n",
      "Non-trainable params: 0\n",
      "_________________________________________________________________\n"
     ]
    }
   ],
   "source": [
    " model.summary()"
   ]
  },
  {
   "cell_type": "code",
   "execution_count": 14,
   "id": "b532d1e2",
   "metadata": {},
   "outputs": [
    {
     "name": "stdout",
     "output_type": "stream",
     "text": [
      "timesteps :  50\n",
      "mae  :  0.0002056114561855793\n"
     ]
    },
    {
     "data": {
      "image/png": "[encoded data removed]",
      "text/plain": [
       "<Figure size 432x288 with 1 Axes>"
      ]
     },
     "metadata": {
      "needs_background": "light"
     },
     "output_type": "display_data"
    }
   ],
   "source": [
    "print('timesteps : ',timesteps_)\n",
    "plt.plot(history.history['mae'])\n",
    "plt.title('mae')\n",
    "print('mae  : ',mae(history.history['mae'], history.history['val_mae']))"
   ]
  },
  {
   "cell_type": "code",
   "execution_count": 15,
   "id": "a5fec89e",
   "metadata": {},
   "outputs": [
    {
     "name": "stdout",
     "output_type": "stream",
     "text": [
      "timesteps :  50\n"
     ]
    },
    {
     "data": {
      "text/plain": [
       "Text(0.5, 1.0, 'mse')"
      ]
     },
     "execution_count": 15,
     "metadata": {},
     "output_type": "execute_result"
    },
    {
     "data": {
      "image/png": "[encoded data removed]",
      "text/plain": [
       "<Figure size 432x288 with 1 Axes>"
      ]
     },
     "metadata": {
      "needs_background": "light"
     },
     "output_type": "display_data"
    }
   ],
   "source": [
    "print('timesteps : ',timesteps_)\n",
    "plt.plot(history.history['mse'])\n",
    "plt.title('mse')"
   ]
  },
  {
   "cell_type": "code",
   "execution_count": 16,
   "id": "5de731dd",
   "metadata": {},
   "outputs": [
    {
     "data": {
      "image/png": "[encoded data removed]",
      "text/plain": [
       "<Figure size 432x288 with 1 Axes>"
      ]
     },
     "metadata": {
      "needs_background": "light"
     },
     "output_type": "display_data"
    }
   ],
   "source": [
    "plt.title('loss')\n",
    "plt.plot(history.history['loss'])\n",
    "plt.plot(history.history['val_loss'])\n",
    "plt.xlabel('epoch')\n",
    "plt.ylabel('loss')\n",
    "plt.legend(['train', 'validation'], loc='upper right')\n",
    "plt.show()"
   ]
  },
  {
   "cell_type": "code",
   "execution_count": 17,
   "id": "8457a3c0",
   "metadata": {},
   "outputs": [
    {
     "name": "stdout",
     "output_type": "stream",
     "text": [
      "timesteps_: 5 score: 0.29580929473814854\n"
     ]
    }
   ],
   "source": [
    "y_pred = model.predict(X_test)\n",
    "from sklearn.metrics import r2_score\n",
    "print(\"timesteps_:\",timesteps_,\"score:\",r2_score(Y_test, y_pred))"
   ]
  },
  {
   "cell_type": "code",
   "execution_count": 98,
   "id": "10c29c37",
   "metadata": {},
   "outputs": [
    {
     "name": "stdout",
     "output_type": "stream",
     "text": [
      "timesteps_: 10 score: 0.4510495347269995\n"
     ]
    }
   ],
   "source": [
    "y_pred = model.predict(X_test)\n",
    "from sklearn.metrics import r2_score\n",
    "print(\"timesteps_:\",timesteps_,\"score:\",r2_score(Y_test, y_pred))"
   ]
  },
  {
   "cell_type": "code",
   "execution_count": 115,
   "id": "54af06e3",
   "metadata": {},
   "outputs": [
    {
     "name": "stdout",
     "output_type": "stream",
     "text": [
      "timesteps_: 20 score: 0.2875828889832047\n"
     ]
    }
   ],
   "source": [
    "y_pred = model.predict(X_test)\n",
    "from sklearn.metrics import r2_score\n",
    "print(\"timesteps_:\",timesteps_,\"score:\",r2_score(Y_test, y_pred))"
   ]
  },
  {
   "cell_type": "code",
   "execution_count": 149,
   "id": "b9b3b33f",
   "metadata": {},
   "outputs": [
    {
     "name": "stdout",
     "output_type": "stream",
     "text": [
      "timesteps_: 30 score: 0.47996248565971134\n"
     ]
    }
   ],
   "source": [
    "y_pred = model.predict(X_test)\n",
    "from sklearn.metrics import r2_score\n",
    "print(\"timesteps_:\",timesteps_,\"score:\",r2_score(Y_test, y_pred))"
   ]
  },
  {
   "cell_type": "code",
   "execution_count": 173,
   "id": "06831965",
   "metadata": {},
   "outputs": [
    {
     "name": "stdout",
     "output_type": "stream",
     "text": [
      "timesteps_: 40 score: 0.36881639399401855\n"
     ]
    }
   ],
   "source": [
    "y_pred = model.predict(X_test)\n",
    "from sklearn.metrics import r2_score\n",
    "print(\"timesteps_:\",timesteps_,\"score:\",r2_score(Y_test, y_pred))"
   ]
  },
  {
   "cell_type": "code",
   "execution_count": 17,
   "id": "3eb73a22",
   "metadata": {},
   "outputs": [
    {
     "name": "stdout",
     "output_type": "stream",
     "text": [
      "timesteps_: 50 score: 0.43443038340011886\n"
     ]
    }
   ],
   "source": [
    "y_pred = model.predict(X_test)\n",
    "from sklearn.metrics import r2_score\n",
    "print(\"timesteps_:\",timesteps_,\"score:\",r2_score(Y_test, y_pred))"
   ]
  },
  {
   "cell_type": "code",
   "execution_count": 17,
   "id": "c5a0d47e",
   "metadata": {},
   "outputs": [
    {
     "name": "stdout",
     "output_type": "stream",
     "text": [
      "timesteps_: 70 score: 0.45551531895543185\n"
     ]
    }
   ],
   "source": [
    "y_pred = model.predict(X_test)\n",
    "from sklearn.metrics import r2_score\n",
    "print(\"timesteps_:\",timesteps_,\"score:\",r2_score(Y_test, y_pred))"
   ]
  },
  {
   "cell_type": "code",
   "execution_count": 80,
   "id": "a7daf386",
   "metadata": {},
   "outputs": [
    {
     "name": "stdout",
     "output_type": "stream",
     "text": [
      "timesteps_: 60 score: 0.4263724829439566\n"
     ]
    }
   ],
   "source": [
    "y_pred = model.predict(X_test)\n",
    "from sklearn.metrics import r2_score\n",
    "print(\"timesteps_:\",timesteps_,\"score:\",r2_score(Y_test, y_pred))"
   ]
  },
  {
   "cell_type": "code",
   "execution_count": 156,
   "id": "ff550d0b",
   "metadata": {},
   "outputs": [],
   "source": [
    "text_file.close()"
   ]
  },
  {
   "cell_type": "code",
   "execution_count": 33,
   "id": "c45e5705",
   "metadata": {},
   "outputs": [
    {
     "name": "stdout",
     "output_type": "stream",
     "text": [
      "timesteps_: 100 score: 0.20751760436342725\n"
     ]
    }
   ],
   "source": [
    "from sklearn.metrics import r2_score\n",
    "print(\"timesteps_:\",timesteps_,\"score:\",r2_score(Y_test, y_pred))"
   ]
  },
  {
   "cell_type": "code",
   "execution_count": 117,
   "id": "d6d19614",
   "metadata": {},
   "outputs": [
    {
     "data": {
      "text/plain": [
       "(9208, 1)"
      ]
     },
     "execution_count": 117,
     "metadata": {},
     "output_type": "execute_result"
    }
   ],
   "source": [
    "y_pred.shape"
   ]
  },
  {
   "cell_type": "code",
   "execution_count": 118,
   "id": "57c77038",
   "metadata": {},
   "outputs": [
    {
     "data": {
      "text/plain": [
       "(9208,)"
      ]
     },
     "execution_count": 118,
     "metadata": {},
     "output_type": "execute_result"
    }
   ],
   "source": [
    "Y_test.shape"
   ]
  },
  {
   "cell_type": "code",
   "execution_count": null,
   "id": "916e141d",
   "metadata": {},
   "outputs": [],
   "source": []
  }
 ],
 "metadata": {
  "kernelspec": {
   "display_name": "Python 3",
   "language": "python",
   "name": "python3"
  },
  "language_info": {
   "codemirror_mode": {
    "name": "ipython",
    "version": 3
   },
   "file_extension": ".py",
   "mimetype": "text/x-python",
   "name": "python",
   "nbconvert_exporter": "python",
   "pygments_lexer": "ipython3",
   "version": "3.7.7"
  }
 },
 "nbformat": 4,
 "nbformat_minor": 5
}
