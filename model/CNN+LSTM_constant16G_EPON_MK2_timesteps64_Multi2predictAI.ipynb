{
 "cells": [
  {
   "cell_type": "code",
   "execution_count": 30,
   "id": "ca9ffba0",
   "metadata": {},
   "outputs": [
    {
     "name": "stderr",
     "output_type": "stream",
     "text": [
      "C:\\Users\\joker\\anaconda3\\envs\\tensorflow\\lib\\site-packages\\ipykernel_launcher.py:4: FutureWarning: The pandas.datetime class is deprecated and will be removed from pandas in a future version. Import from datetime module instead.\n",
      "  after removing the cwd from sys.path.\n"
     ]
    }
   ],
   "source": [
    "import numpy as np\n",
    "import matplotlib.pyplot as plt\n",
    "import pandas as pd\n",
    "from pandas import datetime\n",
    "import math\n",
    "import itertools\n",
    "from sklearn import preprocessing\n",
    "import datetime\n",
    "from sklearn.metrics import mean_squared_error\n",
    "from math import sqrt"
   ]
  },
  {
   "cell_type": "code",
   "execution_count": 31,
   "id": "4a962a96",
   "metadata": {},
   "outputs": [
    {
     "data": {
      "text/html": [
       "<div>\n",
       "<style scoped>\n",
       "    .dataframe tbody tr th:only-of-type {\n",
       "        vertical-align: middle;\n",
       "    }\n",
       "\n",
       "    .dataframe tbody tr th {\n",
       "        vertical-align: top;\n",
       "    }\n",
       "\n",
       "    .dataframe thead th {\n",
       "        text-align: right;\n",
       "    }\n",
       "</style>\n",
       "<table border=\"1\" class=\"dataframe\">\n",
       "  <thead>\n",
       "    <tr style=\"text-align: right;\">\n",
       "      <th></th>\n",
       "      <th>Gi</th>\n",
       "    </tr>\n",
       "  </thead>\n",
       "  <tbody>\n",
       "    <tr>\n",
       "      <th>0</th>\n",
       "      <td>34375</td>\n",
       "    </tr>\n",
       "    <tr>\n",
       "      <th>1</th>\n",
       "      <td>35000</td>\n",
       "    </tr>\n",
       "    <tr>\n",
       "      <th>2</th>\n",
       "      <td>34375</td>\n",
       "    </tr>\n",
       "    <tr>\n",
       "      <th>3</th>\n",
       "      <td>35000</td>\n",
       "    </tr>\n",
       "    <tr>\n",
       "      <th>4</th>\n",
       "      <td>35000</td>\n",
       "    </tr>\n",
       "  </tbody>\n",
       "</table>\n",
       "</div>"
      ],
      "text/plain": [
       "      Gi\n",
       "0  34375\n",
       "1  35000\n",
       "2  34375\n",
       "3  35000\n",
       "4  35000"
      ]
     },
     "execution_count": 31,
     "metadata": {},
     "output_type": "execute_result"
    }
   ],
   "source": [
    "df1 = pd.read_csv('./SelfData_thesis/0708_constant16GData_3to7_ONU16.csv', usecols=[1], engine='python')\n",
    "df1.head()"
   ]
  },
  {
   "cell_type": "code",
   "execution_count": 32,
   "id": "a8aba5c9",
   "metadata": {},
   "outputs": [
    {
     "data": {
      "text/html": [
       "<div>\n",
       "<style scoped>\n",
       "    .dataframe tbody tr th:only-of-type {\n",
       "        vertical-align: middle;\n",
       "    }\n",
       "\n",
       "    .dataframe tbody tr th {\n",
       "        vertical-align: top;\n",
       "    }\n",
       "\n",
       "    .dataframe thead th {\n",
       "        text-align: right;\n",
       "    }\n",
       "</style>\n",
       "<table border=\"1\" class=\"dataframe\">\n",
       "  <thead>\n",
       "    <tr style=\"text-align: right;\">\n",
       "      <th></th>\n",
       "      <th>Ai</th>\n",
       "    </tr>\n",
       "  </thead>\n",
       "  <tbody>\n",
       "    <tr>\n",
       "      <th>0</th>\n",
       "      <td>34375</td>\n",
       "    </tr>\n",
       "    <tr>\n",
       "      <th>1</th>\n",
       "      <td>35000</td>\n",
       "    </tr>\n",
       "    <tr>\n",
       "      <th>2</th>\n",
       "      <td>34375</td>\n",
       "    </tr>\n",
       "    <tr>\n",
       "      <th>3</th>\n",
       "      <td>35000</td>\n",
       "    </tr>\n",
       "    <tr>\n",
       "      <th>4</th>\n",
       "      <td>35000</td>\n",
       "    </tr>\n",
       "  </tbody>\n",
       "</table>\n",
       "</div>"
      ],
      "text/plain": [
       "      Ai\n",
       "0  34375\n",
       "1  35000\n",
       "2  34375\n",
       "3  35000\n",
       "4  35000"
      ]
     },
     "execution_count": 32,
     "metadata": {},
     "output_type": "execute_result"
    }
   ],
   "source": [
    "df2 = pd.read_csv('./SelfData_thesis/0708_constant16GData_3to7_ONU16.csv', usecols=[2], engine='python')\n",
    "df2.head()"
   ]
  },
  {
   "cell_type": "code",
   "execution_count": 33,
   "id": "acfc61cd",
   "metadata": {},
   "outputs": [],
   "source": [
    "#df3 = pd.read_csv('./SelfData_thesis/0628_self8GData_3to7_ONU16_limitData.csv', usecols=[2], engine='python')\n",
    "#df3.head()"
   ]
  },
  {
   "cell_type": "code",
   "execution_count": 34,
   "id": "7036f509",
   "metadata": {},
   "outputs": [],
   "source": [
    "df1 = df1.values\n",
    "df1 = df1.astype('float32')\n",
    "\n",
    "df2 = df2.values\n",
    "df2 = df2.astype('float32')\n",
    "\n",
    "#df3 = df3.values\n",
    "#df3 = df3.astype('float32')"
   ]
  },
  {
   "cell_type": "code",
   "execution_count": 35,
   "id": "f9ff7625",
   "metadata": {},
   "outputs": [
    {
     "name": "stdout",
     "output_type": "stream",
     "text": [
      "35000.0\n",
      "35000.0\n"
     ]
    }
   ],
   "source": [
    "print(np.max(df1))\n",
    "print(np.max(df2))\n",
    "#print(np.max(df3))\n",
    "\n",
    "df1Max = np.max(df1)\n",
    "df2Max = np.max(df2)\n",
    "#df3Max = np.max(df3)\n",
    "\n",
    "df1 = df1 / np.max(df1) #手動正規化\n",
    "df2 = df2 / np.max(df2) #手動正規化\n",
    "#df3 = df3 / np.max(df3) #手動正規化"
   ]
  },
  {
   "cell_type": "code",
   "execution_count": 36,
   "id": "545a2453",
   "metadata": {
    "scrolled": true
   },
   "outputs": [
    {
     "name": "stdout",
     "output_type": "stream",
     "text": [
      "7200\n",
      "7200\n"
     ]
    }
   ],
   "source": [
    "print(len(df1))\n",
    "print(len(df2))\n",
    "#print(len(df3))"
   ]
  },
  {
   "cell_type": "code",
   "execution_count": 37,
   "id": "2780bd42",
   "metadata": {},
   "outputs": [],
   "source": [
    "datasetR = df1\n",
    "datasetA = df2\n",
    "#datasetT = df3"
   ]
  },
  {
   "cell_type": "code",
   "execution_count": 38,
   "id": "7c29117d",
   "metadata": {},
   "outputs": [
    {
     "name": "stdout",
     "output_type": "stream",
     "text": [
      "5760 1440\n"
     ]
    }
   ],
   "source": [
    "# split into train and test sets\n",
    "train_sizeR = int(len(datasetR) * 0.8) \n",
    "test_sizeR = len(datasetR) - train_sizeR\n",
    "trainR, testR = datasetR[0:train_sizeR], datasetR[train_sizeR:len(datasetR)]\n",
    "\n",
    "#scaler = MinMaxScaler(feature_range=(0, 1))\n",
    "#trainR = scaler.fit_transform(trainR)\n",
    "#testR = scaler.fit_transform(testR)\n",
    "print(len(trainR), len(testR))"
   ]
  },
  {
   "cell_type": "code",
   "execution_count": 39,
   "id": "c4d6d5d5",
   "metadata": {},
   "outputs": [
    {
     "name": "stdout",
     "output_type": "stream",
     "text": [
      "5760 1440\n"
     ]
    }
   ],
   "source": [
    "# split into train and test sets\n",
    "train_sizeA = int(len(datasetA) * 0.8) \n",
    "test_sizeA = len(datasetA) - train_sizeA\n",
    "trainA, testA = datasetA[0:train_sizeA], datasetA[train_sizeA:len(datasetA)]\n",
    "\n",
    "#scaler = MinMaxScaler(feature_range=(0, 1))\n",
    "#trainR = scaler.fit_transform(trainR)\n",
    "#testR = scaler.fit_transform(testR)\n",
    "print(len(trainA), len(testA))"
   ]
  },
  {
   "cell_type": "code",
   "execution_count": 40,
   "id": "7c3935d1",
   "metadata": {
    "scrolled": true
   },
   "outputs": [],
   "source": [
    "# split into train and test sets\n",
    "#train_sizeT = int(len(datasetT) * 0.8) \n",
    "#test_sizeT = len(datasetT) - train_sizeT\n",
    "#trainT, testT = datasetT[0:train_sizeT], datasetT[train_sizeT:len(datasetT)]\n",
    "\n",
    "#scaler = MinMaxScaler(feature_range=(0, 1))\n",
    "#trainR = scaler.fit_transform(trainR)\n",
    "#testR = scaler.fit_transform(testR)\n",
    "#print(len(trainT), len(testT))"
   ]
  },
  {
   "cell_type": "code",
   "execution_count": 41,
   "id": "62192bc2",
   "metadata": {},
   "outputs": [],
   "source": [
    "# convert an array of values into a dataset matrix\n",
    "def create_dataset(dataset, look_back=1):\n",
    "    dataX, dataY = [], []\n",
    "    for i in range(len(dataset) - look_back - 1):\n",
    "        a = dataset[i:(i + look_back)]\n",
    "        dataX.append(a)\n",
    "        dataY.append(dataset[i + look_back])\n",
    "    return np.array(dataX), np.array(dataY)"
   ]
  },
  {
   "cell_type": "code",
   "execution_count": 42,
   "id": "9399d29f",
   "metadata": {},
   "outputs": [],
   "source": [
    "# reshape into X=t and Y=t+1\n",
    "look_back = 64 #16\n",
    "trainX_R, trainY_R = create_dataset(trainR, look_back)\n",
    "testX_R, testY_R = create_dataset(testR, look_back)\n",
    "\n",
    "trainX_A, trainY_A = create_dataset(trainA, look_back)\n",
    "testX_A, testY_A = create_dataset(testA, look_back)\n",
    "\n",
    "#trainX_T, trainY_T = create_dataset(trainT, look_back)\n",
    "#testX_T, testY_T = create_dataset(testT, look_back)"
   ]
  },
  {
   "cell_type": "code",
   "execution_count": 43,
   "id": "9bf139d6",
   "metadata": {
    "scrolled": true
   },
   "outputs": [
    {
     "name": "stdout",
     "output_type": "stream",
     "text": [
      "(5695, 64, 1)\n",
      "(5695, 1)\n",
      "(1375, 64, 1)\n",
      "(1375, 1)\n",
      "(5695, 64, 1)\n",
      "(5695, 1)\n",
      "(1375, 64, 1)\n",
      "(1375, 1)\n"
     ]
    }
   ],
   "source": [
    "# reshape input to be [samples, time steps, features]\n",
    "trainX_R = np.reshape(trainX_R, (trainX_R.shape[0], look_back, 1))\n",
    "testX_R = np.reshape(testX_R, (testX_R.shape[0], look_back, 1))\n",
    "\n",
    "trainX_A = np.reshape(trainX_A, (trainX_A.shape[0], look_back, 1))\n",
    "testX_A = np.reshape(testX_A, (testX_A.shape[0], look_back, 1))\n",
    "\n",
    "#trainX_T = np.reshape(trainX_T, (trainX_T.shape[0], look_back, 1))\n",
    "#testX_T = np.reshape(testX_T, (testX_T.shape[0], look_back, 1))\n",
    "#print(trainX.shape[1])\n",
    "\n",
    "print(trainX_R.shape)\n",
    "print(trainY_R.shape)\n",
    "print(testX_R.shape)\n",
    "print(testY_R.shape)\n",
    "\n",
    "print(trainX_A.shape)\n",
    "print(trainY_A.shape)\n",
    "print(testX_A.shape)\n",
    "print(testY_A.shape)\n",
    "\n",
    "#print(trainX_T.shape)\n",
    "#print(trainY_T.shape)\n",
    "#print(testX_T.shape)\n",
    "#print(testY_T.shape)"
   ]
  },
  {
   "cell_type": "code",
   "execution_count": 44,
   "id": "29393981",
   "metadata": {},
   "outputs": [],
   "source": [
    "from __future__ import print_function\n",
    "import math\n",
    "#importing keras modules\n",
    "import tensorflow as tf\n",
    "from tensorflow.keras.models import Sequential, Model\n",
    "from tensorflow.keras.layers import Dense, Activation ,Dropout , Flatten , Conv1D , MaxPooling1D\n",
    "from tensorflow.keras.layers import Input, Reshape, concatenate, LSTM\n",
    "from tensorflow.keras import losses\n",
    "from tensorflow.keras import optimizers"
   ]
  },
  {
   "cell_type": "code",
   "execution_count": 45,
   "id": "89213ff3",
   "metadata": {},
   "outputs": [],
   "source": [
    "inputs_R = Input(shape=(look_back,))\n",
    "inputs_A = Input(shape=(look_back,))\n",
    "#inputs_T = Input(shape=(look_back,))\n",
    "\n",
    "inputs_R_test = Reshape((inputs_R.shape[1], 1))(inputs_R)\n",
    "inputs_A_test = Reshape((inputs_A.shape[1], 1))(inputs_A)\n",
    "#inputs_T_test = Reshape((inputs_R.shape[1], 1))(inputs_T)"
   ]
  },
  {
   "cell_type": "code",
   "execution_count": 46,
   "id": "f43e1711",
   "metadata": {},
   "outputs": [],
   "source": [
    "head_list = []\n",
    "\n",
    "Ri_1 = Conv1D(filters=32,kernel_size=1,padding='same',activation='relu',kernel_initializer=\"glorot_uniform\")(inputs_R_test)\n",
    "Ri_2 = MaxPooling1D(pool_size=2,padding='valid')(Ri_1)\n",
    "Ri_3 = Conv1D(filters=32,kernel_size=1,padding='same',activation='relu',kernel_initializer=\"glorot_uniform\")(Ri_2)\n",
    "Ri_4 = MaxPooling1D(pool_size=2,padding='valid')(Ri_3)\n",
    "\n",
    "Ai_1 = Conv1D(filters=32,kernel_size=1,padding='same',activation='relu',kernel_initializer=\"glorot_uniform\")(inputs_A_test)\n",
    "Ai_2 = MaxPooling1D(pool_size=2,padding='valid')(Ai_1)\n",
    "Ai_3 = Conv1D(filters=32,kernel_size=1,padding='same',activation='relu',kernel_initializer=\"glorot_uniform\")(Ai_2)\n",
    "Ai_4 = MaxPooling1D(pool_size=2,padding='valid')(Ai_3)\n",
    "\n",
    "#Ti_1 = Conv1D(filters=32,kernel_size=1,padding='same',activation='relu',kernel_initializer=\"glorot_uniform\")(inputs_T_test)\n",
    "#Ti_2 = MaxPooling1D(pool_size=2,padding='valid')(Ti_1)\n",
    "#Ti_3 = Conv1D(filters=32,kernel_size=1,padding='same',activation='relu',kernel_initializer=\"glorot_uniform\")(Ti_2)\n",
    "#Ti_4 = MaxPooling1D(pool_size=2,padding='valid')(Ti_3)\n",
    "\n",
    "Ri_5 = Flatten()(Ri_4)\n",
    "head_list.append(Ri_5)\n",
    "Ai_5 = Flatten()(Ai_4)\n",
    "head_list.append(Ai_5)\n",
    "#Ti_5 = Flatten()(Ti_4)\n",
    "\n",
    "out = concatenate(head_list, axis = 1)\n",
    "reshape = Reshape((head_list[0].shape[1], 2))(out)\n",
    "#out = concatenate([Ri_5, Ai_5, Ti_5], axis = -1)\n",
    "tgt6 = LSTM(32,return_sequences=True)(reshape)\n",
    "tgt7 = LSTM(32,return_sequences=False)(tgt6)\n",
    "\n",
    "predictions = Dense(1, activation=\"relu\", kernel_initializer=\"uniform\")(tgt7)\n",
    "\n",
    "model = Model([inputs_R, inputs_A], outputs = predictions)\n",
    "model.compile(loss='mae',optimizer='Adam',metrics=['mse','mae'])"
   ]
  },
  {
   "cell_type": "code",
   "execution_count": 47,
   "id": "b61fed16",
   "metadata": {
    "scrolled": false
   },
   "outputs": [
    {
     "name": "stdout",
     "output_type": "stream",
     "text": [
      "Model: \"functional_3\"\n",
      "__________________________________________________________________________________________________\n",
      "Layer (type)                    Output Shape         Param #     Connected to                     \n",
      "==================================================================================================\n",
      "input_3 (InputLayer)            [(None, 64)]         0                                            \n",
      "__________________________________________________________________________________________________\n",
      "input_4 (InputLayer)            [(None, 64)]         0                                            \n",
      "__________________________________________________________________________________________________\n",
      "reshape_3 (Reshape)             (None, 64, 1)        0           input_3[0][0]                    \n",
      "__________________________________________________________________________________________________\n",
      "reshape_4 (Reshape)             (None, 64, 1)        0           input_4[0][0]                    \n",
      "__________________________________________________________________________________________________\n",
      "conv1d_4 (Conv1D)               (None, 64, 32)       64          reshape_3[0][0]                  \n",
      "__________________________________________________________________________________________________\n",
      "conv1d_6 (Conv1D)               (None, 64, 32)       64          reshape_4[0][0]                  \n",
      "__________________________________________________________________________________________________\n",
      "max_pooling1d_4 (MaxPooling1D)  (None, 32, 32)       0           conv1d_4[0][0]                   \n",
      "__________________________________________________________________________________________________\n",
      "max_pooling1d_6 (MaxPooling1D)  (None, 32, 32)       0           conv1d_6[0][0]                   \n",
      "__________________________________________________________________________________________________\n",
      "conv1d_5 (Conv1D)               (None, 32, 32)       1056        max_pooling1d_4[0][0]            \n",
      "__________________________________________________________________________________________________\n",
      "conv1d_7 (Conv1D)               (None, 32, 32)       1056        max_pooling1d_6[0][0]            \n",
      "__________________________________________________________________________________________________\n",
      "max_pooling1d_5 (MaxPooling1D)  (None, 16, 32)       0           conv1d_5[0][0]                   \n",
      "__________________________________________________________________________________________________\n",
      "max_pooling1d_7 (MaxPooling1D)  (None, 16, 32)       0           conv1d_7[0][0]                   \n",
      "__________________________________________________________________________________________________\n",
      "flatten_2 (Flatten)             (None, 512)          0           max_pooling1d_5[0][0]            \n",
      "__________________________________________________________________________________________________\n",
      "flatten_3 (Flatten)             (None, 512)          0           max_pooling1d_7[0][0]            \n",
      "__________________________________________________________________________________________________\n",
      "concatenate_1 (Concatenate)     (None, 1024)         0           flatten_2[0][0]                  \n",
      "                                                                 flatten_3[0][0]                  \n",
      "__________________________________________________________________________________________________\n",
      "reshape_5 (Reshape)             (None, 512, 2)       0           concatenate_1[0][0]              \n",
      "__________________________________________________________________________________________________\n",
      "lstm_2 (LSTM)                   (None, 512, 32)      4480        reshape_5[0][0]                  \n",
      "__________________________________________________________________________________________________\n",
      "lstm_3 (LSTM)                   (None, 32)           8320        lstm_2[0][0]                     \n",
      "__________________________________________________________________________________________________\n",
      "dense_1 (Dense)                 (None, 1)            33          lstm_3[0][0]                     \n",
      "==================================================================================================\n",
      "Total params: 15,073\n",
      "Trainable params: 15,073\n",
      "Non-trainable params: 0\n",
      "__________________________________________________________________________________________________\n",
      "None\n"
     ]
    }
   ],
   "source": [
    "print(model.summary())"
   ]
  },
  {
   "cell_type": "code",
   "execution_count": 48,
   "id": "e04376bb",
   "metadata": {
    "scrolled": true
   },
   "outputs": [
    {
     "name": "stdout",
     "output_type": "stream",
     "text": [
      "Epoch 1/30\n",
      "72/72 - 3s - loss: 0.2561 - mse: 0.1946 - mae: 0.2561 - val_loss: 0.0091 - val_mse: 8.7362e-05 - val_mae: 0.0091\n",
      "Epoch 2/30\n",
      "72/72 - 2s - loss: 0.0087 - mse: 1.0050e-04 - mae: 0.0087 - val_loss: 0.0111 - val_mse: 2.0137e-04 - val_mae: 0.0111\n",
      "Epoch 3/30\n",
      "72/72 - 2s - loss: 0.0087 - mse: 1.0431e-04 - mae: 0.0087 - val_loss: 0.0085 - val_mse: 8.7133e-05 - val_mae: 0.0085\n",
      "Epoch 4/30\n",
      "72/72 - 2s - loss: 0.0092 - mse: 1.2494e-04 - mae: 0.0092 - val_loss: 0.0095 - val_mse: 1.1982e-04 - val_mae: 0.0095\n",
      "Epoch 5/30\n",
      "72/72 - 2s - loss: 0.0089 - mse: 1.1297e-04 - mae: 0.0089 - val_loss: 0.0089 - val_mse: 7.9647e-05 - val_mae: 0.0089\n",
      "Epoch 6/30\n",
      "72/72 - 2s - loss: 0.0089 - mse: 1.0715e-04 - mae: 0.0089 - val_loss: 0.0082 - val_mse: 1.1108e-04 - val_mae: 0.0082\n",
      "Epoch 7/30\n",
      "72/72 - 2s - loss: 0.0092 - mse: 1.2358e-04 - mae: 0.0092 - val_loss: 0.0084 - val_mse: 8.9723e-05 - val_mae: 0.0084\n",
      "Epoch 8/30\n",
      "72/72 - 2s - loss: 0.0094 - mse: 1.3179e-04 - mae: 0.0094 - val_loss: 0.0081 - val_mse: 1.2023e-04 - val_mae: 0.0081\n",
      "Epoch 9/30\n",
      "72/72 - 2s - loss: 0.0093 - mse: 1.2145e-04 - mae: 0.0093 - val_loss: 0.0088 - val_mse: 7.8770e-05 - val_mae: 0.0088\n",
      "Epoch 10/30\n",
      "72/72 - 2s - loss: 0.0103 - mse: 1.5777e-04 - mae: 0.0103 - val_loss: 0.0087 - val_mse: 7.9710e-05 - val_mae: 0.0087\n",
      "Epoch 11/30\n",
      "72/72 - 2s - loss: 0.0094 - mse: 1.2818e-04 - mae: 0.0094 - val_loss: 0.0083 - val_mse: 9.9678e-05 - val_mae: 0.0083\n",
      "Epoch 12/30\n",
      "72/72 - 2s - loss: 0.0099 - mse: 1.4137e-04 - mae: 0.0099 - val_loss: 0.0081 - val_mse: 1.2507e-04 - val_mae: 0.0081\n",
      "Epoch 13/30\n",
      "72/72 - 2s - loss: 0.0088 - mse: 9.9796e-05 - mae: 0.0088 - val_loss: 0.0089 - val_mse: 7.9137e-05 - val_mae: 0.0089\n",
      "Epoch 14/30\n",
      "72/72 - 2s - loss: 0.0089 - mse: 1.0493e-04 - mae: 0.0089 - val_loss: 0.0086 - val_mse: 8.1343e-05 - val_mae: 0.0086\n",
      "Epoch 15/30\n",
      "72/72 - 2s - loss: 0.0088 - mse: 1.0769e-04 - mae: 0.0088 - val_loss: 0.0080 - val_mse: 1.2810e-04 - val_mae: 0.0080\n",
      "Epoch 16/30\n",
      "72/72 - 2s - loss: 0.0088 - mse: 1.1162e-04 - mae: 0.0088 - val_loss: 0.0099 - val_mse: 1.7699e-04 - val_mae: 0.0099\n",
      "Epoch 17/30\n",
      "72/72 - 2s - loss: 0.0091 - mse: 1.1837e-04 - mae: 0.0091 - val_loss: 0.0091 - val_mse: 8.5046e-05 - val_mae: 0.0091\n",
      "Epoch 18/30\n",
      "72/72 - 2s - loss: 0.0093 - mse: 1.2895e-04 - mae: 0.0093 - val_loss: 0.0088 - val_mse: 7.8795e-05 - val_mae: 0.0088\n",
      "Epoch 19/30\n",
      "72/72 - 2s - loss: 0.0098 - mse: 1.3593e-04 - mae: 0.0098 - val_loss: 0.0094 - val_mse: 1.1036e-04 - val_mae: 0.0094\n",
      "Epoch 20/30\n",
      "72/72 - 2s - loss: 0.0091 - mse: 1.1915e-04 - mae: 0.0091 - val_loss: 0.0099 - val_mse: 1.7719e-04 - val_mae: 0.0099\n",
      "Epoch 21/30\n",
      "72/72 - 2s - loss: 0.0107 - mse: 1.7120e-04 - mae: 0.0107 - val_loss: 0.0096 - val_mse: 1.2218e-04 - val_mae: 0.0096\n",
      "Epoch 22/30\n",
      "72/72 - 2s - loss: 0.0092 - mse: 1.2334e-04 - mae: 0.0092 - val_loss: 0.0093 - val_mse: 9.9019e-05 - val_mae: 0.0093\n",
      "Epoch 23/30\n",
      "72/72 - 2s - loss: 0.0093 - mse: 1.2621e-04 - mae: 0.0093 - val_loss: 0.0082 - val_mse: 1.0973e-04 - val_mae: 0.0082\n",
      "Epoch 24/30\n",
      "72/72 - 2s - loss: 0.0088 - mse: 1.0561e-04 - mae: 0.0088 - val_loss: 0.0091 - val_mse: 8.4802e-05 - val_mae: 0.0091\n",
      "Epoch 25/30\n",
      "72/72 - 2s - loss: 0.0087 - mse: 1.0515e-04 - mae: 0.0087 - val_loss: 0.0082 - val_mse: 1.1410e-04 - val_mae: 0.0082\n",
      "Epoch 26/30\n",
      "72/72 - 2s - loss: 0.0095 - mse: 1.2835e-04 - mae: 0.0095 - val_loss: 0.0108 - val_mse: 1.9459e-04 - val_mae: 0.0108\n",
      "Epoch 27/30\n",
      "72/72 - 2s - loss: 0.0088 - mse: 1.0465e-04 - mae: 0.0088 - val_loss: 0.0085 - val_mse: 8.7905e-05 - val_mae: 0.0085\n",
      "Epoch 28/30\n",
      "72/72 - 2s - loss: 0.0104 - mse: 1.6040e-04 - mae: 0.0104 - val_loss: 0.0083 - val_mse: 9.9891e-05 - val_mae: 0.0083\n",
      "Epoch 29/30\n",
      "72/72 - 2s - loss: 0.0087 - mse: 1.0311e-04 - mae: 0.0087 - val_loss: 0.0082 - val_mse: 1.1335e-04 - val_mae: 0.0082\n",
      "Epoch 30/30\n",
      "72/72 - 2s - loss: 0.0091 - mse: 1.1957e-04 - mae: 0.0091 - val_loss: 0.0087 - val_mse: 7.9788e-05 - val_mae: 0.0087\n",
      "69.87264510000003\n"
     ]
    }
   ],
   "source": [
    "from timeit import default_timer as timer\n",
    "start = timer()\n",
    "history = model.fit([trainX_R, trainX_A],\n",
    "                    trainY_A,\n",
    "                    batch_size=64,\n",
    "                    epochs=30,\n",
    "                    validation_split=0.2,\n",
    "                    verbose=2)\n",
    "end = timer()\n",
    "print(end - start)"
   ]
  },
  {
   "cell_type": "code",
   "execution_count": 49,
   "id": "84ec7adb",
   "metadata": {},
   "outputs": [
    {
     "data": {
      "text/plain": [
       "dict_keys(['loss', 'mse', 'mae', 'val_loss', 'val_mse', 'val_mae'])"
      ]
     },
     "execution_count": 49,
     "metadata": {},
     "output_type": "execute_result"
    }
   ],
   "source": [
    "history_dict = history.history\n",
    "history_dict.keys()"
   ]
  },
  {
   "cell_type": "code",
   "execution_count": 50,
   "id": "f881e77c",
   "metadata": {},
   "outputs": [
    {
     "name": "stdout",
     "output_type": "stream",
     "text": [
      "timesteps :  64\n"
     ]
    },
    {
     "data": {
      "text/plain": [
       "Text(0.5, 1.0, 'mae')"
      ]
     },
     "execution_count": 50,
     "metadata": {},
     "output_type": "execute_result"
    },
    {
     "data": {
      "image/png": "[encoded data removed]",
      "text/plain": [
       "<Figure size 432x288 with 1 Axes>"
      ]
     },
     "metadata": {
      "needs_background": "light"
     },
     "output_type": "display_data"
    }
   ],
   "source": [
    "print('timesteps : ', look_back)\n",
    "plt.plot(history.history['mae'])\n",
    "plt.title('mae')"
   ]
  },
  {
   "cell_type": "code",
   "execution_count": 51,
   "id": "4fcd1706",
   "metadata": {},
   "outputs": [
    {
     "name": "stdout",
     "output_type": "stream",
     "text": [
      "timesteps :  64\n"
     ]
    },
    {
     "data": {
      "text/plain": [
       "Text(0.5, 1.0, 'mse')"
      ]
     },
     "execution_count": 51,
     "metadata": {},
     "output_type": "execute_result"
    },
    {
     "data": {
      "image/png": "[encoded data removed]",
      "text/plain": [
       "<Figure size 432x288 with 1 Axes>"
      ]
     },
     "metadata": {
      "needs_background": "light"
     },
     "output_type": "display_data"
    }
   ],
   "source": [
    "print('timesteps : ', look_back)\n",
    "plt.plot(history.history['mse'])\n",
    "plt.title('mse')"
   ]
  },
  {
   "cell_type": "code",
   "execution_count": 52,
   "id": "3b74f227",
   "metadata": {},
   "outputs": [
    {
     "data": {
      "text/plain": [
       "[<matplotlib.lines.Line2D at 0x1d85738fac8>]"
      ]
     },
     "execution_count": 52,
     "metadata": {},
     "output_type": "execute_result"
    },
    {
     "data": {
      "image/png": "[encoded data removed]",
      "text/plain": [
       "<Figure size 432x288 with 1 Axes>"
      ]
     },
     "metadata": {
      "needs_background": "light"
     },
     "output_type": "display_data"
    }
   ],
   "source": [
    "plt.title('loss')\n",
    "plt.plot(history.history['loss'])"
   ]
  },
  {
   "cell_type": "code",
   "execution_count": 53,
   "id": "fb599377",
   "metadata": {},
   "outputs": [
    {
     "data": {
      "image/png": "[encoded data removed]",
      "text/plain": [
       "<Figure size 1080x504 with 1 Axes>"
      ]
     },
     "metadata": {
      "needs_background": "light"
     },
     "output_type": "display_data"
    }
   ],
   "source": [
    "# 画出训练集和验证集的损失曲线\n",
    "\n",
    "import matplotlib.pyplot as plt\n",
    "\n",
    "loss_values = history_dict['loss']\n",
    "val_loss_values = history_dict['val_loss']\n",
    "loss_values50 = loss_values[0:150]\n",
    "val_loss_values50 = val_loss_values[0:150]\n",
    "epochs = range(1, len(loss_values50) + 1)\n",
    "plt.plot(epochs, loss_values50, 'b',color = 'blue', label='Training loss')\n",
    "plt.plot(epochs, val_loss_values50, 'b',color='orange', label='Validation loss')\n",
    "plt.rc('font', size = 18)\n",
    "plt.title('Training and validation loss')\n",
    "plt.xlabel('Epochs')\n",
    "plt.ylabel('Loss')\n",
    "plt.legend()\n",
    "plt.xticks(epochs)\n",
    "fig = plt.gcf()\n",
    "fig.set_size_inches(15,7)\n",
    "#fig.savefig('img/tcstest&validationlosscnn.png', dpi=300)\n",
    "plt.show()"
   ]
  },
  {
   "cell_type": "code",
   "execution_count": 54,
   "id": "93cb8561",
   "metadata": {},
   "outputs": [
    {
     "data": {
      "image/png": "[encoded data removed]",
      "text/plain": [
       "<Figure size 1080x504 with 1 Axes>"
      ]
     },
     "metadata": {
      "needs_background": "light"
     },
     "output_type": "display_data"
    }
   ],
   "source": [
    "# 画出训练集和验证集的误差图像\n",
    "\n",
    "#mae = history_dict['mean_absolute_error']\n",
    "#vmae = history_dict['val_mean_absolute_error']\n",
    "mae = history.history['mae']\n",
    "vmae = history.history['val_mae']\n",
    "epochs = range(1, len(mae) + 1)\n",
    "plt.plot(epochs, mae, 'b',color = 'blue', label='Training error')\n",
    "plt.plot(epochs, vmae, 'b',color='orange', label='Validation error')\n",
    "plt.title('Training and validation error')\n",
    "plt.xlabel('Epochs')\n",
    "plt.ylabel('Error')\n",
    "plt.legend()\n",
    "plt.xticks(epochs)\n",
    "fig = plt.gcf()\n",
    "fig.set_size_inches(15,7)\n",
    "#fig.savefig('img/tcstest&validationerrorcnn.png', dpi=300)\n",
    "plt.show()"
   ]
  },
  {
   "cell_type": "code",
   "execution_count": 55,
   "id": "8a6e323e",
   "metadata": {},
   "outputs": [],
   "source": [
    "model.metrics_names\n",
    "\n",
    "trainScore = model.evaluate([trainX_R, trainX_A], trainY_A, verbose=0)\n",
    "testScore = model.evaluate([testX_R, testX_A], testY_A, verbose=0)"
   ]
  },
  {
   "cell_type": "code",
   "execution_count": 56,
   "id": "22a17e82",
   "metadata": {
    "scrolled": true
   },
   "outputs": [
    {
     "data": {
      "image/png": "[encoded data removed]",
      "text/plain": [
       "<Figure size 1080x360 with 1 Axes>"
      ]
     },
     "metadata": {
      "needs_background": "light"
     },
     "output_type": "display_data"
    }
   ],
   "source": [
    "#predicting values for y_test\n",
    "p = model.predict([testX_R, testX_A])\n",
    "\n",
    "plt.plot(testY_A, label='y_test')\n",
    "plt.plot(p, label='prediction')\n",
    "plt.xlabel('test data Ai')\n",
    "plt.ylabel('predict Ai')\n",
    "plt.legend(loc='upper left')\n",
    "fig = plt.gcf()\n",
    "fig.set_size_inches(15, 5)\n",
    "#fig.savefig('img/tcstestcnn.png', dpi=300)\n",
    "plt.show()"
   ]
  },
  {
   "cell_type": "code",
   "execution_count": 57,
   "id": "874c877c",
   "metadata": {},
   "outputs": [],
   "source": [
    "model.save('./SelfData_thesis/0716_U16D00_constant_CNNLSTM_ONU16_Gi35000_Ai35000_Ai_4layer_timesteps64_epoch30.h5', include_optimizer=False)"
   ]
  },
  {
   "cell_type": "code",
   "execution_count": null,
   "id": "57625468",
   "metadata": {},
   "outputs": [],
   "source": []
  }
 ],
 "metadata": {
  "kernelspec": {
   "display_name": "Python 3",
   "language": "python",
   "name": "python3"
  },
  "language_info": {
   "codemirror_mode": {
    "name": "ipython",
    "version": 3
   },
   "file_extension": ".py",
   "mimetype": "text/x-python",
   "name": "python",
   "nbconvert_exporter": "python",
   "pygments_lexer": "ipython3",
   "version": "3.7.7"
  }
 },
 "nbformat": 4,
 "nbformat_minor": 5
}
