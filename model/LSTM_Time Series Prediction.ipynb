{
 "cells": [
  {
   "cell_type": "code",
   "execution_count": 1,
   "id": "0008f4d4",
   "metadata": {},
   "outputs": [],
   "source": [
    "import numpy as np\n",
    "import tensorflow as tf\n",
    "from tensorflow.keras.layers import Input, Dense, LSTM, Reshape, Dropout, LayerNormalization\n",
    "from tensorflow.keras.models import Model, Sequential\n",
    "from sklearn.preprocessing import MinMaxScaler\n",
    "import matplotlib.pyplot as plt\n",
    "import math\n",
    "from sklearn.metrics import mean_absolute_error as mae\n",
    "from sklearn.preprocessing import MinMaxScaler\n",
    "sc = MinMaxScaler(feature_range = (0,1))\n",
    "\n",
    "import pandas as pd"
   ]
  },
  {
   "cell_type": "code",
   "execution_count": 2,
   "id": "98cf7048",
   "metadata": {},
   "outputs": [
    {
     "data": {
      "text/html": [
       "<div>\n",
       "<style scoped>\n",
       "    .dataframe tbody tr th:only-of-type {\n",
       "        vertical-align: middle;\n",
       "    }\n",
       "\n",
       "    .dataframe tbody tr th {\n",
       "        vertical-align: top;\n",
       "    }\n",
       "\n",
       "    .dataframe thead th {\n",
       "        text-align: right;\n",
       "    }\n",
       "</style>\n",
       "<table border=\"1\" class=\"dataframe\">\n",
       "  <thead>\n",
       "    <tr style=\"text-align: right;\">\n",
       "      <th></th>\n",
       "      <th>Ai</th>\n",
       "    </tr>\n",
       "  </thead>\n",
       "  <tbody>\n",
       "    <tr>\n",
       "      <th>0</th>\n",
       "      <td>906</td>\n",
       "    </tr>\n",
       "    <tr>\n",
       "      <th>1</th>\n",
       "      <td>472</td>\n",
       "    </tr>\n",
       "    <tr>\n",
       "      <th>2</th>\n",
       "      <td>906</td>\n",
       "    </tr>\n",
       "    <tr>\n",
       "      <th>3</th>\n",
       "      <td>472</td>\n",
       "    </tr>\n",
       "    <tr>\n",
       "      <th>4</th>\n",
       "      <td>906</td>\n",
       "    </tr>\n",
       "  </tbody>\n",
       "</table>\n",
       "</div>"
      ],
      "text/plain": [
       "    Ai\n",
       "0  906\n",
       "1  472\n",
       "2  906\n",
       "3  472\n",
       "4  906"
      ]
     },
     "execution_count": 2,
     "metadata": {},
     "output_type": "execute_result"
    }
   ],
   "source": [
    "df = pd.read_csv('AIerror_ONU16_15S_Cycle&Ai&Grantold.csv', usecols=[1], engine='python')\n",
    "df.head()"
   ]
  },
  {
   "cell_type": "code",
   "execution_count": 3,
   "id": "e3fd0245",
   "metadata": {},
   "outputs": [],
   "source": [
    "df = df.values\n",
    "df = df.astype('float32')"
   ]
  },
  {
   "cell_type": "code",
   "execution_count": 4,
   "id": "ee5470c4",
   "metadata": {},
   "outputs": [],
   "source": [
    "# normalize the dataset\n",
    "scaler = MinMaxScaler(feature_range=(0, 1))\n",
    "dataset = scaler.fit_transform(df)"
   ]
  },
  {
   "cell_type": "code",
   "execution_count": 5,
   "id": "bb88b055",
   "metadata": {},
   "outputs": [
    {
     "name": "stdout",
     "output_type": "stream",
     "text": [
      "30865 15203\n"
     ]
    }
   ],
   "source": [
    "# split into train and test sets\n",
    "train_size = int(len(dataset) * 0.67)\n",
    "test_size = len(dataset) - train_size\n",
    "train, test = dataset[0:train_size,:], dataset[train_size:len(dataset),:]\n",
    "print(len(train), len(test))"
   ]
  },
  {
   "cell_type": "code",
   "execution_count": 6,
   "id": "71d4185f",
   "metadata": {},
   "outputs": [],
   "source": [
    "# convert an array of values into a dataset matrix\n",
    "def create_dataset(dataset, look_back=1):\n",
    "\tdataX, dataY = [], []\n",
    "\tfor i in range(len(dataset)-look_back-1):\n",
    "\t\ta = dataset[i:(i+look_back), 0]\n",
    "\t\tdataX.append(a)\n",
    "\t\tdataY.append(dataset[i + look_back, 0])\n",
    "\treturn np.array(dataX), np.array(dataY)"
   ]
  },
  {
   "cell_type": "code",
   "execution_count": 18,
   "id": "7e98d773",
   "metadata": {},
   "outputs": [],
   "source": [
    "# reshape into X=t and Y=t+1\n",
    "look_back = 10 #16\n",
    "trainX, trainY = create_dataset(train, look_back)\n",
    "testX, testY = create_dataset(test, look_back)"
   ]
  },
  {
   "cell_type": "code",
   "execution_count": 8,
   "id": "b93b4d5e",
   "metadata": {},
   "outputs": [
    {
     "name": "stdout",
     "output_type": "stream",
     "text": [
      "(30859, 1, 5)\n",
      "(30859,)\n",
      "(15197, 1, 5)\n",
      "(15197,)\n"
     ]
    }
   ],
   "source": [
    "# reshape input to be [samples, time steps, features]\n",
    "#trainX = np.reshape(trainX, (trainX.shape[0], 1, trainX.shape[1]))\n",
    "#testX = np.reshape(testX, (testX.shape[0], 1, testX.shape[1]))\n",
    "#print(trainX.shape)\n",
    "#print(trainY.shape)\n",
    "#print(testX.shape)\n",
    "#print(testY.shape)"
   ]
  },
  {
   "cell_type": "code",
   "execution_count": 20,
   "id": "57c2e681",
   "metadata": {},
   "outputs": [
    {
     "name": "stdout",
     "output_type": "stream",
     "text": [
      "(30854, 2, 5)\n",
      "(30854,)\n",
      "(15192, 2, 5)\n",
      "(15192,)\n"
     ]
    }
   ],
   "source": [
    "# reshape input to be [samples, time steps, features]\n",
    "trainX = np.reshape(trainX, (trainX.shape[0], 2, 5))\n",
    "testX = np.reshape(testX, (testX.shape[0], 2, 5))\n",
    "print(trainX.shape)\n",
    "print(trainY.shape)\n",
    "print(testX.shape)\n",
    "print(testY.shape)"
   ]
  },
  {
   "cell_type": "code",
   "execution_count": 9,
   "id": "cee4dc93",
   "metadata": {},
   "outputs": [
    {
     "name": "stdout",
     "output_type": "stream",
     "text": [
      "Epoch 1/20\n",
      "188/188 [==============================] - 0s 2ms/step - loss: 0.0012\n",
      "Epoch 2/20\n",
      "188/188 [==============================] - 0s 2ms/step - loss: 0.0011\n",
      "Epoch 3/20\n",
      "188/188 [==============================] - 0s 2ms/step - loss: 0.0010\n",
      "Epoch 4/20\n",
      "188/188 [==============================] - 0s 2ms/step - loss: 0.0010\n",
      "Epoch 5/20\n",
      "188/188 [==============================] - 0s 2ms/step - loss: 0.0010\n",
      "Epoch 6/20\n",
      "188/188 [==============================] - 0s 2ms/step - loss: 0.0010\n",
      "Epoch 7/20\n",
      "188/188 [==============================] - 0s 2ms/step - loss: 0.0010\n",
      "Epoch 8/20\n",
      "188/188 [==============================] - 0s 2ms/step - loss: 0.0010\n",
      "Epoch 9/20\n",
      "188/188 [==============================] - 0s 2ms/step - loss: 0.0010\n",
      "Epoch 10/20\n",
      "188/188 [==============================] - 0s 2ms/step - loss: 0.0010\n",
      "Epoch 11/20\n",
      "188/188 [==============================] - 0s 2ms/step - loss: 0.0010\n",
      "Epoch 12/20\n",
      "188/188 [==============================] - 0s 2ms/step - loss: 0.0010\n",
      "Epoch 13/20\n",
      "188/188 [==============================] - 0s 2ms/step - loss: 0.0010\n",
      "Epoch 14/20\n",
      "188/188 [==============================] - 0s 2ms/step - loss: 0.0010\n",
      "Epoch 15/20\n",
      "188/188 [==============================] - 0s 2ms/step - loss: 0.0010\n",
      "Epoch 16/20\n",
      "188/188 [==============================] - 0s 2ms/step - loss: 0.0010\n",
      "Epoch 17/20\n",
      "188/188 [==============================] - 0s 2ms/step - loss: 0.0010\n",
      "Epoch 18/20\n",
      "188/188 [==============================] - 0s 2ms/step - loss: 0.0010\n",
      "Epoch 19/20\n",
      "188/188 [==============================] - 0s 2ms/step - loss: 0.0010\n",
      "Epoch 20/20\n",
      "188/188 [==============================] - 0s 2ms/step - loss: 0.0010\n"
     ]
    },
    {
     "data": {
      "text/plain": [
       "<tensorflow.python.keras.callbacks.History at 0x1f7956ff188>"
      ]
     },
     "execution_count": 9,
     "metadata": {},
     "output_type": "execute_result"
    }
   ],
   "source": [
    "# create and fit the LSTM network\n",
    "model = Sequential()\n",
    "model.add(LSTM(40, input_shape=(1, look_back)))\n",
    "model.add(Dense(1))\n",
    "model.compile(loss='mean_squared_error', optimizer='adam')\n",
    "model.fit(trainX, trainY, epochs=20, batch_size=165, verbose=1) #64 & 128"
   ]
  },
  {
   "cell_type": "code",
   "execution_count": 10,
   "id": "99d69b11",
   "metadata": {},
   "outputs": [
    {
     "name": "stdout",
     "output_type": "stream",
     "text": [
      "Train Score: 19875.56 RMSE\n",
      "Test Score: 18830.62 RMSE\n",
      "Train Score: 97.62 RMAE\n",
      "Test Score: 96.41 RMAE\n"
     ]
    }
   ],
   "source": [
    "#batch_size = 64\n",
    "from sklearn.metrics import mean_squared_error as mse\n",
    "# make predictions\n",
    "trainPredict = model.predict(trainX)\n",
    "testPredict = model.predict(testX)\n",
    "# invert predictions\n",
    "trainPredict = scaler.inverse_transform(trainPredict)\n",
    "trainY = scaler.inverse_transform([trainY])\n",
    "testPredict = scaler.inverse_transform(testPredict)\n",
    "testY = scaler.inverse_transform([testY])\n",
    "# calculate root mean squared error\n",
    "trainScore = math.sqrt(mse(trainY[0], trainPredict[:,0]))\n",
    "print('Train Score: %.2f RMSE' % (trainScore))\n",
    "testScore = math.sqrt(mse(testY[0], testPredict[:,0]))\n",
    "print('Test Score: %.2f RMSE' % (testScore))\n",
    "# calculate root mean absolute error\n",
    "trainScore2 = math.sqrt(mae(trainY[0], trainPredict[:,0]))\n",
    "print('Train Score: %.2f RMAE' % (trainScore2))\n",
    "testScore2 = math.sqrt(mae(testY[0], testPredict[:,0]))\n",
    "print('Test Score: %.2f RMAE' % (testScore2))"
   ]
  },
  {
   "cell_type": "code",
   "execution_count": 14,
   "id": "1057e180",
   "metadata": {},
   "outputs": [
    {
     "data": {
      "image/png": "[encoded data removed]",
      "text/plain": [
       "<Figure size 1080x864 with 1 Axes>"
      ]
     },
     "metadata": {
      "needs_background": "light"
     },
     "output_type": "display_data"
    }
   ],
   "source": [
    "# shift train predictions for plotting\n",
    "trainPredictPlot = np.empty_like(dataset)\n",
    "trainPredictPlot[:, :] = np.nan\n",
    "trainPredictPlot[look_back:len(trainPredict)+look_back, :] = trainPredict\n",
    "# shift test predictions for plotting\n",
    "testPredictPlot = np.empty_like(dataset)\n",
    "testPredictPlot[:, :] = np.nan\n",
    "testPredictPlot[len(trainPredict)+(look_back*2)+1:len(dataset)-1, :] = testPredict\n",
    "# plot baseline and predictions\n",
    "plt.figure(figsize=(15, 12))\n",
    "plt.plot(scaler.inverse_transform(dataset))\n",
    "plt.plot(trainPredictPlot)\n",
    "plt.plot(testPredictPlot)\n",
    "plt.show()"
   ]
  },
  {
   "cell_type": "code",
   "execution_count": 12,
   "id": "78cdab62",
   "metadata": {},
   "outputs": [
    {
     "name": "stdout",
     "output_type": "stream",
     "text": [
      "Model: \"sequential\"\n",
      "_________________________________________________________________\n",
      "Layer (type)                 Output Shape              Param #   \n",
      "=================================================================\n",
      "lstm (LSTM)                  (None, 40)                7360      \n",
      "_________________________________________________________________\n",
      "dense (Dense)                (None, 1)                 41        \n",
      "=================================================================\n",
      "Total params: 7,401\n",
      "Trainable params: 7,401\n",
      "Non-trainable params: 0\n",
      "_________________________________________________________________\n"
     ]
    }
   ],
   "source": [
    "model.summary()"
   ]
  },
  {
   "cell_type": "code",
   "execution_count": null,
   "id": "a8a7a05f",
   "metadata": {},
   "outputs": [],
   "source": []
  }
 ],
 "metadata": {
  "kernelspec": {
   "display_name": "Python 3",
   "language": "python",
   "name": "python3"
  },
  "language_info": {
   "codemirror_mode": {
    "name": "ipython",
    "version": 3
   },
   "file_extension": ".py",
   "mimetype": "text/x-python",
   "name": "python",
   "nbconvert_exporter": "python",
   "pygments_lexer": "ipython3",
   "version": "3.7.7"
  }
 },
 "nbformat": 4,
 "nbformat_minor": 5
}
