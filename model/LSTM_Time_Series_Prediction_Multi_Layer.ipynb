{
 "cells": [
  {
   "cell_type": "code",
   "execution_count": 1,
   "id": "5ee90e4d",
   "metadata": {},
   "outputs": [],
   "source": [
    "import numpy as np\n",
    "import tensorflow as tf\n",
    "from tensorflow.keras.layers import Input, Dense, LSTM, Reshape, Dropout, LayerNormalization\n",
    "from tensorflow.keras.models import Model, Sequential\n",
    "from sklearn.preprocessing import MinMaxScaler\n",
    "import matplotlib.pyplot as plt\n",
    "import math\n",
    "from sklearn.metrics import mean_absolute_error as mae\n",
    "from sklearn.preprocessing import MinMaxScaler\n",
    "sc = MinMaxScaler(feature_range = (0,1))\n",
    "\n",
    "import pandas as pd"
   ]
  },
  {
   "cell_type": "code",
   "execution_count": 2,
   "id": "b936a2b8",
   "metadata": {},
   "outputs": [],
   "source": [
    "df = pd.read_csv('AIerror_ONU16_15S_Cycle&Ai&Grantold.csv', usecols=[1], engine='python')\n",
    "df = df.values\n",
    "df = df.astype('float32')\n",
    "#df.head()"
   ]
  },
  {
   "cell_type": "code",
   "execution_count": 3,
   "id": "27109037",
   "metadata": {},
   "outputs": [],
   "source": [
    "# normalize the dataset\n",
    "scaler = MinMaxScaler(feature_range=(0, 1))\n",
    "dataset = scaler.fit_transform(df)"
   ]
  },
  {
   "cell_type": "code",
   "execution_count": 4,
   "id": "29db0aa7",
   "metadata": {},
   "outputs": [
    {
     "name": "stdout",
     "output_type": "stream",
     "text": [
      "30865 15185\n"
     ]
    }
   ],
   "source": [
    "# split into train and test sets\n",
    "train_size = int(len(dataset) * 0.67)\n",
    "test_size = len(dataset) - train_size\n",
    "train, test = dataset[0:train_size,:], dataset[train_size:len(dataset)-18,:]\n",
    "print(len(train), len(test))"
   ]
  },
  {
   "cell_type": "code",
   "execution_count": 5,
   "id": "72af24ee",
   "metadata": {},
   "outputs": [],
   "source": [
    "# convert an array of values into a dataset matrix\n",
    "def create_dataset(dataset, look_back=1):\n",
    "\tdataX, dataY = [], []\n",
    "\tfor i in range(len(dataset)-look_back-1):\n",
    "\t\ta = dataset[i:(i+look_back), 0]\n",
    "\t\tdataX.append(a)\n",
    "\t\tdataY.append(dataset[i + look_back, 0])\n",
    "\treturn np.array(dataX), np.array(dataY)"
   ]
  },
  {
   "cell_type": "code",
   "execution_count": 6,
   "id": "bd366ead",
   "metadata": {},
   "outputs": [
    {
     "name": "stdout",
     "output_type": "stream",
     "text": [
      "(30848, 16)\n",
      "(30848,)\n",
      "(15168, 16)\n"
     ]
    }
   ],
   "source": [
    "# reshape into X=t and Y=t+1\n",
    "look_back = 16\n",
    "trainX, trainY = create_dataset(train, look_back)\n",
    "testX, testY = create_dataset(test, look_back)\n",
    "print(trainX.shape)\n",
    "print(trainY.shape)\n",
    "print(testX.shape)"
   ]
  },
  {
   "cell_type": "code",
   "execution_count": 7,
   "id": "becd4d93",
   "metadata": {},
   "outputs": [],
   "source": [
    "# reshape input to be [samples, time steps, features]\n",
    "#trainX = np.reshape(trainX, (trainX.shape[0], 1, trainX.shape[1]))\n",
    "#testX = np.reshape(testX, (testX.shape[0], 1, testX.shape[1]))\n",
    "\n",
    "trainX = np.reshape(trainX, (trainX.shape[0], trainX.shape[1], 1))\n",
    "testX = np.reshape(testX, (testX.shape[0], testX.shape[1], 1))"
   ]
  },
  {
   "cell_type": "code",
   "execution_count": 8,
   "id": "3b4263ca",
   "metadata": {
    "scrolled": false
   },
   "outputs": [
    {
     "name": "stdout",
     "output_type": "stream",
     "text": [
      "964/964 [==============================] - 3s 3ms/step - loss: 0.0013\n",
      "964/964 [==============================] - 3s 3ms/step - loss: 0.0012\n",
      "964/964 [==============================] - 3s 3ms/step - loss: 0.0011\n",
      "964/964 [==============================] - 3s 3ms/step - loss: 0.0011\n",
      "964/964 [==============================] - 3s 3ms/step - loss: 0.0011\n",
      "964/964 [==============================] - 3s 3ms/step - loss: 0.0011\n",
      "964/964 [==============================] - 3s 3ms/step - loss: 0.0011\n",
      "964/964 [==============================] - 3s 3ms/step - loss: 0.0011\n",
      "964/964 [==============================] - 3s 3ms/step - loss: 0.0011\n",
      "964/964 [==============================] - 3s 3ms/step - loss: 0.0011\n"
     ]
    }
   ],
   "source": [
    "# create and fit the LSTM network\n",
    "\n",
    "#model.add(LSTM(40, input_shape=(1, look_back)))\n",
    "batch_size = 32\n",
    "#batch_size = int(len(dataset)/90)\n",
    "\n",
    "#trainX = tf.data.Dataset.from_tensor_slices((trainX, train_label))\n",
    "#trainX = trainX.repeat().batch(batch_size, drop_remainder=True)\n",
    "model = Sequential()\n",
    "\n",
    "model.add(LSTM(40, batch_input_shape=(batch_size, look_back, 1), stateful=True, return_sequences=True))\n",
    "model.add(LSTM(40, stateful=True, return_sequences=False))\n",
    "\n",
    "model.add(Dense(1))\n",
    "model.compile(loss='mean_squared_error', optimizer='adam')\n",
    "\n",
    "for i in range(10):\n",
    "    model.fit(trainX, trainY,batch_size=batch_size, epochs=1, shuffle=False)\n",
    "    model.reset_states()\n",
    "    \n",
    "#模型評估\n",
    "trainPredict = model.predict(trainX, batch_size=batch_size)\n",
    "#reset model\n",
    "model.reset_states()\n",
    "testPredict = model.predict(testX, batch_size=batch_size)\n",
    "#model.compile(loss='mean_squared_error', optimizer='adam')\n",
    "#model.fit(trainX, trainY, epochs=20, batch_size=32, verbose=1)"
   ]
  },
  {
   "cell_type": "code",
   "execution_count": 9,
   "id": "f4d16ab8",
   "metadata": {},
   "outputs": [
    {
     "name": "stdout",
     "output_type": "stream",
     "text": [
      "Train Score: 51757.07 RMSE\n",
      "Test Score: 330642.18 RMSE\n",
      "Train Score: 146.51 RMAE\n",
      "Test Score: 195.72 RMAE\n"
     ]
    }
   ],
   "source": [
    "from sklearn.metrics import mean_squared_error as mse\n",
    "# make predictions\n",
    "#trainPredict = model.predict(trainX)\n",
    "#testPredict = model.predict(testX)\n",
    "# invert predictions\n",
    "trainPredict = scaler.inverse_transform(trainPredict)\n",
    "trainY = scaler.inverse_transform([trainY])\n",
    "testPredict = scaler.inverse_transform(testPredict)\n",
    "testY = scaler.inverse_transform([testY])\n",
    "# calculate root mean squared error\n",
    "trainScore = math.sqrt(mse(trainY[0], trainPredict[:,0]))\n",
    "print('Train Score: %.2f RMSE' % (trainScore))\n",
    "testScore = math.sqrt(mse(testY[0], testPredict[:,0]))\n",
    "print('Test Score: %.2f RMSE' % (testScore))\n",
    "# calculate root mean absolute error\n",
    "trainScore2 = math.sqrt(mae(trainY[0], trainPredict[:,0]))\n",
    "print('Train Score: %.2f RMAE' % (trainScore2))\n",
    "testScore2 = math.sqrt(mae(testY[0], testPredict[:,0]))\n",
    "print('Test Score: %.2f RMAE' % (testScore2))"
   ]
  },
  {
   "cell_type": "code",
   "execution_count": 10,
   "id": "30c85649",
   "metadata": {},
   "outputs": [
    {
     "data": {
      "image/png": "[encoded data removed]",
      "text/plain": [
       "<Figure size 864x720 with 1 Axes>"
      ]
     },
     "metadata": {
      "needs_background": "light"
     },
     "output_type": "display_data"
    }
   ],
   "source": [
    "# shift train predictions for plotting\n",
    "trainPredictPlot = np.empty_like(dataset)\n",
    "trainPredictPlot[:, :] = np.nan\n",
    "trainPredictPlot[look_back:len(trainPredict)+look_back, :] = trainPredict\n",
    "# shift test predictions for plotting\n",
    "testPredictPlot = np.empty_like(dataset)\n",
    "testPredictPlot[:, :] = np.nan\n",
    "testPredictPlot[len(trainPredict)+(look_back*2)+1:len(dataset)-19, :] = testPredict\n",
    "# plot baseline and predictions\n",
    "plt.figure(figsize=(12, 10))\n",
    "plt.plot(scaler.inverse_transform(dataset))\n",
    "plt.plot(trainPredictPlot)\n",
    "plt.plot(testPredictPlot)\n",
    "plt.show()"
   ]
  },
  {
   "cell_type": "code",
   "execution_count": 11,
   "id": "c03c2823",
   "metadata": {
    "scrolled": true
   },
   "outputs": [
    {
     "name": "stdout",
     "output_type": "stream",
     "text": [
      "Model: \"sequential\"\n",
      "_________________________________________________________________\n",
      "Layer (type)                 Output Shape              Param #   \n",
      "=================================================================\n",
      "lstm (LSTM)                  (32, 16, 40)              6720      \n",
      "_________________________________________________________________\n",
      "lstm_1 (LSTM)                (32, 40)                  12960     \n",
      "_________________________________________________________________\n",
      "dense (Dense)                (32, 1)                   41        \n",
      "=================================================================\n",
      "Total params: 19,721\n",
      "Trainable params: 19,721\n",
      "Non-trainable params: 0\n",
      "_________________________________________________________________\n"
     ]
    }
   ],
   "source": [
    "model.summary()"
   ]
  },
  {
   "cell_type": "code",
   "execution_count": 12,
   "id": "a3000041",
   "metadata": {},
   "outputs": [
    {
     "name": "stdout",
     "output_type": "stream",
     "text": [
      "0.7985012762439961\n"
     ]
    }
   ],
   "source": [
    "from sklearn.metrics import r2_score\n",
    "train_Y = trainY.T\n",
    "print(r2_score(train_Y, trainPredict))"
   ]
  },
  {
   "cell_type": "code",
   "execution_count": null,
   "id": "b0861689",
   "metadata": {},
   "outputs": [],
   "source": []
  }
 ],
 "metadata": {
  "kernelspec": {
   "display_name": "Python 3",
   "language": "python",
   "name": "python3"
  },
  "language_info": {
   "codemirror_mode": {
    "name": "ipython",
    "version": 3
   },
   "file_extension": ".py",
   "mimetype": "text/x-python",
   "name": "python",
   "nbconvert_exporter": "python",
   "pygments_lexer": "ipython3",
   "version": "3.7.7"
  }
 },
 "nbformat": 4,
 "nbformat_minor": 5
}
